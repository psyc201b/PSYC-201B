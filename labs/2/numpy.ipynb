{
 "cells": [
  {
   "cell_type": "markdown",
   "metadata": {},
   "source": [
    "# Introduction to `numpy`\n",
    "\n",
    "*adapted from [Numpy User Guide](https://numpy.org/doc/stable/user/index.html)*\n",
    "\n",
    "Welcome to the absolute beginner's guide to NumPy!\n",
    "\n",
    "NumPy (**Num**erical **Py**thon) is an open source Python library\n",
    "that\\'s widely used in science and engineering. The NumPy library\n",
    "contains multidimensional array data structures, such as the\n",
    "homogeneous, N-dimensional `ndarray`, and a large library of functions\n",
    "that operate efficiently on these data structures. "
   ]
  },
  {
   "cell_type": "markdown",
   "metadata": {},
   "source": [
    "## How to use this notebook\n",
    "\n",
    "This notebook is designed for you to work through at your own pace. When you're finished you should save and `commit` your changes and `push` them to your Github Classroom repository\n",
    "\n",
    "Try experimenting by creating new code cells and playing around with the demonstrated functionality.\n",
    "\n",
    "As you go through this notebook and work on the mini-exercises and challenge at the end, you might find the additional resources helpful:\n",
    "\n",
    "- [Numpy how-tos](https://numpy.org/doc/stable/user/howtos_index.html#)\n",
    "- [Numpy tutorials](https://numpy.org/numpy-tutorials/)\n",
    "- [Verifying and fixing bugs in numpy](https://numpy.org/doc/stable/user/how-to-verify-bug.html)\n",
    "- [Numpy for Matlab users](https://numpy.org/doc/stable/user/numpy-for-matlab-users.html)\n"
   ]
  },
  {
   "cell_type": "markdown",
   "metadata": {},
   "source": [
    "## How to import NumPy\n",
    "\n",
    "We can make `numpy` available by using the `import` statement. It's convention to import `numpy` in the following way:"
   ]
  },
  {
   "cell_type": "code",
   "execution_count": 9,
   "metadata": {},
   "outputs": [],
   "source": [
    "import numpy as np"
   ]
  },
  {
   "cell_type": "markdown",
   "metadata": {},
   "source": [
    "## A note on reading `numpy` documentation online\n",
    "\n",
    "As you go through this notebook, you should regularly **refer to the [`numpy` documentation](https://numpy.org/doc/stable/reference/arrays.html)** to look things up and general help.\n",
    "\n",
    "Throughout the documentation website, you will find blocks that look like:\n",
    "\n",
    "    >>> a = np.array([[1, 2, 3],\n",
    "    ...               [4, 5, 6]])\n",
    "    >>> a.shape\n",
    "    (2, 3)"
   ]
  },
  {
   "cell_type": "markdown",
   "metadata": {},
   "source": [
    "Text *after* any `>>>` or `...` is **input**. This is the code you should copy or type into your notebook to try things out.  \n",
    "\n",
    "`>>>` and `...` are not part of the code and will cause an error if entered into a notebook cell!"
   ]
  },
  {
   "cell_type": "markdown",
   "metadata": {},
   "source": [
    "## A note on accessing help from within this notebook\n",
    "\n",
    "When it comes to the data science ecosystem, Python and NumPy are built\n",
    "with the user in mind. One of the best examples of this is the built-in\n",
    "access to documentation. Every object contains the reference to a\n",
    "string, which is known as the **docstring**. In most cases, this\n",
    "docstring contains a quick and concise summary of the object and how to\n",
    "use it. Python has a built-in `help()` function that can help you access\n",
    "this information. This means that nearly any time you need more\n",
    "information, you can use `help()` to quickly find the information that\n",
    "you need.\n",
    "\n",
    "For example:\n"
   ]
  },
  {
   "cell_type": "code",
   "execution_count": 10,
   "metadata": {},
   "outputs": [
    {
     "name": "stdout",
     "output_type": "stream",
     "text": [
      "Help on built-in function max in module builtins:\n",
      "\n",
      "max(...)\n",
      "    max(iterable, *[, default=obj, key=func]) -> value\n",
      "    max(arg1, arg2, *args, *[, key=func]) -> value\n",
      "    \n",
      "    With a single iterable argument, return its biggest item. The\n",
      "    default keyword-only argument specifies an object to return if\n",
      "    the provided iterable is empty.\n",
      "    With two or more arguments, return the largest argument.\n",
      "\n"
     ]
    }
   ],
   "source": [
    "help(max)"
   ]
  },
  {
   "cell_type": "markdown",
   "metadata": {},
   "source": [
    "Because access to additional information is so useful, Interaactive Python uses the\n",
    "`?` character as a shorthand for accessing this documentation along with\n",
    "other relevant information.\n",
    "\n",
    "For example:\n"
   ]
  },
  {
   "cell_type": "code",
   "execution_count": 11,
   "metadata": {},
   "outputs": [
    {
     "name": "stdout",
     "output_type": "stream",
     "text": [
      "\u001b[0;31mDocstring:\u001b[0m\n",
      "max(iterable, *[, default=obj, key=func]) -> value\n",
      "max(arg1, arg2, *args, *[, key=func]) -> value\n",
      "\n",
      "With a single iterable argument, return its biggest item. The\n",
      "default keyword-only argument specifies an object to return if\n",
      "the provided iterable is empty.\n",
      "With two or more arguments, return the largest argument.\n",
      "\u001b[0;31mType:\u001b[0m      builtin_function_or_method"
     ]
    }
   ],
   "source": [
    "max?"
   ]
  },
  {
   "cell_type": "markdown",
   "metadata": {},
   "source": [
    "You can even use this notation for object methods and objects\n",
    "themselves.\n",
    "\n",
    "Let\\'s say you create this array:"
   ]
  },
  {
   "cell_type": "code",
   "execution_count": 12,
   "metadata": {},
   "outputs": [],
   "source": [
    "a = np.array([1, 2, 3, 4, 5, 6])"
   ]
  },
  {
   "cell_type": "markdown",
   "metadata": {},
   "source": [
    "Then you can obtain a lot of useful information (first details about `a`\n",
    "itself, followed by the docstring of `ndarray` of which `a` is an\n",
    "instance):\n"
   ]
  },
  {
   "cell_type": "code",
   "execution_count": 13,
   "metadata": {},
   "outputs": [
    {
     "name": "stdout",
     "output_type": "stream",
     "text": [
      "\u001b[0;31mType:\u001b[0m        ndarray\n",
      "\u001b[0;31mString form:\u001b[0m [1 2 3 4 5 6]\n",
      "\u001b[0;31mLength:\u001b[0m      6\n",
      "\u001b[0;31mFile:\u001b[0m        ~/miniconda3/envs/201b/lib/python3.11/site-packages/numpy/__init__.py\n",
      "\u001b[0;31mDocstring:\u001b[0m  \n",
      "ndarray(shape, dtype=float, buffer=None, offset=0,\n",
      "        strides=None, order=None)\n",
      "\n",
      "An array object represents a multidimensional, homogeneous array\n",
      "of fixed-size items.  An associated data-type object describes the\n",
      "format of each element in the array (its byte-order, how many bytes it\n",
      "occupies in memory, whether it is an integer, a floating point number,\n",
      "or something else, etc.)\n",
      "\n",
      "Arrays should be constructed using `array`, `zeros` or `empty` (refer\n",
      "to the See Also section below).  The parameters given here refer to\n",
      "a low-level method (`ndarray(...)`) for instantiating an array.\n",
      "\n",
      "For more information, refer to the `numpy` module and examine the\n",
      "methods and attributes of an array.\n",
      "\n",
      "Parameters\n",
      "----------\n",
      "(for the __new__ method; see Notes below)\n",
      "\n",
      "shape : tuple of ints\n",
      "    Shape of created array.\n",
      "dtype : data-type, optional\n",
      "    Any object that can be interpreted as a numpy data type.\n",
      "buffer : object exposing buffer interface, optional\n",
      "    Used to fill the array with data.\n",
      "offset : int, optional\n",
      "    Offset of array data in buffer.\n",
      "strides : tuple of ints, optional\n",
      "    Strides of data in memory.\n",
      "order : {'C', 'F'}, optional\n",
      "    Row-major (C-style) or column-major (Fortran-style) order.\n",
      "\n",
      "Attributes\n",
      "----------\n",
      "T : ndarray\n",
      "    Transpose of the array.\n",
      "data : buffer\n",
      "    The array's elements, in memory.\n",
      "dtype : dtype object\n",
      "    Describes the format of the elements in the array.\n",
      "flags : dict\n",
      "    Dictionary containing information related to memory use, e.g.,\n",
      "    'C_CONTIGUOUS', 'OWNDATA', 'WRITEABLE', etc.\n",
      "flat : numpy.flatiter object\n",
      "    Flattened version of the array as an iterator.  The iterator\n",
      "    allows assignments, e.g., ``x.flat = 3`` (See `ndarray.flat` for\n",
      "    assignment examples; TODO).\n",
      "imag : ndarray\n",
      "    Imaginary part of the array.\n",
      "real : ndarray\n",
      "    Real part of the array.\n",
      "size : int\n",
      "    Number of elements in the array.\n",
      "itemsize : int\n",
      "    The memory use of each array element in bytes.\n",
      "nbytes : int\n",
      "    The total number of bytes required to store the array data,\n",
      "    i.e., ``itemsize * size``.\n",
      "ndim : int\n",
      "    The array's number of dimensions.\n",
      "shape : tuple of ints\n",
      "    Shape of the array.\n",
      "strides : tuple of ints\n",
      "    The step-size required to move from one element to the next in\n",
      "    memory. For example, a contiguous ``(3, 4)`` array of type\n",
      "    ``int16`` in C-order has strides ``(8, 2)``.  This implies that\n",
      "    to move from element to element in memory requires jumps of 2 bytes.\n",
      "    To move from row-to-row, one needs to jump 8 bytes at a time\n",
      "    (``2 * 4``).\n",
      "ctypes : ctypes object\n",
      "    Class containing properties of the array needed for interaction\n",
      "    with ctypes.\n",
      "base : ndarray\n",
      "    If the array is a view into another array, that array is its `base`\n",
      "    (unless that array is also a view).  The `base` array is where the\n",
      "    array data is actually stored.\n",
      "\n",
      "See Also\n",
      "--------\n",
      "array : Construct an array.\n",
      "zeros : Create an array, each element of which is zero.\n",
      "empty : Create an array, but leave its allocated memory unchanged (i.e.,\n",
      "        it contains \"garbage\").\n",
      "dtype : Create a data-type.\n",
      "numpy.typing.NDArray : An ndarray alias :term:`generic <generic type>`\n",
      "                       w.r.t. its `dtype.type <numpy.dtype.type>`.\n",
      "\n",
      "Notes\n",
      "-----\n",
      "There are two modes of creating an array using ``__new__``:\n",
      "\n",
      "1. If `buffer` is None, then only `shape`, `dtype`, and `order`\n",
      "   are used.\n",
      "2. If `buffer` is an object exposing the buffer interface, then\n",
      "   all keywords are interpreted.\n",
      "\n",
      "No ``__init__`` method is needed because the array is fully initialized\n",
      "after the ``__new__`` method.\n",
      "\n",
      "Examples\n",
      "--------\n",
      "These examples illustrate the low-level `ndarray` constructor.  Refer\n",
      "to the `See Also` section above for easier ways of constructing an\n",
      "ndarray.\n",
      "\n",
      "First mode, `buffer` is None:\n",
      "\n",
      ">>> np.ndarray(shape=(2,2), dtype=float, order='F')\n",
      "array([[0.0e+000, 0.0e+000], # random\n",
      "       [     nan, 2.5e-323]])\n",
      "\n",
      "Second mode:\n",
      "\n",
      ">>> np.ndarray((2,), buffer=np.array([1,2,3]),\n",
      "...            offset=np.int_().itemsize,\n",
      "...            dtype=int) # offset = 1*itemsize, i.e. skip first element\n",
      "array([2, 3])"
     ]
    }
   ],
   "source": [
    "a?"
   ]
  },
  {
   "cell_type": "markdown",
   "metadata": {},
   "source": [
    "This also works for functions and other objects that **you** create.\n",
    "Just remember to include a docstring with your function using a string\n",
    "literal (`\"\"\" \"\"\"` or `''' '''` around your documentation).\n",
    "\n",
    "For example, if you create this function:"
   ]
  },
  {
   "cell_type": "code",
   "execution_count": 14,
   "metadata": {},
   "outputs": [],
   "source": [
    "def double(a):\n",
    "    '''Return a * 2'''\n",
    "    return a * 2"
   ]
  },
  {
   "cell_type": "markdown",
   "metadata": {},
   "source": [
    "You can obtain information about the function:\n"
   ]
  },
  {
   "cell_type": "code",
   "execution_count": 15,
   "metadata": {},
   "outputs": [
    {
     "name": "stdout",
     "output_type": "stream",
     "text": [
      "\u001b[0;31mSignature:\u001b[0m \u001b[0mdouble\u001b[0m\u001b[0;34m(\u001b[0m\u001b[0ma\u001b[0m\u001b[0;34m)\u001b[0m\u001b[0;34m\u001b[0m\u001b[0;34m\u001b[0m\u001b[0m\n",
      "\u001b[0;31mDocstring:\u001b[0m Return a * 2\n",
      "\u001b[0;31mFile:\u001b[0m      /var/folders/4y/y26_jdm57m90f4s1td24ls040000gn/T/ipykernel_54391/2713554790.py\n",
      "\u001b[0;31mType:\u001b[0m      function"
     ]
    }
   ],
   "source": [
    "double?"
   ]
  },
  {
   "cell_type": "markdown",
   "metadata": {},
   "source": [
    "Which prints out **your** docstring!"
   ]
  },
  {
   "cell_type": "markdown",
   "metadata": {},
   "source": [
    "You can reach another level of information by reading the source code of\n",
    "the object you\\'re interested in. Using a double question mark (`??`)\n",
    "allows you to access the source code.\n",
    "\n",
    "For example:\n"
   ]
  },
  {
   "cell_type": "code",
   "execution_count": 16,
   "metadata": {},
   "outputs": [
    {
     "name": "stdout",
     "output_type": "stream",
     "text": [
      "\u001b[0;31mSignature:\u001b[0m \u001b[0mdouble\u001b[0m\u001b[0;34m(\u001b[0m\u001b[0ma\u001b[0m\u001b[0;34m)\u001b[0m\u001b[0;34m\u001b[0m\u001b[0;34m\u001b[0m\u001b[0m\n",
      "\u001b[0;31mSource:\u001b[0m   \n",
      "\u001b[0;32mdef\u001b[0m \u001b[0mdouble\u001b[0m\u001b[0;34m(\u001b[0m\u001b[0ma\u001b[0m\u001b[0;34m)\u001b[0m\u001b[0;34m:\u001b[0m\u001b[0;34m\u001b[0m\n",
      "\u001b[0;34m\u001b[0m    \u001b[0;34m'''Return a * 2'''\u001b[0m\u001b[0;34m\u001b[0m\n",
      "\u001b[0;34m\u001b[0m    \u001b[0;32mreturn\u001b[0m \u001b[0ma\u001b[0m \u001b[0;34m*\u001b[0m \u001b[0;36m2\u001b[0m\u001b[0;34m\u001b[0m\u001b[0;34m\u001b[0m\u001b[0m\n",
      "\u001b[0;31mFile:\u001b[0m      /var/folders/4y/y26_jdm57m90f4s1td24ls040000gn/T/ipykernel_54391/2713554790.py\n",
      "\u001b[0;31mType:\u001b[0m      function"
     ]
    }
   ],
   "source": [
    "double??"
   ]
  },
  {
   "cell_type": "markdown",
   "metadata": {},
   "source": [
    "Which prints out **your** source code!"
   ]
  },
  {
   "cell_type": "markdown",
   "metadata": {},
   "source": [
    "## Why use NumPy?\n",
    "\n",
    "Python **lists** are excellent, general-purpose containers. They can be\n",
    "\\\"heterogeneous\\\", meaning that they can contain elements of a variety\n",
    "of types, and they are quite fast when used to perform individual\n",
    "operations on a handful of elements.\n",
    "\n",
    "Depending on the characteristics of the data and the types of operations\n",
    "that need to be performed, other containers may be more appropriate; by\n",
    "exploiting these characteristics, we can improve speed, reduce memory\n",
    "consumption, and offer a high-level syntax for performing a variety of\n",
    "common processing tasks. NumPy shines when there are large quantities of\n",
    "\\\"homogeneous\\\" (same-type) data to be processed on the CPU."
   ]
  },
  {
   "cell_type": "markdown",
   "metadata": {},
   "source": [
    "## What is an \\\"array\\\"?\n",
    "\n",
    "In computer programming, an array is a structure for storing and\n",
    "retrieving data. We often talk about an array as if it were a grid in\n",
    "space, with each cell storing one element of the data. For instance, if\n",
    "each element of the data were a number, we might visualize a\n",
    "\\\"one-dimensional\\\" array like a list:\n",
    "\n",
    "$$\\begin{aligned}\n",
    "\\begin{array}{|c||c|c|c|}\n",
    "\\hline\n",
    "1 & 5 & 2 & 0 \\\\\n",
    "\\hline\n",
    "\\end{array}\n",
    "\\end{aligned}$$\n",
    "\n",
    "A two-dimensional array would be like a table:\n",
    "\n",
    "$$\\begin{aligned}\n",
    "\\begin{array}{|c||c|c|c|}\n",
    "\\hline\n",
    "1 & 5 & 2 & 0 \\\\\n",
    "\\hline\n",
    "8 & 3 & 6 & 1 \\\\\n",
    "\\hline\n",
    "1 & 7 & 2 & 9 \\\\\n",
    "\\hline\n",
    "\\end{array}\n",
    "\\end{aligned}$$\n",
    "\n",
    "A three-dimensional array would be like a set of tables, perhaps stacked\n",
    "as though they were printed on separate pages. In NumPy, this idea is\n",
    "generalized to an arbitrary number of dimensions, and so the fundamental\n",
    "array class is called `ndarray`: it represents an \\\"N-dimensional\n",
    "array\\\".\n",
    "\n",
    "Most NumPy arrays have some restrictions. For instance:\n",
    "\n",
    "-   All elements of the array must be of the same type of data.\n",
    "-   Once created, the total size of the array can\\'t change.\n",
    "-   The shape must be \\\"rectangular\\\", not \\\"jagged\\\"; e.g., each row of\n",
    "    a two-dimensional array must have the same number of columns.\n",
    "\n",
    "When these conditions are met, NumPy exploits these characteristics to\n",
    "make the array faster, more memory efficient, and more convenient to use\n",
    "than less restrictive data structures.\n",
    "\n",
    "For the remainder of this notebook, we will use the word \\\"array\\\" to\n",
    "refer to an instance of `ndarray`."
   ]
  },
  {
   "cell_type": "markdown",
   "metadata": {},
   "source": [
    "## Array fundamentals\n",
    "\n",
    "One way to initialize an array is using a Python sequence, such as a\n",
    "list. For example:\n"
   ]
  },
  {
   "cell_type": "code",
   "execution_count": null,
   "metadata": {},
   "outputs": [],
   "source": [
    "a = np.array([1, 2, 3, 4, 5, 6])\n",
    "a"
   ]
  },
  {
   "cell_type": "markdown",
   "metadata": {},
   "source": [
    "The code above is equivalent to creating to *first* creating a regular Python list, saving it to a variable, and then passing that variable to the `np.array()` function."
   ]
  },
  {
   "cell_type": "code",
   "execution_count": null,
   "metadata": {},
   "outputs": [],
   "source": [
    "my_list = [1, 2, 3, 4, 5, 6]\n",
    "a = np.array(my_list)\n",
    "a"
   ]
  },
  {
   "cell_type": "markdown",
   "metadata": {},
   "source": [
    "Elements of an array can be accessed in by [indexing and slicing](https://numpy.org/doc/stable/user/quickstart.html#quickstart-indexing-slicing-and-iterating) similar to normal lists or iterables in Python (e.g. strings).\n",
    "\n",
    "For instance, we can access an individual element of this\n",
    "array as we would access an element in the original list: using the\n",
    "integer index of the element within square brackets."
   ]
  },
  {
   "cell_type": "code",
   "execution_count": null,
   "metadata": {},
   "outputs": [],
   "source": [
    "a[0]"
   ]
  },
  {
   "cell_type": "markdown",
   "metadata": {},
   "source": [
    "As with built-in Python sequences, NumPy arrays are \\\"0-indexed\\\": the\n",
    "first element of the array is accessed using index `0`, not `1`.\n",
    "\n",
    "Also like a Python list, arrays are **mutable** which means we can change their contents after they are created."
   ]
  },
  {
   "cell_type": "code",
   "execution_count": null,
   "metadata": {},
   "outputs": [],
   "source": [
    "a[0] = 10\n",
    "a"
   ]
  },
  {
   "cell_type": "markdown",
   "metadata": {},
   "source": [
    "Also like the original list, Python slice notation can be used for\n",
    "indexing.\n"
   ]
  },
  {
   "cell_type": "code",
   "execution_count": null,
   "metadata": {},
   "outputs": [],
   "source": [
    "a[:3]"
   ]
  },
  {
   "cell_type": "markdown",
   "metadata": {},
   "source": [
    "It may be helpful to visualize how the following slicing operations work:\n",
    "\n",
    "    >>> data = np.array([1, 2, 3])\n",
    "\n",
    "    >>> data[1]\n",
    "    2\n",
    "    >>> data[0:2]\n",
    "    array([1, 2])\n",
    "    >>> data[1:]\n",
    "    array([2, 3])\n",
    "    >>> data[-2:]\n",
    "    array([2, 3])\n",
    "\n",
    "![](./np_indexing.png)"
   ]
  },
  {
   "cell_type": "markdown",
   "metadata": {},
   "source": [
    "### Arrays vs Lists: Views"
   ]
  },
  {
   "cell_type": "markdown",
   "metadata": {},
   "source": [
    "One **major difference** is that slice indexing of a list copies the\n",
    "elements into a new list, but slicing an array returns a **view**: an\n",
    "object that *refers* to the data in the original array. \n",
    "\n",
    "That means the original array can be **changed** using the view."
   ]
  },
  {
   "cell_type": "code",
   "execution_count": null,
   "metadata": {},
   "outputs": [],
   "source": [
    "b = a[3:]\n",
    "b"
   ]
  },
  {
   "cell_type": "code",
   "execution_count": null,
   "metadata": {},
   "outputs": [],
   "source": [
    "b[0] = 40\n",
    "a"
   ]
  },
  {
   "cell_type": "markdown",
   "metadata": {},
   "source": [
    "Views are an important NumPy concept! NumPy functions, as well as\n",
    "operations like indexing and slicing, will return views whenever\n",
    "possible. This saves memory and is faster (no copy of the data has to be\n",
    "made). However it\\'s important to be aware of this - modifying data in a\n",
    "view also modifies the original array!"
   ]
  },
  {
   "cell_type": "markdown",
   "metadata": {},
   "source": [
    "Using the `copy` method instead, will make a complete copy of the array and its\n",
    "data (a *deep copy*). To use this on your array, you could run:"
   ]
  },
  {
   "cell_type": "code",
   "execution_count": null,
   "metadata": {},
   "outputs": [],
   "source": [
    "b2 = a.copy()\n",
    "b2"
   ]
  },
  {
   "cell_type": "markdown",
   "metadata": {},
   "source": [
    "See the [copies-and-views documentation](https://numpy.org/doc/stable/user/basics.copies.html#basics-copies-and-views) for a more comprehensive explanation of when array operations return views rather\n",
    "than copies.\n"
   ]
  },
  {
   "cell_type": "markdown",
   "metadata": {},
   "source": [
    "### Boolean indexing\n",
    "\n",
    "If you want to select values from your array that fulfill certain `True/False`conditions, it\\'s straightforward with NumPy and we refer to this as *boolean indexing*.\n",
    "\n",
    "For example, if you start with this array:"
   ]
  },
  {
   "cell_type": "code",
   "execution_count": null,
   "metadata": {},
   "outputs": [],
   "source": [
    "a = np.array([[1 , 2, 3, 4], [5, 6, 7, 8], [9, 10, 11, 12]])\n",
    "a"
   ]
  },
  {
   "cell_type": "markdown",
   "metadata": {},
   "source": [
    "You can easily print all of the values in the array that are less than\n",
    "5. :"
   ]
  },
  {
   "cell_type": "code",
   "execution_count": null,
   "metadata": {},
   "outputs": [],
   "source": [
    "a[a < 5]"
   ]
  },
  {
   "cell_type": "markdown",
   "metadata": {},
   "source": [
    "A common pattern in `numpy` is to create a variable that stores a `Boolean` **mask** that you can use to index the array like above. This is handy if you want to subset values in different arrays using the same condition. Let's create a new array `b` and use a mask to index into both `a` and `b` in the same way: "
   ]
  },
  {
   "cell_type": "code",
   "execution_count": null,
   "metadata": {},
   "outputs": [],
   "source": [
    "b = a + 1\n",
    "b"
   ]
  },
  {
   "cell_type": "code",
   "execution_count": null,
   "metadata": {},
   "outputs": [],
   "source": [
    "mask = a % 2 == 0 # even numbers\n",
    "mask"
   ]
  },
  {
   "cell_type": "code",
   "execution_count": null,
   "metadata": {},
   "outputs": [],
   "source": [
    "# Even values in a\n",
    "a[mask]"
   ]
  },
  {
   "cell_type": "code",
   "execution_count": null,
   "metadata": {},
   "outputs": [],
   "source": [
    "# Corresponding values in b where *a is even*\n",
    "# *not* the even values in b!\n",
    "b[mask]"
   ]
  },
  {
   "cell_type": "markdown",
   "metadata": {},
   "source": [
    "You can select elements that satisfy two conditions using the `&` (and) and `|` (or) operators:"
   ]
  },
  {
   "cell_type": "code",
   "execution_count": null,
   "metadata": {},
   "outputs": [],
   "source": [
    "c = a[(a > 2) & (a < 11)]\n",
    "c\n"
   ]
  },
  {
   "cell_type": "markdown",
   "metadata": {},
   "source": [
    "And of course you can use these operators to create boolean mask arrays:"
   ]
  },
  {
   "cell_type": "code",
   "execution_count": null,
   "metadata": {},
   "outputs": [],
   "source": [
    "five_up = (a > 5) | (a == 5) # mask\n",
    "\n",
    "five_up"
   ]
  },
  {
   "cell_type": "code",
   "execution_count": null,
   "metadata": {},
   "outputs": [],
   "source": [
    "b[five_up]"
   ]
  },
  {
   "cell_type": "markdown",
   "metadata": {},
   "source": [
    "**Two- and higher-dimensional** arrays can be initialized from nested Python lists:\n"
   ]
  },
  {
   "cell_type": "code",
   "execution_count": null,
   "metadata": {},
   "outputs": [],
   "source": [
    "nested_list = [[1, 2, 3, 4], [5, 6, 7, 8], [9, 10, 11, 12]]\n",
    "a = np.array(nested_list)\n",
    "a"
   ]
  },
  {
   "cell_type": "markdown",
   "metadata": {},
   "source": [
    "In NumPy, a **dimension** of an array is sometimes referred to as an\n",
    "\\\"axis\\\". This terminology may be useful to disambiguate between the\n",
    "dimensionality of an array and the dimensionality of the data\n",
    "represented by the array. For instance, the array `a` could represent\n",
    "three points, each lying within a four-dimensional space, but `a` has\n",
    "only two \\\"axes\\\".\n",
    "\n",
    "Another difference between an array and a list of lists is that an\n",
    "element of the array can be accessed by specifying the index along each\n",
    "axis within a *single* set of square brackets, separated by commas. For\n",
    "instance, the element `8` is in row `1` and column `3`:\n"
   ]
  },
  {
   "cell_type": "code",
   "execution_count": null,
   "metadata": {},
   "outputs": [],
   "source": [
    "a[1,3]"
   ]
  },
  {
   "cell_type": "markdown",
   "metadata": {},
   "source": [
    "You can also use `np.nonzero()` to return a list of *indices* where elements are. This is another way to generate a \"mask\" array for re-use:\n",
    "\n",
    "Starting with this array:"
   ]
  },
  {
   "cell_type": "code",
   "execution_count": null,
   "metadata": {},
   "outputs": [],
   "source": [
    "a = np.array([[1, 2, 3, 4], [5, 6, 7, 8], [9, 10, 11, 12]])\n",
    "a"
   ]
  },
  {
   "cell_type": "code",
   "execution_count": null,
   "metadata": {},
   "outputs": [],
   "source": [
    "b = np.nonzero(a < 5)\n",
    "b"
   ]
  },
  {
   "cell_type": "code",
   "execution_count": null,
   "metadata": {},
   "outputs": [],
   "source": [
    "a[b]"
   ]
  },
  {
   "cell_type": "markdown",
   "metadata": {},
   "source": [
    "In this example, a tuple of arrays was returned: one for each dimension.\n",
    "The first array represents the row indices where these values are found,\n",
    "and the second array represents the column indices where the values are\n",
    "found.\n",
    "\n",
    "If you want to generate a list of coordinates where the elements exist,\n",
    "you can zip the arrays, iterate over the list of coordinates, and print\n",
    "them. For example:"
   ]
  },
  {
   "cell_type": "code",
   "execution_count": null,
   "metadata": {},
   "outputs": [],
   "source": [
    "list_of_coordinates= list(zip(b[0], b[1]))\n",
    "for coord in list_of_coordinates:\n",
    "    print(coord)"
   ]
  },
  {
   "cell_type": "markdown",
   "metadata": {},
   "source": [
    "If the element you\\'re looking for doesn\\'t exist in the array, then the\n",
    "returned array of indices will be empty. For example:"
   ]
  },
  {
   "cell_type": "code",
   "execution_count": null,
   "metadata": {},
   "outputs": [],
   "source": [
    "np.nonzero(a == 42)"
   ]
  },
  {
   "cell_type": "markdown",
   "metadata": {},
   "source": [
    "### A note on indexing\n",
    "It is familiar practice in mathematics to refer to elements of a matrix\n",
    "by the *row* index first and the *column* index second. This happens to be true for two-dimensional arrays.\n",
    "\n",
    "But a better mental model is to think of the *column index as the last* and the **row index as second to last**. This generalizes to arrays with *any* number of dimensions.\n"
   ]
  },
  {
   "cell_type": "code",
   "execution_count": null,
   "metadata": {},
   "outputs": [],
   "source": [
    "# A 3-dimensional array\n",
    "b = np.array(\n",
    "    [\n",
    "        [\n",
    "            [1, 2, 3], \n",
    "            [4, 5, 6], \n",
    "            [7, 8, 9]\n",
    "         ],\n",
    "        [\n",
    "            [10, 11, 12], \n",
    "            [13, 14, 15], \n",
    "            [16, 17, 18]\n",
    "        ],\n",
    "        [\n",
    "            [19, 20, 21],\n",
    "            [22, 23, 24],\n",
    "            [25, 26, 27]],\n",
    "    ]\n",
    ")\n",
    "\n",
    "row_idx = 1 # the 2nd row\n",
    "col_idx = 2 # the 3rd column\n",
    "\n",
    "# 0 is getting the first element in the \n",
    "# non-row, non-column dimension\n",
    "# which \"block\" of 3x3 arrays, we're looking in\n",
    "b[0, row_idx, col_idx]"
   ]
  },
  {
   "cell_type": "markdown",
   "metadata": {},
   "source": [
    "### A note on terminology\n",
    "\n",
    "You'll often hear of a 0-D (zero-dimensional) array referred to as a\n",
    "\"**scalar**\", a 1-D (one-dimensional) array as a \"**vector**\", a 2-D\n",
    "(two-dimensional) array as a \"**matrix*\\\",an N-D (N-dimensional, where\n",
    "\"N\" is typically an integer greater than 2) array as a \\\"**tensor**\\\". \n",
    "\n",
    "For clarity, it is best to avoid the mathematical terms when referring to an array because the mathematical objects with these names behave\n",
    "differently than arrays (e.g. \\\"matrix\\\" multiplication is fundamentally different from \\\"array\\\" multiplication), and there are other objects in the scientific Python ecosystem that have these names (e.g. the fundamental data structure of [PyTorch](https://pytorch.org/) an immensely popular Deep-Learning library, is the \\\"tensor\\\")."
   ]
  },
  {
   "cell_type": "markdown",
   "metadata": {},
   "source": [
    "## Array attributes\n",
    "\n",
    "*This section covers the* `ndim`, `shape`, `size`, *and* `dtype`\n",
    "*attributes of an array*.\n",
    "\n",
    "`ndarray.ndim` will tell you the number of axes, or dimensions, of the\n",
    "array.\n",
    "\n",
    "`ndarray.size` will tell you the total number of elements of the array.\n",
    "This is the *product* of the elements of the array\\'s shape.\n",
    "\n",
    "`ndarray.shape` will display a tuple of integers that indicate the\n",
    "number of elements stored along each dimension of the array. If, for\n",
    "example, you have a 2-D array with 2 rows and 3 columns, the shape of\n",
    "your array is `(2, 3)`.\n"
   ]
  },
  {
   "cell_type": "markdown",
   "metadata": {},
   "source": [
    "\n",
    "The number of dimensions of an array is contained in the `ndim`\n",
    "attribute.\n"
   ]
  },
  {
   "cell_type": "code",
   "execution_count": null,
   "metadata": {},
   "outputs": [],
   "source": [
    "a.ndim"
   ]
  },
  {
   "cell_type": "markdown",
   "metadata": {},
   "source": [
    "The shape of an array is a tuple of non-negative integers that specify\n",
    "the number of elements along each dimension.\n"
   ]
  },
  {
   "cell_type": "code",
   "execution_count": null,
   "metadata": {},
   "outputs": [],
   "source": [
    "a.shape"
   ]
  },
  {
   "cell_type": "code",
   "execution_count": null,
   "metadata": {},
   "outputs": [],
   "source": [
    "len(a.shape) == a.ndim"
   ]
  },
  {
   "cell_type": "markdown",
   "metadata": {},
   "source": [
    "The fixed, total number of elements in array is contained in the `size`\n",
    "attribute.\n"
   ]
  },
  {
   "cell_type": "code",
   "execution_count": null,
   "metadata": {},
   "outputs": [],
   "source": [
    "a.size"
   ]
  },
  {
   "cell_type": "code",
   "execution_count": null,
   "metadata": {},
   "outputs": [],
   "source": [
    "import math\n",
    "\n",
    "a.size == math.prod(a.shape)"
   ]
  },
  {
   "cell_type": "markdown",
   "metadata": {},
   "source": [
    "Arrays are typically \\\"homogeneous\\\", meaning that they contain elements\n",
    "of only one \\\"data type\\\". The data type is recorded in the `dtype`\n",
    "attribute.\n"
   ]
  },
  {
   "cell_type": "code",
   "execution_count": null,
   "metadata": {},
   "outputs": [],
   "source": [
    "a.dtype # int for integer, \"64\" for 64-bit based on your OS"
   ]
  },
  {
   "cell_type": "markdown",
   "metadata": {},
   "source": [
    "You can read more about array attributes [here](https://numpy.org/doc/stable/reference/arrays.ndarray.html#arrays-ndarray) and learn about the `array` object [here](https://numpy.org/doc/stable/reference/arrays.html#arrays)\n"
   ]
  },
  {
   "cell_type": "markdown",
   "metadata": {},
   "source": [
    "## Array operations\n",
    "\n",
    "Once you\\'ve created your arrays, you can start to work with them.\n",
    "Let\\'s say, for example, that you\\'ve created two arrays, one called\n",
    "\\\"data\\\" and one called \\\"ones\\\"\n",
    "\n",
    "![](./np_array_dataones.png)"
   ]
  },
  {
   "cell_type": "markdown",
   "metadata": {},
   "source": [
    "You can add the arrays together with the `+` operator"
   ]
  },
  {
   "cell_type": "code",
   "execution_count": null,
   "metadata": {},
   "outputs": [],
   "source": [
    "data = np.array([1, 2])\n",
    "ones = np.ones(2, dtype=int)\n",
    "data + ones"
   ]
  },
  {
   "cell_type": "markdown",
   "metadata": {},
   "source": [
    "![](./np_data_plus_ones.png)"
   ]
  },
  {
   "cell_type": "markdown",
   "metadata": {},
   "source": [
    "Of course you can do more than addition:"
   ]
  },
  {
   "cell_type": "code",
   "execution_count": null,
   "metadata": {},
   "outputs": [],
   "source": [
    "data - ones"
   ]
  },
  {
   "cell_type": "code",
   "execution_count": null,
   "metadata": {},
   "outputs": [],
   "source": [
    "data * data"
   ]
  },
  {
   "cell_type": "code",
   "execution_count": null,
   "metadata": {},
   "outputs": [],
   "source": [
    "data / data"
   ]
  },
  {
   "cell_type": "markdown",
   "metadata": {},
   "source": [
    "![](./np_sub_mult_divide.png)"
   ]
  },
  {
   "cell_type": "markdown",
   "metadata": {},
   "source": [
    "Basic operations are simple with NumPy. If you want to find the sum of\n",
    "the elements in an array, you\\'d use `sum()`. This works for 1D arrays,\n",
    "2D arrays, and arrays in higher dimensions. :"
   ]
  },
  {
   "cell_type": "code",
   "execution_count": null,
   "metadata": {},
   "outputs": [],
   "source": [
    "a = np.array([1, 2, 3, 4])\n",
    "a.sum()\n"
   ]
  },
  {
   "cell_type": "markdown",
   "metadata": {},
   "source": [
    "To add the rows or the columns in a 2D array, you would specify the\n",
    "axis.\n",
    "\n",
    "If you start with this array:"
   ]
  },
  {
   "cell_type": "code",
   "execution_count": null,
   "metadata": {},
   "outputs": [],
   "source": [
    "b = np.array([[1, 1], [2, 2]])\n",
    "b"
   ]
  },
  {
   "cell_type": "markdown",
   "metadata": {},
   "source": [
    "You can sum over the axis of rows with:"
   ]
  },
  {
   "cell_type": "code",
   "execution_count": null,
   "metadata": {},
   "outputs": [],
   "source": [
    "b.sum(axis=0)"
   ]
  },
  {
   "cell_type": "markdown",
   "metadata": {},
   "source": [
    "You can sum over the axis of columns with:"
   ]
  },
  {
   "cell_type": "code",
   "execution_count": null,
   "metadata": {},
   "outputs": [],
   "source": [
    "b.sum(axis=1)"
   ]
  },
  {
   "cell_type": "markdown",
   "metadata": {},
   "source": [
    "### Broadcasting\n",
    "\n",
    "There are times when you might want to carry out an operation between an array and a single number (also called *an operation between a vector\n",
    "and a scalar*) or between arrays of two different sizes. For example,\n",
    "your array (we\\'ll call it \\\"data\\\") might contain information about\n",
    "distance in miles but you want to convert the information to kilometers.\n",
    "You can perform this operation with:"
   ]
  },
  {
   "cell_type": "code",
   "execution_count": null,
   "metadata": {},
   "outputs": [],
   "source": [
    "data = np.array([1.0, 2.0])\n",
    "data * 1.6\n"
   ]
  },
  {
   "cell_type": "markdown",
   "metadata": {},
   "source": [
    "![](./np_multiply_broadcasting.png)"
   ]
  },
  {
   "cell_type": "markdown",
   "metadata": {},
   "source": [
    "NumPy understands that the multiplication should happen with each cell.\n",
    "That concept is called **broadcasting**. Broadcasting is a mechanism\n",
    "that allows NumPy to perform operations on arrays of different shapes.\n",
    "The dimensions of your array must be compatible, for example, when the\n",
    "dimensions of both arrays are equal or when one of them is 1. If the\n",
    "dimensions are not compatible, you will get a `ValueError`."
   ]
  },
  {
   "cell_type": "markdown",
   "metadata": {},
   "source": [
    "#### Note on difference with lists\n",
    "\n",
    "You can now see how we can avoid using `for` loops to do operations because numpy arrays will perform *vectorized* operations for us. In other words, we can do operations on **entire arrays at once**."
   ]
  },
  {
   "cell_type": "markdown",
   "metadata": {},
   "source": [
    "## More useful array operations\n",
    "\n",
    "NumPy also performs aggregation functions. In addition to `min`, `max`,\n",
    "and `sum`, you can easily run `mean` to get the average, `prod` to get\n",
    "the result of multiplying the elements together, `std` to get the\n",
    "standard deviation, and more. :\n"
   ]
  },
  {
   "cell_type": "code",
   "execution_count": null,
   "metadata": {},
   "outputs": [],
   "source": [
    "data.max()"
   ]
  },
  {
   "cell_type": "code",
   "execution_count": null,
   "metadata": {},
   "outputs": [],
   "source": [
    "data.min()"
   ]
  },
  {
   "cell_type": "code",
   "execution_count": null,
   "metadata": {},
   "outputs": [],
   "source": [
    "data.sum()"
   ]
  },
  {
   "cell_type": "markdown",
   "metadata": {},
   "source": [
    "![](./np_aggregation.png)"
   ]
  },
  {
   "cell_type": "markdown",
   "metadata": {},
   "source": [
    "Let's start with this array called `a`:"
   ]
  },
  {
   "cell_type": "code",
   "execution_count": null,
   "metadata": {},
   "outputs": [],
   "source": [
    "a = np.array(\n",
    "    [\n",
    "        [0.45053314, 0.17296777, 0.34376245, 0.5510652],\n",
    "        [0.54627315, 0.05093587, 0.40067661, 0.55645993],\n",
    "        [0.12697628, 0.82485143, 0.26590556, 0.56917101],\n",
    "    ]\n",
    ")\n",
    "a"
   ]
  },
  {
   "cell_type": "markdown",
   "metadata": {},
   "source": [
    "It\\'s very common to want to aggregate along a row or column. By\n",
    "default, every NumPy aggregation function will return the aggregate of\n",
    "the entire array. To find the sum or the minimum of the elements in your\n",
    "array, run:"
   ]
  },
  {
   "cell_type": "code",
   "execution_count": null,
   "metadata": {},
   "outputs": [],
   "source": [
    "a.sum()"
   ]
  },
  {
   "cell_type": "code",
   "execution_count": null,
   "metadata": {},
   "outputs": [],
   "source": [
    "a.min()"
   ]
  },
  {
   "cell_type": "markdown",
   "metadata": {},
   "source": [
    "You can specify on which axis you want the aggregation function to be\n",
    "computed. For example, you can find the minimum value across rows (within each column)\n",
    "by specifying `axis=0`. :"
   ]
  },
  {
   "cell_type": "code",
   "execution_count": null,
   "metadata": {},
   "outputs": [],
   "source": [
    "a.min(axis=0)"
   ]
  },
  {
   "cell_type": "markdown",
   "metadata": {},
   "source": [
    "The four values listed above correspond to the number of columns in your\n",
    "array. With a four-column array, you will get four values as your\n",
    "result."
   ]
  },
  {
   "cell_type": "markdown",
   "metadata": {},
   "source": [
    "## How to create a basic array\n",
    "\n",
    "*This section covers* `np.zeros()`, `np.ones()`, `np.empty()`,\n",
    "`np.arange()`, `np.linspace()`\n"
   ]
  },
  {
   "cell_type": "markdown",
   "metadata": {},
   "source": [
    "Besides creating an array from a Python `list` \n",
    "create an array filled with `0`\\'s:\n"
   ]
  },
  {
   "cell_type": "code",
   "execution_count": null,
   "metadata": {},
   "outputs": [],
   "source": [
    "np.zeros(2)"
   ]
  },
  {
   "cell_type": "markdown",
   "metadata": {},
   "source": [
    "Or an array filled with `1`\\'s:"
   ]
  },
  {
   "cell_type": "code",
   "execution_count": null,
   "metadata": {},
   "outputs": [],
   "source": [
    "np.ones(2)"
   ]
  },
  {
   "cell_type": "markdown",
   "metadata": {},
   "source": [
    "Or even an empty array! The function `empty` creates an array whose\n",
    "initial content is random and depends on the state of the memory. The\n",
    "reason to use `empty` over `zeros` (or something similar) is speed -\n",
    "just make sure to fill every element afterwards! :\n"
   ]
  },
  {
   "cell_type": "code",
   "execution_count": null,
   "metadata": {},
   "outputs": [],
   "source": [
    "np.empty(2)"
   ]
  },
  {
   "cell_type": "markdown",
   "metadata": {},
   "source": [
    "You can create an array with a range of elements:\n"
   ]
  },
  {
   "cell_type": "code",
   "execution_count": null,
   "metadata": {},
   "outputs": [],
   "source": [
    "np.arange(4)"
   ]
  },
  {
   "cell_type": "markdown",
   "metadata": {},
   "source": [
    "And even an array that contains a range of evenly spaced intervals. To\n",
    "do this, you will specify the **first number**, **last number**, and the\n",
    "**step size**. :\n"
   ]
  },
  {
   "cell_type": "code",
   "execution_count": null,
   "metadata": {},
   "outputs": [],
   "source": [
    "first = 2\n",
    "last = 9\n",
    "step = 2\n",
    "np.arange(first, last, step)"
   ]
  },
  {
   "cell_type": "markdown",
   "metadata": {},
   "source": [
    "You can also use `np.linspace()` to create an array with values that are spaced linearly in a specified interval:\n"
   ]
  },
  {
   "cell_type": "code",
   "execution_count": null,
   "metadata": {},
   "outputs": [],
   "source": [
    "np.linspace(0, 10, num=5)"
   ]
  },
  {
   "cell_type": "markdown",
   "metadata": {},
   "source": [
    "### Specifying your data type\n",
    "\n",
    "While the default data type is floating point (`np.float64`), you can\n",
    "explicitly specify which data type you want using the `dtype` keyword. :\n"
   ]
  },
  {
   "cell_type": "code",
   "execution_count": null,
   "metadata": {},
   "outputs": [],
   "source": [
    "x = np.ones(2, dtype=np.int64)\n",
    "x "
   ]
  },
  {
   "cell_type": "markdown",
   "metadata": {},
   "source": [
    "`numpy` and Python integers and floating point numbers can be treated interchangeably:\n",
    "\n",
    "`int` == `np.int64`    \n",
    "\n",
    "`float` == `np.float64`"
   ]
  },
  {
   "cell_type": "code",
   "execution_count": null,
   "metadata": {},
   "outputs": [],
   "source": [
    "# initialize with python integer type\n",
    "y = np.ones(2, dtype=int)\n",
    "y"
   ]
  },
  {
   "cell_type": "code",
   "execution_count": null,
   "metadata": {},
   "outputs": [],
   "source": [
    "# matches np.int64\n",
    "x.dtype == y.dtype"
   ]
  },
  {
   "cell_type": "code",
   "execution_count": null,
   "metadata": {},
   "outputs": [],
   "source": [
    "# Same for floats\n",
    "x = np.ones(2, dtype=np.float64)\n",
    "y = np.ones(2, dtype=float)\n",
    "\n",
    "x.dtype == y.dtype"
   ]
  },
  {
   "cell_type": "markdown",
   "metadata": {},
   "source": [
    "### Creating an array from existing data"
   ]
  },
  {
   "cell_type": "markdown",
   "metadata": {},
   "source": [
    "You can easily create a new array from a section of an existing array.\n",
    "\n",
    "Let\\'s say you have this array:"
   ]
  },
  {
   "cell_type": "code",
   "execution_count": null,
   "metadata": {},
   "outputs": [],
   "source": [
    "a = np.array([1,  2,  3,  4,  5,  6,  7,  8,  9, 10])\n",
    "a\n"
   ]
  },
  {
   "cell_type": "code",
   "execution_count": null,
   "metadata": {},
   "outputs": [],
   "source": []
  },
  {
   "cell_type": "code",
   "execution_count": null,
   "metadata": {},
   "outputs": [],
   "source": []
  },
  {
   "cell_type": "code",
   "execution_count": null,
   "metadata": {},
   "outputs": [],
   "source": []
  },
  {
   "cell_type": "code",
   "execution_count": null,
   "metadata": {},
   "outputs": [],
   "source": []
  },
  {
   "cell_type": "markdown",
   "metadata": {},
   "source": [
    "## Adding, removing, and sorting elements\n",
    "\n",
    "*This section covers* `np.sort()`, `np.concatenate()`\n"
   ]
  },
  {
   "cell_type": "markdown",
   "metadata": {},
   "source": [
    "Sorting an array is simple with `np.sort()`. You can specify the axis,\n",
    "kind, and order when you call the function.\n",
    "\n",
    "If you start with this array:\n"
   ]
  },
  {
   "cell_type": "code",
   "execution_count": 52,
   "metadata": {},
   "outputs": [],
   "source": [
    "arr = np.array([2, 1, 5, 3, 7, 4, 6, 8])"
   ]
  },
  {
   "cell_type": "markdown",
   "metadata": {},
   "source": [
    "You can quickly sort the numbers in ascending order with:\n"
   ]
  },
  {
   "cell_type": "code",
   "execution_count": null,
   "metadata": {},
   "outputs": [],
   "source": [
    "np.sort(arr)"
   ]
  },
  {
   "cell_type": "markdown",
   "metadata": {},
   "source": [
    "In addition to `sort`, which returns a sorted copy of an array, you can\n",
    "use:\n",
    "\n",
    "-   `argsort`, which is an indirect sort along a specified\n",
    "    axis,\n",
    "-   `lexsort`, which is an indirect stable sort on multiple\n",
    "    keys,\n",
    "-   `searchsorted`, which will find elements in a sorted\n",
    "    array, and\n",
    "-   `partition`, which is a partial sort.\n",
    "\n",
    "To read more about sorting an array, see the API documentation for [`np.sort`](https://numpy.org/doc/stable/reference/generated/numpy.sort.html#numpy.sort)\n"
   ]
  },
  {
   "cell_type": "markdown",
   "metadata": {},
   "source": [
    "Let's say you start with these arrays:\n"
   ]
  },
  {
   "cell_type": "code",
   "execution_count": 54,
   "metadata": {},
   "outputs": [],
   "source": [
    "a = np.array([1, 2, 3, 4])\n",
    "b = np.array([5, 6, 7, 8])"
   ]
  },
  {
   "cell_type": "markdown",
   "metadata": {},
   "source": [
    "You can concatenate them with `np.concatenate()`. :\n"
   ]
  },
  {
   "cell_type": "code",
   "execution_count": null,
   "metadata": {},
   "outputs": [],
   "source": [
    "np.concatenate((a, b))"
   ]
  },
  {
   "cell_type": "markdown",
   "metadata": {},
   "source": [
    "Or, if you start with these arrays, which differ in shape except for their **first dimension**:"
   ]
  },
  {
   "cell_type": "code",
   "execution_count": 56,
   "metadata": {},
   "outputs": [],
   "source": [
    "x = np.array([[1, 2], [3, 4]])\n",
    "y = np.array([[5, 6]])"
   ]
  },
  {
   "cell_type": "code",
   "execution_count": null,
   "metadata": {},
   "outputs": [],
   "source": [
    "x"
   ]
  },
  {
   "cell_type": "code",
   "execution_count": null,
   "metadata": {},
   "outputs": [],
   "source": [
    "x.shape"
   ]
  },
  {
   "cell_type": "code",
   "execution_count": null,
   "metadata": {},
   "outputs": [],
   "source": [
    "y"
   ]
  },
  {
   "cell_type": "code",
   "execution_count": null,
   "metadata": {},
   "outputs": [],
   "source": [
    "y.shape"
   ]
  },
  {
   "cell_type": "markdown",
   "metadata": {},
   "source": [
    "You can concatenate them with:\n"
   ]
  },
  {
   "cell_type": "code",
   "execution_count": null,
   "metadata": {},
   "outputs": [],
   "source": [
    "np.concatenate((x, y))\n"
   ]
  },
  {
   "cell_type": "markdown",
   "metadata": {},
   "source": [
    "To read more about concatenate, see [`np.concatenate`](https://numpy.org/doc/stable/reference/generated/numpy.concatenate.html#numpy.concatenate). You'll also find the related functions for combining and splitting arrays useful:\n",
    "\n",
    "- `np.hstack` - horizontally stack arrays\n",
    "- `np.vstack` - vertically stack arrays\n",
    "- `np.column_stack` - stack 1D arrays as columns into a 2D array\n",
    "- `np.dstack` - stack arrays in sequence depth wise (along third axis)\n",
    "- `np.split` - split array into a list of arrays along a given axis\n",
    "- `np.hsplit` - split array into a list of arrays horizontally\n",
    "- `np.vsplit` - split array into a list of arrays vertically\n",
    "- `np.dsplit` - split array into a list of arrays in sequence depth wise (along third axis)\n"
   ]
  },
  {
   "cell_type": "markdown",
   "metadata": {},
   "source": [
    "## Mini-exercise\n",
    "\n",
    "Time to write some code! Refer to the `numpy` documentation to complete the following exercises. Create any new code cells that you need, add in comments to the code if you get stuck, or create markdown cells to explain issues.\n",
    "\n",
    "1. Create a NumPy array with the values `[1, 2, 3, 4, 5, 6, 7, 8, 9, 10, 11, 12]`.\n",
    "2. Grab the 5th through 8th elements (inclusive) and save them to a new array\n",
    "3. Horizontally concatenate it with the original and save it to a new array. How many elements does it have?\n",
    "4. Try vertically concatenating it with the original and save it to a new array. If this doesn't work explain why\n",
    "5. Using `np.*split` functions to split the array into 3 parts and compare the middle part to the the array you generated in step 2."
   ]
  },
  {
   "cell_type": "code",
   "execution_count": null,
   "metadata": {},
   "outputs": [],
   "source": []
  },
  {
   "cell_type": "markdown",
   "metadata": {},
   "source": [
    "## Transposing & Reshaping arrays\n"
   ]
  },
  {
   "cell_type": "markdown",
   "metadata": {},
   "source": [
    "### Transposing\n",
    "\n",
    "It\\'s common to need to transpose your matrix (2d array). NumPy arrays have the\n",
    "property `T` that allows you to transpose a matrix.\n",
    "\n",
    "![](./np_transposing_reshaping.png)"
   ]
  },
  {
   "cell_type": "code",
   "execution_count": null,
   "metadata": {},
   "outputs": [],
   "source": [
    "data = np.array([[1,2], [3,4], [5,6]])\n",
    "data"
   ]
  },
  {
   "cell_type": "code",
   "execution_count": null,
   "metadata": {},
   "outputs": [],
   "source": [
    "data.T"
   ]
  },
  {
   "cell_type": "markdown",
   "metadata": {},
   "source": [
    "You can also use the `.transpose()` on an array\n"
   ]
  },
  {
   "cell_type": "code",
   "execution_count": null,
   "metadata": {},
   "outputs": [],
   "source": [
    "data.transpose()"
   ]
  },
  {
   "cell_type": "markdown",
   "metadata": {},
   "source": [
    "### Reshaping\n",
    "\n",
    "You may also need to switch the dimensions of a matrix. This can happen\n",
    "when, for example, you have a model that expects a certain input shape\n",
    "that is different from your dataset. This is where the `reshape` method\n",
    "can be useful. You simply need to pass in the new dimensions that you\n",
    "want for the matrix, making sure the total number of elements doesn't change :\n",
    "\n",
    "![](./np_reshape.png)"
   ]
  },
  {
   "cell_type": "code",
   "execution_count": null,
   "metadata": {},
   "outputs": [],
   "source": [
    "data.reshape(2, 3)"
   ]
  },
  {
   "cell_type": "code",
   "execution_count": null,
   "metadata": {},
   "outputs": [],
   "source": [
    "data.reshape(3, 2)"
   ]
  },
  {
   "cell_type": "markdown",
   "metadata": {},
   "source": [
    "### Reversing an array\n",
    "\n",
    "NumPy\\'s `np.flip()` function allows you to flip, or reverse, the\n",
    "contents of an array along an axis. When using `np.flip()`, specify the\n",
    "array you would like to reverse and the axis. If you don\\'t specify the\n",
    "axis, NumPy will reverse the contents along all of the axes of your\n",
    "input array."
   ]
  },
  {
   "cell_type": "markdown",
   "metadata": {},
   "source": [
    "**Reversing a 1D array**\n",
    "\n",
    "If you begin with a 1D array like this one:"
   ]
  },
  {
   "cell_type": "code",
   "execution_count": null,
   "metadata": {},
   "outputs": [],
   "source": [
    "arr = np.array([1, 2, 3, 4, 5, 6, 7, 8])\n",
    "arr"
   ]
  },
  {
   "cell_type": "markdown",
   "metadata": {},
   "source": [
    "You can reverse it with:"
   ]
  },
  {
   "cell_type": "code",
   "execution_count": null,
   "metadata": {},
   "outputs": [],
   "source": [
    "reversed_arr = np.flip(arr)\n",
    "reversed_arr"
   ]
  },
  {
   "cell_type": "markdown",
   "metadata": {},
   "source": [
    "**Reversing a 2D array**\n",
    "\n",
    "A 2D array works much the same way.\n",
    "\n",
    "If you start with this array:"
   ]
  },
  {
   "cell_type": "code",
   "execution_count": null,
   "metadata": {},
   "outputs": [],
   "source": [
    "arr_2d = np.array([[1, 2, 3, 4], [5, 6, 7, 8], [9, 10, 11, 12]])\n",
    "arr_2d"
   ]
  },
  {
   "cell_type": "markdown",
   "metadata": {},
   "source": [
    "You can reverse the content in all of the rows and all of the columns\n",
    "with:"
   ]
  },
  {
   "cell_type": "code",
   "execution_count": null,
   "metadata": {},
   "outputs": [],
   "source": [
    "np.flip(arr_2d)"
   ]
  },
  {
   "cell_type": "markdown",
   "metadata": {},
   "source": [
    "You can easily reverse only the *rows* using the `axis` argument:"
   ]
  },
  {
   "cell_type": "code",
   "execution_count": null,
   "metadata": {},
   "outputs": [],
   "source": [
    "np.flip(arr_2d, axis=0)\n"
   ]
  },
  {
   "cell_type": "markdown",
   "metadata": {},
   "source": [
    "Or reverse only the *columns* with:"
   ]
  },
  {
   "cell_type": "code",
   "execution_count": null,
   "metadata": {},
   "outputs": [],
   "source": [
    "np.flip(arr_2d, axis=1)"
   ]
  },
  {
   "cell_type": "markdown",
   "metadata": {},
   "source": [
    "You can also reverse the contents of only one column or row. For\n",
    "example, you can reverse the contents of the row at index position 1\n",
    "(the second row):"
   ]
  },
  {
   "cell_type": "code",
   "execution_count": null,
   "metadata": {},
   "outputs": [],
   "source": [
    "arr_2d[1] = np.flip(arr_2d[1])\n",
    "\n",
    "arr_2d"
   ]
  },
  {
   "cell_type": "markdown",
   "metadata": {},
   "source": [
    "\n",
    "You can also reverse the column at index position 1 (the second column):"
   ]
  },
  {
   "cell_type": "code",
   "execution_count": null,
   "metadata": {},
   "outputs": [],
   "source": [
    "arr_2d[:,1] = np.flip(arr_2d[:,1])\n",
    "arr_2d"
   ]
  },
  {
   "cell_type": "markdown",
   "metadata": {},
   "source": [
    "### Converting 1D arrays to 2D (how to add a new axis to an array)\n",
    "\n",
    "*This section covers* `np.newaxis`, `np.expand_dims`\n",
    "\n",
    "You can use `np.newaxis` and `np.expand_dims` to increase the dimensions\n",
    "of your existing array.\n",
    "\n",
    "Using `np.newaxis` will increase the dimensions of your array by one\n",
    "dimension when used once. This means that a **1D** array will become a\n",
    "**2D** array, a **2D** array will become a **3D** array, and so on.\n",
    "\n",
    "For example, if you start with this array:\n"
   ]
  },
  {
   "cell_type": "code",
   "execution_count": null,
   "metadata": {},
   "outputs": [],
   "source": [
    "a = np.arange(1,7)\n",
    "a.shape"
   ]
  },
  {
   "cell_type": "markdown",
   "metadata": {},
   "source": [
    "You can use `np.newaxis` to add a new axis:\n"
   ]
  },
  {
   "cell_type": "code",
   "execution_count": null,
   "metadata": {},
   "outputs": [],
   "source": [
    "a2 = a[np.newaxis, :]\n",
    "a2.shape"
   ]
  },
  {
   "cell_type": "markdown",
   "metadata": {},
   "source": [
    "You can explicitly convert a 1D array to either a row vector or a column\n",
    "vector using `np.newaxis`. For example, you can convert a 1D array to a\n",
    "row vector by inserting an axis along the first dimension:\n"
   ]
  },
  {
   "cell_type": "code",
   "execution_count": null,
   "metadata": {},
   "outputs": [],
   "source": [
    "row_vector = a[np.newaxis, :]\n",
    "row_vector.shape"
   ]
  },
  {
   "cell_type": "markdown",
   "metadata": {},
   "source": [
    "Or, for a column vector, you can insert an axis along the second\n",
    "dimension:\n"
   ]
  },
  {
   "cell_type": "code",
   "execution_count": null,
   "metadata": {},
   "outputs": [],
   "source": [
    "col_vector = a[:, np.newaxis]\n",
    "col_vector.shape"
   ]
  },
  {
   "cell_type": "markdown",
   "metadata": {},
   "source": [
    "You can also expand an array by inserting a new axis at a specified\n",
    "position with `np.expand_dims`.\n",
    "\n",
    "For example, if you start with this array:"
   ]
  },
  {
   "cell_type": "code",
   "execution_count": null,
   "metadata": {},
   "outputs": [],
   "source": [
    "a = np.arange(1, 7)\n",
    "a.shape"
   ]
  },
  {
   "cell_type": "markdown",
   "metadata": {},
   "source": [
    "You can use `np.expand_dims` to add an axis at index position 1 with:\n"
   ]
  },
  {
   "cell_type": "code",
   "execution_count": null,
   "metadata": {},
   "outputs": [],
   "source": [
    "b = np.expand_dims(a, axis=1)\n",
    "b "
   ]
  },
  {
   "cell_type": "code",
   "execution_count": null,
   "metadata": {},
   "outputs": [],
   "source": [
    "b.shape"
   ]
  },
  {
   "cell_type": "markdown",
   "metadata": {},
   "source": [
    "You can add an axis at index position 0 with:\n"
   ]
  },
  {
   "cell_type": "code",
   "execution_count": null,
   "metadata": {},
   "outputs": [],
   "source": [
    "c = np.expand_dims(a, axis=0)\n",
    "c.shape"
   ]
  },
  {
   "cell_type": "markdown",
   "metadata": {},
   "source": [
    "Find more information about [`newaxis` here](https://numpy.org/doc/stable/reference/routines.indexing.html#arrays-indexing) and [`expand_dims` here](https://numpy.org/doc/stable/reference/generated/numpy.expand_dims.html#numpy.expand_dims)\n"
   ]
  },
  {
   "cell_type": "markdown",
   "metadata": {},
   "source": [
    "## Reshaping and flattening multidimensional arrays\n",
    "\n",
    "\n",
    "There are two popular ways to flatten an array: `.flatten()` and\n",
    "`.ravel()`. The primary difference between the two is that the new array\n",
    "created using `ravel()` is actually a reference to the parent array\n",
    "(i.e., a \\\"view\\\"). This means that any changes to the new array will\n",
    "affect the parent array as well. Since `ravel` does not create a copy,\n",
    "it\\'s memory efficient.\n",
    "\n",
    "If you start with this array:"
   ]
  },
  {
   "cell_type": "code",
   "execution_count": null,
   "metadata": {},
   "outputs": [],
   "source": [
    "x = np.array([[1 , 2, 3, 4], [5, 6, 7, 8], [9, 10, 11, 12]])\n",
    "x\n"
   ]
  },
  {
   "cell_type": "markdown",
   "metadata": {},
   "source": [
    "You can use `flatten` to flatten your array into a 1D array. :"
   ]
  },
  {
   "cell_type": "code",
   "execution_count": null,
   "metadata": {},
   "outputs": [],
   "source": [
    "x.flatten()"
   ]
  },
  {
   "cell_type": "markdown",
   "metadata": {},
   "source": [
    "When you use `flatten`, changes to your new array **will not** change the\n",
    "parent array.\n",
    "\n",
    "For example:"
   ]
  },
  {
   "cell_type": "code",
   "execution_count": null,
   "metadata": {},
   "outputs": [],
   "source": [
    "a1 = x.flatten()\n",
    "a1[0] = 99\n",
    "\n",
    "a1"
   ]
  },
  {
   "cell_type": "code",
   "execution_count": null,
   "metadata": {},
   "outputs": [],
   "source": [
    "x # original"
   ]
  },
  {
   "cell_type": "markdown",
   "metadata": {},
   "source": [
    "But when you use `ravel`, the changes you make to the new array **will affect** the parent array.\n",
    "\n",
    "For example:"
   ]
  },
  {
   "cell_type": "code",
   "execution_count": null,
   "metadata": {},
   "outputs": [],
   "source": [
    "a2 = x.ravel()\n",
    "a2[0] = 98\n",
    "a2"
   ]
  },
  {
   "cell_type": "code",
   "execution_count": null,
   "metadata": {},
   "outputs": [],
   "source": [
    "x # original has changed!"
   ]
  },
  {
   "cell_type": "markdown",
   "metadata": {},
   "source": [
    "# Generating random numbers\n",
    "\n",
    "The use of random number generation is an important part of the\n",
    "configuration and evaluation of many numerical and machine learning\n",
    "algorithms. Whether you need to randomly initialize weights in an\n",
    "artificial neural network, split data into random sets, or randomly\n",
    "shuffle your dataset, being able to generate random numbers (actually,\n",
    "repeatable pseudo-random numbers) is essential.\n",
    "\n",
    "Numpy provides the [`np.random`](https://numpy.org/doc/stable/reference/random/generator.html#simple-random-data) module for this type of functionality. This includes functions like:\n",
    "\n",
    "- `np.random.integers` \n",
    "- `np.random.random`\n",
    "- `np.random.normal` \n",
    "- `np.random.uniform`\n",
    "- `np.random.standard_t`\n",
    "- and more"
   ]
  },
  {
   "cell_type": "markdown",
   "metadata": {},
   "source": [
    "## Mini-exercise\n",
    "\n",
    "Use the documentation for the `np.random` module to complete the following exercises:\n",
    "\n",
    "1. Create a random array of shape `(3, 4)` with elements between 0 and 1.\n",
    "2. Create a random array of 100 elements from a normal distribution with mean 0 and standard deviation 1.\n",
    "3. Compute the mean and standard deviation of the random array created in the previous exercise and verify that they are close to the mean and standard deviation you asked for\n",
    "4. How does changes in the number of elements in step 2 affect the mean and standard deviation of the random array?\n",
    "5. Create a random of array of 100 elements and add it to the array from step 2 and save the result \n",
    "6. Take the mean and median of this new array. How does it compare to the mean and median of the array from step 2?"
   ]
  },
  {
   "cell_type": "markdown",
   "metadata": {},
   "source": [
    "# How to save and load NumPy objects\n"
   ]
  },
  {
   "cell_type": "markdown",
   "metadata": {},
   "source": [
    "You will, at some point, want to save your arrays to disk and load them\n",
    "back without having to re-run the code. Fortunately, there are several\n",
    "ways to save and load objects with NumPy. The ndarray objects can be\n",
    "saved to and loaded from the disk files with `loadtxt` and `savetxt`\n",
    "functions that handle normal text files, `load` and `save` functions\n",
    "that handle NumPy binary files with a **.npy** file extension, and a\n",
    "`savez` function that handles NumPy files with a **.npz** file\n",
    "extension.\n",
    "\n",
    "The **.npy** and **.npz** files store data, shape, dtype, and other\n",
    "information required to reconstruct the ndarray in a way that allows the\n",
    "array to be correctly retrieved, even when the file is on another\n",
    "machine with different architecture.\n",
    "\n",
    "If you want to store a single ndarray object, store it as a .npy file\n",
    "using `np.save`. If you want to store more than one ndarray object in a\n",
    "single file, save it as a .npz file using `np.savez`. You can also save\n",
    "several arrays into a single file in compressed npz format with\n",
    "[savez_compressed]{.title-ref}.\n",
    "\n",
    "It\\'s easy to save and load an array with `np.save()`. Just make sure to\n",
    "specify the array you want to save and a file name. For example, if you\n",
    "create this array:"
   ]
  },
  {
   "cell_type": "code",
   "execution_count": null,
   "metadata": {},
   "outputs": [],
   "source": [
    "a = np.array([1, 2, 3, 4, 5, 6])\n",
    "a\n"
   ]
  },
  {
   "cell_type": "markdown",
   "metadata": {},
   "source": [
    "You can save it as \\\"filename.npy\\\" with:"
   ]
  },
  {
   "cell_type": "code",
   "execution_count": 124,
   "metadata": {},
   "outputs": [],
   "source": [
    "np.save('filename', a)\n"
   ]
  },
  {
   "cell_type": "markdown",
   "metadata": {},
   "source": [
    "Check to see if \"filename.npy\" exists in your JupyterLab or VSCode file explorer! It should exist in the same folder as this notebook."
   ]
  },
  {
   "cell_type": "markdown",
   "metadata": {},
   "source": [
    "You can use `np.load()` to reconstruct your array. :"
   ]
  },
  {
   "cell_type": "code",
   "execution_count": null,
   "metadata": {},
   "outputs": [],
   "source": [
    "b = np.load('filename.npy')\n",
    "b\n"
   ]
  },
  {
   "cell_type": "markdown",
   "metadata": {},
   "source": [
    "\n",
    "You can save a NumPy array as a plain text file like a **.csv** or\n",
    "**.txt** file with `np.savetxt`."
   ]
  },
  {
   "cell_type": "code",
   "execution_count": 127,
   "metadata": {},
   "outputs": [],
   "source": [
    "csv_arr = np.array([1, 2, 3, 4, 5, 6, 7, 8])\n"
   ]
  },
  {
   "cell_type": "markdown",
   "metadata": {},
   "source": [
    "You can easily save it as a .csv file with the name `new_file.csv` like this:"
   ]
  },
  {
   "cell_type": "code",
   "execution_count": 128,
   "metadata": {},
   "outputs": [],
   "source": [
    "np.savetxt('new_file.csv', csv_arr)"
   ]
  },
  {
   "cell_type": "markdown",
   "metadata": {},
   "source": [
    "You can quickly and easily load your saved text file using `loadtxt()`:"
   ]
  },
  {
   "cell_type": "code",
   "execution_count": null,
   "metadata": {},
   "outputs": [],
   "source": [
    "np.loadtxt('new_file.csv')"
   ]
  },
  {
   "cell_type": "markdown",
   "metadata": {},
   "source": [
    "The `savetxt()` and `loadtxt()` functions accept additional optional parameters such as `header`, `footer`, and `delimiter`. While text files can be easier for sharing, `.npy` and `.npz` files are smaller and faster to read.\n",
    "\n",
    "You cana more about input output file handling [here](https://numpy.org/doc/stable/reference/routines.io.html#routines-io)"
   ]
  },
  {
   "cell_type": "markdown",
   "metadata": {},
   "source": [
    "## Converting mathematical formulas to code"
   ]
  },
  {
   "cell_type": "markdown",
   "metadata": {},
   "source": [
    "The ease of implementing mathematical formulas that work on arrays is\n",
    "one of the things that make NumPy so widely used in the scientific\n",
    "Python community.\n",
    "\n",
    "For example, this is the **mean square error** formula, the averaged form of the **sum of squared errors** we discussed last time.\n",
    "\n",
    "![](./np_MSE_formula.png)"
   ]
  },
  {
   "cell_type": "markdown",
   "metadata": {},
   "source": [
    "Implementing this formula is simple and straightforward in NumPy:\n",
    "\n",
    "![](./np_MSE_implementation.png)"
   ]
  },
  {
   "cell_type": "markdown",
   "metadata": {},
   "source": [
    "What makes this work so well is that `predictions` and `labels` can\n",
    "contain one or a thousand values. They only need to be the same size.\n",
    "\n",
    "You can visualize it this way:\n",
    "\n",
    "![](./np_mse_viz1.png)"
   ]
  },
  {
   "cell_type": "markdown",
   "metadata": {},
   "source": [
    "In this example, both the predictions and labels vectors contain three\n",
    "values, meaning `n` has a value of three. After we carry out\n",
    "subtractions the values in the vector are squared. Then NumPy sums the\n",
    "values, and your result is the error value for that prediction and a\n",
    "score for the quality of the model.\n",
    "\n",
    "![](./np_mse_viz2.png)"
   ]
  },
  {
   "cell_type": "markdown",
   "metadata": {},
   "source": [
    "# Wrap-up challenge exercise\n",
    "\n",
    "We've provided a file called `image.npy` in this folder (you should see it in the file explorer on the left). This is a numpy array containing the RGB values of each pixel in the image.\n",
    "\n",
    "You can use the `imshow()` function we've imported to display the values of any numpy array, by passing in the array as the first argument (see the setup code-cell below)\n",
    "\n",
    "Using the notebook and the `numpy` documentation site try to complete the following tasks:\n",
    "\n",
    "1. Create a new array that is the same as the image but flipped vertically (upside down)\n",
    "2. Create a new array that is a black-and-white (BW) version of the image; visualize it\n",
    "3. Subtract the BW image from the original image; visualize it\n",
    "4. Create a new array that adds normally distributed noise to the the black-and-white image; visualize it\n",
    "5. Slices the image from steup 4 into a grid of 3 by 3 images; visualize each one\n",
    "6. Use the [`gaussian_filter()`](https://docs.scipy.org/doc/scipy-1.15.0/reference/generated/scipy.ndimage.gaussian_filter.html#gaussian-filter) function we've imported for you, and its linked documentation, apply blur to the image from step 4, and visualize the result\n",
    "\n"
   ]
  },
  {
   "cell_type": "markdown",
   "metadata": {},
   "source": [
    "### Setup"
   ]
  },
  {
   "cell_type": "code",
   "execution_count": null,
   "metadata": {},
   "outputs": [],
   "source": [
    "import numpy as np\n",
    "from matplotlib.pyplot import imshow\n",
    "\n",
    "# Load the image file into a numpy array\n",
    "img = np.load('image.npy')\n",
    "\n",
    "# print it's shape\n",
    "img.shape"
   ]
  },
  {
   "cell_type": "markdown",
   "metadata": {},
   "source": [
    "Here's an example of visualizing a NumPy array:"
   ]
  },
  {
   "cell_type": "code",
   "execution_count": null,
   "metadata": {},
   "outputs": [],
   "source": [
    "%matplotlib inline\n",
    "# Visualize the content of the array\n",
    "# You can add the %matplotlib line to the first line in your code cell in case you don't see the plot\n",
    "imshow(img)"
   ]
  },
  {
   "cell_type": "markdown",
   "metadata": {},
   "source": [
    "### 1. Create a new array that is the same as the image but flipped vertically (upside down)\n"
   ]
  },
  {
   "cell_type": "code",
   "execution_count": null,
   "metadata": {},
   "outputs": [],
   "source": []
  },
  {
   "cell_type": "markdown",
   "metadata": {},
   "source": [
    "### 2. Create a new array that is a black-and-white (BW) version of the image; visualize it\n"
   ]
  },
  {
   "cell_type": "code",
   "execution_count": null,
   "metadata": {},
   "outputs": [],
   "source": []
  },
  {
   "cell_type": "markdown",
   "metadata": {},
   "source": [
    "### 3. Subtract the BW image from the original image; visualize it\n"
   ]
  },
  {
   "cell_type": "code",
   "execution_count": null,
   "metadata": {},
   "outputs": [],
   "source": []
  },
  {
   "cell_type": "markdown",
   "metadata": {},
   "source": [
    "### 4. Create a new array that adds normally distributed noise to the the black-and-white image; visualize it\n"
   ]
  },
  {
   "cell_type": "code",
   "execution_count": null,
   "metadata": {},
   "outputs": [],
   "source": []
  },
  {
   "cell_type": "markdown",
   "metadata": {},
   "source": [
    "### 5. Slice the image from steup 4 into a grid of 3 by 3 images; visualize each one\n"
   ]
  },
  {
   "cell_type": "code",
   "execution_count": null,
   "metadata": {},
   "outputs": [],
   "source": []
  },
  {
   "cell_type": "markdown",
   "metadata": {},
   "source": [
    "### 6. Use the [`gaussian_filter()`](https://docs.scipy.org/doc/scipy-1.15.0/reference/generated/scipy.ndimage.gaussian_filter.html#gaussian-filter) function we've imported for you, and its linked documentation, apply blur to the image from step 4, and visualize the result\n"
   ]
  },
  {
   "cell_type": "code",
   "execution_count": null,
   "metadata": {},
   "outputs": [],
   "source": [
    "from scipy.ndimage import gaussian_filter\n",
    "\n",
    "image = # your array\n",
    "blurred = gaussian_filter(image, sigma=2)"
   ]
  },
  {
   "cell_type": "code",
   "execution_count": null,
   "metadata": {},
   "outputs": [],
   "source": []
  }
 ],
 "metadata": {
  "kernelspec": {
   "display_name": "201b",
   "language": "python",
   "name": "python3"
  },
  "language_info": {
   "codemirror_mode": {
    "name": "ipython",
    "version": 3
   },
   "file_extension": ".py",
   "mimetype": "text/x-python",
   "name": "python",
   "nbconvert_exporter": "python",
   "pygments_lexer": "ipython3",
   "version": "3.11.10"
  }
 },
 "nbformat": 4,
 "nbformat_minor": 2
}
