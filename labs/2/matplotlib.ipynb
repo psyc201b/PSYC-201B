{
 "cells": [
  {
   "cell_type": "markdown",
   "metadata": {},
   "source": [
    "# Plotting with `matplotlib`\n",
    "\n",
    "In this lab notebook you'll be introduced the basics of plotting Python using the `matplotlib` libary. Many graphics libraries are built on top of matplotlib, and have tried to make plotting even easier.  We'll explore a higher-level statistical visualization libary called [seaborn](https://seaborn.pydata.org/examples/index.html) next week. \n",
    "\n"
   ]
  },
  {
   "cell_type": "markdown",
   "metadata": {},
   "source": [
    "## How to use this notebook\n",
    "\n",
    "This notebook is designed for you to work through at your own pace. When you're finished you should save and `commit` your changes and `push` them to your Github Classroom repository\n",
    "\n",
    "Try experimenting by creating new code cells and playing around with the demonstrated functionality.\n",
    "\n",
    "As you go through this notebook and work on the mini-exercises and challenge at the end, you might find the additional resources helpful:\n",
    "\n",
    "\n",
    "- [Matplotlib Documentation and User Guide](https://matplotlib.org/stable/users/index)\n",
    "- [Visualization with Matplotlib](https://jakevdp.github.io/PythonDataScienceHandbook/index.html#4.-Visualization-with-Matplotlib)\n",
    "- [Matplotlib Cheatsheets](https://matplotlib.org/cheatsheets/)"
   ]
  },
  {
   "cell_type": "markdown",
   "metadata": {},
   "source": [
    "# Matplotlib Key Concepts\n",
    "\n",
    "There are a few different types of concepts in the `matplotlib.pyplot` framework.\n",
    "- `Figure`: Essentially the canvas, which contains the plots\n",
    "- `Axes`: An individual plot within a figure. Each Axes has a title, an x-label, and a y-label\n",
    "- `Axis`: These contain the graph limits and tickmarks\n",
    "- `Artist`: Everything that is visiable on the figure is an artist (e.g., Text objects, Line2D object, collection objects). Artists are typically tied to a specific Axes.\n",
    "\n",
    "**Note**: `%matplotlib inline` in the cells below is an example of 'cell magic' and enables plotting *within* the notebook and not opening a separate window. In addition, you may want to try using `%matplotlib notebook`, which will allow more interactive plotting."
   ]
  },
  {
   "cell_type": "code",
   "execution_count": 11,
   "metadata": {},
   "outputs": [],
   "source": [
    "%matplotlib inline\n",
    "import matplotlib.pyplot as plt\n",
    "import numpy as np"
   ]
  },
  {
   "cell_type": "markdown",
   "metadata": {},
   "source": [
    "## 2 interfaces for plotting\n",
    "\n",
    "A potentially confusing feature of Matplotlib is its dual interfaces: a convenient MATLAB-style state-based interface, and a more powerful object-oriented interface. We'll quickly highlight the differences between the two here.\n"
   ]
  },
  {
   "cell_type": "markdown",
   "metadata": {},
   "source": [
    "### MATLAB-style interface"
   ]
  },
  {
   "cell_type": "code",
   "execution_count": null,
   "metadata": {},
   "outputs": [],
   "source": [
    "x = np.linspace(0, 10, 100)\n",
    "\n",
    "plt.figure()  # create a plot figure\n",
    "\n",
    "# create the first of two panels and set current axis\n",
    "plt.subplot(2, 1, 1) # (rows, columns, panel number)\n",
    "plt.plot(x, np.sin(x))\n",
    "\n",
    "# create the second panel and set current axis\n",
    "plt.subplot(2, 1, 2)\n",
    "plt.plot(x, np.cos(x));"
   ]
  },
  {
   "cell_type": "markdown",
   "metadata": {},
   "source": [
    "It is important to note that this interface is stateful: it keeps track of the \"current\" figure and axes, which are where all plt commands are applied. You can get a reference to these using the plt.gcf() (get current figure) and plt.gca() (get current axes) routines.\n",
    "\n",
    "While this stateful interface is fast and convenient for simple plots, it is easy to run into problems. For example, once the second panel is created, how can we go back and add something to the first? This is possible within the MATLAB-style interface, but a bit clunky. Fortunately, there is a better way."
   ]
  },
  {
   "cell_type": "markdown",
   "metadata": {},
   "source": [
    "### Object-oriented interface\n",
    "\n",
    "The object-oriented interface is available for these more complicated situations, and for when you want more control over your figure. Rather than depending on some notion of an \"active\" figure or axes, in the object-oriented interface the plotting functions are methods of explicit Figure and Axes objects. To re-create the previous plot using this style of plotting, you might do the following:"
   ]
  },
  {
   "cell_type": "code",
   "execution_count": null,
   "metadata": {},
   "outputs": [],
   "source": [
    "# First create a grid of plots\n",
    "# ax will be an array of two Axes objects\n",
    "fig, ax = plt.subplots(2)\n",
    "\n",
    "# Call plot() method on the appropriate object\n",
    "ax[0].plot(x, np.sin(x))\n",
    "ax[1].plot(x, np.cos(x));"
   ]
  },
  {
   "cell_type": "markdown",
   "metadata": {},
   "source": [
    "For more simple plots, the choice of which style to use is largely a matter of preference, but the object-oriented approach can become a necessity as plots become more complicated. \n",
    "\n",
    "The examples below will use the MATLAB style interface to keep the code concise and easy to understand. However, you'll find yourself switching between them depending on what is most convenient. In most cases, the difference is as small as switching `plt.plot()` to `ax.plot()`, but there are a few gotchas that we will highlight as they come up in the following sections."
   ]
  },
  {
   "cell_type": "markdown",
   "metadata": {},
   "source": [
    "# Basics\n",
    "\n",
    "**NOTE**: The basic plotting examples below make use of the MATLAB style interface"
   ]
  },
  {
   "cell_type": "markdown",
   "metadata": {},
   "source": [
    "## Lineplot\n",
    "First, let's generate some numbers and create a basic lineplot.\n",
    "\n",
    "In this example, we plot:\n",
    "\n",
    "$y = x^2$ "
   ]
  },
  {
   "cell_type": "code",
   "execution_count": null,
   "metadata": {
    "ExecuteTime": {
     "end_time": "2020-04-07T15:31:32.464757Z",
     "start_time": "2020-04-07T15:31:32.339629Z"
    }
   },
   "outputs": [],
   "source": [
    "x = np.arange(0, 50, 1)\n",
    "y = x ** 2\n",
    "\n",
    "plt.plot(x, y, linewidth=3)"
   ]
  },
  {
   "cell_type": "markdown",
   "metadata": {},
   "source": [
    "## Scatterplot\n",
    "We can also plot associations between two different variables using a scatterplot. In this example, we will simulate correlated data with $\\mathcal{N}(0,1)$ using `np.random.multivariate_normal` and create a scatterplot. Try playing with the covariance values to change the degree of association.\n",
    "\n"
   ]
  },
  {
   "cell_type": "code",
   "execution_count": null,
   "metadata": {
    "ExecuteTime": {
     "end_time": "2020-04-07T15:54:38.407081Z",
     "start_time": "2020-04-07T15:54:38.208029Z"
    }
   },
   "outputs": [],
   "source": [
    "n = 500\n",
    "r = 0.9\n",
    "mu = np.array([0, 0])\n",
    "cov = np.array([[1, r], [r, 1]])\n",
    "data = np.random.multivariate_normal(mu, cov, size=n)\n",
    "\n",
    "plt.scatter(data[:, 0], data[:, 1])"
   ]
  },
  {
   "cell_type": "markdown",
   "metadata": {},
   "source": [
    "## Histogram\n",
    "We can also plot the distribution of a variable using a histogram.\n",
    "\n",
    "Let's see if the data we simulated above are actually normally distributed."
   ]
  },
  {
   "cell_type": "code",
   "execution_count": null,
   "metadata": {
    "ExecuteTime": {
     "end_time": "2020-04-07T15:44:23.891967Z",
     "start_time": "2020-04-07T15:44:23.703368Z"
    }
   },
   "outputs": [],
   "source": [
    "plt.hist(data[:,0])"
   ]
  },
  {
   "cell_type": "markdown",
   "metadata": {},
   "source": [
    "We can also plot overlaying histograms. Let's simulate more data, but shift the mean of one by 3."
   ]
  },
  {
   "cell_type": "code",
   "execution_count": null,
   "metadata": {
    "ExecuteTime": {
     "end_time": "2020-04-07T15:50:10.798569Z",
     "start_time": "2020-04-07T15:50:10.651711Z"
    }
   },
   "outputs": [],
   "source": [
    "r = 0.9\n",
    "mu = np.array([0, 3])\n",
    "cov = np.array([[1, r], [r, 1]])\n",
    "data = np.random.multivariate_normal(mu, cov, size=n)\n",
    "\n",
    "plt.hist(data, alpha=0.7)"
   ]
  },
  {
   "cell_type": "markdown",
   "metadata": {},
   "source": [
    "## Bar Plot\n",
    "We can also plot the same data as a bar plot to emphasize the difference in the means of the distributions. To create a bar plot, we need to specify the bar names and the heights of the bars."
   ]
  },
  {
   "cell_type": "code",
   "execution_count": null,
   "metadata": {
    "ExecuteTime": {
     "end_time": "2020-04-07T15:48:54.570448Z",
     "start_time": "2020-04-07T15:48:54.467575Z"
    }
   },
   "outputs": [],
   "source": [
    "plt.bar([\"x1\", \"x2\"], np.mean(data, axis=0))"
   ]
  },
  {
   "cell_type": "markdown",
   "metadata": {},
   "source": [
    "## 3D Plots\n",
    "We can also plot in 3 dimensions with `mplot3d`. Here we will simulate 3 different variables with different correlations."
   ]
  },
  {
   "cell_type": "code",
   "execution_count": null,
   "metadata": {
    "ExecuteTime": {
     "end_time": "2020-04-07T15:52:58.485081Z",
     "start_time": "2020-04-07T15:52:58.353144Z"
    }
   },
   "outputs": [],
   "source": [
    "from mpl_toolkits import mplot3d\n",
    "\n",
    "n = 500\n",
    "\n",
    "r1 = .1\n",
    "r2 = .5\n",
    "r3 = .9\n",
    "\n",
    "mu = np.array([5.0, 0.0, 10.0])\n",
    "\n",
    "cov = np.array([\n",
    "        [  1, r1, r2],\n",
    "        [ r1,  1,  r3],\n",
    "        [ r2,  r3,  1]\n",
    "    ])\n",
    "data = np.random.multivariate_normal(mu, cov, size=n)\n",
    "\n",
    "\n",
    "ax = plt.axes(projection='3d')\n",
    "ax.scatter3D(data[:,0], data[:,1], data[:,2], alpha=.4)"
   ]
  },
  {
   "cell_type": "markdown",
   "metadata": {},
   "source": [
    "## Mini-exercise\n",
    "\n",
    "Pick anyone of the plots above and try to recreate it using the *object-oriented* interface. This involves first creating the figure and axes and using the `.plot()` method on the `ax` objects to add the data.\n",
    "\n",
    "*Hint*: check out the help and documentation for `plt.subplots()` and `ax.plot()`"
   ]
  },
  {
   "cell_type": "code",
   "execution_count": null,
   "metadata": {},
   "outputs": [],
   "source": [
    "# Your code here"
   ]
  },
  {
   "cell_type": "markdown",
   "metadata": {},
   "source": [
    "## Customization\n",
    "One of the nice things about matplotlib is that everything is customizable.\n",
    "\n",
    "Let's go back to our first scatterplot and show how we can customize it to make it easier to read. \n",
    "\n",
    "We can specify the type of `marker`, the `color`, the `alpha` transparency, and the size of the dots with `s`.\n",
    "\n",
    "We can also label the axes with `xlabel` and `ylabel`, and add a `title`.\n",
    "\n",
    "Finally, we can add text annotations, such as the strength of the correlation with `annotate`."
   ]
  },
  {
   "cell_type": "code",
   "execution_count": null,
   "metadata": {
    "ExecuteTime": {
     "end_time": "2020-04-07T16:04:21.580404Z",
     "start_time": "2020-04-07T16:04:21.428202Z"
    }
   },
   "outputs": [],
   "source": [
    "n = 500\n",
    "r = 0.9\n",
    "mu = np.array([0, 0])\n",
    "cov = np.array([[1, r], [r, 1]])\n",
    "data = np.random.multivariate_normal(mu, cov, size=n)\n",
    "\n",
    "plt.scatter(data[:, 0], data[:, 1], color=\"r\", marker=\"o\", s=30, alpha=0.25)\n",
    "\n",
    "plt.xlabel(\"Variable 1\", fontsize=16)\n",
    "plt.ylabel(\"Variable 2\", fontsize=16)\n",
    "plt.title(\"Scatterplot\", fontsize=18)\n",
    "plt.annotate(f\"r={r}\", xy=(-2, 2), xycoords=\"data\", fontsize=14, color=\"red\")"
   ]
  },
  {
   "cell_type": "markdown",
   "metadata": {},
   "source": [
    "## Layouts\n",
    "\n",
    "The easiest way to make customized layouts that can include multiple panels of a plot are with `subplot`. \n",
    "\n",
    "![subplot](./subplot.png)\n",
    "\n",
    "There are two different ways to index. One is by adding a subplot. The first number is the number of rows, the second is the number of columns, and the third is the index number.\n",
    "\n",
    "I personally prefer to index directly into the `ax` object with rows and columns as I find it more intuitive.\n",
    "\n",
    "You can do even more advanced layouts with panels of different sizes using [gridspec](https://matplotlib.org/3.2.1/tutorials/intermediate/gridspec.html). \n",
    "\n",
    "Let's make our simulation code into a function and use subplots to plot multiple panels.\n",
    "\n",
    "We specify the number of rows and columns when we initialize the plot. We can also play with the size of the plot. Here we tell matplotlib that the x and y axes will be shared across the different panels. Finally, `plt.tight_layout()` helps keep everything formatted and organized nicely.\n",
    "\n",
    "When modifying `axes` we need to use the `set_{}` command rather than just the command itself. For example, `ax[0,0].set_xlabel('X')` rather than `plt.xlabel('X')`."
   ]
  },
  {
   "cell_type": "code",
   "execution_count": null,
   "metadata": {
    "ExecuteTime": {
     "end_time": "2020-04-07T16:34:26.848911Z",
     "start_time": "2020-04-07T16:34:26.265247Z"
    },
    "scrolled": false
   },
   "outputs": [],
   "source": [
    "def simulate_xy(n=500, r=0.9):\n",
    "    mu = np.array([0, 0])\n",
    "    cov = np.array([[1, r], [r, 1]])\n",
    "    return np.random.multivariate_normal(mu, cov, size=n)\n",
    "\n",
    "\n",
    "f, ax = plt.subplots(nrows=2, ncols=2, figsize=(8, 8), sharex=True, sharey=True)\n",
    "\n",
    "r = 0.1\n",
    "sim1 = simulate_xy(n=500, r=r)\n",
    "ax[0, 0].scatter(sim1[:, 0], sim1[:, 1], color=\"r\", marker=\"o\", s=30, alpha=0.25)\n",
    "ax[0, 0].set_title(f\"r={r}\", fontsize=16)\n",
    "ax[0, 0].set_ylabel(\"Y\", fontsize=16)\n",
    "\n",
    "r = 0.3\n",
    "sim1 = simulate_xy(n=500, r=r)\n",
    "ax[0, 1].scatter(sim1[:, 0], sim1[:, 1], color=\"r\", marker=\"o\", s=30, alpha=0.25)\n",
    "ax[0, 1].set_title(f\"r={r}\", fontsize=16)\n",
    "\n",
    "r = 0.6\n",
    "sim1 = simulate_xy(n=500, r=r)\n",
    "ax[1, 0].scatter(sim1[:, 0], sim1[:, 1], color=\"r\", marker=\"o\", s=30, alpha=0.25)\n",
    "ax[1, 0].set_title(f\"r={r}\", fontsize=16)\n",
    "ax[1, 0].set_xlabel(\"X\", fontsize=16)\n",
    "ax[1, 0].set_ylabel(\"Y\", fontsize=16)\n",
    "\n",
    "r = 0.9\n",
    "sim1 = simulate_xy(n=500, r=r)\n",
    "ax[1, 1].scatter(sim1[:, 0], sim1[:, 1], color=\"r\", marker=\"o\", s=30, alpha=0.25)\n",
    "ax[1, 1].set_title(f\"r={r}\", fontsize=16)\n",
    "ax[1, 1].set_xlabel(\"X\", fontsize=16)\n",
    "\n",
    "plt.tight_layout()\n"
   ]
  },
  {
   "cell_type": "markdown",
   "metadata": {},
   "source": [
    "## Saving Plots\n",
    "Plots can be saved to disk using the `savefig` command. There are lots of ways to customize the saved plot. I typically save rasterized versions as `.png` and vectorized versions as `.pdf`. Don't forget to specify a path where you want the file written to."
   ]
  },
  {
   "cell_type": "code",
   "execution_count": null,
   "metadata": {
    "ExecuteTime": {
     "end_time": "2020-04-07T16:32:01.972590Z",
     "start_time": "2020-04-07T16:32:01.941707Z"
    }
   },
   "outputs": [],
   "source": [
    "plt.savefig('MyFirstPlot.png')"
   ]
  },
  {
   "cell_type": "markdown",
   "metadata": {
    "collapsed": true
   },
   "source": [
    "# Challenge Exercises \n",
    "\n",
    "It's impossible to show you *all* functionality that `matplotlib` has to offer, and learning its quirks can be difficult or part of the fun. Using the basic examples in the notebook and the references shared at the top try to do the following:\n"
   ]
  },
  {
   "cell_type": "markdown",
   "metadata": {},
   "source": [
    "### 1. Use `numpy` and `matplotlib` to create a histogram of a normal distrubution"
   ]
  },
  {
   "cell_type": "code",
   "execution_count": null,
   "metadata": {},
   "outputs": [],
   "source": []
  },
  {
   "cell_type": "markdown",
   "metadata": {},
   "source": [
    "### 2. Customize the plot title to put the mean of the distribution in the title\n",
    "\n",
    "*Hint: You can use f-strings `f\"Mean = {mean}\"` when setting labels in `matplotlib`"
   ]
  },
  {
   "cell_type": "code",
   "execution_count": null,
   "metadata": {},
   "outputs": [],
   "source": []
  },
  {
   "cell_type": "markdown",
   "metadata": {},
   "source": [
    "### 3. Create two 1d arrays and make a scatter plot"
   ]
  },
  {
   "cell_type": "code",
   "execution_count": null,
   "metadata": {},
   "outputs": [],
   "source": []
  },
  {
   "cell_type": "markdown",
   "metadata": {},
   "source": [
    "### 4. Customize the previous plot in the following ways:\n",
    "\n",
    "- Use [matplotlib stylesheets](https://matplotlib.org/stable/gallery/style_sheets/style_sheets_reference.html) to change the plot theme to something of your choosing\n",
    "- Customize the plot title, x-axis label, and y-axis labels\n",
    "- Adjust the font-size of the title to be larger than the default and larger than the axis-labels\n"
   ]
  },
  {
   "cell_type": "code",
   "execution_count": null,
   "metadata": {},
   "outputs": [],
   "source": []
  },
  {
   "cell_type": "markdown",
   "metadata": {},
   "source": [
    "### 5. Combine the plots from steps 2 & 4 into a single figure and save it\n",
    "\n",
    "*Hint: You can use the `plt.subplots()` function to create a figure with multiple axes. You can then use the `ax.plot()` function to plot data on each axis.*\n",
    "\n",
    "**Note** Make sure to `git add` your `.png` file and `commit` it before you push your changes to Github Classroom!\n"
   ]
  },
  {
   "cell_type": "code",
   "execution_count": null,
   "metadata": {},
   "outputs": [],
   "source": []
  }
 ],
 "metadata": {
  "anaconda-cloud": {},
  "kernelspec": {
   "display_name": "201b",
   "language": "python",
   "name": "python3"
  },
  "language_info": {
   "codemirror_mode": {
    "name": "ipython",
    "version": 3
   },
   "file_extension": ".py",
   "mimetype": "text/x-python",
   "name": "python",
   "nbconvert_exporter": "python",
   "pygments_lexer": "ipython3",
   "version": "3.11.10"
  },
  "toc": {
   "base_numbering": 1,
   "nav_menu": {
    "height": "44px",
    "width": "252px"
   },
   "number_sections": true,
   "sideBar": true,
   "skip_h1_title": false,
   "title_cell": "Table of Contents",
   "title_sidebar": "Contents",
   "toc_cell": false,
   "toc_position": {
    "height": "calc(100% - 180px)",
    "left": "10px",
    "top": "150px",
    "width": "224.8px"
   },
   "toc_section_display": "block",
   "toc_window_display": true
  }
 },
 "nbformat": 4,
 "nbformat_minor": 2
}
