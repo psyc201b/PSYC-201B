{
 "cells": [
  {
   "cell_type": "markdown",
   "metadata": {},
   "source": [
    "# 3. Introduction to Python & Computational Notebooks\n",
    "\n",
    "This notebook provides a high-level overview of Python programming basics and an introduction to Jupyter Notebooks: the primary way you'll read/write code & prose and submit assignments and projects in this class. This isn't mean to be a comprehensive introduction to Python, but rather a quick overview of the basics that you'll need to know to get started. \n",
    "\n",
    "```{note}\n",
    "Until we setup our Github classroom, you can use the download button above to download and run this notebook to your local computer.\n",
    "```\n"
   ]
  },
  {
   "cell_type": "markdown",
   "metadata": {},
   "source": [
    "## Computational Notebooks\n",
    "\n",
    "We will primarily be using [Jupyter Notebooks](http://jupyter.org/) to interface with Python. Confusingly, a jupyter notebook is simply a file that ends with `.ipynb` and has nothing to do with whether you are using *JupyterLab* or *VSCode* as your coding environment. Both programs can read/edit notebook files!\n",
    "\n",
    "A Jupyter notebook consists of **cells** that demarcate blocks of text or code. The two main types of cells you will use are:\n",
    "\n",
    "1) **_code cell_**: contains actual code that you want to run. You can specify a cell as a code cell using the pulldown menu in the toolbar in your Jupyter notebook (or command palette in VSCode). Otherwise, you can can hit esc and then y (denoted \"esc, y\") while a cell is selected to specify that it is a code cell. Note that you will have to hit enter after doing this to start editing it.\n",
    "If you want to execute the code in a code cell, hit \"shift + enter.\" Note that code cells are executed in the order you execute them. That is to say, the ordering of the cells for which you hit \"shift + enter\" is the order in which the code is executed. If you did not explicitly execute a cell early in the document, its results are not known to the Python interpreter!\n",
    "\n",
    "2) **_markdown cells_** contain text. The text is written in markdown, a lightweight markup language. You can read about its syntax [here](http://daringfireball.net/projects/markdown/syntax) and use it format your text (e.g. bold, italics) or embed images and links. Note that you can also insert HTML into markdown cells, and this will be rendered properly. As you are typing the contents of these cells, the results appear as text. Hitting \"shift + enter\" renders the text in the formatting you specify.  You can specify a cell as being a markdown cell in the Jupyter toolbar, or by hitting \"esc, m\" in the cell. Again, you have to hit enter after using the quick keys to bring the cell into edit mode.\n",
    "\n",
    "These two ways of working with cells or their contents are known as \"command mode\" and \"edit mode\" respectively. Both modes have different [keyboard shortcuts](https://nocomplexity.com/documents/jupyterlab/keyboardshortcuts.html) that can be helpful as you gain more experience."
   ]
  },
  {
   "cell_type": "code",
   "execution_count": null,
   "metadata": {},
   "outputs": [],
   "source": [
    "# This is a code cell that executes the following line of python code, with it's output displayed below:\n",
    "print(\"Hello World\")"
   ]
  },
  {
   "cell_type": "markdown",
   "metadata": {},
   "source": [
    "### Working Interactively\n",
    "\n",
    "Coming from RStudio or Matlab, jupyter notebooks are designed for you to *work interactively*. In other words, you should write some code, immediately evaluate the output, and create/update code in a feedback loop, rather than write an entire notebook from top-to bottom before you run any code (e.g. like a script)."
   ]
  },
  {
   "cell_type": "code",
   "execution_count": null,
   "metadata": {},
   "outputs": [],
   "source": [
    "# Oops this outputted an error telling me I missed a '\n",
    "print('hello world)"
   ]
  },
  {
   "cell_type": "code",
   "execution_count": null,
   "metadata": {},
   "outputs": [],
   "source": [
    "# Here's the fixed version\n",
    "print(\"hello world\")"
   ]
  },
  {
   "cell_type": "markdown",
   "metadata": {},
   "source": [
    "## Python basics"
   ]
  },
  {
   "cell_type": "markdown",
   "metadata": {},
   "source": [
    "### Variables\n",
    "A _variable_ is a named object-- i.e. a thing that Python knows has a particular value.  It's often useful to write code that incorporates named variables wherever possible (rather than hard-coding in specific numerical values).  This way of abstracting way the specific values from the set of operations you want to perform on those values allows you to use the same line of code to perform different functions.\n",
    "\n",
    "To define a variable, you use the _assignment_ operator, `=`.  The name of your variable goes on the left side of the assignment operator, and the value you want to assign to that variable goes on the right side.  Play around with the example below to see how it works.  For example, change the values of `x` and `y` and see how the answers change."
   ]
  },
  {
   "cell_type": "markdown",
   "metadata": {},
   "source": [
    "#### Types of objects in Python\n",
    "\n",
    "The objects that Python works with can take on different **types** of values, called _data types_.  Here are some of the data types you'll likely encounter frequently:\n",
    "  - **Integers** (`int`): non-decimal scalar values (e.g., `-50`, `326`, `0`, `2500`, etc.)\n",
    "  - **Floating points numbers** (`float`): Real-valued scalars (e.g., `1.2345`, `-10.923`, `0.01`, `2.0`, etc.).\n",
    "  - **Boolean** (`bool`): `True` or `False`.\n",
    "  - **Strings** (`str`): sequences of characters or symbols, enclosed in single or double quotes (e.g., `'hello'`, `'This is a single quoted string!'`, `\"This is a double quoted string...\"`, etc.).\n",
    "  - **Null value** (`None`): a special data type that doesn't have any specified value.  Useful as a \"default\" value, e.g. before you have enough information to compute the answer.\n"
   ]
  },
  {
   "cell_type": "code",
   "execution_count": null,
   "metadata": {},
   "outputs": [],
   "source": [
    "x = 3\n",
    "type(x)"
   ]
  },
  {
   "cell_type": "code",
   "execution_count": null,
   "metadata": {},
   "outputs": [],
   "source": [
    "# simple adding a decimal place tells Python we're dealing with floating point values!\n",
    "x = 3.0\n",
    "type(x)"
   ]
  },
  {
   "cell_type": "code",
   "execution_count": null,
   "metadata": {},
   "outputs": [],
   "source": [
    "# strings can be individual characters\n",
    "x = \"a\"\n",
    "type(x)"
   ]
  },
  {
   "cell_type": "code",
   "execution_count": null,
   "metadata": {},
   "outputs": [],
   "source": [
    "# Or combinations of characters\n",
    "x = \"abc\"\n",
    "type(x)"
   ]
  },
  {
   "cell_type": "markdown",
   "metadata": {},
   "source": [
    "#### Working with strings\n",
    "\n",
    "Python makes it very easy to work with strings relative to many other languages. In particular you can easily insert variable values into strings to create dynamic strings called **f-strings**. You'll use these a lot for things like:\n",
    "- looping over lists of participant data-files and changing a folder name each time\n",
    "- creating templates of text you fill out with evaluated variables like result print-out"
   ]
  },
  {
   "cell_type": "code",
   "execution_count": null,
   "metadata": {},
   "outputs": [],
   "source": [
    "my_name = \"Eshin\"\n",
    "\n",
    "# Notice that we pre-fix the string with f to be able to use the {} syntax for variable\n",
    "my_string = f\"Hello {my_name}\"\n",
    "\n",
    "print(my_string)"
   ]
  },
  {
   "cell_type": "code",
   "execution_count": null,
   "metadata": {},
   "outputs": [],
   "source": [
    "# F-string short-hands allow you to quick print the variable name and value\n",
    "my_age = 999\n",
    "print(f\"{my_age=}\")\n",
    "\n",
    "# or even truncate by decimal place for prettier outputs\n",
    "my_age = 999.12914\n",
    "print(f\"{my_age:3.1f}\")\n"
   ]
  },
  {
   "cell_type": "markdown",
   "metadata": {},
   "source": [
    "#### Typecasting\n",
    "Many datatypes may be converted to many other datatype using typecasting.  For example, `float(3)` converts the integer `3` into a floating point decimal.  In the next cell, explore what happens when you try to convert between different data types.  You can use the `type` function to ask Python what the data type of a given entity is."
   ]
  },
  {
   "cell_type": "code",
   "execution_count": null,
   "metadata": {
    "ExecuteTime": {
     "end_time": "2020-03-29T21:30:38.551243Z",
     "start_time": "2020-03-29T21:30:38.545411Z"
    }
   },
   "outputs": [],
   "source": [
    "# Integer\n",
    "a = 1\n",
    "print(type(a))\n",
    "\n",
    "# Float\n",
    "b = 1.0\n",
    "print(type(b))\n",
    "\n",
    "# String\n",
    "c = \"hello\"\n",
    "print(type(c))\n",
    "\n",
    "# Boolean\n",
    "d = True\n",
    "print(type(d))\n",
    "\n",
    "# None\n",
    "e = None\n",
    "print(type(e))\n",
    "\n",
    "# Cast integer to string\n",
    "print(type(str(a)))"
   ]
  },
  {
   "cell_type": "code",
   "execution_count": null,
   "metadata": {},
   "outputs": [],
   "source": [
    "print(type(3))\n",
    "list(str(float(int(3.4))))  # what's happening here?"
   ]
  },
  {
   "cell_type": "markdown",
   "metadata": {},
   "source": [
    "### Container types\n",
    "\n",
    "In addition to basic variable types, you'll often be working with collections of things. The following types will be useful here:"
   ]
  },
  {
   "cell_type": "markdown",
   "metadata": {},
   "source": [
    "#### Lists\n",
    "In Python, a list is a mutable sequence of values.  Mutable means that we can change separate entries within a list. For a more in depth tutorial on lists look [here](http://nbviewer.jupyter.org/github/dartmouth-pbs/psyc161/blob/master/classes/02d-Python-Fundamentals-Containers-Lists.ipynb)\n",
    "\n",
    "* Each value in the list is an element or item\n",
    "* Elements can be any Python data type\n",
    "* Lists can mix data types\n",
    "\n",
    "* Lists are initialized with ```[]``` or ```list()```\n",
    "```python\n",
    "l = [1,2,3]\n",
    "```\n",
    "\n",
    "Elements within a list are indexed (**starting with 0**)\n",
    "```python\n",
    "l[0]\n",
    "```\n",
    "\n",
    "Elements can be nested lists\n",
    "```python\n",
    "nested = [[1, 2, 3], [4, 5, 6], [7, 8, 9]]\n",
    "```\n",
    "\n",
    "Lists can be *sliced*.\n",
    "```python\n",
    "l[start:stop:stride]\n",
    "```\n",
    "\n",
    "* Like all python containers, lists have many useful methods that can be applied\n",
    "```python\n",
    "a.insert(index,new element)\n",
    "a.append(element to add at end)\n",
    "len(a)\n",
    "```\n",
    "\n",
    "List comprehension is a *Very* powerful technique allowing for efficient construction of new lists.\n",
    "```python\n",
    "[a for a in l]\n",
    "```\n"
   ]
  },
  {
   "cell_type": "code",
   "execution_count": null,
   "metadata": {},
   "outputs": [],
   "source": [
    "# Indexing and Slicing\n",
    "a = [\"lists\", \"are\", \"arrays\"]\n",
    "print(a[0])\n",
    "print(a[1:3])\n",
    "\n",
    "# List methods\n",
    "a.insert(2, \"python\")\n",
    "a.append(\".\")\n",
    "print(a)\n",
    "print(len(a))\n",
    "\n",
    "# List Comprehension\n",
    "print([x.upper() for x in a])"
   ]
  },
  {
   "cell_type": "markdown",
   "metadata": {},
   "source": [
    "#### Dictionaries\n",
    "\n",
    "* In Python, a dictionary (or `dict`) is mapping between a set of\n",
    "indices (**keys**) and a set of **values**\n",
    "\n",
    "* The items in a dictionary are key-value pairs\n",
    "\n",
    "* Keys can be any Python data type\n",
    "\n",
    "* Dictionaries are unordered\n",
    "\n",
    "* Here is a more indepth tutorial on [dictionaries](http://nbviewer.jupyter.org/github/dartmouth-pbs/psyc161/blob/master/classes/03c-Python-Fundamentals-Containers-Dicts.ipynb)"
   ]
  },
  {
   "cell_type": "code",
   "execution_count": null,
   "metadata": {},
   "outputs": [],
   "source": [
    "# Dictionaries\n",
    "eng2sp = {}\n",
    "eng2sp[\"one\"] = \"uno\"\n",
    "print(eng2sp)\n",
    "\n",
    "eng2sp = {\"one\": \"uno\", \"two\": \"dos\", \"three\": \"tres\"}\n",
    "print(eng2sp)\n",
    "\n",
    "print(eng2sp.keys())\n",
    "print(eng2sp.values())"
   ]
  },
  {
   "cell_type": "markdown",
   "metadata": {},
   "source": [
    "#### Tuples\n",
    "In Python, a **tuple** is an immutable sequence of values, meaning they can't be changed\n",
    "\n",
    "* Each value in the tuple is an element or item\n",
    "\n",
    "* Elements can be any Python data type\n",
    "\n",
    "* Tuples can mix data types\n",
    "\n",
    "* Elements can be nested tuples\n",
    "\n",
    "* **Essentially tuples are immutable lists**\n",
    "\n",
    "Here is a nice tutorial on [tuples](http://nbviewer.jupyter.org/github/dartmouth-pbs/psyc161/blob/master/classes/03b-Python-Fundamentals-Containers-Tuples.ipynb)"
   ]
  },
  {
   "cell_type": "code",
   "execution_count": null,
   "metadata": {},
   "outputs": [],
   "source": [
    "numbers = (1, 2, 3, 4)\n",
    "print(numbers)\n",
    "\n",
    "t2 = 1, 2\n",
    "print(t2)"
   ]
  },
  {
   "cell_type": "markdown",
   "metadata": {},
   "source": [
    "#### Sets\n",
    "In Python, a `set` is an efficient storage for \"membership\" checking\n",
    "\n",
    "* `set` is like a `dict` but only with keys and without values\n",
    "\n",
    "* a `set` can also perform set operations (e.g., union intersection)\n",
    "\n",
    "* Here is more info on [sets](http://nbviewer.jupyter.org/github/dartmouth-pbs/psyc161/blob/master/classes/03d-Python-Fundamentals-Containers-Sets.ipynb)\n"
   ]
  },
  {
   "cell_type": "code",
   "execution_count": null,
   "metadata": {},
   "outputs": [],
   "source": [
    "# Union\n",
    "print({1, 2, 3, \"mom\", \"dad\"} | {2, 3, 10})\n",
    "\n",
    "# Intersection\n",
    "print({1, 2, 3, \"mom\", \"dad\"} & {2, 3, 10})\n",
    "\n",
    "# Difference\n",
    "print({1, 2, 3, \"mom\", \"dad\"} - {2, 3, 10})"
   ]
  },
  {
   "cell_type": "markdown",
   "metadata": {},
   "source": [
    "#### Additional objects and types\n",
    "\n",
    "In this class we'll be making use of additional scientific Python libraries that define some new types such as an **array** or **dataframe**. Under-the-hood these more complicated objects are simply clever arrangements of the basic types in Python or another language (e.g. C for faster math)!"
   ]
  },
  {
   "cell_type": "markdown",
   "metadata": {},
   "source": [
    "### Operators\n",
    "\n",
    "In addition to the assignment operator (`=`), there are several other operators built into Python:"
   ]
  },
  {
   "cell_type": "markdown",
   "metadata": {},
   "source": [
    "#### Math operators\n",
    "\n",
    "  - the addition operator (`+`)\n",
    "  - the subtraction operator (`-`)\n",
    "  - the multiplication operator (`*`)\n",
    "  - the division operator (`/`)\n",
    "  - the power operator (`**`) *raises the value of the first thing to the power of the second thing*\n",
    "  - the modulo operators (`%`) *remainder after division*"
   ]
  },
  {
   "cell_type": "code",
   "execution_count": null,
   "metadata": {
    "ExecuteTime": {
     "end_time": "2020-03-29T21:31:18.857194Z",
     "start_time": "2020-03-29T21:31:18.853110Z"
    }
   },
   "outputs": [],
   "source": [
    "# Addition\n",
    "a = 2 + 7\n",
    "print(a)\n",
    "\n",
    "# Subtraction\n",
    "b = a - 5\n",
    "print(b)\n",
    "\n",
    "# Multiplication\n",
    "print(b * 2)\n",
    "\n",
    "# Exponentiation\n",
    "print(b**2)\n",
    "\n",
    "# Modulo\n",
    "print(4 % 9)\n",
    "\n",
    "# Division\n",
    "print(4 / 9)"
   ]
  },
  {
   "cell_type": "markdown",
   "metadata": {},
   "source": [
    "#### String Operators\n",
    "* Some of the arithmetic operators also have meaning for strings. E.g. for string concatenation use `+` sign\n",
    "* String repetition: Use `*` sign with a number of repetitions"
   ]
  },
  {
   "cell_type": "code",
   "execution_count": null,
   "metadata": {
    "ExecuteTime": {
     "end_time": "2020-03-29T21:31:26.202011Z",
     "start_time": "2020-03-29T21:31:26.199008Z"
    }
   },
   "outputs": [],
   "source": [
    "# Combine string\n",
    "a = \"Hello\"\n",
    "b = \"World\"\n",
    "print(a + b)\n",
    "\n",
    "# Repeat String\n",
    "print(a * 5)"
   ]
  },
  {
   "cell_type": "markdown",
   "metadata": {},
   "source": [
    "#### Logical Operators\n",
    "Logical operators perform comparisons on objects and always return a **boolean** value\n",
    "\n",
    "- `x == y`: is x is equal to y?\n",
    "- `x != y`: is x not equal to y?\n",
    "- `x > y`: is x greater than y?\n",
    "- `x < y`: is x less than y?\n",
    "- `x >= y`: is x greater than or equal to y?\n",
    "- `x <= y`: is x is less than or equal to y\n",
    "- `or` as in `x or y`: `True` if _either_  x is \"truth-y\" OR y is \"truth-y\", and `False` otherwise\n",
    "- `and` as in `x and y`: `True` if _both_ x is \"truth-y\" AND y is \"truth-y\", and `False` otherwise\n",
    "- `not`: `not x` is `True` if `x` is `False`, and is `False` if `x` is `True`.\n",
    "- `any`: checks if ANY value in an iterable (anything you can loop over) is truth-y\n",
    "- `all`: checks if ALL values in an iterable (anything you can loop over) are truth-y\n",
    "\n",
    "|  X    | not X  | \n",
    "|-------|--------|\n",
    "| True  | False  | \n",
    "| False | True   | \n",
    "\n",
    "|  X   | Y    | X AND Y | X OR Y | \n",
    "|------|------|---------|--------|\n",
    "|True  | True | True  | True   | \n",
    "|True  | False| False | True   | \n",
    "|False | True | False | True   | \n",
    "|False | False| False | False  | "
   ]
  },
  {
   "cell_type": "markdown",
   "metadata": {},
   "source": [
    "One special consideration is when you you want to check the *type* of an object, especially checking if it's `None`.\n",
    "Instead of using value comparison `x == None` we use the `is` operator `x is None`"
   ]
  },
  {
   "cell_type": "code",
   "execution_count": null,
   "metadata": {
    "ExecuteTime": {
     "end_time": "2020-03-29T21:31:51.575225Z",
     "start_time": "2020-03-29T21:31:51.570825Z"
    }
   },
   "outputs": [],
   "source": [
    "# Works for string\n",
    "a = \"hello\"\n",
    "b = \"world\"\n",
    "c = \"Hello\"\n",
    "print(a == b)\n",
    "print(a == c)\n",
    "print(a != b)\n",
    "\n",
    "# Works for numeric\n",
    "d = 5\n",
    "e = 8\n",
    "print(d < e)"
   ]
  },
  {
   "cell_type": "code",
   "execution_count": null,
   "metadata": {},
   "outputs": [],
   "source": [
    "x = None\n",
    "x == None\n",
    "x is None  # same, but preferred"
   ]
  },
  {
   "cell_type": "markdown",
   "metadata": {},
   "source": [
    "## Conditional Logic\n",
    "\n",
    "Unlike most other languages, Python is **white-space senstive**, meaning it uses tab formatting rather than closing statements like curly braces `{}`, parentheses `()`, or closing statements like `end` or `fi`. This makes it easier to read, but requires you to make sure your code is formatted properly!\n",
    "\n",
    "```python \n",
    "# Clean and simple\n",
    "if condition: \n",
    "    print('condition!')\n",
    "```\n",
    "\n",
    "```python \n",
    "# But your spacing matters as this won't work!\n",
    "if condition: \n",
    "print('condition!') # oops should be indented (tabbed to the right)\n",
    "```"
   ]
  },
  {
   "cell_type": "markdown",
   "metadata": {},
   "source": [
    "### `if` statements\n",
    "\n",
    "Python contains a number of _keywords_ that allow you to control the flow of instructions that the computer executes.  One of the main keywords is the `if` statement.  It runs one or more lines of code only _if_ the quantity being evaluated is `True`:"
   ]
  },
  {
   "cell_type": "code",
   "execution_count": null,
   "metadata": {},
   "outputs": [],
   "source": [
    "x = 3\n",
    "if x == 3:  # notice the colon\n",
    "    print(\"Run this line\")  # all lines in the body of the if statement are indented"
   ]
  },
  {
   "cell_type": "code",
   "execution_count": null,
   "metadata": {
    "ExecuteTime": {
     "end_time": "2020-03-29T21:32:06.906115Z",
     "start_time": "2020-03-29T21:32:06.902388Z"
    }
   },
   "outputs": [],
   "source": [
    "n = 1\n",
    "\n",
    "if n:\n",
    "    print(\"n is non-0\")\n",
    "\n",
    "if n is None:\n",
    "    print(\"n is None\")\n",
    "\n",
    "if n is not None:\n",
    "    print(\"n is not None\")"
   ]
  },
  {
   "cell_type": "markdown",
   "metadata": {},
   "source": [
    "### `elif` and `else` statements\n",
    "Whereas the body (indented part) of an `if` statement will simply be skipped if the evaluated function passed to an `if` statement is `False`, you can also specify what to do under other possible circumstances:\n",
    "  - The `elif` statement comes right after an `if` statement.  It allows you to specify an alternative set of conditions.  You can use multiple `elif` statements in sequence; once any of them evaluate to `True` the body of that statement is run and the sequence is aborted (no other `elif` statements are tested).\n",
    "  - The `else` keyword comes after an `if` statement and (optionally) one or more `elif` statments.  The body of an `else` statement runs only if none of the preceeding `if` or `elif` statements ran."
   ]
  },
  {
   "cell_type": "code",
   "execution_count": null,
   "metadata": {},
   "outputs": [],
   "source": [
    "my_name = \"Eshin Jolly\"\n",
    "\n",
    "if my_name == \"Eshin Jolly\":\n",
    "    print(\"You are the course instructor.\")\n",
    "elif my_name == \"Yggdrasil\":\n",
    "    print(\"You are just a silly cat!\")\n",
    "elif my_name == \"Marie Curie\":\n",
    "    print(\"You won two Nobel Prizes.  Also, you are dead.\")\n",
    "else:\n",
    "    print(\n",
    "        \"I don't know you-- nice to meet you!\"\n",
    "    )  # note we used double quotes to enclose the single quote"
   ]
  },
  {
   "cell_type": "markdown",
   "metadata": {},
   "source": [
    "## Flow control (loops)\n",
    "It's often useful to carry out a similar operation many times.  For example, you might want to read in each file in a folder and apply the same basic set of commands to each file's contents.  _Loops_ provide a way of writing efficient and flexible code that involves doing an operation several times.\n",
    "\n",
    "There are two types of loops in Python: `for` loops and `while` loops."
   ]
  },
  {
   "cell_type": "markdown",
   "metadata": {},
   "source": [
    "### `for` loops\n",
    "This type of loop carries out one or more operations on each element in a given list.  The syntax is:\n",
    "```\n",
    "for i in <list of items>:\n",
    "  <instruction 1>\n",
    "  <instruction 2>\n",
    "  ...\n",
    "  <instruction N>\n",
    "```\n",
    "where `i` is, in turn, set to the value of each element of the given list, and the instructions defined in the body of the loop are carried out.  (Here `i` is just an example variable name; in practice any variable name may be used as a stand-in for `i`.)  In other words, the instructions in a `for` loop are carried out _for_ each value in the given list."
   ]
  },
  {
   "cell_type": "code",
   "execution_count": null,
   "metadata": {},
   "outputs": [],
   "source": [
    "# Notice that the variable c contains the value of each character\n",
    "# rather than an index/position of where we are in the string\n",
    "my_string = \"Python is going to make conducting research easier\"\n",
    "for c in my_string:\n",
    "    print(c)"
   ]
  },
  {
   "cell_type": "markdown",
   "metadata": {},
   "source": [
    "You if need access to both the value and the *index* you can use the `enumerate()` function:"
   ]
  },
  {
   "cell_type": "code",
   "execution_count": null,
   "metadata": {},
   "outputs": [],
   "source": [
    "# Now i is the position of a character and c is its value\n",
    "my_string = \"Python is going to make conducting research easier\"\n",
    "for i, c in enumerate(my_string):\n",
    "    print(i, c)"
   ]
  },
  {
   "cell_type": "code",
   "execution_count": null,
   "metadata": {},
   "outputs": [],
   "source": [
    "# Looping over a list\n",
    "for x in [\"a\", \"b\", \"c\", \"d\"]:\n",
    "    print(x)"
   ]
  },
  {
   "cell_type": "markdown",
   "metadata": {},
   "source": [
    "### `while` loops\n",
    "This type of loop carries out one or more operations _while_ the given logic statement holds true.  The syntax is:\n",
    "```\n",
    "while <statement>:\n",
    "  <instruction 1>\n",
    "  <instruction 2>\n",
    "  ...\n",
    "  <instruction N>\n",
    "```\n",
    "where `<statement>` (i.e. the _loop condition_) is any Python expression that can be typecast to a `bool`.  These types of loops are useful when the number of repetitions needed to carry out a particular task is not known in advance.\n"
   ]
  },
  {
   "cell_type": "code",
   "execution_count": null,
   "metadata": {
    "ExecuteTime": {
     "end_time": "2020-04-07T14:43:12.927002Z",
     "start_time": "2020-04-07T14:43:12.922886Z"
    }
   },
   "outputs": [],
   "source": [
    "# Starting values\n",
    "counter = 0\n",
    "limit = 10\n",
    "cumulative_sum = 0\n",
    "\n",
    "# Exit condition\n",
    "while counter < limit:\n",
    "    # Update sum\n",
    "    cumulative_sum += counter\n",
    "\n",
    "    # Print values\n",
    "    # Notice the use of f-string syntax here!\n",
    "    print(f\"{counter=}, {cumulative_sum=}\")\n",
    "\n",
    "    # Update counter\n",
    "    counter += 1\n",
    "\n",
    "print(f\"Final value = {cumulative_sum}\")"
   ]
  },
  {
   "cell_type": "markdown",
   "metadata": {},
   "source": [
    "### Infinite loops\n",
    "It is important that the statement used to determine whether the `while` loop continues with another execution or terminates is modified within the body of the loop.  In other words, the parameters of the condition that is being tested for should be adjusted each time the loop executes another cycle.  If the loop condition never changes its value from `True`, the `while` loop will continue looping forever; this is called an `infinite loop`.  Infinite loops will freeze your computer program until they are manually halted by pressing `ctrl + c`.\n",
    "\n",
    "### Nested loops\n",
    "Both `for` and `while` loops may themselves contain other loops (of either type).  For example, nested loops can be useful when you want to carry out some sequence of operations on each _combination_ of a set of things."
   ]
  },
  {
   "cell_type": "markdown",
   "metadata": {},
   "source": [
    "## Functions\n",
    "\n",
    "We've already come across several functions, such as `print`, `type`, and various operators (e.g. `+`, `-`, `*`, `/`, `**`, etc.-- operators are a special type of function.).  A _function_ is a special data type that takes in zero or more _arguments_ (i.e. inputs) and produces zero or more actions or outputs.\n"
   ]
  },
  {
   "cell_type": "markdown",
   "metadata": {},
   "source": [
    "### Using functions\n",
    "\n",
    "Functions can be *called* by giving them any required arguments between their `()`:"
   ]
  },
  {
   "cell_type": "code",
   "execution_count": null,
   "metadata": {},
   "outputs": [],
   "source": [
    "my_str = \"hello\"\n",
    "# Print is a function that we call with 1 argument called my_str\n",
    "print(argument)"
   ]
  },
  {
   "cell_type": "code",
   "execution_count": null,
   "metadata": {},
   "outputs": [],
   "source": [
    "# the len() function returns the length of an iterable\n",
    "# in this case the length of my_str\n",
    "len(my_str)"
   ]
  },
  {
   "cell_type": "markdown",
   "metadata": {},
   "source": [
    "### Getting help with functions\n",
    "\n",
    "In addition to looking up the documentation for a function online or on our course glossary, you can use `function_name?` to print out the *doc-string* for that function right here in a notebook:"
   ]
  },
  {
   "cell_type": "code",
   "execution_count": null,
   "metadata": {},
   "outputs": [],
   "source": [
    "print?"
   ]
  },
  {
   "cell_type": "markdown",
   "metadata": {},
   "source": [
    "### Creating functions\n",
    "\n",
    "You can create a function by giving it a name using the special `def` keyword, specify a sequence of statements, and optionally values to return. Then you can call it like any other function:\n",
    "\n",
    "```python\n",
    "def make_upper_case(text):\n",
    "    return text.upper()\n",
    "```\n",
    "* The expression in the parenthesis is the **argument**. \n",
    "* It is common to say that a function **“takes” an argument** and **“returns” a result**.\n",
    "* The result is called the **return value**.\n",
    "\n",
    "The first line of the function definition is called the **header**; the rest is called the **body**.\n",
    "\n",
    "The header has to end with a colon and the body has to be indented. The body in Python ends whenever statement begins at the original level of indentation. If you want your function to output a value you need to use the `return` keyword. Otherwise your function will execute its statements and return `None`.  There is no **end** or **fed** or any other identify to signal the end of function."
   ]
  },
  {
   "cell_type": "code",
   "execution_count": null,
   "metadata": {
    "ExecuteTime": {
     "end_time": "2020-03-29T21:34:41.997850Z",
     "start_time": "2020-03-29T21:34:41.994452Z"
    }
   },
   "outputs": [],
   "source": [
    "def make_upper_case(text):\n",
    "    return text.upper()\n",
    "\n",
    "\n",
    "string = \"Python is going to make conducting research easier\"\n",
    "\n",
    "print(make_upper_case(string))"
   ]
  },
  {
   "cell_type": "code",
   "execution_count": null,
   "metadata": {},
   "outputs": [],
   "source": [
    "def square(x):\n",
    "    return x**2\n",
    "\n",
    "\n",
    "print(square(1))\n",
    "print(square(2))\n",
    "print(square(3))"
   ]
  },
  {
   "cell_type": "markdown",
   "metadata": {},
   "source": [
    "### Methods (functions that belong to objects)\n",
    "\n",
    "Sometimes a specific type of object will have a set of functions that are specific to that type of object. These are called *methods* and are invoked using dot-notation. In the example above, `text.upper()`, `upper` is a method of the `text` object which is a string."
   ]
  },
  {
   "cell_type": "code",
   "execution_count": 1,
   "metadata": {},
   "outputs": [],
   "source": [
    "x = 100\n",
    "y = 'hello'"
   ]
  },
  {
   "cell_type": "code",
   "execution_count": null,
   "metadata": {},
   "outputs": [],
   "source": [
    "# to_bytes is a method on an integer\n",
    "x.to_bytes()"
   ]
  },
  {
   "cell_type": "code",
   "execution_count": null,
   "metadata": {},
   "outputs": [],
   "source": [
    "# lower() is a method on strings\n",
    "y.lower()"
   ]
  },
  {
   "cell_type": "markdown",
   "metadata": {},
   "source": [
    "Just like functions you can get help with methods using ?"
   ]
  },
  {
   "cell_type": "code",
   "execution_count": null,
   "metadata": {},
   "outputs": [],
   "source": [
    "y.lower?"
   ]
  },
  {
   "cell_type": "markdown",
   "metadata": {},
   "source": [
    "## Modules/libraries and importing new functions\n",
    "\n",
    "Python comes with a set of built-in functions.  The `dir()` command lists the set of functions  currently available to you.\n",
    "\n",
    "You can import new functions from another Python *module*. A *module* is a Python file that contains a collection of related function definitions. Python has *hundreds* of standard modules. These are organized into what is known as the [Python Standard Library](http://docs.python.org/library/). You can also create and use your own modules. To use functionality from a module, you first have to import the entire module or parts of it into your namespace"
   ]
  },
  {
   "cell_type": "markdown",
   "metadata": {},
   "source": [
    "To import an entire module, use the `import` keyword. Then use `.` to indicate what functions from that module you would like to use:\n",
    "\n"
   ]
  },
  {
   "cell_type": "code",
   "execution_count": null,
   "metadata": {},
   "outputs": [],
   "source": [
    "import math\n",
    "\n",
    "# We're asking for the value of the pi function from the math module\n",
    "print(math.pi)"
   ]
  },
  {
   "cell_type": "markdown",
   "metadata": {},
   "source": [
    "To import just a subset of functionality from a module use the `from` keyword:"
   ]
  },
  {
   "cell_type": "code",
   "execution_count": null,
   "metadata": {},
   "outputs": [],
   "source": [
    "from math import pi\n",
    "\n",
    "# No more . needed\n",
    "print(pi)"
   ]
  },
  {
   "cell_type": "markdown",
   "metadata": {},
   "source": [
    "You can also customize the name of what you import using the `as` keyword. This can be helpful for functions with the same name from different modules or for naming things with standard practice:"
   ]
  },
  {
   "cell_type": "code",
   "execution_count": null,
   "metadata": {},
   "outputs": [],
   "source": [
    "from math import pi as super_pi\n",
    "\n",
    "print(super_pi)"
   ]
  },
  {
   "cell_type": "code",
   "execution_count": null,
   "metadata": {},
   "outputs": [],
   "source": [
    "import math as m\n",
    "from math import degrees as deg\n",
    "\n",
    "m.sin(m.pi) - m.cos(m.pi)"
   ]
  },
  {
   "cell_type": "code",
   "execution_count": null,
   "metadata": {},
   "outputs": [],
   "source": [
    "# We often just need to glob function from the glob module\n",
    "# This saves us from typing glob.glob each time!\n",
    "\n",
    "from glob import glob\n",
    "\n",
    "type(glob)"
   ]
  },
  {
   "cell_type": "code",
   "execution_count": null,
   "metadata": {},
   "outputs": [],
   "source": [
    "# Convention to import the `numpy` module as `np`\n",
    "import numpy as np\n",
    "\n",
    "# Call the randn() function from within the random module within the numpy library\n",
    "np.random.randn(1)"
   ]
  },
  {
   "cell_type": "markdown",
   "metadata": {},
   "source": [
    "### Looking forward"
   ]
  },
  {
   "cell_type": "markdown",
   "metadata": {},
   "source": [
    "As we use more advanced scientific Python libraries we'll be making use of function and methods that are beyond the standard library. For example we'll be doing things like:\n",
    "\n",
    "```python\n",
    "# Import a new object (model class)\n",
    "from sklearn.linear_model import LinearRegression\n",
    "\n",
    "# Create an instance of the model class\n",
    "reg = LinearRegression()\n",
    "\n",
    "# Call its fit method with some data\n",
    "reg.fit(X,y)"
   ]
  },
  {
   "cell_type": "markdown",
   "metadata": {},
   "source": [
    "## Optional exercises"
   ]
  },
  {
   "cell_type": "markdown",
   "metadata": {},
   "source": [
    "### Find Even Numbers\n",
    "Let’s say I give you a list saved in a variable: a = [1, 4, 9, 16, 25, 36, 49, 64, 81, 100]. Make a new list that has only the even elements of this list in it."
   ]
  },
  {
   "cell_type": "code",
   "execution_count": null,
   "metadata": {
    "ExecuteTime": {
     "end_time": "2019-04-02T19:15:39.545870Z",
     "start_time": "2019-04-02T19:15:39.540008Z"
    }
   },
   "outputs": [],
   "source": []
  },
  {
   "cell_type": "markdown",
   "metadata": {},
   "source": [
    "### Find Maximal Range\n",
    "Given an array length 1 or more of ints, return the difference between the largest and smallest values in the array. "
   ]
  },
  {
   "cell_type": "code",
   "execution_count": null,
   "metadata": {
    "ExecuteTime": {
     "end_time": "2019-04-02T19:19:03.208318Z",
     "start_time": "2019-04-02T19:19:03.204234Z"
    }
   },
   "outputs": [],
   "source": []
  },
  {
   "cell_type": "markdown",
   "metadata": {},
   "source": [
    "### Duplicated Numbers\n",
    "Find the numbers in list a that are also in list b\n",
    "\n",
    "a = [0, 1, 4, 9, 16, 25, 36, 49, 64, 81, 100, 121, 144, 169, 196, 225, 256, 289, 324, 361]\n",
    "\n",
    "b = [0, 4, 16, 36, 64, 100, 144, 196, 256, 324]"
   ]
  },
  {
   "cell_type": "code",
   "execution_count": null,
   "metadata": {
    "ExecuteTime": {
     "end_time": "2019-04-02T19:25:09.619091Z",
     "start_time": "2019-04-02T19:25:09.614541Z"
    }
   },
   "outputs": [],
   "source": []
  },
  {
   "cell_type": "markdown",
   "metadata": {},
   "source": [
    "### Speeding Ticket Fine\n",
    "You are driving a little too fast on the highway, and a police officer stops you. Write a function that takes the speed as an input and returns the fine.\n",
    "\n",
    "\n",
    "If speed is 60 or less, the result is `$0`. If speed is between 61 and 80 inclusive, the result is `$100`. If speed is 81 or more, the result is `$500`. \n"
   ]
  },
  {
   "cell_type": "code",
   "execution_count": null,
   "metadata": {
    "ExecuteTime": {
     "end_time": "2019-04-02T19:29:04.436691Z",
     "start_time": "2019-04-02T19:29:04.432539Z"
    }
   },
   "outputs": [],
   "source": []
  }
 ],
 "metadata": {
  "kernelspec": {
   "display_name": "201b",
   "language": "python",
   "name": "python3"
  },
  "language_info": {
   "codemirror_mode": {
    "name": "ipython",
    "version": 3
   },
   "file_extension": ".py",
   "mimetype": "text/x-python",
   "name": "python",
   "nbconvert_exporter": "python",
   "pygments_lexer": "ipython3",
   "version": "3.11.10"
  },
  "toc": {
   "base_numbering": 1,
   "nav_menu": {},
   "number_sections": true,
   "sideBar": true,
   "skip_h1_title": false,
   "title_cell": "Table of Contents",
   "title_sidebar": "Contents",
   "toc_cell": false,
   "toc_position": {},
   "toc_section_display": true,
   "toc_window_display": false
  }
 },
 "nbformat": 4,
 "nbformat_minor": 1
}
