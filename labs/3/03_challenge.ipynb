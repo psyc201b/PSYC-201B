{
 "cells": [
  {
   "cell_type": "markdown",
   "metadata": {},
   "source": [
    "# Wrap-up Challenge\n",
    "\n",
    "We've provided a file called `starwars.csv` in this folder (you should see it in the file explorer on the left). This is a *tidy* dataset that you're going to practice your Polars skills on by answering the following questions.\n",
    "\n",
    "*Note: if you find it helpful to see similar commands on this same data using `dplyr` in R, they're available [here](https://psych252.github.io/psych252book/data-wrangling-1.html#looking-at-data)*"
   ]
  },
  {
   "cell_type": "markdown",
   "metadata": {},
   "source": [
    "For clarity we're going to re-import everything you normally might when working with real data."
   ]
  },
  {
   "cell_type": "code",
   "execution_count": 1,
   "metadata": {},
   "outputs": [],
   "source": [
    "import polars as pl\n",
    "from polars import col, when, lit\n",
    "import polars.selectors as cs"
   ]
  },
  {
   "cell_type": "markdown",
   "metadata": {},
   "source": [
    "## Inspecting data"
   ]
  },
  {
   "cell_type": "markdown",
   "metadata": {},
   "source": [
    "Load the file and print the first few rows:"
   ]
  },
  {
   "cell_type": "code",
   "execution_count": null,
   "metadata": {},
   "outputs": [],
   "source": [
    "# Your code here"
   ]
  },
  {
   "cell_type": "code",
   "execution_count": null,
   "metadata": {
    "tags": [
     "remove-cell"
    ]
   },
   "outputs": [],
   "source": [
    "# Solution\n",
    "sw = pl.read_csv('starwars.csv')\n",
    "sw.head()"
   ]
  },
  {
   "cell_type": "markdown",
   "metadata": {},
   "source": [
    "How many rows are in the DataFrame total?"
   ]
  },
  {
   "cell_type": "code",
   "execution_count": null,
   "metadata": {},
   "outputs": [],
   "source": []
  },
  {
   "cell_type": "code",
   "execution_count": null,
   "metadata": {
    "tags": [
     "remove-cell"
    ]
   },
   "outputs": [],
   "source": [
    "# Solution\n",
    "sw.shape"
   ]
  },
  {
   "cell_type": "markdown",
   "metadata": {},
   "source": [
    "How many missing values are in each column?\n",
    "\n",
    "*Hint: checkout `.null_count()`*"
   ]
  },
  {
   "cell_type": "code",
   "execution_count": null,
   "metadata": {},
   "outputs": [],
   "source": []
  },
  {
   "cell_type": "code",
   "execution_count": null,
   "metadata": {
    "tags": [
     "remove-cell"
    ]
   },
   "outputs": [],
   "source": [
    "# Solution\n",
    "sw.null_count()"
   ]
  },
  {
   "cell_type": "markdown",
   "metadata": {},
   "source": [
    "How many unique characters are there?\n",
    "\n",
    "*Hint: for quick operations you can directly refer to a rows/columns using slicing `[]` syntax*"
   ]
  },
  {
   "cell_type": "code",
   "execution_count": null,
   "metadata": {},
   "outputs": [],
   "source": []
  },
  {
   "cell_type": "code",
   "execution_count": null,
   "metadata": {
    "tags": [
     "remove-cell"
    ]
   },
   "outputs": [
    {
     "data": {
      "text/plain": [
       "87"
      ]
     },
     "metadata": {},
     "output_type": "display_data"
    }
   ],
   "source": [
    "# Solution\n",
    "sw['name'].n_unique()"
   ]
  },
  {
   "cell_type": "markdown",
   "metadata": {},
   "source": [
    "Return a list of the unique \"species\" in the data and sort them alphabetically"
   ]
  },
  {
   "cell_type": "code",
   "execution_count": null,
   "metadata": {},
   "outputs": [],
   "source": []
  },
  {
   "cell_type": "code",
   "execution_count": null,
   "metadata": {
    "tags": [
     "remove-cell"
    ]
   },
   "outputs": [],
   "source": [
    "# Solution\n",
    "sw['species'].unique().sort()"
   ]
  },
  {
   "cell_type": "markdown",
   "metadata": {},
   "source": [
    "Return the number of observations for each unique \"eye-color\"\n",
    "\n",
    "*Hint: checkout `.value_counts()`*"
   ]
  },
  {
   "cell_type": "code",
   "execution_count": null,
   "metadata": {},
   "outputs": [],
   "source": []
  },
  {
   "cell_type": "code",
   "execution_count": null,
   "metadata": {
    "tags": [
     "remove-cell"
    ]
   },
   "outputs": [],
   "source": [
    "# Solution\n",
    "sw['eye_color'].value_counts()"
   ]
  },
  {
   "cell_type": "markdown",
   "metadata": {},
   "source": [
    "## Wrangling Data\n",
    "\n",
    "Ok lets use the **contexts** and **expressions** we've learned about filter and aggregate this data in different ways."
   ]
  },
  {
   "cell_type": "markdown",
   "metadata": {},
   "source": [
    "Filter rows to get character's whose \"gender\" is \"masculine\" and \"height\" is above the median height of all characters.\n",
    "\n",
    "How many rows in the result?"
   ]
  },
  {
   "cell_type": "code",
   "execution_count": null,
   "metadata": {},
   "outputs": [],
   "source": []
  },
  {
   "cell_type": "code",
   "execution_count": null,
   "metadata": {
    "tags": [
     "remove-cell"
    ]
   },
   "outputs": [],
   "source": [
    "# Solution\n",
    "sw.filter(\n",
    "    col('gender').eq('masculine') & col('height').ge(col('height').median())\n",
    ")"
   ]
  },
  {
   "cell_type": "markdown",
   "metadata": {},
   "source": [
    "Expand your filter to also exclude rows where a character's \"mass\" is missing (null).\n",
    "\n",
    "How many rows remain?"
   ]
  },
  {
   "cell_type": "code",
   "execution_count": null,
   "metadata": {},
   "outputs": [],
   "source": [
    "# Your code here\n"
   ]
  },
  {
   "cell_type": "code",
   "execution_count": null,
   "metadata": {
    "tags": [
     "remove-cell"
    ]
   },
   "outputs": [],
   "source": [
    "# Solution\n",
    "sw.filter(\n",
    "    col('gender').eq('masculine') & col('height').ge(col('height').median()) & col('mass').is_not_null()\n",
    ")"
   ]
  },
  {
   "cell_type": "markdown",
   "metadata": {},
   "source": [
    "Expand your filter to include the previous result *or* characters whose \"skin_color\" is 'dark' or 'pale'\n",
    "\n",
    "How many rows in this result?"
   ]
  },
  {
   "cell_type": "code",
   "execution_count": null,
   "metadata": {},
   "outputs": [],
   "source": [
    "# Your code here\n"
   ]
  },
  {
   "cell_type": "code",
   "execution_count": null,
   "metadata": {
    "tags": [
     "remove-cell"
    ]
   },
   "outputs": [],
   "source": [
    "# Solution\n",
    "sw.filter(\n",
    "    (col('gender').eq('masculine') & \n",
    "     col('height').ge(col('height').median()) & \n",
    "     col('mass').is_not_null()) |  \n",
    "     col('skin_color').is_in(['dark', 'pale'])\n",
    ")"
   ]
  },
  {
   "cell_type": "markdown",
   "metadata": {},
   "source": [
    "What is the average height and average mass of characters who are from a \"homeworld\" whose name starts with the letters 'Co'?\n",
    "\n",
    "\n",
    "*Hint: you can \"chain\" a `.select()` onto the result of a `.filter()`*"
   ]
  },
  {
   "cell_type": "code",
   "execution_count": null,
   "metadata": {},
   "outputs": [],
   "source": [
    "# Your code\n"
   ]
  },
  {
   "cell_type": "code",
   "execution_count": null,
   "metadata": {
    "tags": [
     "remove-cell"
    ]
   },
   "outputs": [],
   "source": [
    "sw.filter(\n",
    "    col('homeworld').str.starts_with('Co')\n",
    ").select(\n",
    "    col('height','mass').mean()\n",
    ")"
   ]
  },
  {
   "cell_type": "markdown",
   "metadata": {},
   "source": [
    "Summarize the mean and standard-deviation of the \"height\" and \"mass\" of all non-Human characters, split by \"sex\", and sort the result by the mean height in *descending order*.\n",
    "\n",
    "\n",
    "*Hint: you can chain a `.group_by()` after a `.filter()`, and chain `.sort()` at the end*"
   ]
  },
  {
   "cell_type": "code",
   "execution_count": null,
   "metadata": {},
   "outputs": [],
   "source": [
    "# Your code here\n"
   ]
  },
  {
   "cell_type": "code",
   "execution_count": null,
   "metadata": {
    "tags": [
     "remove-cell"
    ]
   },
   "outputs": [],
   "source": [
    "# Solution\n",
    "sw.filter(\n",
    "    ~col('species').eq('Human')\n",
    ").group_by('sex').agg(\n",
    "    height_mean = col('height').mean(),\n",
    "    height_std = col('height').std(),\n",
    "    mass_mean = col('mass').mean(),\n",
    "    mass_std = col('mass').std(),\n",
    ").sort('height_mean', descending=True)"
   ]
  },
  {
   "cell_type": "markdown",
   "metadata": {},
   "source": [
    "Extend your summary to filter out any values of \"sex\" that are \"hermaphroditic\" or \"none\" (not missing/null!)"
   ]
  },
  {
   "cell_type": "code",
   "execution_count": null,
   "metadata": {},
   "outputs": [],
   "source": [
    "# Your code here\n"
   ]
  },
  {
   "cell_type": "code",
   "execution_count": null,
   "metadata": {
    "tags": [
     "remove-cell"
    ]
   },
   "outputs": [],
   "source": [
    "# Solution\n",
    "sw.filter(\n",
    "    ~col('species').eq('Human') & ~col('sex').is_in(['hermaphroditic', 'none'])\n",
    ").group_by('sex').agg(\n",
    "    height_mean = col('height').mean(),\n",
    "    height_std = col('height').std(),\n",
    "    mass_mean = col('mass').mean(),\n",
    "    mass_std = col('mass').std(),\n",
    ").sort('height_mean', descending=True)"
   ]
  },
  {
   "cell_type": "markdown",
   "metadata": {},
   "source": [
    "Add a column to the original DataFrame called \"mass_lbs\" that converts \"mass\" to lbs by multiplying by 2.2 and drop all remaining columns except: name, height, and species.\n",
    "\n",
    "Remove any rows with null values and save the result to a new DataFrame called `sw_processed`"
   ]
  },
  {
   "cell_type": "code",
   "execution_count": null,
   "metadata": {},
   "outputs": [],
   "source": [
    "# Your code here\n"
   ]
  },
  {
   "cell_type": "code",
   "execution_count": null,
   "metadata": {
    "tags": [
     "remove-cell"
    ]
   },
   "outputs": [],
   "source": [
    "# Solution\n",
    "sw_processed = (\n",
    "    sw.with_columns(\n",
    "        mass_lbs = col('mass') * 2.2\n",
    "    ).select(['name','height','species','mass_lbs']).drop_nulls()\n",
    ")\n",
    "sw_processed"
   ]
  },
  {
   "cell_type": "markdown",
   "metadata": {},
   "source": [
    "Use the new DataFrame you created `sw_processed` to add 2 additional columns called \"height_z_species\" and \"mass_lbs_z_species\" that are z-scored versions of height and mass_lbs by \"species\"\n",
    "\n",
    "Save the DataFrame by overwriting the previous variable `sw_processed`"
   ]
  },
  {
   "cell_type": "code",
   "execution_count": null,
   "metadata": {},
   "outputs": [],
   "source": [
    "# Your code here\n"
   ]
  },
  {
   "cell_type": "code",
   "execution_count": null,
   "metadata": {
    "tags": [
     "remove-cell"
    ]
   },
   "outputs": [],
   "source": [
    "# Solution\n",
    "zscore = lambda name: ( col(name) - col(name).mean() ) / col(name).std()\n",
    "\n",
    "sw_processed = sw_processed.with_columns(\n",
    "    height_z_species = zscore('height').over('species'),\n",
    "    mass_lbs_z_species = zscore('mass_lbs').over('species'),\n",
    ")\n",
    "\n",
    "sw_processed"
   ]
  },
  {
   "cell_type": "markdown",
   "metadata": {},
   "source": [
    "Whats the shape of the result?"
   ]
  },
  {
   "cell_type": "code",
   "execution_count": null,
   "metadata": {},
   "outputs": [],
   "source": []
  },
  {
   "cell_type": "code",
   "execution_count": null,
   "metadata": {
    "tags": [
     "remove-cell"
    ]
   },
   "outputs": [
    {
     "data": {
      "text/plain": [
       "(56, 6)"
      ]
     },
     "metadata": {},
     "output_type": "display_data"
    }
   ],
   "source": [
    "# Solution\n",
    "sw_processed.shape"
   ]
  },
  {
   "cell_type": "markdown",
   "metadata": {},
   "source": [
    "How many unique characters are in the result?"
   ]
  },
  {
   "cell_type": "code",
   "execution_count": null,
   "metadata": {
    "tags": [
     "remove-cell"
    ]
   },
   "outputs": [
    {
     "data": {
      "text/plain": [
       "56"
      ]
     },
     "metadata": {},
     "output_type": "display_data"
    }
   ],
   "source": [
    "sw_processed['name'].n_unique()"
   ]
  },
  {
   "cell_type": "markdown",
   "metadata": {},
   "source": [
    "Drop all non-zscored numeric columns and once again save the result to `sw_processed`, overwriting your previous DataFrame"
   ]
  },
  {
   "cell_type": "code",
   "execution_count": null,
   "metadata": {},
   "outputs": [],
   "source": [
    "# Your code here\n"
   ]
  },
  {
   "cell_type": "code",
   "execution_count": null,
   "metadata": {
    "tags": [
     "remove-cell"
    ]
   },
   "outputs": [
    {
     "data": {
      "text/html": [
       "<div><style>\n",
       ".dataframe > thead > tr,\n",
       ".dataframe > tbody > tr {\n",
       "  text-align: right;\n",
       "  white-space: pre-wrap;\n",
       "}\n",
       "</style>\n",
       "<small>shape: (56, 4)</small><table border=\"1\" class=\"dataframe\"><thead><tr><th>name</th><th>species</th><th>height_z_species</th><th>mass_lbs_z_species</th></tr><tr><td>str</td><td>str</td><td>f64</td><td>f64</td></tr></thead><tbody><tr><td>&quot;Luke Skywalker&quot;</td><td>&quot;Human&quot;</td><td>-0.71983</td><td>-0.222945</td></tr><tr><td>&quot;C-3PO&quot;</td><td>&quot;Droid&quot;</td><td>0.519167</td><td>0.102877</td></tr><tr><td>&quot;R2-D2&quot;</td><td>&quot;Droid&quot;</td><td>-0.84605</td><td>-0.739734</td></tr><tr><td>&quot;Darth Vader&quot;</td><td>&quot;Human&quot;</td><td>1.897735</td><td>2.828964</td></tr><tr><td>&quot;Leia Organa&quot;</td><td>&quot;Human&quot;</td><td>-2.639378</td><td>-1.671308</td></tr><tr><td>&hellip;</td><td>&hellip;</td><td>&hellip;</td><td>&hellip;</td></tr><tr><td>&quot;Shaak Ti&quot;</td><td>&quot;Togruta&quot;</td><td>null</td><td>null</td></tr><tr><td>&quot;Grievous&quot;</td><td>&quot;Kaleesh&quot;</td><td>null</td><td>null</td></tr><tr><td>&quot;Tarfful&quot;</td><td>&quot;Wookiee&quot;</td><td>0.707107</td><td>0.707107</td></tr><tr><td>&quot;Raymus Antilles&quot;</td><td>&quot;Human&quot;</td><td>0.676204</td><td>-0.11949</td></tr><tr><td>&quot;Tion Medon&quot;</td><td>&quot;Pau&#x27;an&quot;</td><td>null</td><td>null</td></tr></tbody></table></div>"
      ],
      "text/plain": [
       "shape: (56, 4)\n",
       "┌─────────────────┬─────────┬──────────────────┬────────────────────┐\n",
       "│ name            ┆ species ┆ height_z_species ┆ mass_lbs_z_species │\n",
       "│ ---             ┆ ---     ┆ ---              ┆ ---                │\n",
       "│ str             ┆ str     ┆ f64              ┆ f64                │\n",
       "╞═════════════════╪═════════╪══════════════════╪════════════════════╡\n",
       "│ Luke Skywalker  ┆ Human   ┆ -0.71983         ┆ -0.222945          │\n",
       "│ C-3PO           ┆ Droid   ┆ 0.519167         ┆ 0.102877           │\n",
       "│ R2-D2           ┆ Droid   ┆ -0.84605         ┆ -0.739734          │\n",
       "│ Darth Vader     ┆ Human   ┆ 1.897735         ┆ 2.828964           │\n",
       "│ Leia Organa     ┆ Human   ┆ -2.639378        ┆ -1.671308          │\n",
       "│ …               ┆ …       ┆ …                ┆ …                  │\n",
       "│ Shaak Ti        ┆ Togruta ┆ null             ┆ null               │\n",
       "│ Grievous        ┆ Kaleesh ┆ null             ┆ null               │\n",
       "│ Tarfful         ┆ Wookiee ┆ 0.707107         ┆ 0.707107           │\n",
       "│ Raymus Antilles ┆ Human   ┆ 0.676204         ┆ -0.11949           │\n",
       "│ Tion Medon      ┆ Pau'an  ┆ null             ┆ null               │\n",
       "└─────────────────┴─────────┴──────────────────┴────────────────────┘"
      ]
     },
     "metadata": {},
     "output_type": "display_data"
    }
   ],
   "source": [
    "# Solution\n",
    "sw_processed = sw_processed.drop(['height', 'mass_lbs'])\n",
    "sw_processed"
   ]
  },
  {
   "cell_type": "markdown",
   "metadata": {},
   "source": [
    "What is Leia Organa's height in z-scores?"
   ]
  },
  {
   "cell_type": "code",
   "execution_count": null,
   "metadata": {},
   "outputs": [],
   "source": []
  },
  {
   "cell_type": "markdown",
   "metadata": {},
   "source": [
    "Who's heavier in z-scores, Owen Lars or Darth Vader and by how much approximately?"
   ]
  },
  {
   "cell_type": "code",
   "execution_count": null,
   "metadata": {},
   "outputs": [],
   "source": [
    "# Your code here\n"
   ]
  },
  {
   "cell_type": "code",
   "execution_count": null,
   "metadata": {
    "tags": [
     "remove-cell"
    ]
   },
   "outputs": [],
   "source": [
    "# Solution\n",
    "sw_processed.filter(\n",
    "    col('name').is_in(['Owen Lars', 'Darth Vader'])\n",
    ").select('name', 'mass_lbs_z_species')"
   ]
  },
  {
   "cell_type": "markdown",
   "metadata": {},
   "source": [
    "Add in a column to your DataFrame `sw_processed` called \"height_category\" that splits characters based upon the z-scored height. \n",
    "\n",
    "If their height is between (or including) -2 and 2 their height_category should be in the \"normal\".  \n",
    "If their height is < -2 their height_category should be in the \"short\".  \n",
    "If their height is > 2 their height_category should be in the \"tall\".  \n",
    "\n",
    "Take the resulting column along with the \"name\" and \"species\" columns and save them to a new DataFrame variable called `sw_heights`"
   ]
  },
  {
   "cell_type": "code",
   "execution_count": null,
   "metadata": {},
   "outputs": [],
   "source": [
    "# Your code here\n"
   ]
  },
  {
   "cell_type": "code",
   "execution_count": null,
   "metadata": {
    "tags": [
     "remove-cell"
    ]
   },
   "outputs": [],
   "source": [
    "# Solution\n",
    "sw_heights = sw_processed.with_columns(\n",
    "    height_category = when(col('height_z_species').ge(-2).and_(col('height_z_species').le(2)))\n",
    "                      .then(lit('normal'))\n",
    "                      .when(col('height_z_species').lt(-2))\n",
    "                      .then(lit('short'))\n",
    "                      .otherwise(lit('tall'))\n",
    "                      \n",
    ").select('name','species', 'height_category')\n",
    "sw_heights"
   ]
  },
  {
   "cell_type": "markdown",
   "metadata": {},
   "source": [
    "Summarize the number of unique species by \"height_category\". How many of each are there?"
   ]
  },
  {
   "cell_type": "code",
   "execution_count": null,
   "metadata": {},
   "outputs": [],
   "source": [
    "# Your code here\n"
   ]
  },
  {
   "cell_type": "code",
   "execution_count": null,
   "metadata": {
    "tags": [
     "remove-cell"
    ]
   },
   "outputs": [
    {
     "data": {
      "text/html": [
       "<div><style>\n",
       ".dataframe > thead > tr,\n",
       ".dataframe > tbody > tr {\n",
       "  text-align: right;\n",
       "  white-space: pre-wrap;\n",
       "}\n",
       "</style>\n",
       "<small>shape: (3, 2)</small><table border=\"1\" class=\"dataframe\"><thead><tr><th>height_category</th><th>species</th></tr><tr><td>str</td><td>u32</td></tr></thead><tbody><tr><td>&quot;normal&quot;</td><td>5</td></tr><tr><td>&quot;tall&quot;</td><td>26</td></tr><tr><td>&quot;short&quot;</td><td>1</td></tr></tbody></table></div>"
      ],
      "text/plain": [
       "shape: (3, 2)\n",
       "┌─────────────────┬─────────┐\n",
       "│ height_category ┆ species │\n",
       "│ ---             ┆ ---     │\n",
       "│ str             ┆ u32     │\n",
       "╞═════════════════╪═════════╡\n",
       "│ normal          ┆ 5       │\n",
       "│ tall            ┆ 26      │\n",
       "│ short           ┆ 1       │\n",
       "└─────────────────┴─────────┘"
      ]
     },
     "metadata": {},
     "output_type": "display_data"
    }
   ],
   "source": [
    "# Solution\n",
    "sw_heights.group_by('height_category').agg(\n",
    "    col('species').n_unique()\n",
    ")"
   ]
  },
  {
   "cell_type": "markdown",
   "metadata": {},
   "source": [
    "Are there any humans in the \"tall\" category?\n",
    "\n",
    "*Hint: try using `.unique()` inside of a `.group_by()` context. Then use a `.select()` context on the result that includes an expression using the [`.list` attribute operations](https://docs.pola.rs/api/python/stable/reference/expressions/list.html) to check if 'Human' is one of the list items*"
   ]
  },
  {
   "cell_type": "code",
   "execution_count": null,
   "metadata": {},
   "outputs": [],
   "source": [
    "# Your code here\n"
   ]
  },
  {
   "cell_type": "code",
   "execution_count": null,
   "metadata": {
    "tags": [
     "remove-cell"
    ]
   },
   "outputs": [],
   "source": [
    "# Solution\n",
    "sw_heights.group_by('height_category').agg(\n",
    "    col('species').unique()\n",
    ").select(\n",
    "    col('height_category'),\n",
    "    col('species').list.contains('Human')\n",
    ")"
   ]
  }
 ],
 "metadata": {
  "kernelspec": {
   "display_name": "201b",
   "language": "python",
   "name": "python3"
  },
  "language_info": {
   "codemirror_mode": {
    "name": "ipython",
    "version": 3
   },
   "file_extension": ".py",
   "mimetype": "text/x-python",
   "name": "python",
   "nbconvert_exporter": "python",
   "pygments_lexer": "ipython3",
   "version": "3.11.10"
  }
 },
 "nbformat": 4,
 "nbformat_minor": 2
}
