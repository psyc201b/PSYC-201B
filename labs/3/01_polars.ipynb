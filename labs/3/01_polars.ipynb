{
 "cells": [
  {
   "cell_type": "markdown",
   "metadata": {},
   "source": [
    "# Tidy-data analysis with `polars`\n",
    "\n",
    "**IMPORTANT: Install new libraries**  \n",
    "Before you use this notebook you need to install some new libraries into your class environment:\n",
    "\n",
    "1. Open a new Terminal\n",
    "2. `conda activate 201b`\n",
    "3. `pip install polars pyarrow itables`"
   ]
  },
  {
   "cell_type": "markdown",
   "metadata": {},
   "source": [
    "Welcome to the absolute beginner's guide to Polars!\n",
    "\n",
    "[Polars](https://docs.pola.rs/user-guide/getting-started/) is very **user-friendly** DataFrame library for working with **structured data** in Python, but also [R](https://pola-rs.github.io/r-polars/) and other languages.\n",
    "\n",
    "This notebook will introduce you to Polars fundamentals and how to manipulate *tidy data* polars-style. \n",
    "\n",
    "**Quick note on alternative libraries**\n",
    "\n",
    "As you learn more Python and grow your skills, you'll come across or hear about [Pandas](https://pandas.pydata.org/docs/index.html) probably the *most popular* library for working with DataFrames in Python. Many statistics courses will have you learn Pandas instead, given how long it's been around and the wealth of materials available for learning it.\n",
    "\n",
    "Unfortunately, Pandas is \"showing its age\" - it's gone through so many changes and updates, that frankly even *Eshin* finds it difficult to keep up with the \"right way\" to do things in Pandas. Because Pandas meets so many different needs for so many different analysts (e.g. economics, finance, psych) - for the type of analyses we in Psych/Neuro/Cogsci are likely to perform on DataFrames - it *gets in the way* of learning and thinking.\n",
    "\n",
    "Polars by comparison is quite a bit newer, but contains *all* the functionality you'll need, while being much easier to wrap your head around. This will be a learning experience for both you *and* your instructors - but we strongly believe the alternatives will be uneccesarily challenging on your statistics journey. \n",
    "\n",
    "So let's take a look at how to \"think in polars.\""
   ]
  },
  {
   "cell_type": "markdown",
   "metadata": {},
   "source": [
    "## How to use this notebook\n",
    "\n",
    "This notebook is designed for you to work through at your own pace. When you're finished you should save and `commit` your changes and `push` them to your Github Classroom repository\n",
    "\n",
    "As you go through this notebook, you should regularly **refer to the [`polars` documentation](https://numpy.org/doc/stable/reference/arrays.html)** to look things up and general help.\n",
    "Try experimenting by creating new code cells and playing around with the demonstrated functionality.\n",
    "\n",
    "Remember to use `?` or `help()` from *within* this notebook to look up how functionality works.  \n"
   ]
  },
  {
   "cell_type": "markdown",
   "metadata": {},
   "source": [
    "## How to import Polars\n",
    "\n",
    "We can make `polars` available by using the `import` statement. It's convention to import `polars` in the following way:"
   ]
  },
  {
   "cell_type": "code",
   "execution_count": 1,
   "metadata": {},
   "outputs": [],
   "source": [
    "import polars as pl"
   ]
  },
  {
   "cell_type": "markdown",
   "metadata": {},
   "source": [
    "## Why use Polars?\n",
    "\n",
    "So far we've made most use of Python *lists* and NumPy *arrays*. But in practice you're probably working with some kind of **structured data**, i.e spreadsheet-style data with columns and rows"
   ]
  },
  {
   "cell_type": "markdown",
   "metadata": {},
   "source": [
    "<img src=\"./figs/01_table_spreadsheet.png\" width=\"50%\" alt=\"Figure 1\">\n"
   ]
  },
  {
   "cell_type": "markdown",
   "metadata": {},
   "source": [
    "In Polars we call this a `DataFrame`, a 2d table with rows and columns of different types of data (e.g. strings, numbers, etc).\n",
    "\n",
    "<img src=\"./figs/01_table_dataframe.svg\" width=\"40%\" alt=\"Figure 1\">"
   ]
  },
  {
   "cell_type": "markdown",
   "metadata": {},
   "source": [
    "Each **column** of a `DataFrame` contains the same **type** of data. Let's look at an example by loading a file with the `pl.read_csv()` function.\n",
    "\n",
    "This will return a `DataFrame` we can check out:"
   ]
  },
  {
   "cell_type": "code",
   "execution_count": 2,
   "metadata": {},
   "outputs": [
    {
     "data": {
      "text/html": [
       "<div><style>\n",
       ".dataframe > thead > tr,\n",
       ".dataframe > tbody > tr {\n",
       "  text-align: right;\n",
       "  white-space: pre-wrap;\n",
       "}\n",
       "</style>\n",
       "<small>shape: (3, 3)</small><table border=\"1\" class=\"dataframe\"><thead><tr><th>Name</th><th>Age</th><th>Sex</th></tr><tr><td>str</td><td>i64</td><td>str</td></tr></thead><tbody><tr><td>&quot;Braund, Mr. Owen Harris&quot;</td><td>22</td><td>&quot;male&quot;</td></tr><tr><td>&quot;Allen, Mr. William Henry&quot;</td><td>35</td><td>&quot;male&quot;</td></tr><tr><td>&quot;Bonnell, Miss. Elizabeth&quot;</td><td>58</td><td>&quot;female&quot;</td></tr></tbody></table></div>"
      ],
      "text/plain": [
       "shape: (3, 3)\n",
       "┌──────────────────────────┬─────┬────────┐\n",
       "│ Name                     ┆ Age ┆ Sex    │\n",
       "│ ---                      ┆ --- ┆ ---    │\n",
       "│ str                      ┆ i64 ┆ str    │\n",
       "╞══════════════════════════╪═════╪════════╡\n",
       "│ Braund, Mr. Owen Harris  ┆ 22  ┆ male   │\n",
       "│ Allen, Mr. William Henry ┆ 35  ┆ male   │\n",
       "│ Bonnell, Miss. Elizabeth ┆ 58  ┆ female │\n",
       "└──────────────────────────┴─────┴────────┘"
      ]
     },
     "execution_count": 2,
     "metadata": {},
     "output_type": "execute_result"
    }
   ],
   "source": [
    "df = pl.read_csv('example.csv')\n",
    "df"
   ]
  },
  {
   "cell_type": "markdown",
   "metadata": {},
   "source": [
    "Notice how Polars tells us the **type** of each column below it's name"
   ]
  },
  {
   "cell_type": "markdown",
   "metadata": {},
   "source": [
    "## DataFrame fundamentals\n",
    "\n",
    "We can get basic information about a DataFrame by accessing its **[attributes](https://docs.pola.rs/api/python/stable/reference/dataframe/attributes.html)** using `.` syntax *without* `()` at the end:"
   ]
  },
  {
   "cell_type": "code",
   "execution_count": 3,
   "metadata": {},
   "outputs": [
    {
     "data": {
      "text/plain": [
       "(3, 3)"
      ]
     },
     "execution_count": 3,
     "metadata": {},
     "output_type": "execute_result"
    }
   ],
   "source": [
    "df.shape"
   ]
  },
  {
   "cell_type": "code",
   "execution_count": 4,
   "metadata": {},
   "outputs": [
    {
     "data": {
      "text/plain": [
       "3"
      ]
     },
     "execution_count": 4,
     "metadata": {},
     "output_type": "execute_result"
    }
   ],
   "source": [
    "df.height"
   ]
  },
  {
   "cell_type": "code",
   "execution_count": 5,
   "metadata": {},
   "outputs": [
    {
     "data": {
      "text/plain": [
       "3"
      ]
     },
     "execution_count": 5,
     "metadata": {},
     "output_type": "execute_result"
    }
   ],
   "source": [
    "df.width"
   ]
  },
  {
   "cell_type": "code",
   "execution_count": 6,
   "metadata": {},
   "outputs": [
    {
     "data": {
      "text/plain": [
       "['Name', 'Age', 'Sex']"
      ]
     },
     "execution_count": 6,
     "metadata": {},
     "output_type": "execute_result"
    }
   ],
   "source": [
    "df.columns"
   ]
  },
  {
   "cell_type": "markdown",
   "metadata": {},
   "source": [
    "\n",
    "DataFrames have various **[methods](https://docs.pola.rs/api/python/stable/reference/dataframe/modify_select.html)** that we can use with `.` syntax *with* a `()` at the end.\n",
    "\n",
    "Remember that *methods* in Python are just *functions* that \"belong\" to some object. In this case these methods \"belong\" to a `DataFrame` object and can take arguments that operate on it.\n",
    "\n",
    "Some might be familiar from R or other languages:"
   ]
  },
  {
   "cell_type": "markdown",
   "metadata": {},
   "source": [
    "`.head()` gives us the first few rows. Since we only have 3 rows, we can pass an argument to the method to as for the first 2:"
   ]
  },
  {
   "cell_type": "code",
   "execution_count": 7,
   "metadata": {},
   "outputs": [
    {
     "data": {
      "text/html": [
       "<div><style>\n",
       ".dataframe > thead > tr,\n",
       ".dataframe > tbody > tr {\n",
       "  text-align: right;\n",
       "  white-space: pre-wrap;\n",
       "}\n",
       "</style>\n",
       "<small>shape: (2, 3)</small><table border=\"1\" class=\"dataframe\"><thead><tr><th>Name</th><th>Age</th><th>Sex</th></tr><tr><td>str</td><td>i64</td><td>str</td></tr></thead><tbody><tr><td>&quot;Braund, Mr. Owen Harris&quot;</td><td>22</td><td>&quot;male&quot;</td></tr><tr><td>&quot;Allen, Mr. William Henry&quot;</td><td>35</td><td>&quot;male&quot;</td></tr></tbody></table></div>"
      ],
      "text/plain": [
       "shape: (2, 3)\n",
       "┌──────────────────────────┬─────┬──────┐\n",
       "│ Name                     ┆ Age ┆ Sex  │\n",
       "│ ---                      ┆ --- ┆ ---  │\n",
       "│ str                      ┆ i64 ┆ str  │\n",
       "╞══════════════════════════╪═════╪══════╡\n",
       "│ Braund, Mr. Owen Harris  ┆ 22  ┆ male │\n",
       "│ Allen, Mr. William Henry ┆ 35  ┆ male │\n",
       "└──────────────────────────┴─────┴──────┘"
      ]
     },
     "execution_count": 7,
     "metadata": {},
     "output_type": "execute_result"
    }
   ],
   "source": [
    "df.head(2)"
   ]
  },
  {
   "cell_type": "markdown",
   "metadata": {},
   "source": [
    "And `.tail()` is the opposite"
   ]
  },
  {
   "cell_type": "code",
   "execution_count": 8,
   "metadata": {},
   "outputs": [
    {
     "data": {
      "text/html": [
       "<div><style>\n",
       ".dataframe > thead > tr,\n",
       ".dataframe > tbody > tr {\n",
       "  text-align: right;\n",
       "  white-space: pre-wrap;\n",
       "}\n",
       "</style>\n",
       "<small>shape: (2, 3)</small><table border=\"1\" class=\"dataframe\"><thead><tr><th>Name</th><th>Age</th><th>Sex</th></tr><tr><td>str</td><td>i64</td><td>str</td></tr></thead><tbody><tr><td>&quot;Allen, Mr. William Henry&quot;</td><td>35</td><td>&quot;male&quot;</td></tr><tr><td>&quot;Bonnell, Miss. Elizabeth&quot;</td><td>58</td><td>&quot;female&quot;</td></tr></tbody></table></div>"
      ],
      "text/plain": [
       "shape: (2, 3)\n",
       "┌──────────────────────────┬─────┬────────┐\n",
       "│ Name                     ┆ Age ┆ Sex    │\n",
       "│ ---                      ┆ --- ┆ ---    │\n",
       "│ str                      ┆ i64 ┆ str    │\n",
       "╞══════════════════════════╪═════╪════════╡\n",
       "│ Allen, Mr. William Henry ┆ 35  ┆ male   │\n",
       "│ Bonnell, Miss. Elizabeth ┆ 58  ┆ female │\n",
       "└──────────────────────────┴─────┴────────┘"
      ]
     },
     "execution_count": 8,
     "metadata": {},
     "output_type": "execute_result"
    }
   ],
   "source": [
    "df.tail(2) # last 2 rows"
   ]
  },
  {
   "cell_type": "markdown",
   "metadata": {},
   "source": [
    "We can use `.glimpse()` to *transpose* a DataFrame.  \n",
    "This can sometimes make it easier to see the column names listed as *rows* and the values listed as *columns*:"
   ]
  },
  {
   "cell_type": "code",
   "execution_count": 9,
   "metadata": {},
   "outputs": [
    {
     "name": "stdout",
     "output_type": "stream",
     "text": [
      "Rows: 3\n",
      "Columns: 3\n",
      "$ Name <str> 'Braund, Mr. Owen Harris', 'Allen, Mr. William Henry', 'Bonnell, Miss. Elizabeth'\n",
      "$ Age  <i64> 22, 35, 58\n",
      "$ Sex  <str> 'male', 'male', 'female'\n",
      "\n"
     ]
    }
   ],
   "source": [
    "df.glimpse()"
   ]
  },
  {
   "cell_type": "markdown",
   "metadata": {},
   "source": [
    "And `.describe()` to get some quick summary stats:"
   ]
  },
  {
   "cell_type": "code",
   "execution_count": 10,
   "metadata": {},
   "outputs": [
    {
     "data": {
      "text/html": [
       "<div><style>\n",
       ".dataframe > thead > tr,\n",
       ".dataframe > tbody > tr {\n",
       "  text-align: right;\n",
       "  white-space: pre-wrap;\n",
       "}\n",
       "</style>\n",
       "<small>shape: (9, 4)</small><table border=\"1\" class=\"dataframe\"><thead><tr><th>statistic</th><th>Name</th><th>Age</th><th>Sex</th></tr><tr><td>str</td><td>str</td><td>f64</td><td>str</td></tr></thead><tbody><tr><td>&quot;count&quot;</td><td>&quot;3&quot;</td><td>3.0</td><td>&quot;3&quot;</td></tr><tr><td>&quot;null_count&quot;</td><td>&quot;0&quot;</td><td>0.0</td><td>&quot;0&quot;</td></tr><tr><td>&quot;mean&quot;</td><td>null</td><td>38.333333</td><td>null</td></tr><tr><td>&quot;std&quot;</td><td>null</td><td>18.230012</td><td>null</td></tr><tr><td>&quot;min&quot;</td><td>&quot;Allen, Mr. William Henry&quot;</td><td>22.0</td><td>&quot;female&quot;</td></tr><tr><td>&quot;25%&quot;</td><td>null</td><td>35.0</td><td>null</td></tr><tr><td>&quot;50%&quot;</td><td>null</td><td>35.0</td><td>null</td></tr><tr><td>&quot;75%&quot;</td><td>null</td><td>58.0</td><td>null</td></tr><tr><td>&quot;max&quot;</td><td>&quot;Braund, Mr. Owen Harris&quot;</td><td>58.0</td><td>&quot;male&quot;</td></tr></tbody></table></div>"
      ],
      "text/plain": [
       "shape: (9, 4)\n",
       "┌────────────┬──────────────────────────┬───────────┬────────┐\n",
       "│ statistic  ┆ Name                     ┆ Age       ┆ Sex    │\n",
       "│ ---        ┆ ---                      ┆ ---       ┆ ---    │\n",
       "│ str        ┆ str                      ┆ f64       ┆ str    │\n",
       "╞════════════╪══════════════════════════╪═══════════╪════════╡\n",
       "│ count      ┆ 3                        ┆ 3.0       ┆ 3      │\n",
       "│ null_count ┆ 0                        ┆ 0.0       ┆ 0      │\n",
       "│ mean       ┆ null                     ┆ 38.333333 ┆ null   │\n",
       "│ std        ┆ null                     ┆ 18.230012 ┆ null   │\n",
       "│ min        ┆ Allen, Mr. William Henry ┆ 22.0      ┆ female │\n",
       "│ 25%        ┆ null                     ┆ 35.0      ┆ null   │\n",
       "│ 50%        ┆ null                     ┆ 35.0      ┆ null   │\n",
       "│ 75%        ┆ null                     ┆ 58.0      ┆ null   │\n",
       "│ max        ┆ Braund, Mr. Owen Harris  ┆ 58.0      ┆ male   │\n",
       "└────────────┴──────────────────────────┴───────────┴────────┘"
      ]
     },
     "execution_count": 10,
     "metadata": {},
     "output_type": "execute_result"
    }
   ],
   "source": [
    "df.describe()"
   ]
  },
  {
   "cell_type": "markdown",
   "metadata": {},
   "source": [
    "There are many additional [methods to calculate statistics](https://docs.pola.rs/api/python/stable/reference/dataframe/aggregation.html) as well. But we'll revisit these later:"
   ]
  },
  {
   "cell_type": "code",
   "execution_count": 11,
   "metadata": {},
   "outputs": [
    {
     "data": {
      "text/html": [
       "<div><style>\n",
       ".dataframe > thead > tr,\n",
       ".dataframe > tbody > tr {\n",
       "  text-align: right;\n",
       "  white-space: pre-wrap;\n",
       "}\n",
       "</style>\n",
       "<small>shape: (1, 3)</small><table border=\"1\" class=\"dataframe\"><thead><tr><th>Name</th><th>Age</th><th>Sex</th></tr><tr><td>str</td><td>f64</td><td>str</td></tr></thead><tbody><tr><td>null</td><td>38.333333</td><td>null</td></tr></tbody></table></div>"
      ],
      "text/plain": [
       "shape: (1, 3)\n",
       "┌──────┬───────────┬──────┐\n",
       "│ Name ┆ Age       ┆ Sex  │\n",
       "│ ---  ┆ ---       ┆ ---  │\n",
       "│ str  ┆ f64       ┆ str  │\n",
       "╞══════╪═══════════╪══════╡\n",
       "│ null ┆ 38.333333 ┆ null │\n",
       "└──────┴───────────┴──────┘"
      ]
     },
     "execution_count": 11,
     "metadata": {},
     "output_type": "execute_result"
    }
   ],
   "source": [
    "df.mean()"
   ]
  },
  {
   "cell_type": "code",
   "execution_count": 12,
   "metadata": {},
   "outputs": [
    {
     "data": {
      "text/html": [
       "<div><style>\n",
       ".dataframe > thead > tr,\n",
       ".dataframe > tbody > tr {\n",
       "  text-align: right;\n",
       "  white-space: pre-wrap;\n",
       "}\n",
       "</style>\n",
       "<small>shape: (1, 3)</small><table border=\"1\" class=\"dataframe\"><thead><tr><th>Name</th><th>Age</th><th>Sex</th></tr><tr><td>str</td><td>i64</td><td>str</td></tr></thead><tbody><tr><td>&quot;Allen, Mr. William Henry&quot;</td><td>22</td><td>&quot;female&quot;</td></tr></tbody></table></div>"
      ],
      "text/plain": [
       "shape: (1, 3)\n",
       "┌──────────────────────────┬─────┬────────┐\n",
       "│ Name                     ┆ Age ┆ Sex    │\n",
       "│ ---                      ┆ --- ┆ ---    │\n",
       "│ str                      ┆ i64 ┆ str    │\n",
       "╞══════════════════════════╪═════╪════════╡\n",
       "│ Allen, Mr. William Henry ┆ 22  ┆ female │\n",
       "└──────────────────────────┴─────┴────────┘"
      ]
     },
     "execution_count": 12,
     "metadata": {},
     "output_type": "execute_result"
    }
   ],
   "source": [
    "df.min()"
   ]
  },
  {
   "cell_type": "markdown",
   "metadata": {},
   "source": [
    "DataFrames also have a [`.sample()` method](https://docs.pola.rs/api/python/stable/reference/dataframe/api/polars.DataFrame.sample.html#polars.DataFrame.sample) that allows you **resample** rows from the DataFrame with or without replacement.\n",
    "\n",
    "You can tell Polars to sample *all rows* without replacement, aka **permuting**"
   ]
  },
  {
   "cell_type": "code",
   "execution_count": 36,
   "metadata": {},
   "outputs": [
    {
     "data": {
      "text/html": [
       "<div><style>\n",
       ".dataframe > thead > tr,\n",
       ".dataframe > tbody > tr {\n",
       "  text-align: right;\n",
       "  white-space: pre-wrap;\n",
       "}\n",
       "</style>\n",
       "<small>shape: (3, 3)</small><table border=\"1\" class=\"dataframe\"><thead><tr><th>Name</th><th>Age</th><th>Sex</th></tr><tr><td>str</td><td>i64</td><td>str</td></tr></thead><tbody><tr><td>&quot;Bonnell, Miss. Elizabeth&quot;</td><td>58</td><td>&quot;female&quot;</td></tr><tr><td>&quot;Braund, Mr. Owen Harris&quot;</td><td>22</td><td>&quot;male&quot;</td></tr><tr><td>&quot;Allen, Mr. William Henry&quot;</td><td>35</td><td>&quot;male&quot;</td></tr></tbody></table></div>"
      ],
      "text/plain": [
       "shape: (3, 3)\n",
       "┌──────────────────────────┬─────┬────────┐\n",
       "│ Name                     ┆ Age ┆ Sex    │\n",
       "│ ---                      ┆ --- ┆ ---    │\n",
       "│ str                      ┆ i64 ┆ str    │\n",
       "╞══════════════════════════╪═════╪════════╡\n",
       "│ Bonnell, Miss. Elizabeth ┆ 58  ┆ female │\n",
       "│ Braund, Mr. Owen Harris  ┆ 22  ┆ male   │\n",
       "│ Allen, Mr. William Henry ┆ 35  ┆ male   │\n",
       "└──────────────────────────┴─────┴────────┘"
      ]
     },
     "execution_count": 36,
     "metadata": {},
     "output_type": "execute_result"
    }
   ],
   "source": [
    "df.sample(fraction=1, shuffle=True, with_replacement=False)"
   ]
  },
  {
   "cell_type": "markdown",
   "metadata": {},
   "source": [
    "Or resample *with* replacement, aka **bootstrapping**"
   ]
  },
  {
   "cell_type": "code",
   "execution_count": 38,
   "metadata": {},
   "outputs": [
    {
     "data": {
      "text/html": [
       "<div><style>\n",
       ".dataframe > thead > tr,\n",
       ".dataframe > tbody > tr {\n",
       "  text-align: right;\n",
       "  white-space: pre-wrap;\n",
       "}\n",
       "</style>\n",
       "<small>shape: (3, 3)</small><table border=\"1\" class=\"dataframe\"><thead><tr><th>Name</th><th>Age</th><th>Sex</th></tr><tr><td>str</td><td>i64</td><td>str</td></tr></thead><tbody><tr><td>&quot;Allen, Mr. William Henry&quot;</td><td>35</td><td>&quot;male&quot;</td></tr><tr><td>&quot;Bonnell, Miss. Elizabeth&quot;</td><td>58</td><td>&quot;female&quot;</td></tr><tr><td>&quot;Bonnell, Miss. Elizabeth&quot;</td><td>58</td><td>&quot;female&quot;</td></tr></tbody></table></div>"
      ],
      "text/plain": [
       "shape: (3, 3)\n",
       "┌──────────────────────────┬─────┬────────┐\n",
       "│ Name                     ┆ Age ┆ Sex    │\n",
       "│ ---                      ┆ --- ┆ ---    │\n",
       "│ str                      ┆ i64 ┆ str    │\n",
       "╞══════════════════════════╪═════╪════════╡\n",
       "│ Allen, Mr. William Henry ┆ 35  ┆ male   │\n",
       "│ Bonnell, Miss. Elizabeth ┆ 58  ┆ female │\n",
       "│ Bonnell, Miss. Elizabeth ┆ 58  ┆ female │\n",
       "└──────────────────────────┴─────┴────────┘"
      ]
     },
     "execution_count": 38,
     "metadata": {},
     "output_type": "execute_result"
    }
   ],
   "source": [
    "df.sample(fraction=1, shuffle=True, with_replacement=True)"
   ]
  },
  {
   "cell_type": "markdown",
   "metadata": {},
   "source": [
    "We won't cover it more in this notebook, but think about how you might use `.sample()` in the future to try out some of the resampling methods we've covered in class/HW..."
   ]
  },
  {
   "cell_type": "markdown",
   "metadata": {},
   "source": [
    "## Indexing a DataFrame (for simple stuff only!)"
   ]
  },
  {
   "cell_type": "markdown",
   "metadata": {},
   "source": [
    "Because a DataFrame is a 2d table, we can use the same *indexing* and *slicing* syntax you learned with `numpy` to directly access values.\n",
    "\n",
    "Remember these are **0-indexed**: the first row/col is at position 0, not position 1\n",
    "\n",
    "If this is out DataFrame:"
   ]
  },
  {
   "cell_type": "code",
   "execution_count": 40,
   "metadata": {},
   "outputs": [
    {
     "data": {
      "text/html": [
       "<div><style>\n",
       ".dataframe > thead > tr,\n",
       ".dataframe > tbody > tr {\n",
       "  text-align: right;\n",
       "  white-space: pre-wrap;\n",
       "}\n",
       "</style>\n",
       "<small>shape: (3, 3)</small><table border=\"1\" class=\"dataframe\"><thead><tr><th>Name</th><th>Age</th><th>Sex</th></tr><tr><td>str</td><td>i64</td><td>str</td></tr></thead><tbody><tr><td>&quot;Braund, Mr. Owen Harris&quot;</td><td>22</td><td>&quot;male&quot;</td></tr><tr><td>&quot;Allen, Mr. William Henry&quot;</td><td>35</td><td>&quot;male&quot;</td></tr><tr><td>&quot;Bonnell, Miss. Elizabeth&quot;</td><td>58</td><td>&quot;female&quot;</td></tr></tbody></table></div>"
      ],
      "text/plain": [
       "shape: (3, 3)\n",
       "┌──────────────────────────┬─────┬────────┐\n",
       "│ Name                     ┆ Age ┆ Sex    │\n",
       "│ ---                      ┆ --- ┆ ---    │\n",
       "│ str                      ┆ i64 ┆ str    │\n",
       "╞══════════════════════════╪═════╪════════╡\n",
       "│ Braund, Mr. Owen Harris  ┆ 22  ┆ male   │\n",
       "│ Allen, Mr. William Henry ┆ 35  ┆ male   │\n",
       "│ Bonnell, Miss. Elizabeth ┆ 58  ┆ female │\n",
       "└──────────────────────────┴─────┴────────┘"
      ]
     },
     "execution_count": 40,
     "metadata": {},
     "output_type": "execute_result"
    }
   ],
   "source": [
    "df"
   ]
  },
  {
   "cell_type": "markdown",
   "metadata": {},
   "source": [
    "We can slice it like this:"
   ]
  },
  {
   "cell_type": "code",
   "execution_count": 39,
   "metadata": {},
   "outputs": [
    {
     "data": {
      "text/plain": [
       "22"
      ]
     },
     "execution_count": 39,
     "metadata": {},
     "output_type": "execute_result"
    }
   ],
   "source": [
    "# 0 row index = 1st row\n",
    "# 1 col index = 2nd col (age)\n",
    "df[0, 1]"
   ]
  },
  {
   "cell_type": "markdown",
   "metadata": {},
   "source": [
    "And of course we can slice using `start:stop:step`, which is always **up-to** the end value we slice to"
   ]
  },
  {
   "cell_type": "code",
   "execution_count": 8,
   "metadata": {},
   "outputs": [
    {
     "data": {
      "text/html": [
       "<div><style>\n",
       ".dataframe > thead > tr,\n",
       ".dataframe > tbody > tr {\n",
       "  text-align: right;\n",
       "  white-space: pre-wrap;\n",
       "}\n",
       "</style>\n",
       "<small>shape: (2,)</small><table border=\"1\" class=\"dataframe\"><thead><tr><th>Name</th></tr><tr><td>str</td></tr></thead><tbody><tr><td>&quot;Braund, Mr. Owen Harris&quot;</td></tr><tr><td>&quot;Allen, Mr. William Henry&quot;</td></tr></tbody></table></div>"
      ],
      "text/plain": [
       "shape: (2,)\n",
       "Series: 'Name' [str]\n",
       "[\n",
       "\t\"Braund, Mr. Owen Harris\"\n",
       "\t\"Allen, Mr. William Henry\"\n",
       "]"
      ]
     },
     "execution_count": 8,
     "metadata": {},
     "output_type": "execute_result"
    }
   ],
   "source": [
    "# 0:2 slice = rows up to, but not including 2 - just 0, 1\n",
    "# 0 col index = 1st col (name)\n",
    "df[0:2,0]"
   ]
  },
  {
   "cell_type": "markdown",
   "metadata": {},
   "source": [
    "We can also using slicing syntax to quickly refer to columns by name:"
   ]
  },
  {
   "cell_type": "code",
   "execution_count": 187,
   "metadata": {},
   "outputs": [
    {
     "data": {
      "text/html": [
       "<div><style>\n",
       ".dataframe > thead > tr,\n",
       ".dataframe > tbody > tr {\n",
       "  text-align: right;\n",
       "  white-space: pre-wrap;\n",
       "}\n",
       "</style>\n",
       "<small>shape: (3,)</small><table border=\"1\" class=\"dataframe\"><thead><tr><th>Name</th></tr><tr><td>str</td></tr></thead><tbody><tr><td>&quot;Braund, Mr. Owen Harris&quot;</td></tr><tr><td>&quot;Allen, Mr. William Henry&quot;</td></tr><tr><td>&quot;Bonnell, Miss. Elizabeth&quot;</td></tr></tbody></table></div>"
      ],
      "text/plain": [
       "shape: (3,)\n",
       "Series: 'Name' [str]\n",
       "[\n",
       "\t\"Braund, Mr. Owen Harris\"\n",
       "\t\"Allen, Mr. William Henry\"\n",
       "\t\"Bonnell, Miss. Elizabeth\"\n",
       "]"
      ]
     },
     "execution_count": 187,
     "metadata": {},
     "output_type": "execute_result"
    }
   ],
   "source": [
    "# All rows in column 'Name'\n",
    "df['Name']"
   ]
  },
  {
   "cell_type": "markdown",
   "metadata": {},
   "source": [
    "Which is equivalent to"
   ]
  },
  {
   "cell_type": "code",
   "execution_count": 41,
   "metadata": {},
   "outputs": [
    {
     "data": {
      "text/html": [
       "<div><style>\n",
       ".dataframe > thead > tr,\n",
       ".dataframe > tbody > tr {\n",
       "  text-align: right;\n",
       "  white-space: pre-wrap;\n",
       "}\n",
       "</style>\n",
       "<small>shape: (3,)</small><table border=\"1\" class=\"dataframe\"><thead><tr><th>Name</th></tr><tr><td>str</td></tr></thead><tbody><tr><td>&quot;Braund, Mr. Owen Harris&quot;</td></tr><tr><td>&quot;Allen, Mr. William Henry&quot;</td></tr><tr><td>&quot;Bonnell, Miss. Elizabeth&quot;</td></tr></tbody></table></div>"
      ],
      "text/plain": [
       "shape: (3,)\n",
       "Series: 'Name' [str]\n",
       "[\n",
       "\t\"Braund, Mr. Owen Harris\"\n",
       "\t\"Allen, Mr. William Henry\"\n",
       "\t\"Bonnell, Miss. Elizabeth\"\n",
       "]"
      ]
     },
     "execution_count": 41,
     "metadata": {},
     "output_type": "execute_result"
    }
   ],
   "source": [
    "# Explicity slice 'all' rows\n",
    "# 'Name' = just the Name column\n",
    "df[:, 'Name']"
   ]
  },
  {
   "cell_type": "code",
   "execution_count": 42,
   "metadata": {},
   "outputs": [
    {
     "data": {
      "text/html": [
       "<div><style>\n",
       ".dataframe > thead > tr,\n",
       ".dataframe > tbody > tr {\n",
       "  text-align: right;\n",
       "  white-space: pre-wrap;\n",
       "}\n",
       "</style>\n",
       "<small>shape: (2,)</small><table border=\"1\" class=\"dataframe\"><thead><tr><th>Name</th></tr><tr><td>str</td></tr></thead><tbody><tr><td>&quot;Braund, Mr. Owen Harris&quot;</td></tr><tr><td>&quot;Allen, Mr. William Henry&quot;</td></tr></tbody></table></div>"
      ],
      "text/plain": [
       "shape: (2,)\n",
       "Series: 'Name' [str]\n",
       "[\n",
       "\t\"Braund, Mr. Owen Harris\"\n",
       "\t\"Allen, Mr. William Henry\"\n",
       "]"
      ]
     },
     "execution_count": 42,
     "metadata": {},
     "output_type": "execute_result"
    }
   ],
   "source": [
    "# 0:2 slice = rows up to, but not including 2\n",
    "# 'Name' = just the Name column\n",
    "df[0:2, 'Name']"
   ]
  },
  {
   "cell_type": "markdown",
   "metadata": {},
   "source": [
    "**Note**:  While you *can* access values this way, what makes Polars powerful is that it offers a much *richer* \"language\" or set of \"patterns\" for working with DataFrames, like `dplyr`'s *verbs* in R's Tidyverse. \n",
    "\n",
    "While it doesn't map on one-to-one, Polars offers a *consistent* and *intuitive* way of working with DataFrames that we'll teach you in this notebook. Once the fundamentals \"click\" for you, you'll be a data manipulating ninja!"
   ]
  },
  {
   "cell_type": "markdown",
   "metadata": {},
   "source": [
    "## Thinking in Polars: Contexts & Expressions\n",
    "\n",
    "To understand how to \"think\" in polars, we need to understand 2 fundamental concepts: **contexts** and **expressions**\n",
    "\n",
    "A **context** in Polars is how you **choose what data** you want to operate on. There are only a few you'll use regularly:"
   ]
  },
  {
   "cell_type": "markdown",
   "metadata": {},
   "source": [
    "### Contexts\n",
    "\n",
    "#### `df.select()` - to *subset* columns\n",
    "<img src=\"./figs/03_subset_columns.svg\" width=\"50%\" alt=\"Figure 1\">\n",
    "\n",
    "#### `df.with_columns()` - to *add* new columns\n",
    "<img src=\"./figs/05_newcolumn_1.svg\" width=\"50%\" alt=\"Figure 1\">\n",
    "\n",
    "#### `df.filter()` - to *subset* rows\n",
    "<img src=\"./figs/03_subset_rows.svg\" width=\"50%\" alt=\"Figure 1\">\n",
    "\n",
    "#### `df.group_by().agg()` - to *summarize* by group\n",
    "<img src=\"./figs/06_groupby.svg\" width=\"50%\" alt=\"Figure 1\">\n"
   ]
  },
  {
   "cell_type": "markdown",
   "metadata": {},
   "source": [
    "### Expressions\n",
    "\n",
    "An **expression** is any computation we do *inside* of a context. \n",
    "\n",
    "To build an expression we first use a *selector* to choose one or more columns.\n",
    "\n",
    "The most common *selector* you'll use is `pl.col()` to select one or more columns by name. \n",
    "\n",
    "Then we used *method-chaining*, `.` syntax, to perform *operations* on the selected columns. \n",
    "\n",
    "Let's see a simple example. \n"
   ]
  },
  {
   "cell_type": "markdown",
   "metadata": {},
   "source": [
    "## Starting simple\n",
    "\n",
    "Let's say we have data from some experiment that contains 3 participants, each of whom made 5 judgements about some stimuli.\n",
    "\n",
    "We can use the `pl.read_csv()` function to load a file and get back a polars `DataFrame`:"
   ]
  },
  {
   "cell_type": "code",
   "execution_count": 43,
   "metadata": {},
   "outputs": [
    {
     "data": {
      "text/html": [
       "<div><style>\n",
       ".dataframe > thead > tr,\n",
       ".dataframe > tbody > tr {\n",
       "  text-align: right;\n",
       "  white-space: pre-wrap;\n",
       "}\n",
       "</style>\n",
       "<small>shape: (15, 3)</small><table border=\"1\" class=\"dataframe\"><thead><tr><th>participant</th><th>accuracy</th><th>rt</th></tr><tr><td>i64</td><td>i64</td><td>f64</td></tr></thead><tbody><tr><td>1</td><td>44</td><td>261.28435</td></tr><tr><td>1</td><td>47</td><td>728.208489</td></tr><tr><td>1</td><td>64</td><td>801.889016</td></tr><tr><td>1</td><td>67</td><td>713.555026</td></tr><tr><td>1</td><td>67</td><td>362.682105</td></tr><tr><td>&hellip;</td><td>&hellip;</td><td>&hellip;</td></tr><tr><td>3</td><td>70</td><td>439.524973</td></tr><tr><td>3</td><td>88</td><td>55.11928</td></tr><tr><td>3</td><td>88</td><td>644.801272</td></tr><tr><td>3</td><td>12</td><td>571.800553</td></tr><tr><td>3</td><td>58</td><td>715.224208</td></tr></tbody></table></div>"
      ],
      "text/plain": [
       "shape: (15, 3)\n",
       "┌─────────────┬──────────┬────────────┐\n",
       "│ participant ┆ accuracy ┆ rt         │\n",
       "│ ---         ┆ ---      ┆ ---        │\n",
       "│ i64         ┆ i64      ┆ f64        │\n",
       "╞═════════════╪══════════╪════════════╡\n",
       "│ 1           ┆ 44       ┆ 261.28435  │\n",
       "│ 1           ┆ 47       ┆ 728.208489 │\n",
       "│ 1           ┆ 64       ┆ 801.889016 │\n",
       "│ 1           ┆ 67       ┆ 713.555026 │\n",
       "│ 1           ┆ 67       ┆ 362.682105 │\n",
       "│ …           ┆ …        ┆ …          │\n",
       "│ 3           ┆ 70       ┆ 439.524973 │\n",
       "│ 3           ┆ 88       ┆ 55.11928   │\n",
       "│ 3           ┆ 88       ┆ 644.801272 │\n",
       "│ 3           ┆ 12       ┆ 571.800553 │\n",
       "│ 3           ┆ 58       ┆ 715.224208 │\n",
       "└─────────────┴──────────┴────────────┘"
      ]
     },
     "execution_count": 43,
     "metadata": {},
     "output_type": "execute_result"
    }
   ],
   "source": [
    "df = pl.read_csv('example_2.csv')\n",
    "df"
   ]
  },
  {
   "cell_type": "markdown",
   "metadata": {},
   "source": [
    "We can verify there are 15 rows and 3 columns:"
   ]
  },
  {
   "cell_type": "code",
   "execution_count": 44,
   "metadata": {},
   "outputs": [
    {
     "data": {
      "text/plain": [
       "(15, 3)"
      ]
     },
     "execution_count": 44,
     "metadata": {},
     "output_type": "execute_result"
    }
   ],
   "source": [
    "df.shape"
   ]
  },
  {
   "cell_type": "markdown",
   "metadata": {},
   "source": [
    "## Selecting columns: `.select()`\n",
    "\n",
    "The `.select` **context** is what you'll use most often. It lets you apply **expressions** only to the specific columns you select.\n",
    "\n",
    "<img src=\"./figs/03_subset_columns.svg\" width=\"50%\" alt=\"Figure 1\">"
   ]
  },
  {
   "cell_type": "markdown",
   "metadata": {},
   "source": [
    "Here's a simple example. Let's say we want to calculate the *average* of the accuracy column. \n",
    "\n",
    "How would we start?\n",
    "\n",
    "First, we need to think about our **context**.  \n",
    "Since we only want the \"accuracy\" column we can use `.select()`.  \n",
    "\n",
    "```python\n",
    "df.select(                     # <- this is our context\n",
    "\n",
    ")\n",
    "```"
   ]
  },
  {
   "cell_type": "markdown",
   "metadata": {},
   "source": [
    "\n",
    "Second, we need to create an **expression** that means: \"use the *accuracy* column, and calculate it's *mean*\".  \n",
    "\n",
    "We can create an **expression** by combining the *selector* `pl.col()` with the *operation* `.mean()` using `.` syntax, i.e. method-chaining.  \n",
    "\n",
    "\n",
    "```python\n",
    "df.select(                     # <- this is our context\n",
    "  pl.col('accuracy').mean()   # <- this is an expression, inside this context\n",
    ")\n",
    "```\n",
    "\n",
    "Let's try this now:"
   ]
  },
  {
   "cell_type": "code",
   "execution_count": 52,
   "metadata": {},
   "outputs": [
    {
     "data": {
      "text/html": [
       "<div><style>\n",
       ".dataframe > thead > tr,\n",
       ".dataframe > tbody > tr {\n",
       "  text-align: right;\n",
       "  white-space: pre-wrap;\n",
       "}\n",
       "</style>\n",
       "<small>shape: (1, 1)</small><table border=\"1\" class=\"dataframe\"><thead><tr><th>accuracy</th></tr><tr><td>f64</td></tr></thead><tbody><tr><td>56.066667</td></tr></tbody></table></div>"
      ],
      "text/plain": [
       "shape: (1, 1)\n",
       "┌───────────┐\n",
       "│ accuracy  │\n",
       "│ ---       │\n",
       "│ f64       │\n",
       "╞═══════════╡\n",
       "│ 56.066667 │\n",
       "└───────────┘"
      ]
     },
     "execution_count": 52,
     "metadata": {},
     "output_type": "execute_result"
    }
   ],
   "source": [
    "df.select(                   # <- this is start of the context \"select\"\n",
    "    pl.col('accuracy').mean()  # <- this is an expression, inside the context\n",
    ")                            # <- end of the context \"select\""
   ]
  },
  {
   "cell_type": "markdown",
   "metadata": {},
   "source": [
    "**Note: Avoiding confusion**\n",
    "\n",
    "Don't confuse `df.select` which is a **context** with a *selector* like `pl.col()`. \n",
    "\n",
    "While they might sound similar, we can use any *selector* inside any **context**. And we'll meet a few more soon\n"
   ]
  },
  {
   "cell_type": "markdown",
   "metadata": {},
   "source": [
    "#### Your turn\n",
    "How would you build expression to calculate the \"median\" Reaction Time?"
   ]
  },
  {
   "cell_type": "code",
   "execution_count": null,
   "metadata": {},
   "outputs": [],
   "source": [
    "df.select(\n",
    "    # put your expression here!\n",
    ")"
   ]
  },
  {
   "cell_type": "markdown",
   "metadata": {},
   "source": [
    "#### Aside: Making our lives a little easier with *direct imports*\n",
    "\n",
    "Typing `pl.col` over and over can get annoying since it's such a common *selector*. So we can save a few key strokes using a mechanism in Python called **direct importing**. \n",
    "\n",
    "We've seen this in previous notebooks: \n",
    "\n",
    "```python\n",
    "from scipy.stats import bootstrap # directly import bootstrap function\n",
    "```\n",
    "\n",
    "Let's do that with `col`:\n",
    "\n"
   ]
  },
  {
   "cell_type": "code",
   "execution_count": 45,
   "metadata": {},
   "outputs": [],
   "source": [
    "from polars import col"
   ]
  },
  {
   "cell_type": "markdown",
   "metadata": {},
   "source": [
    "Now we can use `col` in place of `pl.col`"
   ]
  },
  {
   "cell_type": "markdown",
   "metadata": {},
   "source": [
    "### Expressing *multiple* things"
   ]
  },
  {
   "cell_type": "markdown",
   "metadata": {},
   "source": [
    "We can add as many **expressions** inside a **context** as we want. We just need to separate them with a `,`.  \n",
    "\n",
    "Each the result from each **expression** will be saved to a separate column.\n",
    "\n",
    "We'll use the `col()` *selector* again to perform two different *operations*: `n_unique()` and `mean()` on two different columns:"
   ]
  },
  {
   "cell_type": "code",
   "execution_count": 46,
   "metadata": {},
   "outputs": [
    {
     "data": {
      "text/html": [
       "<div><style>\n",
       ".dataframe > thead > tr,\n",
       ".dataframe > tbody > tr {\n",
       "  text-align: right;\n",
       "  white-space: pre-wrap;\n",
       "}\n",
       "</style>\n",
       "<small>shape: (1, 2)</small><table border=\"1\" class=\"dataframe\"><thead><tr><th>participant</th><th>accuracy</th></tr><tr><td>u32</td><td>f64</td></tr></thead><tbody><tr><td>3</td><td>56.066667</td></tr></tbody></table></div>"
      ],
      "text/plain": [
       "shape: (1, 2)\n",
       "┌─────────────┬───────────┐\n",
       "│ participant ┆ accuracy  │\n",
       "│ ---         ┆ ---       │\n",
       "│ u32         ┆ f64       │\n",
       "╞═════════════╪═══════════╡\n",
       "│ 3           ┆ 56.066667 │\n",
       "└─────────────┴───────────┘"
      ]
     },
     "execution_count": 46,
     "metadata": {},
     "output_type": "execute_result"
    }
   ],
   "source": [
    "df.select(                          # <- this is the context\n",
    "    col('participant').n_unique(),  # <- this is an expression\n",
    "    col('accuracy').mean()         # <- this is another expression\n",
    ")                                   # <- this is the end of the context"
   ]
  },
  {
   "cell_type": "markdown",
   "metadata": {},
   "source": [
    "You turn: how would you express the following statement in polars?\n",
    "\n",
    "\n",
    "\"*Select* only the participant and accuracy columns.    \n",
    "For participant, calculate the number of value, i.e *count*  \n",
    "For accuracy, calculate it's *standard deviation*\""
   ]
  },
  {
   "cell_type": "code",
   "execution_count": null,
   "metadata": {},
   "outputs": [],
   "source": [
    "# Your code here\n",
    "\n",
    "# 1) Use the .select() context\n",
    "# 2) Use col() to create 2 expressions separated by a comma"
   ]
  },
  {
   "cell_type": "markdown",
   "metadata": {},
   "source": [
    "### Repeating the same expression across many columns\n",
    "\n",
    "Sometimes we might find ourselves *repeating* the same **expression** for different columns. \n",
    "\n",
    "One way we can do that is simply by creating **multiple expressions** like by before, by using `col()` to *select* each column separately:"
   ]
  },
  {
   "cell_type": "code",
   "execution_count": 53,
   "metadata": {},
   "outputs": [
    {
     "data": {
      "text/html": [
       "<div><style>\n",
       ".dataframe > thead > tr,\n",
       ".dataframe > tbody > tr {\n",
       "  text-align: right;\n",
       "  white-space: pre-wrap;\n",
       "}\n",
       "</style>\n",
       "<small>shape: (1, 2)</small><table border=\"1\" class=\"dataframe\"><thead><tr><th>accuracy</th><th>rt</th></tr><tr><td>f64</td><td>f64</td></tr></thead><tbody><tr><td>64.0</td><td>502.974663</td></tr></tbody></table></div>"
      ],
      "text/plain": [
       "shape: (1, 2)\n",
       "┌──────────┬────────────┐\n",
       "│ accuracy ┆ rt         │\n",
       "│ ---      ┆ ---        │\n",
       "│ f64      ┆ f64        │\n",
       "╞══════════╪════════════╡\n",
       "│ 64.0     ┆ 502.974663 │\n",
       "└──────────┴────────────┘"
      ]
     },
     "execution_count": 53,
     "metadata": {},
     "output_type": "execute_result"
    }
   ],
   "source": [
    "df.select(\n",
    "    col('accuracy').median(),\n",
    "    col('rt').median()   \n",
    ")"
   ]
  },
  {
   "cell_type": "markdown",
   "metadata": {},
   "source": [
    "But Polars makes this much easier for us - we can condense this down to a **single expression** by giving our *selector* - `col()` - additional column names:  "
   ]
  },
  {
   "cell_type": "code",
   "execution_count": 31,
   "metadata": {},
   "outputs": [
    {
     "data": {
      "text/html": [
       "<div><style>\n",
       ".dataframe > thead > tr,\n",
       ".dataframe > tbody > tr {\n",
       "  text-align: right;\n",
       "  white-space: pre-wrap;\n",
       "}\n",
       "</style>\n",
       "<small>shape: (1, 2)</small><table border=\"1\" class=\"dataframe\"><thead><tr><th>accuracy</th><th>rt</th></tr><tr><td>f64</td><td>f64</td></tr></thead><tbody><tr><td>64.0</td><td>502.974663</td></tr></tbody></table></div>"
      ],
      "text/plain": [
       "shape: (1, 2)\n",
       "┌──────────┬────────────┐\n",
       "│ accuracy ┆ rt         │\n",
       "│ ---      ┆ ---        │\n",
       "│ f64      ┆ f64        │\n",
       "╞══════════╪════════════╡\n",
       "│ 64.0     ┆ 502.974663 │\n",
       "└──────────┴────────────┘"
      ]
     },
     "execution_count": 31,
     "metadata": {},
     "output_type": "execute_result"
    }
   ],
   "source": [
    "df.select(\n",
    "    col('accuracy', 'rt').median()   # <- one expression repeated for both columns\n",
    ")"
   ]
  },
  {
   "cell_type": "markdown",
   "metadata": {},
   "source": [
    "These both do the same thing so if you find it helpful to start *explicit*, building up each expression one at a time, feel free to do that!\n",
    "\n",
    "Later on you might find it helpful to use a single condensed expression, when you find yourself getting annoyed by repeating yourself."
   ]
  },
  {
   "cell_type": "markdown",
   "metadata": {},
   "source": [
    "### Renaming expression outputs"
   ]
  },
  {
   "cell_type": "markdown",
   "metadata": {},
   "source": [
    "Let's try creating two expressions that operate on the the same column. In natural language:\n",
    "\n",
    "\"*Select* only the accuracy column.    \n",
    "For accuracy, calculate it's *median*  \n",
    "For accuracy, calculate it's *variance*\n",
    "\"\n",
    "\n",
    "Let's try it:"
   ]
  },
  {
   "cell_type": "code",
   "execution_count": null,
   "metadata": {},
   "outputs": [],
   "source": [
    "df.select(\n",
    "    col('accuracy').mean(),\n",
    "    col('accuracy').std()\n",
    ")"
   ]
  },
  {
   "cell_type": "markdown",
   "metadata": {},
   "source": [
    "Oops polars is giving us an error:  \n",
    "`DuplicateError: the name 'judgement' is duplicate`\n",
    "\n",
    "That's because Polars tries to help us out by making sure all our column names are **unique**.\n"
   ]
  },
  {
   "cell_type": "markdown",
   "metadata": {},
   "source": [
    "By default the results of an **expression** are saved using the same column name that you *selected*.\n",
    "\n",
    "In this case we *selected* \"accuracy\" using `col('accuracy')` twice - once to calculate the mean and once to calculate the standard deviation. So Polars is trying to save both results into a column called *accuracy* causing a conflict!\n",
    "\n",
    "To fix this, we can *extend* our **expression** with additional *operations* using method-chaining with the `.` syntax.  \n",
    "\n",
    "A common operation is `.alias()` which you'll often put at the *end* of an expression in order to give it a *new name*:"
   ]
  },
  {
   "cell_type": "code",
   "execution_count": 54,
   "metadata": {},
   "outputs": [
    {
     "data": {
      "text/html": [
       "<div><style>\n",
       ".dataframe > thead > tr,\n",
       ".dataframe > tbody > tr {\n",
       "  text-align: right;\n",
       "  white-space: pre-wrap;\n",
       "}\n",
       "</style>\n",
       "<small>shape: (1, 2)</small><table border=\"1\" class=\"dataframe\"><thead><tr><th>acc_mean</th><th>acc_std</th></tr><tr><td>f64</td><td>f64</td></tr></thead><tbody><tr><td>56.066667</td><td>27.043528</td></tr></tbody></table></div>"
      ],
      "text/plain": [
       "shape: (1, 2)\n",
       "┌───────────┬───────────┐\n",
       "│ acc_mean  ┆ acc_std   │\n",
       "│ ---       ┆ ---       │\n",
       "│ f64       ┆ f64       │\n",
       "╞═══════════╪═══════════╡\n",
       "│ 56.066667 ┆ 27.043528 │\n",
       "└───────────┴───────────┘"
      ]
     },
     "execution_count": 54,
     "metadata": {},
     "output_type": "execute_result"
    }
   ],
   "source": [
    "df.select(\n",
    "    col('accuracy').mean().alias('acc_mean'),\n",
    "    col('accuracy').std().alias('acc_std')\n",
    ")"
   ]
  },
  {
   "cell_type": "markdown",
   "metadata": {},
   "source": [
    "#### Two \"styles\" of expressing yourself"
   ]
  },
  {
   "cell_type": "markdown",
   "metadata": {},
   "source": [
    "You might find this style of \"method-chaining\" the use of `.alias` unintuitive at first.\n",
    "\n",
    "So Polars also lets rename your expressions in a different \"style\" using `=` as in other language like R.\n",
    "\n",
    "In English, we could rephrase our expressions as so:\n",
    "\n",
    "\"Select the accuracy column.  \n",
    "Create a new column named 'acc_mean', which is the mean of accuracy.  \n",
    "Create a new column named 'acc_std', which is the standard-deviation of accuracy.\"\n",
    "\n",
    "And in code like this:"
   ]
  },
  {
   "cell_type": "code",
   "execution_count": 35,
   "metadata": {},
   "outputs": [
    {
     "data": {
      "text/html": [
       "<div><style>\n",
       ".dataframe > thead > tr,\n",
       ".dataframe > tbody > tr {\n",
       "  text-align: right;\n",
       "  white-space: pre-wrap;\n",
       "}\n",
       "</style>\n",
       "<small>shape: (1, 2)</small><table border=\"1\" class=\"dataframe\"><thead><tr><th>acc_mean</th><th>acc_std</th></tr><tr><td>f64</td><td>f64</td></tr></thead><tbody><tr><td>56.066667</td><td>27.043528</td></tr></tbody></table></div>"
      ],
      "text/plain": [
       "shape: (1, 2)\n",
       "┌───────────┬───────────┐\n",
       "│ acc_mean  ┆ acc_std   │\n",
       "│ ---       ┆ ---       │\n",
       "│ f64       ┆ f64       │\n",
       "╞═══════════╪═══════════╡\n",
       "│ 56.066667 ┆ 27.043528 │\n",
       "└───────────┴───────────┘"
      ]
     },
     "execution_count": 35,
     "metadata": {},
     "output_type": "execute_result"
    }
   ],
   "source": [
    "df.select(\n",
    "    acc_mean = col('accuracy').mean(),\n",
    "    acc_std = col('accuracy').std()\n",
    ")"
   ]
  },
  {
   "cell_type": "markdown",
   "metadata": {},
   "source": [
    "You can use which ever style of \"phrasing\" an expression that feels more natural to you based on what you're doing!"
   ]
  },
  {
   "cell_type": "markdown",
   "metadata": {},
   "source": [
    "### Your turn\n",
    "\n",
    "Run the following code. Why are the values in the accuracy column being overwritten? Can you fix it?"
   ]
  },
  {
   "cell_type": "code",
   "execution_count": null,
   "metadata": {},
   "outputs": [],
   "source": [
    "df.select(\n",
    "    col('participant'),\n",
    "    col('accuracy').mean(),\n",
    ")"
   ]
  },
  {
   "cell_type": "markdown",
   "metadata": {},
   "source": [
    "## Aggregating columns: `.group_by()`\n",
    "\n",
    "The `.group_by('some_col')` context is used for **summarizing** columns separately by `'some_col'`.  \n",
    "\n",
    "<img src=\"./figs/06_groupby.svg\" width=\"50%\" alt=\"Figure 1\">\n",
    "\n",
    "You always follow up a `.groupy_by()` with `.agg()`, and place our **expressions**  inside to tell Polars what should be calculated per group.\n",
    "\n",
    "Using `.group_by()` will **always** give you a **smaller** DataFrame than the original.  \n",
    "Specifically you will get back a DataFrame who's rows = number of groups"
   ]
  },
  {
   "cell_type": "code",
   "execution_count": 49,
   "metadata": {},
   "outputs": [
    {
     "data": {
      "text/html": [
       "<div><style>\n",
       ".dataframe > thead > tr,\n",
       ".dataframe > tbody > tr {\n",
       "  text-align: right;\n",
       "  white-space: pre-wrap;\n",
       "}\n",
       "</style>\n",
       "<small>shape: (3, 3)</small><table border=\"1\" class=\"dataframe\"><thead><tr><th>participant</th><th>rt</th><th>accuracy</th></tr><tr><td>i64</td><td>f64</td><td>f64</td></tr></thead><tbody><tr><td>2</td><td>496.969382</td><td>47.2</td></tr><tr><td>1</td><td>573.523797</td><td>57.8</td></tr><tr><td>3</td><td>485.294057</td><td>63.2</td></tr></tbody></table></div>"
      ],
      "text/plain": [
       "shape: (3, 3)\n",
       "┌─────────────┬────────────┬──────────┐\n",
       "│ participant ┆ rt         ┆ accuracy │\n",
       "│ ---         ┆ ---        ┆ ---      │\n",
       "│ i64         ┆ f64        ┆ f64      │\n",
       "╞═════════════╪════════════╪══════════╡\n",
       "│ 2           ┆ 496.969382 ┆ 47.2     │\n",
       "│ 1           ┆ 573.523797 ┆ 57.8     │\n",
       "│ 3           ┆ 485.294057 ┆ 63.2     │\n",
       "└─────────────┴────────────┴──────────┘"
      ]
     },
     "execution_count": 49,
     "metadata": {},
     "output_type": "execute_result"
    }
   ],
   "source": [
    "df.group_by('participant').agg(        # <- context\n",
    "\n",
    "    col('rt').mean(),                  # <- expression\n",
    "    col('accuracy').mean(),           # <- another expression\n",
    ")"
   ]
  },
  {
   "cell_type": "markdown",
   "metadata": {},
   "source": [
    "#### Maintaining group order\n",
    "\n",
    "Unfortunately, by default Polars doesn't preserve the *order* of grouops as they exist in the original DataFrame. But we can easily fix this by giving `.group_by()` and additional argument `maintain_order=True`:  "
   ]
  },
  {
   "cell_type": "code",
   "execution_count": 50,
   "metadata": {},
   "outputs": [
    {
     "data": {
      "text/html": [
       "<div><style>\n",
       ".dataframe > thead > tr,\n",
       ".dataframe > tbody > tr {\n",
       "  text-align: right;\n",
       "  white-space: pre-wrap;\n",
       "}\n",
       "</style>\n",
       "<small>shape: (3, 3)</small><table border=\"1\" class=\"dataframe\"><thead><tr><th>participant</th><th>rt</th><th>accuracy</th></tr><tr><td>i64</td><td>f64</td><td>f64</td></tr></thead><tbody><tr><td>1</td><td>573.523797</td><td>57.8</td></tr><tr><td>2</td><td>496.969382</td><td>47.2</td></tr><tr><td>3</td><td>485.294057</td><td>63.2</td></tr></tbody></table></div>"
      ],
      "text/plain": [
       "shape: (3, 3)\n",
       "┌─────────────┬────────────┬──────────┐\n",
       "│ participant ┆ rt         ┆ accuracy │\n",
       "│ ---         ┆ ---        ┆ ---      │\n",
       "│ i64         ┆ f64        ┆ f64      │\n",
       "╞═════════════╪════════════╪══════════╡\n",
       "│ 1           ┆ 573.523797 ┆ 57.8     │\n",
       "│ 2           ┆ 496.969382 ┆ 47.2     │\n",
       "│ 3           ┆ 485.294057 ┆ 63.2     │\n",
       "└─────────────┴────────────┴──────────┘"
      ]
     },
     "execution_count": 50,
     "metadata": {},
     "output_type": "execute_result"
    }
   ],
   "source": [
    "df.group_by('participant', maintain_order=True).agg(  \n",
    "    col('rt').mean(),                  \n",
    "    col('accuracy').mean(),          \n",
    ")"
   ]
  },
  {
   "cell_type": "markdown",
   "metadata": {},
   "source": [
    "### Your turn\n",
    "\n",
    "Calculate each participant's average *reaction time* divided by their average *accuracy*.  \n",
    "Remember since there are just 3 unique participants, i.e. 3 \"groups\", our result should have **3 rows**; one for each participant.\n",
    "\n",
    "\n",
    "*Hint: you can divide 2 columns using the method-chaining style with [`.trudiv()`](https://docs.pola.rs/api/python/dev/reference/expressions/api/polars.Expr.truediv.html) or simply using `/`*"
   ]
  },
  {
   "cell_type": "code",
   "execution_count": null,
   "metadata": {},
   "outputs": [],
   "source": [
    "# Your code here\n",
    "\n",
    "# Hint: use group_by on 'participant' and then create an expression\n",
    "# that divides the average 'rt' by average 'accuracy' and name it 'rt_acc_avg'"
   ]
  },
  {
   "cell_type": "markdown",
   "metadata": {},
   "source": [
    "## Creating columns: `.with_columns()`\n",
    "\n",
    "Whenever we want to return the original DataFrame along with some **new columns** we can use the `.with_columns` context instead of `.select`.\n",
    "\n",
    "<img src=\"./figs/05_newcolumn_1.svg\" width=\"50%\" alt=\"Figure 1\">\n",
    "\n",
    "It will always output the original DataFrame **and** the outputs of your expressions. \n",
    "\n",
    "If your expression returns just a single value (e.g. the mean of a column), Polars is smart enough to automatically repeat that value over all the rows to make sure it fits inside the DataFrame."
   ]
  },
  {
   "cell_type": "code",
   "execution_count": 55,
   "metadata": {},
   "outputs": [
    {
     "data": {
      "text/html": [
       "<div><style>\n",
       ".dataframe > thead > tr,\n",
       ".dataframe > tbody > tr {\n",
       "  text-align: right;\n",
       "  white-space: pre-wrap;\n",
       "}\n",
       "</style>\n",
       "<small>shape: (15, 4)</small><table border=\"1\" class=\"dataframe\"><thead><tr><th>participant</th><th>accuracy</th><th>rt</th><th>acc_mean</th></tr><tr><td>i64</td><td>i64</td><td>f64</td><td>f64</td></tr></thead><tbody><tr><td>1</td><td>44</td><td>261.28435</td><td>56.066667</td></tr><tr><td>1</td><td>47</td><td>728.208489</td><td>56.066667</td></tr><tr><td>1</td><td>64</td><td>801.889016</td><td>56.066667</td></tr><tr><td>1</td><td>67</td><td>713.555026</td><td>56.066667</td></tr><tr><td>1</td><td>67</td><td>362.682105</td><td>56.066667</td></tr><tr><td>&hellip;</td><td>&hellip;</td><td>&hellip;</td><td>&hellip;</td></tr><tr><td>3</td><td>70</td><td>439.524973</td><td>56.066667</td></tr><tr><td>3</td><td>88</td><td>55.11928</td><td>56.066667</td></tr><tr><td>3</td><td>88</td><td>644.801272</td><td>56.066667</td></tr><tr><td>3</td><td>12</td><td>571.800553</td><td>56.066667</td></tr><tr><td>3</td><td>58</td><td>715.224208</td><td>56.066667</td></tr></tbody></table></div>"
      ],
      "text/plain": [
       "shape: (15, 4)\n",
       "┌─────────────┬──────────┬────────────┬───────────┐\n",
       "│ participant ┆ accuracy ┆ rt         ┆ acc_mean  │\n",
       "│ ---         ┆ ---      ┆ ---        ┆ ---       │\n",
       "│ i64         ┆ i64      ┆ f64        ┆ f64       │\n",
       "╞═════════════╪══════════╪════════════╪═══════════╡\n",
       "│ 1           ┆ 44       ┆ 261.28435  ┆ 56.066667 │\n",
       "│ 1           ┆ 47       ┆ 728.208489 ┆ 56.066667 │\n",
       "│ 1           ┆ 64       ┆ 801.889016 ┆ 56.066667 │\n",
       "│ 1           ┆ 67       ┆ 713.555026 ┆ 56.066667 │\n",
       "│ 1           ┆ 67       ┆ 362.682105 ┆ 56.066667 │\n",
       "│ …           ┆ …        ┆ …          ┆ …         │\n",
       "│ 3           ┆ 70       ┆ 439.524973 ┆ 56.066667 │\n",
       "│ 3           ┆ 88       ┆ 55.11928   ┆ 56.066667 │\n",
       "│ 3           ┆ 88       ┆ 644.801272 ┆ 56.066667 │\n",
       "│ 3           ┆ 12       ┆ 571.800553 ┆ 56.066667 │\n",
       "│ 3           ┆ 58       ┆ 715.224208 ┆ 56.066667 │\n",
       "└─────────────┴──────────┴────────────┴───────────┘"
      ]
     },
     "execution_count": 55,
     "metadata": {},
     "output_type": "execute_result"
    }
   ],
   "source": [
    "df.with_columns(                                    # <- with_columns context\n",
    "    acc_mean = col('accuracy').mean()               # <- expression\n",
    ")"
   ]
  },
  {
   "cell_type": "markdown",
   "metadata": {},
   "source": [
    "Contrast this with the `.select` context which will *only* return the mean of accuracy:"
   ]
  },
  {
   "cell_type": "code",
   "execution_count": 56,
   "metadata": {},
   "outputs": [
    {
     "data": {
      "text/html": [
       "<div><style>\n",
       ".dataframe > thead > tr,\n",
       ".dataframe > tbody > tr {\n",
       "  text-align: right;\n",
       "  white-space: pre-wrap;\n",
       "}\n",
       "</style>\n",
       "<small>shape: (1, 1)</small><table border=\"1\" class=\"dataframe\"><thead><tr><th>acc_mean</th></tr><tr><td>f64</td></tr></thead><tbody><tr><td>56.066667</td></tr></tbody></table></div>"
      ],
      "text/plain": [
       "shape: (1, 1)\n",
       "┌───────────┐\n",
       "│ acc_mean  │\n",
       "│ ---       │\n",
       "│ f64       │\n",
       "╞═══════════╡\n",
       "│ 56.066667 │\n",
       "└───────────┘"
      ]
     },
     "execution_count": 56,
     "metadata": {},
     "output_type": "execute_result"
    }
   ],
   "source": [
    "df.select(                                    \n",
    "    acc_mean = col('accuracy').mean()               \n",
    ")"
   ]
  },
  {
   "cell_type": "markdown",
   "metadata": {},
   "source": [
    "As before we can create multiple new columns by including **multiple expressions**"
   ]
  },
  {
   "cell_type": "code",
   "execution_count": 57,
   "metadata": {},
   "outputs": [
    {
     "data": {
      "text/html": [
       "<div><style>\n",
       ".dataframe > thead > tr,\n",
       ".dataframe > tbody > tr {\n",
       "  text-align: right;\n",
       "  white-space: pre-wrap;\n",
       "}\n",
       "</style>\n",
       "<small>shape: (15, 5)</small><table border=\"1\" class=\"dataframe\"><thead><tr><th>participant</th><th>accuracy</th><th>rt</th><th>acc_mean</th><th>rt_scaled</th></tr><tr><td>i64</td><td>i64</td><td>f64</td><td>f64</td><td>f64</td></tr></thead><tbody><tr><td>1</td><td>44</td><td>261.28435</td><td>56.066667</td><td>2.612843</td></tr><tr><td>1</td><td>47</td><td>728.208489</td><td>56.066667</td><td>7.282085</td></tr><tr><td>1</td><td>64</td><td>801.889016</td><td>56.066667</td><td>8.01889</td></tr><tr><td>1</td><td>67</td><td>713.555026</td><td>56.066667</td><td>7.13555</td></tr><tr><td>1</td><td>67</td><td>362.682105</td><td>56.066667</td><td>3.626821</td></tr><tr><td>&hellip;</td><td>&hellip;</td><td>&hellip;</td><td>&hellip;</td><td>&hellip;</td></tr><tr><td>3</td><td>70</td><td>439.524973</td><td>56.066667</td><td>4.39525</td></tr><tr><td>3</td><td>88</td><td>55.11928</td><td>56.066667</td><td>0.551193</td></tr><tr><td>3</td><td>88</td><td>644.801272</td><td>56.066667</td><td>6.448013</td></tr><tr><td>3</td><td>12</td><td>571.800553</td><td>56.066667</td><td>5.718006</td></tr><tr><td>3</td><td>58</td><td>715.224208</td><td>56.066667</td><td>7.152242</td></tr></tbody></table></div>"
      ],
      "text/plain": [
       "shape: (15, 5)\n",
       "┌─────────────┬──────────┬────────────┬───────────┬───────────┐\n",
       "│ participant ┆ accuracy ┆ rt         ┆ acc_mean  ┆ rt_scaled │\n",
       "│ ---         ┆ ---      ┆ ---        ┆ ---       ┆ ---       │\n",
       "│ i64         ┆ i64      ┆ f64        ┆ f64       ┆ f64       │\n",
       "╞═════════════╪══════════╪════════════╪═══════════╪═══════════╡\n",
       "│ 1           ┆ 44       ┆ 261.28435  ┆ 56.066667 ┆ 2.612843  │\n",
       "│ 1           ┆ 47       ┆ 728.208489 ┆ 56.066667 ┆ 7.282085  │\n",
       "│ 1           ┆ 64       ┆ 801.889016 ┆ 56.066667 ┆ 8.01889   │\n",
       "│ 1           ┆ 67       ┆ 713.555026 ┆ 56.066667 ┆ 7.13555   │\n",
       "│ 1           ┆ 67       ┆ 362.682105 ┆ 56.066667 ┆ 3.626821  │\n",
       "│ …           ┆ …        ┆ …          ┆ …         ┆ …         │\n",
       "│ 3           ┆ 70       ┆ 439.524973 ┆ 56.066667 ┆ 4.39525   │\n",
       "│ 3           ┆ 88       ┆ 55.11928   ┆ 56.066667 ┆ 0.551193  │\n",
       "│ 3           ┆ 88       ┆ 644.801272 ┆ 56.066667 ┆ 6.448013  │\n",
       "│ 3           ┆ 12       ┆ 571.800553 ┆ 56.066667 ┆ 5.718006  │\n",
       "│ 3           ┆ 58       ┆ 715.224208 ┆ 56.066667 ┆ 7.152242  │\n",
       "└─────────────┴──────────┴────────────┴───────────┴───────────┘"
      ]
     },
     "execution_count": 57,
     "metadata": {},
     "output_type": "execute_result"
    }
   ],
   "source": [
    "df.with_columns(\n",
    "    acc_mean = col('accuracy').mean(),\n",
    "    rt_scaled = col('rt') / 100 \n",
    "\n",
    ")"
   ]
  },
  {
   "cell_type": "markdown",
   "metadata": {},
   "source": [
    "#### Use `.with_columns` for \"Tidy\" group-by operations\n",
    "\n",
    "A very handy use for `.with_columns` is to combine it with the [`.over()` operation](https://docs.pola.rs/api/python/dev/reference/expressions/api/polars.Expr.over.html). \n",
    "\n",
    "This allows us to calculate an expression **separately by group**, but then save the results into a DataFrame the *same size* as the original.\n",
    "\n",
    "For example, Polars will keep the tidy-format of the data and correctly repeat the values across rows.\n"
   ]
  },
  {
   "cell_type": "code",
   "execution_count": 70,
   "metadata": {},
   "outputs": [
    {
     "data": {
      "text/html": [
       "<div><style>\n",
       ".dataframe > thead > tr,\n",
       ".dataframe > tbody > tr {\n",
       "  text-align: right;\n",
       "  white-space: pre-wrap;\n",
       "}\n",
       "</style>\n",
       "<small>shape: (15, 4)</small><table border=\"1\" class=\"dataframe\"><thead><tr><th>participant</th><th>accuracy</th><th>rt</th><th>acc_mean</th></tr><tr><td>i64</td><td>i64</td><td>f64</td><td>f64</td></tr></thead><tbody><tr><td>1</td><td>44</td><td>261.28435</td><td>57.8</td></tr><tr><td>1</td><td>47</td><td>728.208489</td><td>57.8</td></tr><tr><td>1</td><td>64</td><td>801.889016</td><td>57.8</td></tr><tr><td>1</td><td>67</td><td>713.555026</td><td>57.8</td></tr><tr><td>1</td><td>67</td><td>362.682105</td><td>57.8</td></tr><tr><td>&hellip;</td><td>&hellip;</td><td>&hellip;</td><td>&hellip;</td></tr><tr><td>3</td><td>70</td><td>439.524973</td><td>63.2</td></tr><tr><td>3</td><td>88</td><td>55.11928</td><td>63.2</td></tr><tr><td>3</td><td>88</td><td>644.801272</td><td>63.2</td></tr><tr><td>3</td><td>12</td><td>571.800553</td><td>63.2</td></tr><tr><td>3</td><td>58</td><td>715.224208</td><td>63.2</td></tr></tbody></table></div>"
      ],
      "text/plain": [
       "shape: (15, 4)\n",
       "┌─────────────┬──────────┬────────────┬──────────┐\n",
       "│ participant ┆ accuracy ┆ rt         ┆ acc_mean │\n",
       "│ ---         ┆ ---      ┆ ---        ┆ ---      │\n",
       "│ i64         ┆ i64      ┆ f64        ┆ f64      │\n",
       "╞═════════════╪══════════╪════════════╪══════════╡\n",
       "│ 1           ┆ 44       ┆ 261.28435  ┆ 57.8     │\n",
       "│ 1           ┆ 47       ┆ 728.208489 ┆ 57.8     │\n",
       "│ 1           ┆ 64       ┆ 801.889016 ┆ 57.8     │\n",
       "│ 1           ┆ 67       ┆ 713.555026 ┆ 57.8     │\n",
       "│ 1           ┆ 67       ┆ 362.682105 ┆ 57.8     │\n",
       "│ …           ┆ …        ┆ …          ┆ …        │\n",
       "│ 3           ┆ 70       ┆ 439.524973 ┆ 63.2     │\n",
       "│ 3           ┆ 88       ┆ 55.11928   ┆ 63.2     │\n",
       "│ 3           ┆ 88       ┆ 644.801272 ┆ 63.2     │\n",
       "│ 3           ┆ 12       ┆ 571.800553 ┆ 63.2     │\n",
       "│ 3           ┆ 58       ┆ 715.224208 ┆ 63.2     │\n",
       "└─────────────┴──────────┴────────────┴──────────┘"
      ]
     },
     "execution_count": 70,
     "metadata": {},
     "output_type": "execute_result"
    }
   ],
   "source": [
    "df.with_columns(\n",
    "    acc_mean = col('accuracy').mean().over('participant')\n",
    ")"
   ]
  },
  {
   "cell_type": "markdown",
   "metadata": {},
   "source": [
    "Chaining `.over('some_col')` to any expression is like using `.group_by` but **preserving the shape** of the original DataFrame:"
   ]
  },
  {
   "cell_type": "code",
   "execution_count": null,
   "metadata": {},
   "outputs": [
    {
     "data": {
      "text/html": [
       "<div><style>\n",
       ".dataframe > thead > tr,\n",
       ".dataframe > tbody > tr {\n",
       "  text-align: right;\n",
       "  white-space: pre-wrap;\n",
       "}\n",
       "</style>\n",
       "<small>shape: (15, 5)</small><table border=\"1\" class=\"dataframe\"><thead><tr><th>participant</th><th>accuracy</th><th>rt</th><th>acc_mean</th><th>rt_mean</th></tr><tr><td>i64</td><td>i64</td><td>f64</td><td>f64</td><td>f64</td></tr></thead><tbody><tr><td>1</td><td>44</td><td>261.28435</td><td>57.8</td><td>573.523797</td></tr><tr><td>1</td><td>47</td><td>728.208489</td><td>57.8</td><td>573.523797</td></tr><tr><td>1</td><td>64</td><td>801.889016</td><td>57.8</td><td>573.523797</td></tr><tr><td>1</td><td>67</td><td>713.555026</td><td>57.8</td><td>573.523797</td></tr><tr><td>1</td><td>67</td><td>362.682105</td><td>57.8</td><td>573.523797</td></tr><tr><td>&hellip;</td><td>&hellip;</td><td>&hellip;</td><td>&hellip;</td><td>&hellip;</td></tr><tr><td>3</td><td>70</td><td>439.524973</td><td>63.2</td><td>485.294057</td></tr><tr><td>3</td><td>88</td><td>55.11928</td><td>63.2</td><td>485.294057</td></tr><tr><td>3</td><td>88</td><td>644.801272</td><td>63.2</td><td>485.294057</td></tr><tr><td>3</td><td>12</td><td>571.800553</td><td>63.2</td><td>485.294057</td></tr><tr><td>3</td><td>58</td><td>715.224208</td><td>63.2</td><td>485.294057</td></tr></tbody></table></div>"
      ],
      "text/plain": [
       "shape: (15, 5)\n",
       "┌─────────────┬──────────┬────────────┬──────────┬────────────┐\n",
       "│ participant ┆ accuracy ┆ rt         ┆ acc_mean ┆ rt_mean    │\n",
       "│ ---         ┆ ---      ┆ ---        ┆ ---      ┆ ---        │\n",
       "│ i64         ┆ i64      ┆ f64        ┆ f64      ┆ f64        │\n",
       "╞═════════════╪══════════╪════════════╪══════════╪════════════╡\n",
       "│ 1           ┆ 44       ┆ 261.28435  ┆ 57.8     ┆ 573.523797 │\n",
       "│ 1           ┆ 47       ┆ 728.208489 ┆ 57.8     ┆ 573.523797 │\n",
       "│ 1           ┆ 64       ┆ 801.889016 ┆ 57.8     ┆ 573.523797 │\n",
       "│ 1           ┆ 67       ┆ 713.555026 ┆ 57.8     ┆ 573.523797 │\n",
       "│ 1           ┆ 67       ┆ 362.682105 ┆ 57.8     ┆ 573.523797 │\n",
       "│ …           ┆ …        ┆ …          ┆ …        ┆ …          │\n",
       "│ 3           ┆ 70       ┆ 439.524973 ┆ 63.2     ┆ 485.294057 │\n",
       "│ 3           ┆ 88       ┆ 55.11928   ┆ 63.2     ┆ 485.294057 │\n",
       "│ 3           ┆ 88       ┆ 644.801272 ┆ 63.2     ┆ 485.294057 │\n",
       "│ 3           ┆ 12       ┆ 571.800553 ┆ 63.2     ┆ 485.294057 │\n",
       "│ 3           ┆ 58       ┆ 715.224208 ┆ 63.2     ┆ 485.294057 │\n",
       "└─────────────┴──────────┴────────────┴──────────┴────────────┘"
      ]
     },
     "metadata": {},
     "output_type": "display_data"
    }
   ],
   "source": [
    "df.with_columns(\n",
    "    acc_mean = col('accuracy').mean().over('participant'),          \n",
    "    rt_mean = col('rt').mean().over('participant'),                  \n",
    ")"
   ]
  },
  {
   "cell_type": "markdown",
   "metadata": {},
   "source": [
    "Remember that the `.group_by()` **context** will always return a **smaller** aggregated DataFrame:"
   ]
  },
  {
   "cell_type": "code",
   "execution_count": 53,
   "metadata": {},
   "outputs": [
    {
     "data": {
      "text/html": [
       "<div><style>\n",
       ".dataframe > thead > tr,\n",
       ".dataframe > tbody > tr {\n",
       "  text-align: right;\n",
       "  white-space: pre-wrap;\n",
       "}\n",
       "</style>\n",
       "<small>shape: (3, 3)</small><table border=\"1\" class=\"dataframe\"><thead><tr><th>participant</th><th>acc_mean</th><th>rt_mean</th></tr><tr><td>i64</td><td>f64</td><td>f64</td></tr></thead><tbody><tr><td>1</td><td>57.8</td><td>573.523797</td></tr><tr><td>2</td><td>47.2</td><td>496.969382</td></tr><tr><td>3</td><td>63.2</td><td>485.294057</td></tr></tbody></table></div>"
      ],
      "text/plain": [
       "shape: (3, 3)\n",
       "┌─────────────┬──────────┬────────────┐\n",
       "│ participant ┆ acc_mean ┆ rt_mean    │\n",
       "│ ---         ┆ ---      ┆ ---        │\n",
       "│ i64         ┆ f64      ┆ f64        │\n",
       "╞═════════════╪══════════╪════════════╡\n",
       "│ 1           ┆ 57.8     ┆ 573.523797 │\n",
       "│ 2           ┆ 47.2     ┆ 496.969382 │\n",
       "│ 3           ┆ 63.2     ┆ 485.294057 │\n",
       "└─────────────┴──────────┴────────────┘"
      ]
     },
     "execution_count": 53,
     "metadata": {},
     "output_type": "execute_result"
    }
   ],
   "source": [
    "df.group_by('participant', maintain_order=True).agg(\n",
    "    acc_mean = col('accuracy').mean(),\n",
    "    rt_mean = col('rt').mean()\n",
    ")"
   ]
  },
  {
   "cell_type": "markdown",
   "metadata": {},
   "source": [
    "In Polars you should only rely on `.group_by` if you know *for sure* that you want your output to be **smaller** than your original DataFrame - and by smaller we mean rows = number of groups."
   ]
  },
  {
   "cell_type": "markdown",
   "metadata": {},
   "source": [
    "### Your turn\n",
    "\n",
    "Create a dataframe that adds 3 new columns:\n",
    "1. Accuracy on a 0-1 scale\n",
    "2. RT / Accuracy \n",
    "3. RT / max RT, separately using each participant's max RT"
   ]
  },
  {
   "cell_type": "code",
   "execution_count": null,
   "metadata": {},
   "outputs": [],
   "source": [
    "# Your code here\n",
    "\n",
    "\n",
    "# Hint: you can wrap an entire expression in () and use .over() \n",
    "# on the entire wrapped expression to do things like \n",
    "# add, subtract columns multiple columns by \"participant\""
   ]
  },
  {
   "cell_type": "code",
   "execution_count": 78,
   "metadata": {
    "tags": [
     "remove-cell"
    ]
   },
   "outputs": [
    {
     "data": {
      "text/html": [
       "<div><style>\n",
       ".dataframe > thead > tr,\n",
       ".dataframe > tbody > tr {\n",
       "  text-align: right;\n",
       "  white-space: pre-wrap;\n",
       "}\n",
       "</style>\n",
       "<small>shape: (15, 6)</small><table border=\"1\" class=\"dataframe\"><thead><tr><th>participant</th><th>accuracy</th><th>rt</th><th>acc_scaled</th><th>rt_acc</th><th>rt_max_scaled</th></tr><tr><td>i64</td><td>i64</td><td>f64</td><td>f64</td><td>f64</td><td>f64</td></tr></thead><tbody><tr><td>1</td><td>44</td><td>261.28435</td><td>0.44</td><td>5.938281</td><td>0.325836</td></tr><tr><td>1</td><td>47</td><td>728.208489</td><td>0.47</td><td>15.493798</td><td>0.908116</td></tr><tr><td>1</td><td>64</td><td>801.889016</td><td>0.64</td><td>12.529516</td><td>1.0</td></tr><tr><td>1</td><td>67</td><td>713.555026</td><td>0.67</td><td>10.650075</td><td>0.889843</td></tr><tr><td>1</td><td>67</td><td>362.682105</td><td>0.67</td><td>5.413166</td><td>0.452285</td></tr><tr><td>&hellip;</td><td>&hellip;</td><td>&hellip;</td><td>&hellip;</td><td>&hellip;</td><td>&hellip;</td></tr><tr><td>3</td><td>70</td><td>439.524973</td><td>0.7</td><td>6.278928</td><td>0.614528</td></tr><tr><td>3</td><td>88</td><td>55.11928</td><td>0.88</td><td>0.626355</td><td>0.077066</td></tr><tr><td>3</td><td>88</td><td>644.801272</td><td>0.88</td><td>7.327287</td><td>0.901537</td></tr><tr><td>3</td><td>12</td><td>571.800553</td><td>0.12</td><td>47.650046</td><td>0.79947</td></tr><tr><td>3</td><td>58</td><td>715.224208</td><td>0.58</td><td>12.331452</td><td>1.0</td></tr></tbody></table></div>"
      ],
      "text/plain": [
       "shape: (15, 6)\n",
       "┌─────────────┬──────────┬────────────┬────────────┬───────────┬───────────────┐\n",
       "│ participant ┆ accuracy ┆ rt         ┆ acc_scaled ┆ rt_acc    ┆ rt_max_scaled │\n",
       "│ ---         ┆ ---      ┆ ---        ┆ ---        ┆ ---       ┆ ---           │\n",
       "│ i64         ┆ i64      ┆ f64        ┆ f64        ┆ f64       ┆ f64           │\n",
       "╞═════════════╪══════════╪════════════╪════════════╪═══════════╪═══════════════╡\n",
       "│ 1           ┆ 44       ┆ 261.28435  ┆ 0.44       ┆ 5.938281  ┆ 0.325836      │\n",
       "│ 1           ┆ 47       ┆ 728.208489 ┆ 0.47       ┆ 15.493798 ┆ 0.908116      │\n",
       "│ 1           ┆ 64       ┆ 801.889016 ┆ 0.64       ┆ 12.529516 ┆ 1.0           │\n",
       "│ 1           ┆ 67       ┆ 713.555026 ┆ 0.67       ┆ 10.650075 ┆ 0.889843      │\n",
       "│ 1           ┆ 67       ┆ 362.682105 ┆ 0.67       ┆ 5.413166  ┆ 0.452285      │\n",
       "│ …           ┆ …        ┆ …          ┆ …          ┆ …         ┆ …             │\n",
       "│ 3           ┆ 70       ┆ 439.524973 ┆ 0.7        ┆ 6.278928  ┆ 0.614528      │\n",
       "│ 3           ┆ 88       ┆ 55.11928   ┆ 0.88       ┆ 0.626355  ┆ 0.077066      │\n",
       "│ 3           ┆ 88       ┆ 644.801272 ┆ 0.88       ┆ 7.327287  ┆ 0.901537      │\n",
       "│ 3           ┆ 12       ┆ 571.800553 ┆ 0.12       ┆ 47.650046 ┆ 0.79947       │\n",
       "│ 3           ┆ 58       ┆ 715.224208 ┆ 0.58       ┆ 12.331452 ┆ 1.0           │\n",
       "└─────────────┴──────────┴────────────┴────────────┴───────────┴───────────────┘"
      ]
     },
     "execution_count": 78,
     "metadata": {},
     "output_type": "execute_result"
    }
   ],
   "source": [
    "# Solution\n",
    "df.with_columns(\n",
    "    acc_scaled = col('accuracy') / 100,\n",
    "    rt_acc = col('rt') / col('accuracy'),\n",
    "    rt_max_scaled = ( col('rt') / col('rt').max() ).over('participant')\n",
    ")"
   ]
  },
  {
   "cell_type": "markdown",
   "metadata": {},
   "source": [
    "## Selecting rows: `.filter()`\n",
    "\n",
    "The `.filter` context is used for **subsetting rows** using a **logical expression**.\n",
    "\n",
    "<img src=\"./figs/03_subset_rows.svg\" width=\"50%\" alt=\"Figure 1\">\n",
    "\n",
    "Instead of returning one or more values like other expressions, a **logical expression** returns True/False values that we can use to filter rows that mean those criteria:"
   ]
  },
  {
   "cell_type": "code",
   "execution_count": 79,
   "metadata": {},
   "outputs": [
    {
     "data": {
      "text/html": [
       "<div><style>\n",
       ".dataframe > thead > tr,\n",
       ".dataframe > tbody > tr {\n",
       "  text-align: right;\n",
       "  white-space: pre-wrap;\n",
       "}\n",
       "</style>\n",
       "<small>shape: (5, 3)</small><table border=\"1\" class=\"dataframe\"><thead><tr><th>participant</th><th>accuracy</th><th>rt</th></tr><tr><td>i64</td><td>i64</td><td>f64</td></tr></thead><tbody><tr><td>1</td><td>44</td><td>261.28435</td></tr><tr><td>1</td><td>47</td><td>728.208489</td></tr><tr><td>1</td><td>64</td><td>801.889016</td></tr><tr><td>1</td><td>67</td><td>713.555026</td></tr><tr><td>1</td><td>67</td><td>362.682105</td></tr></tbody></table></div>"
      ],
      "text/plain": [
       "shape: (5, 3)\n",
       "┌─────────────┬──────────┬────────────┐\n",
       "│ participant ┆ accuracy ┆ rt         │\n",
       "│ ---         ┆ ---      ┆ ---        │\n",
       "│ i64         ┆ i64      ┆ f64        │\n",
       "╞═════════════╪══════════╪════════════╡\n",
       "│ 1           ┆ 44       ┆ 261.28435  │\n",
       "│ 1           ┆ 47       ┆ 728.208489 │\n",
       "│ 1           ┆ 64       ┆ 801.889016 │\n",
       "│ 1           ┆ 67       ┆ 713.555026 │\n",
       "│ 1           ┆ 67       ┆ 362.682105 │\n",
       "└─────────────┴──────────┴────────────┘"
      ]
     },
     "execution_count": 79,
     "metadata": {},
     "output_type": "execute_result"
    }
   ],
   "source": [
    "df.filter(\n",
    "    col('participant') == 1\n",
    ")"
   ]
  },
  {
   "cell_type": "markdown",
   "metadata": {},
   "source": [
    "Or in Polars methods-style using `.eq()`:"
   ]
  },
  {
   "cell_type": "code",
   "execution_count": 80,
   "metadata": {},
   "outputs": [
    {
     "data": {
      "text/html": [
       "<div><style>\n",
       ".dataframe > thead > tr,\n",
       ".dataframe > tbody > tr {\n",
       "  text-align: right;\n",
       "  white-space: pre-wrap;\n",
       "}\n",
       "</style>\n",
       "<small>shape: (5, 3)</small><table border=\"1\" class=\"dataframe\"><thead><tr><th>participant</th><th>accuracy</th><th>rt</th></tr><tr><td>i64</td><td>i64</td><td>f64</td></tr></thead><tbody><tr><td>1</td><td>44</td><td>261.28435</td></tr><tr><td>1</td><td>47</td><td>728.208489</td></tr><tr><td>1</td><td>64</td><td>801.889016</td></tr><tr><td>1</td><td>67</td><td>713.555026</td></tr><tr><td>1</td><td>67</td><td>362.682105</td></tr></tbody></table></div>"
      ],
      "text/plain": [
       "shape: (5, 3)\n",
       "┌─────────────┬──────────┬────────────┐\n",
       "│ participant ┆ accuracy ┆ rt         │\n",
       "│ ---         ┆ ---      ┆ ---        │\n",
       "│ i64         ┆ i64      ┆ f64        │\n",
       "╞═════════════╪══════════╪════════════╡\n",
       "│ 1           ┆ 44       ┆ 261.28435  │\n",
       "│ 1           ┆ 47       ┆ 728.208489 │\n",
       "│ 1           ┆ 64       ┆ 801.889016 │\n",
       "│ 1           ┆ 67       ┆ 713.555026 │\n",
       "│ 1           ┆ 67       ┆ 362.682105 │\n",
       "└─────────────┴──────────┴────────────┘"
      ]
     },
     "execution_count": 80,
     "metadata": {},
     "output_type": "execute_result"
    }
   ],
   "source": [
    "df.filter(\n",
    "    col('participant').eq(1)\n",
    ")"
   ]
  },
  {
   "cell_type": "markdown",
   "metadata": {},
   "source": [
    "Or even the opposite: we can **negate** or **invert** any **logical expression** by putting a `~` in front of it.\n",
    "\n",
    "This is like using `not` in regular Python or `!` in some other languages."
   ]
  },
  {
   "cell_type": "code",
   "execution_count": 82,
   "metadata": {},
   "outputs": [
    {
     "data": {
      "text/html": [
       "<div><style>\n",
       ".dataframe > thead > tr,\n",
       ".dataframe > tbody > tr {\n",
       "  text-align: right;\n",
       "  white-space: pre-wrap;\n",
       "}\n",
       "</style>\n",
       "<small>shape: (10, 3)</small><table border=\"1\" class=\"dataframe\"><thead><tr><th>participant</th><th>accuracy</th><th>rt</th></tr><tr><td>i64</td><td>i64</td><td>f64</td></tr></thead><tbody><tr><td>2</td><td>9</td><td>502.974663</td></tr><tr><td>2</td><td>83</td><td>424.866821</td></tr><tr><td>2</td><td>21</td><td>492.355273</td></tr><tr><td>2</td><td>36</td><td>573.594895</td></tr><tr><td>2</td><td>87</td><td>491.05526</td></tr><tr><td>3</td><td>70</td><td>439.524973</td></tr><tr><td>3</td><td>88</td><td>55.11928</td></tr><tr><td>3</td><td>88</td><td>644.801272</td></tr><tr><td>3</td><td>12</td><td>571.800553</td></tr><tr><td>3</td><td>58</td><td>715.224208</td></tr></tbody></table></div>"
      ],
      "text/plain": [
       "shape: (10, 3)\n",
       "┌─────────────┬──────────┬────────────┐\n",
       "│ participant ┆ accuracy ┆ rt         │\n",
       "│ ---         ┆ ---      ┆ ---        │\n",
       "│ i64         ┆ i64      ┆ f64        │\n",
       "╞═════════════╪══════════╪════════════╡\n",
       "│ 2           ┆ 9        ┆ 502.974663 │\n",
       "│ 2           ┆ 83       ┆ 424.866821 │\n",
       "│ 2           ┆ 21       ┆ 492.355273 │\n",
       "│ 2           ┆ 36       ┆ 573.594895 │\n",
       "│ 2           ┆ 87       ┆ 491.05526  │\n",
       "│ 3           ┆ 70       ┆ 439.524973 │\n",
       "│ 3           ┆ 88       ┆ 55.11928   │\n",
       "│ 3           ┆ 88       ┆ 644.801272 │\n",
       "│ 3           ┆ 12       ┆ 571.800553 │\n",
       "│ 3           ┆ 58       ┆ 715.224208 │\n",
       "└─────────────┴──────────┴────────────┘"
      ]
     },
     "execution_count": 82,
     "metadata": {},
     "output_type": "execute_result"
    }
   ],
   "source": [
    "df.filter(\n",
    "    ~col('participant').eq(1)\n",
    ")"
   ]
  },
  {
   "cell_type": "markdown",
   "metadata": {},
   "source": [
    "But be careful. If you're not using the *method-chaining* style then you need to wrap you expression in `()` before using `~`:"
   ]
  },
  {
   "cell_type": "code",
   "execution_count": 83,
   "metadata": {},
   "outputs": [
    {
     "data": {
      "text/html": [
       "<div><style>\n",
       ".dataframe > thead > tr,\n",
       ".dataframe > tbody > tr {\n",
       "  text-align: right;\n",
       "  white-space: pre-wrap;\n",
       "}\n",
       "</style>\n",
       "<small>shape: (10, 3)</small><table border=\"1\" class=\"dataframe\"><thead><tr><th>participant</th><th>accuracy</th><th>rt</th></tr><tr><td>i64</td><td>i64</td><td>f64</td></tr></thead><tbody><tr><td>2</td><td>9</td><td>502.974663</td></tr><tr><td>2</td><td>83</td><td>424.866821</td></tr><tr><td>2</td><td>21</td><td>492.355273</td></tr><tr><td>2</td><td>36</td><td>573.594895</td></tr><tr><td>2</td><td>87</td><td>491.05526</td></tr><tr><td>3</td><td>70</td><td>439.524973</td></tr><tr><td>3</td><td>88</td><td>55.11928</td></tr><tr><td>3</td><td>88</td><td>644.801272</td></tr><tr><td>3</td><td>12</td><td>571.800553</td></tr><tr><td>3</td><td>58</td><td>715.224208</td></tr></tbody></table></div>"
      ],
      "text/plain": [
       "shape: (10, 3)\n",
       "┌─────────────┬──────────┬────────────┐\n",
       "│ participant ┆ accuracy ┆ rt         │\n",
       "│ ---         ┆ ---      ┆ ---        │\n",
       "│ i64         ┆ i64      ┆ f64        │\n",
       "╞═════════════╪══════════╪════════════╡\n",
       "│ 2           ┆ 9        ┆ 502.974663 │\n",
       "│ 2           ┆ 83       ┆ 424.866821 │\n",
       "│ 2           ┆ 21       ┆ 492.355273 │\n",
       "│ 2           ┆ 36       ┆ 573.594895 │\n",
       "│ 2           ┆ 87       ┆ 491.05526  │\n",
       "│ 3           ┆ 70       ┆ 439.524973 │\n",
       "│ 3           ┆ 88       ┆ 55.11928   │\n",
       "│ 3           ┆ 88       ┆ 644.801272 │\n",
       "│ 3           ┆ 12       ┆ 571.800553 │\n",
       "│ 3           ┆ 58       ┆ 715.224208 │\n",
       "└─────────────┴──────────┴────────────┘"
      ]
     },
     "execution_count": 83,
     "metadata": {},
     "output_type": "execute_result"
    }
   ],
   "source": [
    "df.filter(\n",
    "    ~( col('participant') == 1 )\n",
    ")"
   ]
  },
  {
   "cell_type": "markdown",
   "metadata": {},
   "source": [
    "Just like in with other contexts (i.e. `.select`, `.with_columns`, `.group_by`) we can using **multiple logical expressions** to refine our filtering criteria. \n",
    "\n",
    "If we use `,` Polars treats them logically as an `and` statement. For example, we use 2 logical expressions to filter where: participant is 1 AND accuracy is 67:"
   ]
  },
  {
   "cell_type": "code",
   "execution_count": 54,
   "metadata": {},
   "outputs": [
    {
     "data": {
      "text/html": [
       "<div><style>\n",
       ".dataframe > thead > tr,\n",
       ".dataframe > tbody > tr {\n",
       "  text-align: right;\n",
       "  white-space: pre-wrap;\n",
       "}\n",
       "</style>\n",
       "<small>shape: (2, 3)</small><table border=\"1\" class=\"dataframe\"><thead><tr><th>participant</th><th>accuracy</th><th>rt</th></tr><tr><td>i64</td><td>i64</td><td>f64</td></tr></thead><tbody><tr><td>1</td><td>67</td><td>713.555026</td></tr><tr><td>1</td><td>67</td><td>362.682105</td></tr></tbody></table></div>"
      ],
      "text/plain": [
       "shape: (2, 3)\n",
       "┌─────────────┬──────────┬────────────┐\n",
       "│ participant ┆ accuracy ┆ rt         │\n",
       "│ ---         ┆ ---      ┆ ---        │\n",
       "│ i64         ┆ i64      ┆ f64        │\n",
       "╞═════════════╪══════════╪════════════╡\n",
       "│ 1           ┆ 67       ┆ 713.555026 │\n",
       "│ 1           ┆ 67       ┆ 362.682105 │\n",
       "└─────────────┴──────────┴────────────┘"
      ]
     },
     "execution_count": 54,
     "metadata": {},
     "output_type": "execute_result"
    }
   ],
   "source": [
    "df.filter(\n",
    "    col('participant').eq(1),\n",
    "    col('accuracy').eq(67)\n",
    ")"
   ]
  },
  {
   "cell_type": "markdown",
   "metadata": {},
   "source": [
    "But you might find it clearer to use `&` for **and** expressions:"
   ]
  },
  {
   "cell_type": "code",
   "execution_count": 55,
   "metadata": {},
   "outputs": [
    {
     "data": {
      "text/html": [
       "<div><style>\n",
       ".dataframe > thead > tr,\n",
       ".dataframe > tbody > tr {\n",
       "  text-align: right;\n",
       "  white-space: pre-wrap;\n",
       "}\n",
       "</style>\n",
       "<small>shape: (2, 3)</small><table border=\"1\" class=\"dataframe\"><thead><tr><th>participant</th><th>accuracy</th><th>rt</th></tr><tr><td>i64</td><td>i64</td><td>f64</td></tr></thead><tbody><tr><td>1</td><td>67</td><td>713.555026</td></tr><tr><td>1</td><td>67</td><td>362.682105</td></tr></tbody></table></div>"
      ],
      "text/plain": [
       "shape: (2, 3)\n",
       "┌─────────────┬──────────┬────────────┐\n",
       "│ participant ┆ accuracy ┆ rt         │\n",
       "│ ---         ┆ ---      ┆ ---        │\n",
       "│ i64         ┆ i64      ┆ f64        │\n",
       "╞═════════════╪══════════╪════════════╡\n",
       "│ 1           ┆ 67       ┆ 713.555026 │\n",
       "│ 1           ┆ 67       ┆ 362.682105 │\n",
       "└─────────────┴──────────┴────────────┘"
      ]
     },
     "execution_count": 55,
     "metadata": {},
     "output_type": "execute_result"
    }
   ],
   "source": [
    "df.filter(\n",
    "    col('participant').eq(1) & col('accuracy').eq(67)\n",
    ")"
   ]
  },
  {
   "cell_type": "markdown",
   "metadata": {},
   "source": [
    "The `|` operator can be used for **or** expressions"
   ]
  },
  {
   "cell_type": "code",
   "execution_count": 56,
   "metadata": {},
   "outputs": [
    {
     "data": {
      "text/html": [
       "<div><style>\n",
       ".dataframe > thead > tr,\n",
       ".dataframe > tbody > tr {\n",
       "  text-align: right;\n",
       "  white-space: pre-wrap;\n",
       "}\n",
       "</style>\n",
       "<small>shape: (10, 3)</small><table border=\"1\" class=\"dataframe\"><thead><tr><th>participant</th><th>accuracy</th><th>rt</th></tr><tr><td>i64</td><td>i64</td><td>f64</td></tr></thead><tbody><tr><td>1</td><td>44</td><td>261.28435</td></tr><tr><td>1</td><td>47</td><td>728.208489</td></tr><tr><td>1</td><td>64</td><td>801.889016</td></tr><tr><td>1</td><td>67</td><td>713.555026</td></tr><tr><td>1</td><td>67</td><td>362.682105</td></tr><tr><td>3</td><td>70</td><td>439.524973</td></tr><tr><td>3</td><td>88</td><td>55.11928</td></tr><tr><td>3</td><td>88</td><td>644.801272</td></tr><tr><td>3</td><td>12</td><td>571.800553</td></tr><tr><td>3</td><td>58</td><td>715.224208</td></tr></tbody></table></div>"
      ],
      "text/plain": [
       "shape: (10, 3)\n",
       "┌─────────────┬──────────┬────────────┐\n",
       "│ participant ┆ accuracy ┆ rt         │\n",
       "│ ---         ┆ ---      ┆ ---        │\n",
       "│ i64         ┆ i64      ┆ f64        │\n",
       "╞═════════════╪══════════╪════════════╡\n",
       "│ 1           ┆ 44       ┆ 261.28435  │\n",
       "│ 1           ┆ 47       ┆ 728.208489 │\n",
       "│ 1           ┆ 64       ┆ 801.889016 │\n",
       "│ 1           ┆ 67       ┆ 713.555026 │\n",
       "│ 1           ┆ 67       ┆ 362.682105 │\n",
       "│ 3           ┆ 70       ┆ 439.524973 │\n",
       "│ 3           ┆ 88       ┆ 55.11928   │\n",
       "│ 3           ┆ 88       ┆ 644.801272 │\n",
       "│ 3           ┆ 12       ┆ 571.800553 │\n",
       "│ 3           ┆ 58       ┆ 715.224208 │\n",
       "└─────────────┴──────────┴────────────┘"
      ]
     },
     "execution_count": 56,
     "metadata": {},
     "output_type": "execute_result"
    }
   ],
   "source": [
    "df.filter(\n",
    "    col('participant').eq(1) | col('participant').eq(3)\n",
    ")"
   ]
  },
  {
   "cell_type": "markdown",
   "metadata": {},
   "source": [
    "To combine more complicated **logical expressions**, you can wrap them in `()`. \n",
    "\n",
    "Below we get rows where participant 1's accuracy is 67 OR any of participant 2's rows:"
   ]
  },
  {
   "cell_type": "code",
   "execution_count": 57,
   "metadata": {},
   "outputs": [
    {
     "data": {
      "text/html": [
       "<div><style>\n",
       ".dataframe > thead > tr,\n",
       ".dataframe > tbody > tr {\n",
       "  text-align: right;\n",
       "  white-space: pre-wrap;\n",
       "}\n",
       "</style>\n",
       "<small>shape: (7, 3)</small><table border=\"1\" class=\"dataframe\"><thead><tr><th>participant</th><th>accuracy</th><th>rt</th></tr><tr><td>i64</td><td>i64</td><td>f64</td></tr></thead><tbody><tr><td>1</td><td>67</td><td>713.555026</td></tr><tr><td>1</td><td>67</td><td>362.682105</td></tr><tr><td>2</td><td>9</td><td>502.974663</td></tr><tr><td>2</td><td>83</td><td>424.866821</td></tr><tr><td>2</td><td>21</td><td>492.355273</td></tr><tr><td>2</td><td>36</td><td>573.594895</td></tr><tr><td>2</td><td>87</td><td>491.05526</td></tr></tbody></table></div>"
      ],
      "text/plain": [
       "shape: (7, 3)\n",
       "┌─────────────┬──────────┬────────────┐\n",
       "│ participant ┆ accuracy ┆ rt         │\n",
       "│ ---         ┆ ---      ┆ ---        │\n",
       "│ i64         ┆ i64      ┆ f64        │\n",
       "╞═════════════╪══════════╪════════════╡\n",
       "│ 1           ┆ 67       ┆ 713.555026 │\n",
       "│ 1           ┆ 67       ┆ 362.682105 │\n",
       "│ 2           ┆ 9        ┆ 502.974663 │\n",
       "│ 2           ┆ 83       ┆ 424.866821 │\n",
       "│ 2           ┆ 21       ┆ 492.355273 │\n",
       "│ 2           ┆ 36       ┆ 573.594895 │\n",
       "│ 2           ┆ 87       ┆ 491.05526  │\n",
       "└─────────────┴──────────┴────────────┘"
      ]
     },
     "execution_count": 57,
     "metadata": {},
     "output_type": "execute_result"
    }
   ],
   "source": [
    "df.filter(\n",
    "    ( col('participant').eq(1) & col('accuracy').eq(67) ) | col('participant').eq(2)\n",
    ")"
   ]
  },
  {
   "cell_type": "markdown",
   "metadata": {},
   "source": [
    "### Two \"styles\" of logical expression\n",
    "\n",
    "Like renaming the outputs of an expression, Polars gives us 2 styles we can use to combine logical expressions.  \n",
    "We've seen the first one using `&` and `|`.  \n",
    "\n",
    "The second one uses the *method-chaining* style with the `.` syntax. Here Polars provides a `.and_()` and a `.or_()` method.\n",
    "\n",
    "Feel free to use which every style you find more intuitive and readable:"
   ]
  },
  {
   "cell_type": "code",
   "execution_count": null,
   "metadata": {},
   "outputs": [
    {
     "data": {
      "text/html": [
       "<div><style>\n",
       ".dataframe > thead > tr,\n",
       ".dataframe > tbody > tr {\n",
       "  text-align: right;\n",
       "  white-space: pre-wrap;\n",
       "}\n",
       "</style>\n",
       "<small>shape: (7, 3)</small><table border=\"1\" class=\"dataframe\"><thead><tr><th>participant</th><th>accuracy</th><th>rt</th></tr><tr><td>i64</td><td>i64</td><td>f64</td></tr></thead><tbody><tr><td>1</td><td>67</td><td>713.555026</td></tr><tr><td>1</td><td>67</td><td>362.682105</td></tr><tr><td>2</td><td>9</td><td>502.974663</td></tr><tr><td>2</td><td>83</td><td>424.866821</td></tr><tr><td>2</td><td>21</td><td>492.355273</td></tr><tr><td>2</td><td>36</td><td>573.594895</td></tr><tr><td>2</td><td>87</td><td>491.05526</td></tr></tbody></table></div>"
      ],
      "text/plain": [
       "shape: (7, 3)\n",
       "┌─────────────┬──────────┬────────────┐\n",
       "│ participant ┆ accuracy ┆ rt         │\n",
       "│ ---         ┆ ---      ┆ ---        │\n",
       "│ i64         ┆ i64      ┆ f64        │\n",
       "╞═════════════╪══════════╪════════════╡\n",
       "│ 1           ┆ 67       ┆ 713.555026 │\n",
       "│ 1           ┆ 67       ┆ 362.682105 │\n",
       "│ 2           ┆ 9        ┆ 502.974663 │\n",
       "│ 2           ┆ 83       ┆ 424.866821 │\n",
       "│ 2           ┆ 21       ┆ 492.355273 │\n",
       "│ 2           ┆ 36       ┆ 573.594895 │\n",
       "│ 2           ┆ 87       ┆ 491.05526  │\n",
       "└─────────────┴──────────┴────────────┘"
      ]
     },
     "execution_count": 58,
     "metadata": {},
     "output_type": "execute_result"
    }
   ],
   "source": [
    "df.filter(\n",
    "    col('participant').eq(1).and_(   # <- 1st expression, followed by .and_()\n",
    "        col('accuracy').eq(67)       # <- 2nd expression, followed by .or_()\n",
    "    ).or_(\n",
    "        col('participant').eq(2)     # <- 3rd expression, inside the .or_()\n",
    "        )\n",
    ")"
   ]
  },
  {
   "cell_type": "markdown",
   "metadata": {},
   "source": [
    "## Expressions are for performing *operations*"
   ]
  },
  {
   "cell_type": "markdown",
   "metadata": {},
   "source": [
    "So far we've see how to build up an **expression** that computes some value, e.g. `.mean()` or performs some logic, e.g. `.eq()`. \n",
    "\n",
    "Polars calls these computations *operations* and include **tons** of them (accesible via `.` syntax). Some of the notable ones include:\n",
    "\n",
    "[Arthmetic](https://docs.pola.rs/api/python/stable/reference/expressions/operators.html#numeric), e.g. `.add`, `.sub`, `.mul`\n",
    "\n",
    "[Boolean](https://docs.pola.rs/api/python/stable/reference/expressions/boolean.html), e.g. `.all`, `.any`, `.is_null`, `.is_not_null`\n",
    "\n",
    "[Summary (aggregate) stats](https://docs.pola.rs/api/python/stable/reference/expressions/aggregation.html), e.g. `.mean`, `.median`, `.std`, `.count`\n",
    "\n",
    "[Comparison](https://docs.pola.rs/api/python/stable/reference/expressions/operators.html#comparison), e.g. `.gt`, `.lt`, `.gte`, `.lte`, `.eq`, `.ne`."
   ]
  },
  {
   "cell_type": "markdown",
   "metadata": {},
   "source": [
    "### Your Turn\n",
    "\n",
    "Use the linked documentation and contexts you learned about above to complete the following exercises:"
   ]
  },
  {
   "cell_type": "markdown",
   "metadata": {},
   "source": [
    "1. Select the accuracy and RT columns from `df` and multiply them by 10"
   ]
  },
  {
   "cell_type": "code",
   "execution_count": null,
   "metadata": {},
   "outputs": [],
   "source": [
    "# Your code here"
   ]
  },
  {
   "cell_type": "code",
   "execution_count": 59,
   "metadata": {
    "tags": [
     "remove-cell"
    ]
   },
   "outputs": [
    {
     "data": {
      "text/html": [
       "<div><style>\n",
       ".dataframe > thead > tr,\n",
       ".dataframe > tbody > tr {\n",
       "  text-align: right;\n",
       "  white-space: pre-wrap;\n",
       "}\n",
       "</style>\n",
       "<small>shape: (15, 2)</small><table border=\"1\" class=\"dataframe\"><thead><tr><th>accuracy</th><th>rt</th></tr><tr><td>i64</td><td>f64</td></tr></thead><tbody><tr><td>440</td><td>2612.843496</td></tr><tr><td>470</td><td>7282.084892</td></tr><tr><td>640</td><td>8018.890165</td></tr><tr><td>670</td><td>7135.550259</td></tr><tr><td>670</td><td>3626.821046</td></tr><tr><td>&hellip;</td><td>&hellip;</td></tr><tr><td>700</td><td>4395.249735</td></tr><tr><td>880</td><td>551.192796</td></tr><tr><td>880</td><td>6448.012718</td></tr><tr><td>120</td><td>5718.005529</td></tr><tr><td>580</td><td>7152.242075</td></tr></tbody></table></div>"
      ],
      "text/plain": [
       "shape: (15, 2)\n",
       "┌──────────┬─────────────┐\n",
       "│ accuracy ┆ rt          │\n",
       "│ ---      ┆ ---         │\n",
       "│ i64      ┆ f64         │\n",
       "╞══════════╪═════════════╡\n",
       "│ 440      ┆ 2612.843496 │\n",
       "│ 470      ┆ 7282.084892 │\n",
       "│ 640      ┆ 8018.890165 │\n",
       "│ 670      ┆ 7135.550259 │\n",
       "│ 670      ┆ 3626.821046 │\n",
       "│ …        ┆ …           │\n",
       "│ 700      ┆ 4395.249735 │\n",
       "│ 880      ┆ 551.192796  │\n",
       "│ 880      ┆ 6448.012718 │\n",
       "│ 120      ┆ 5718.005529 │\n",
       "│ 580      ┆ 7152.242075 │\n",
       "└──────────┴─────────────┘"
      ]
     },
     "execution_count": 59,
     "metadata": {},
     "output_type": "execute_result"
    }
   ],
   "source": [
    "# Solution\n",
    "df.select(\n",
    "    col('accuracy', 'rt') * 10\n",
    ")"
   ]
  },
  {
   "cell_type": "markdown",
   "metadata": {},
   "source": [
    "2. Add 2 new columns to the dataframe: `rt_acc` and `acc_max_scaled`\n",
    "\n",
    "For `rt_acc` divide reaction time by accuracy.\n",
    "\n",
    "For `acc_max_scaled` divide accuracy by maximum accuracy, separately by participant."
   ]
  },
  {
   "cell_type": "code",
   "execution_count": null,
   "metadata": {},
   "outputs": [],
   "source": [
    "# Your code here"
   ]
  },
  {
   "cell_type": "code",
   "execution_count": null,
   "metadata": {
    "tags": [
     "remove-cell"
    ]
   },
   "outputs": [],
   "source": [
    "# Solution\n",
    "df.with_columns(\n",
    "    rt_acc = col('rt') / col('accuracy'),\n",
    "    acc_max_scaled = ( col('accuracy') / col('accuracy').max() ).over('participant')\n",
    ")"
   ]
  },
  {
   "cell_type": "markdown",
   "metadata": {},
   "source": [
    "3. Filter rows where reaction time is > 100ms and < 725ms"
   ]
  },
  {
   "cell_type": "code",
   "execution_count": null,
   "metadata": {},
   "outputs": [],
   "source": [
    "# Your code here\n",
    "\n",
    "# Hint: You should write a logical expression "
   ]
  },
  {
   "cell_type": "code",
   "execution_count": null,
   "metadata": {
    "tags": [
     "remove-cell"
    ]
   },
   "outputs": [],
   "source": [
    "df.filter(\n",
    "    col('rt').ge(100) & col('rt').lt(725)\n",
    ")"
   ]
  },
  {
   "cell_type": "code",
   "execution_count": null,
   "metadata": {
    "tags": [
     "remove-cell"
    ]
   },
   "outputs": [],
   "source": [
    "df.filter(\n",
    "    col('rt').is_between(100, 725)\n",
    ")"
   ]
  },
  {
   "cell_type": "markdown",
   "metadata": {},
   "source": [
    "## Saving re-usable expressions"
   ]
  },
  {
   "cell_type": "markdown",
   "metadata": {},
   "source": [
    "When you find yourself creating complex **expressions** that you want to re-use later on, perhaps across other DataFrames, you can save them as re-usable functions!\n",
    "\n",
    "For example, Polars doesn't include an operations to calculate a z-score by default. But we know how to do that manually. So let's create a function called `scale` that defines an **expression** we can reuse."
   ]
  },
  {
   "cell_type": "code",
   "execution_count": 61,
   "metadata": {},
   "outputs": [],
   "source": [
    "def scale(column_name):\n",
    "    \"\"\"Reminder:\n",
    "        z-score = (x - x.mean() / x.std())\n",
    "    \"\"\"\n",
    "    return (col(column_name) - col(column_name).mean()) / col(column_name).std()"
   ]
  },
  {
   "cell_type": "markdown",
   "metadata": {},
   "source": [
    "This is a function that accepts a single argument `column_name`, and then uses the `col` *selector* from Polars to select a column and calculate it's z-score. \n",
    "\n",
    "We can now use this **expression** in any **context** saves us a ton of typing and typos!\n",
    "\n",
    "For example just across all accuracy scores:"
   ]
  },
  {
   "cell_type": "code",
   "execution_count": 62,
   "metadata": {},
   "outputs": [
    {
     "data": {
      "text/html": [
       "<div><style>\n",
       ".dataframe > thead > tr,\n",
       ".dataframe > tbody > tr {\n",
       "  text-align: right;\n",
       "  white-space: pre-wrap;\n",
       "}\n",
       "</style>\n",
       "<small>shape: (15, 1)</small><table border=\"1\" class=\"dataframe\"><thead><tr><th>acc_z</th></tr><tr><td>f64</td></tr></thead><tbody><tr><td>-0.446194</td></tr><tr><td>-0.335262</td></tr><tr><td>0.293354</td></tr><tr><td>0.404287</td></tr><tr><td>0.404287</td></tr><tr><td>&hellip;</td></tr><tr><td>0.515219</td></tr><tr><td>1.180812</td></tr><tr><td>1.180812</td></tr><tr><td>-1.629472</td></tr><tr><td>0.07149</td></tr></tbody></table></div>"
      ],
      "text/plain": [
       "shape: (15, 1)\n",
       "┌───────────┐\n",
       "│ acc_z     │\n",
       "│ ---       │\n",
       "│ f64       │\n",
       "╞═══════════╡\n",
       "│ -0.446194 │\n",
       "│ -0.335262 │\n",
       "│ 0.293354  │\n",
       "│ 0.404287  │\n",
       "│ 0.404287  │\n",
       "│ …         │\n",
       "│ 0.515219  │\n",
       "│ 1.180812  │\n",
       "│ 1.180812  │\n",
       "│ -1.629472 │\n",
       "│ 0.07149   │\n",
       "└───────────┘"
      ]
     },
     "execution_count": 62,
     "metadata": {},
     "output_type": "execute_result"
    }
   ],
   "source": [
    "df.select(\n",
    "    acc_z = scale('accuracy')\n",
    ")"
   ]
  },
  {
   "cell_type": "markdown",
   "metadata": {},
   "source": [
    "Or as a more realistic example: z-score separately by participant\n",
    "\n",
    "This is a great example of where `.with_columns` + `.over()` can come in super-handy.\n",
    "\n",
    "Because our function returns an **expression** we can call operations on it just like any other expression:"
   ]
  },
  {
   "cell_type": "code",
   "execution_count": 63,
   "metadata": {},
   "outputs": [
    {
     "data": {
      "text/html": [
       "<div><style>\n",
       ".dataframe > thead > tr,\n",
       ".dataframe > tbody > tr {\n",
       "  text-align: right;\n",
       "  white-space: pre-wrap;\n",
       "}\n",
       "</style>\n",
       "<small>shape: (15, 5)</small><table border=\"1\" class=\"dataframe\"><thead><tr><th>participant</th><th>accuracy</th><th>rt</th><th>acc_z</th><th>rt_z</th></tr><tr><td>i64</td><td>i64</td><td>f64</td><td>f64</td><td>f64</td></tr></thead><tbody><tr><td>1</td><td>44</td><td>261.28435</td><td>-1.216438</td><td>-1.281041</td></tr><tr><td>1</td><td>47</td><td>728.208489</td><td>-0.951995</td><td>0.634633</td></tr><tr><td>1</td><td>64</td><td>801.889016</td><td>0.546515</td><td>0.936926</td></tr><tr><td>1</td><td>67</td><td>713.555026</td><td>0.810958</td><td>0.574513</td></tr><tr><td>1</td><td>67</td><td>362.682105</td><td>0.810958</td><td>-0.865031</td></tr><tr><td>&hellip;</td><td>&hellip;</td><td>&hellip;</td><td>&hellip;</td><td>&hellip;</td></tr><tr><td>3</td><td>70</td><td>439.524973</td><td>0.217085</td><td>-0.175214</td></tr><tr><td>3</td><td>88</td><td>55.11928</td><td>0.791722</td><td>-1.646805</td></tr><tr><td>3</td><td>88</td><td>644.801272</td><td>0.791722</td><td>0.610629</td></tr><tr><td>3</td><td>12</td><td>571.800553</td><td>-1.634524</td><td>0.331166</td></tr><tr><td>3</td><td>58</td><td>715.224208</td><td>-0.166006</td><td>0.880224</td></tr></tbody></table></div>"
      ],
      "text/plain": [
       "shape: (15, 5)\n",
       "┌─────────────┬──────────┬────────────┬───────────┬───────────┐\n",
       "│ participant ┆ accuracy ┆ rt         ┆ acc_z     ┆ rt_z      │\n",
       "│ ---         ┆ ---      ┆ ---        ┆ ---       ┆ ---       │\n",
       "│ i64         ┆ i64      ┆ f64        ┆ f64       ┆ f64       │\n",
       "╞═════════════╪══════════╪════════════╪═══════════╪═══════════╡\n",
       "│ 1           ┆ 44       ┆ 261.28435  ┆ -1.216438 ┆ -1.281041 │\n",
       "│ 1           ┆ 47       ┆ 728.208489 ┆ -0.951995 ┆ 0.634633  │\n",
       "│ 1           ┆ 64       ┆ 801.889016 ┆ 0.546515  ┆ 0.936926  │\n",
       "│ 1           ┆ 67       ┆ 713.555026 ┆ 0.810958  ┆ 0.574513  │\n",
       "│ 1           ┆ 67       ┆ 362.682105 ┆ 0.810958  ┆ -0.865031 │\n",
       "│ …           ┆ …        ┆ …          ┆ …         ┆ …         │\n",
       "│ 3           ┆ 70       ┆ 439.524973 ┆ 0.217085  ┆ -0.175214 │\n",
       "│ 3           ┆ 88       ┆ 55.11928   ┆ 0.791722  ┆ -1.646805 │\n",
       "│ 3           ┆ 88       ┆ 644.801272 ┆ 0.791722  ┆ 0.610629  │\n",
       "│ 3           ┆ 12       ┆ 571.800553 ┆ -1.634524 ┆ 0.331166  │\n",
       "│ 3           ┆ 58       ┆ 715.224208 ┆ -0.166006 ┆ 0.880224  │\n",
       "└─────────────┴──────────┴────────────┴───────────┴───────────┘"
      ]
     },
     "execution_count": 63,
     "metadata": {},
     "output_type": "execute_result"
    }
   ],
   "source": [
    "# .over() works with our scale() function\n",
    "# because it return a Polars expression!\n",
    "\n",
    "df.with_columns(\n",
    "    acc_z = scale('accuracy').over('participant'),\n",
    "    rt_z = scale('rt').over('participant')\n",
    ")"
   ]
  },
  {
   "cell_type": "markdown",
   "metadata": {},
   "source": [
    "This is entirely equivalent to the following code, but *so* much **easier to read** and *so* much **less potential for errors** when typing:"
   ]
  },
  {
   "cell_type": "code",
   "execution_count": 64,
   "metadata": {},
   "outputs": [
    {
     "data": {
      "text/html": [
       "<div><style>\n",
       ".dataframe > thead > tr,\n",
       ".dataframe > tbody > tr {\n",
       "  text-align: right;\n",
       "  white-space: pre-wrap;\n",
       "}\n",
       "</style>\n",
       "<small>shape: (15, 5)</small><table border=\"1\" class=\"dataframe\"><thead><tr><th>participant</th><th>accuracy</th><th>rt</th><th>acc_z</th><th>rt_z</th></tr><tr><td>i64</td><td>i64</td><td>f64</td><td>f64</td><td>f64</td></tr></thead><tbody><tr><td>1</td><td>44</td><td>261.28435</td><td>-1.216438</td><td>-1.281041</td></tr><tr><td>1</td><td>47</td><td>728.208489</td><td>-0.951995</td><td>0.634633</td></tr><tr><td>1</td><td>64</td><td>801.889016</td><td>0.546515</td><td>0.936926</td></tr><tr><td>1</td><td>67</td><td>713.555026</td><td>0.810958</td><td>0.574513</td></tr><tr><td>1</td><td>67</td><td>362.682105</td><td>0.810958</td><td>-0.865031</td></tr><tr><td>&hellip;</td><td>&hellip;</td><td>&hellip;</td><td>&hellip;</td><td>&hellip;</td></tr><tr><td>3</td><td>70</td><td>439.524973</td><td>0.217085</td><td>-0.175214</td></tr><tr><td>3</td><td>88</td><td>55.11928</td><td>0.791722</td><td>-1.646805</td></tr><tr><td>3</td><td>88</td><td>644.801272</td><td>0.791722</td><td>0.610629</td></tr><tr><td>3</td><td>12</td><td>571.800553</td><td>-1.634524</td><td>0.331166</td></tr><tr><td>3</td><td>58</td><td>715.224208</td><td>-0.166006</td><td>0.880224</td></tr></tbody></table></div>"
      ],
      "text/plain": [
       "shape: (15, 5)\n",
       "┌─────────────┬──────────┬────────────┬───────────┬───────────┐\n",
       "│ participant ┆ accuracy ┆ rt         ┆ acc_z     ┆ rt_z      │\n",
       "│ ---         ┆ ---      ┆ ---        ┆ ---       ┆ ---       │\n",
       "│ i64         ┆ i64      ┆ f64        ┆ f64       ┆ f64       │\n",
       "╞═════════════╪══════════╪════════════╪═══════════╪═══════════╡\n",
       "│ 1           ┆ 44       ┆ 261.28435  ┆ -1.216438 ┆ -1.281041 │\n",
       "│ 1           ┆ 47       ┆ 728.208489 ┆ -0.951995 ┆ 0.634633  │\n",
       "│ 1           ┆ 64       ┆ 801.889016 ┆ 0.546515  ┆ 0.936926  │\n",
       "│ 1           ┆ 67       ┆ 713.555026 ┆ 0.810958  ┆ 0.574513  │\n",
       "│ 1           ┆ 67       ┆ 362.682105 ┆ 0.810958  ┆ -0.865031 │\n",
       "│ …           ┆ …        ┆ …          ┆ …         ┆ …         │\n",
       "│ 3           ┆ 70       ┆ 439.524973 ┆ 0.217085  ┆ -0.175214 │\n",
       "│ 3           ┆ 88       ┆ 55.11928   ┆ 0.791722  ┆ -1.646805 │\n",
       "│ 3           ┆ 88       ┆ 644.801272 ┆ 0.791722  ┆ 0.610629  │\n",
       "│ 3           ┆ 12       ┆ 571.800553 ┆ -1.634524 ┆ 0.331166  │\n",
       "│ 3           ┆ 58       ┆ 715.224208 ┆ -0.166006 ┆ 0.880224  │\n",
       "└─────────────┴──────────┴────────────┴───────────┴───────────┘"
      ]
     },
     "execution_count": 64,
     "metadata": {},
     "output_type": "execute_result"
    }
   ],
   "source": [
    "df.with_columns(\n",
    "    acc_z = (( col('accuracy') - col('accuracy').mean() )/col('accuracy').std()).over('participant'),\n",
    "    rt_z = (( col('rt') - col('rt').mean() )/col('rt').std()).over('participant'),\n",
    ")"
   ]
  },
  {
   "cell_type": "markdown",
   "metadata": {},
   "source": [
    "As you're thinking about how to manipulate data, think about saving an **expression** you find yourself using a lot as function!  \n",
    "In fact Python as a short-hand way to writing 1-line functions using the `lambda` keyword.\n",
    "\n",
    "```python\n",
    "\n",
    "scale = lambda column_name: (col(column_name) - col(column_name).mean()) / col(column_name).std()\n",
    "\n",
    "```\n"
   ]
  },
  {
   "cell_type": "markdown",
   "metadata": {},
   "source": [
    "\n",
    "This is the same as the function we defined above with `def`, reproduced here:\n",
    "\n",
    "```python\n",
    "def scale(column_name):\n",
    "    \"\"\"Reminder:\n",
    "        z-score = (x - x.mean() / x.std())\n",
    "    \"\"\"\n",
    "    return (col(column_name) - col(column_name).mean()) / col(column_name).std()\n",
    "\n",
    "```\n",
    "\n"
   ]
  },
  {
   "cell_type": "markdown",
   "metadata": {},
   "source": [
    "The structure of a one-line `lambda` function is:\n",
    "\n",
    "```python\n",
    "name_you_want = lambda input_arg: body\n",
    "```\n",
    "\n",
    "\n",
    "And it's possible to pass multiple inputs by separating them with a `,`:\n",
    "\n",
    "```python\n",
    "name_you_want = lambda input_arg1, input_arg_2: body\n",
    "```"
   ]
  },
  {
   "cell_type": "markdown",
   "metadata": {},
   "source": [
    "### Your turn\n",
    "\n",
    "Create a Polars expression that mean-centers a column. You can use `def` or `lambda` whatever feels more comfortable right now"
   ]
  },
  {
   "cell_type": "code",
   "execution_count": null,
   "metadata": {},
   "outputs": [],
   "source": [
    "# Your code here"
   ]
  },
  {
   "cell_type": "code",
   "execution_count": 65,
   "metadata": {
    "tags": [
     "remove-cell"
    ]
   },
   "outputs": [],
   "source": [
    "center = lambda name: col(name) - col(name).mean()"
   ]
  },
  {
   "cell_type": "markdown",
   "metadata": {},
   "source": [
    "Add 2 new columns to the `df` DataFrame that include mean-centered accuracy, and mean-centered RT"
   ]
  },
  {
   "cell_type": "code",
   "execution_count": null,
   "metadata": {},
   "outputs": [],
   "source": [
    "# Your code here"
   ]
  },
  {
   "cell_type": "code",
   "execution_count": 66,
   "metadata": {
    "tags": [
     "remove-cell"
    ]
   },
   "outputs": [
    {
     "data": {
      "text/html": [
       "<div><style>\n",
       ".dataframe > thead > tr,\n",
       ".dataframe > tbody > tr {\n",
       "  text-align: right;\n",
       "  white-space: pre-wrap;\n",
       "}\n",
       "</style>\n",
       "<small>shape: (15, 5)</small><table border=\"1\" class=\"dataframe\"><thead><tr><th>participant</th><th>accuracy</th><th>rt</th><th>acc_centered</th><th>rt_centered</th></tr><tr><td>i64</td><td>i64</td><td>f64</td><td>f64</td><td>f64</td></tr></thead><tbody><tr><td>1</td><td>44</td><td>261.28435</td><td>-12.066667</td><td>-257.311396</td></tr><tr><td>1</td><td>47</td><td>728.208489</td><td>-9.066667</td><td>209.612744</td></tr><tr><td>1</td><td>64</td><td>801.889016</td><td>7.933333</td><td>283.293271</td></tr><tr><td>1</td><td>67</td><td>713.555026</td><td>10.933333</td><td>194.95928</td></tr><tr><td>1</td><td>67</td><td>362.682105</td><td>10.933333</td><td>-155.913641</td></tr><tr><td>&hellip;</td><td>&hellip;</td><td>&hellip;</td><td>&hellip;</td><td>&hellip;</td></tr><tr><td>3</td><td>70</td><td>439.524973</td><td>13.933333</td><td>-79.070772</td></tr><tr><td>3</td><td>88</td><td>55.11928</td><td>31.933333</td><td>-463.476466</td></tr><tr><td>3</td><td>88</td><td>644.801272</td><td>31.933333</td><td>126.205526</td></tr><tr><td>3</td><td>12</td><td>571.800553</td><td>-44.066667</td><td>53.204807</td></tr><tr><td>3</td><td>58</td><td>715.224208</td><td>1.933333</td><td>196.628462</td></tr></tbody></table></div>"
      ],
      "text/plain": [
       "shape: (15, 5)\n",
       "┌─────────────┬──────────┬────────────┬──────────────┬─────────────┐\n",
       "│ participant ┆ accuracy ┆ rt         ┆ acc_centered ┆ rt_centered │\n",
       "│ ---         ┆ ---      ┆ ---        ┆ ---          ┆ ---         │\n",
       "│ i64         ┆ i64      ┆ f64        ┆ f64          ┆ f64         │\n",
       "╞═════════════╪══════════╪════════════╪══════════════╪═════════════╡\n",
       "│ 1           ┆ 44       ┆ 261.28435  ┆ -12.066667   ┆ -257.311396 │\n",
       "│ 1           ┆ 47       ┆ 728.208489 ┆ -9.066667    ┆ 209.612744  │\n",
       "│ 1           ┆ 64       ┆ 801.889016 ┆ 7.933333     ┆ 283.293271  │\n",
       "│ 1           ┆ 67       ┆ 713.555026 ┆ 10.933333    ┆ 194.95928   │\n",
       "│ 1           ┆ 67       ┆ 362.682105 ┆ 10.933333    ┆ -155.913641 │\n",
       "│ …           ┆ …        ┆ …          ┆ …            ┆ …           │\n",
       "│ 3           ┆ 70       ┆ 439.524973 ┆ 13.933333    ┆ -79.070772  │\n",
       "│ 3           ┆ 88       ┆ 55.11928   ┆ 31.933333    ┆ -463.476466 │\n",
       "│ 3           ┆ 88       ┆ 644.801272 ┆ 31.933333    ┆ 126.205526  │\n",
       "│ 3           ┆ 12       ┆ 571.800553 ┆ -44.066667   ┆ 53.204807   │\n",
       "│ 3           ┆ 58       ┆ 715.224208 ┆ 1.933333     ┆ 196.628462  │\n",
       "└─────────────┴──────────┴────────────┴──────────────┴─────────────┘"
      ]
     },
     "execution_count": 66,
     "metadata": {},
     "output_type": "execute_result"
    }
   ],
   "source": [
    "df.with_columns(\n",
    "    acc_centered = center('accuracy'),\n",
    "    rt_centered = center('rt'),\n",
    ")"
   ]
  },
  {
   "cell_type": "code",
   "execution_count": 138,
   "metadata": {
    "tags": [
     "remove-cell"
    ]
   },
   "outputs": [
    {
     "data": {
      "text/html": [
       "<div><style>\n",
       ".dataframe > thead > tr,\n",
       ".dataframe > tbody > tr {\n",
       "  text-align: right;\n",
       "  white-space: pre-wrap;\n",
       "}\n",
       "</style>\n",
       "<small>shape: (15, 5)</small><table border=\"1\" class=\"dataframe\"><thead><tr><th>participant</th><th>accuracy</th><th>rt</th><th>accuracy_centered</th><th>rt_centered</th></tr><tr><td>i64</td><td>i64</td><td>f64</td><td>f64</td><td>f64</td></tr></thead><tbody><tr><td>1</td><td>44</td><td>261.28435</td><td>-12.066667</td><td>-257.311396</td></tr><tr><td>1</td><td>47</td><td>728.208489</td><td>-9.066667</td><td>209.612744</td></tr><tr><td>1</td><td>64</td><td>801.889016</td><td>7.933333</td><td>283.293271</td></tr><tr><td>1</td><td>67</td><td>713.555026</td><td>10.933333</td><td>194.95928</td></tr><tr><td>1</td><td>67</td><td>362.682105</td><td>10.933333</td><td>-155.913641</td></tr><tr><td>&hellip;</td><td>&hellip;</td><td>&hellip;</td><td>&hellip;</td><td>&hellip;</td></tr><tr><td>3</td><td>70</td><td>439.524973</td><td>13.933333</td><td>-79.070772</td></tr><tr><td>3</td><td>88</td><td>55.11928</td><td>31.933333</td><td>-463.476466</td></tr><tr><td>3</td><td>88</td><td>644.801272</td><td>31.933333</td><td>126.205526</td></tr><tr><td>3</td><td>12</td><td>571.800553</td><td>-44.066667</td><td>53.204807</td></tr><tr><td>3</td><td>58</td><td>715.224208</td><td>1.933333</td><td>196.628462</td></tr></tbody></table></div>"
      ],
      "text/plain": [
       "shape: (15, 5)\n",
       "┌─────────────┬──────────┬────────────┬───────────────────┬─────────────┐\n",
       "│ participant ┆ accuracy ┆ rt         ┆ accuracy_centered ┆ rt_centered │\n",
       "│ ---         ┆ ---      ┆ ---        ┆ ---               ┆ ---         │\n",
       "│ i64         ┆ i64      ┆ f64        ┆ f64               ┆ f64         │\n",
       "╞═════════════╪══════════╪════════════╪═══════════════════╪═════════════╡\n",
       "│ 1           ┆ 44       ┆ 261.28435  ┆ -12.066667        ┆ -257.311396 │\n",
       "│ 1           ┆ 47       ┆ 728.208489 ┆ -9.066667         ┆ 209.612744  │\n",
       "│ 1           ┆ 64       ┆ 801.889016 ┆ 7.933333          ┆ 283.293271  │\n",
       "│ 1           ┆ 67       ┆ 713.555026 ┆ 10.933333         ┆ 194.95928   │\n",
       "│ 1           ┆ 67       ┆ 362.682105 ┆ 10.933333         ┆ -155.913641 │\n",
       "│ …           ┆ …        ┆ …          ┆ …                 ┆ …           │\n",
       "│ 3           ┆ 70       ┆ 439.524973 ┆ 13.933333         ┆ -79.070772  │\n",
       "│ 3           ┆ 88       ┆ 55.11928   ┆ 31.933333         ┆ -463.476466 │\n",
       "│ 3           ┆ 88       ┆ 644.801272 ┆ 31.933333         ┆ 126.205526  │\n",
       "│ 3           ┆ 12       ┆ 571.800553 ┆ -44.066667        ┆ 53.204807   │\n",
       "│ 3           ┆ 58       ┆ 715.224208 ┆ 1.933333          ┆ 196.628462  │\n",
       "└─────────────┴──────────┴────────────┴───────────────────┴─────────────┘"
      ]
     },
     "execution_count": 138,
     "metadata": {},
     "output_type": "execute_result"
    }
   ],
   "source": [
    "center = lambda *args: col(args) - col(args).mean()\n",
    "\n",
    "df.with_columns(\n",
    "    center('accuracy', 'rt').name.suffix('_centered')\n",
    ")"
   ]
  },
  {
   "cell_type": "markdown",
   "metadata": {},
   "source": [
    "## More complex expression with *functions*: `when` and `lit`\n",
    "\n",
    "Polars also offers a few other *operations* as [functions](https://docs.pola.rs/api/python/stable/reference/expressions/functions.html) you can use inside of a **context** for building **expressions**. \n",
    "\n",
    "These are called as `pl.something()` but we can also **directly import** them.\n",
    "\n",
    "You should check out the documentation to see what's possible, but two common ones you're likely to use are `pl.when` and `pl.lit`"
   ]
  },
  {
   "cell_type": "code",
   "execution_count": 68,
   "metadata": {},
   "outputs": [],
   "source": [
    "# Directly import them to make life easier\n",
    "from polars import when, lit"
   ]
  },
  {
   "cell_type": "markdown",
   "metadata": {},
   "source": [
    "`when` lets you run an if-else statement as an expression, which is particularly useful for creating *new columns* based on the values in another column.\n",
    "\n",
    "`lit` works in conjunction with `when` to tell Polars to use the *literal* value of something rather than try to find a corresponding column name:\n",
    "\n",
    "Let's use them together to create a new column that splits participant responses that were faster and slower than 300ms:\n",
    "\n",
    "We'll use the `.with_columns` context, because we want the result of our expression (the new column) **and** the original DataFrame:"
   ]
  },
  {
   "cell_type": "code",
   "execution_count": 69,
   "metadata": {},
   "outputs": [
    {
     "data": {
      "text/html": [
       "<div><style>\n",
       ".dataframe > thead > tr,\n",
       ".dataframe > tbody > tr {\n",
       "  text-align: right;\n",
       "  white-space: pre-wrap;\n",
       "}\n",
       "</style>\n",
       "<small>shape: (15, 4)</small><table border=\"1\" class=\"dataframe\"><thead><tr><th>participant</th><th>accuracy</th><th>rt</th><th>rt_split</th></tr><tr><td>i64</td><td>i64</td><td>f64</td><td>str</td></tr></thead><tbody><tr><td>1</td><td>44</td><td>261.28435</td><td>&quot;fast&quot;</td></tr><tr><td>1</td><td>47</td><td>728.208489</td><td>&quot;slow&quot;</td></tr><tr><td>1</td><td>64</td><td>801.889016</td><td>&quot;slow&quot;</td></tr><tr><td>1</td><td>67</td><td>713.555026</td><td>&quot;slow&quot;</td></tr><tr><td>1</td><td>67</td><td>362.682105</td><td>&quot;slow&quot;</td></tr><tr><td>&hellip;</td><td>&hellip;</td><td>&hellip;</td><td>&hellip;</td></tr><tr><td>3</td><td>70</td><td>439.524973</td><td>&quot;slow&quot;</td></tr><tr><td>3</td><td>88</td><td>55.11928</td><td>&quot;fast&quot;</td></tr><tr><td>3</td><td>88</td><td>644.801272</td><td>&quot;slow&quot;</td></tr><tr><td>3</td><td>12</td><td>571.800553</td><td>&quot;slow&quot;</td></tr><tr><td>3</td><td>58</td><td>715.224208</td><td>&quot;slow&quot;</td></tr></tbody></table></div>"
      ],
      "text/plain": [
       "shape: (15, 4)\n",
       "┌─────────────┬──────────┬────────────┬──────────┐\n",
       "│ participant ┆ accuracy ┆ rt         ┆ rt_split │\n",
       "│ ---         ┆ ---      ┆ ---        ┆ ---      │\n",
       "│ i64         ┆ i64      ┆ f64        ┆ str      │\n",
       "╞═════════════╪══════════╪════════════╪══════════╡\n",
       "│ 1           ┆ 44       ┆ 261.28435  ┆ fast     │\n",
       "│ 1           ┆ 47       ┆ 728.208489 ┆ slow     │\n",
       "│ 1           ┆ 64       ┆ 801.889016 ┆ slow     │\n",
       "│ 1           ┆ 67       ┆ 713.555026 ┆ slow     │\n",
       "│ 1           ┆ 67       ┆ 362.682105 ┆ slow     │\n",
       "│ …           ┆ …        ┆ …          ┆ …        │\n",
       "│ 3           ┆ 70       ┆ 439.524973 ┆ slow     │\n",
       "│ 3           ┆ 88       ┆ 55.11928   ┆ fast     │\n",
       "│ 3           ┆ 88       ┆ 644.801272 ┆ slow     │\n",
       "│ 3           ┆ 12       ┆ 571.800553 ┆ slow     │\n",
       "│ 3           ┆ 58       ┆ 715.224208 ┆ slow     │\n",
       "└─────────────┴──────────┴────────────┴──────────┘"
      ]
     },
     "execution_count": 69,
     "metadata": {},
     "output_type": "execute_result"
    }
   ],
   "source": [
    "ddf = df.with_columns(  # <- another new context like .select\n",
    "\n",
    "    # Create a new column rt_split that contains the result\n",
    "    # of the following if/else statement:\n",
    "\n",
    "    # If RT >= 300\n",
    "    rt_split = when(col('rt') >= 300) # could have used .gte() instead\n",
    "\n",
    "    # Set the value to the lit(eral) string 'slow'\n",
    "    .then(lit('slow'))\n",
    "\n",
    "    # Otherweise, set the value to the lit(eral) string 'fast'\n",
    "    .otherwise(lit('fast'))\n",
    ")\n",
    "\n",
    "# We saved the output to a new variable called ddf\n",
    "ddf"
   ]
  },
  {
   "cell_type": "markdown",
   "metadata": {},
   "source": [
    "### Your turn\n",
    "\n",
    "1. Use `when` and `lit` to add a column to the dataframe called `performance`. \n",
    "\n",
    "It should contain the string 'success' if accuracy >= 50, or 'fail' if it was < 50.\n",
    "\n",
    "Save the result to a new dataframe called `df_new` and print the first 10 rows:"
   ]
  },
  {
   "cell_type": "code",
   "execution_count": null,
   "metadata": {},
   "outputs": [],
   "source": [
    "# Your code here\n",
    "\n"
   ]
  },
  {
   "cell_type": "code",
   "execution_count": 106,
   "metadata": {
    "tags": [
     "remove-cell"
    ]
   },
   "outputs": [
    {
     "data": {
      "text/html": [
       "<div><style>\n",
       ".dataframe > thead > tr,\n",
       ".dataframe > tbody > tr {\n",
       "  text-align: right;\n",
       "  white-space: pre-wrap;\n",
       "}\n",
       "</style>\n",
       "<small>shape: (10, 4)</small><table border=\"1\" class=\"dataframe\"><thead><tr><th>participant</th><th>accuracy</th><th>rt</th><th>performance</th></tr><tr><td>i64</td><td>i64</td><td>f64</td><td>str</td></tr></thead><tbody><tr><td>1</td><td>44</td><td>261.28435</td><td>&quot;fail&quot;</td></tr><tr><td>1</td><td>47</td><td>728.208489</td><td>&quot;fail&quot;</td></tr><tr><td>1</td><td>64</td><td>801.889016</td><td>&quot;success&quot;</td></tr><tr><td>1</td><td>67</td><td>713.555026</td><td>&quot;success&quot;</td></tr><tr><td>1</td><td>67</td><td>362.682105</td><td>&quot;success&quot;</td></tr><tr><td>2</td><td>9</td><td>502.974663</td><td>&quot;fail&quot;</td></tr><tr><td>2</td><td>83</td><td>424.866821</td><td>&quot;success&quot;</td></tr><tr><td>2</td><td>21</td><td>492.355273</td><td>&quot;fail&quot;</td></tr><tr><td>2</td><td>36</td><td>573.594895</td><td>&quot;fail&quot;</td></tr><tr><td>2</td><td>87</td><td>491.05526</td><td>&quot;success&quot;</td></tr></tbody></table></div>"
      ],
      "text/plain": [
       "shape: (10, 4)\n",
       "┌─────────────┬──────────┬────────────┬─────────────┐\n",
       "│ participant ┆ accuracy ┆ rt         ┆ performance │\n",
       "│ ---         ┆ ---      ┆ ---        ┆ ---         │\n",
       "│ i64         ┆ i64      ┆ f64        ┆ str         │\n",
       "╞═════════════╪══════════╪════════════╪═════════════╡\n",
       "│ 1           ┆ 44       ┆ 261.28435  ┆ fail        │\n",
       "│ 1           ┆ 47       ┆ 728.208489 ┆ fail        │\n",
       "│ 1           ┆ 64       ┆ 801.889016 ┆ success     │\n",
       "│ 1           ┆ 67       ┆ 713.555026 ┆ success     │\n",
       "│ 1           ┆ 67       ┆ 362.682105 ┆ success     │\n",
       "│ 2           ┆ 9        ┆ 502.974663 ┆ fail        │\n",
       "│ 2           ┆ 83       ┆ 424.866821 ┆ success     │\n",
       "│ 2           ┆ 21       ┆ 492.355273 ┆ fail        │\n",
       "│ 2           ┆ 36       ┆ 573.594895 ┆ fail        │\n",
       "│ 2           ┆ 87       ┆ 491.05526  ┆ success     │\n",
       "└─────────────┴──────────┴────────────┴─────────────┘"
      ]
     },
     "execution_count": 106,
     "metadata": {},
     "output_type": "execute_result"
    }
   ],
   "source": [
    "df_new = df.with_columns(\n",
    "    performance = when(col('accuracy') >= 50)\n",
    "    .then(lit('success'))\n",
    "    .otherwise(lit('fail'))\n",
    ")\n",
    "df_new.head(10)"
   ]
  },
  {
   "cell_type": "markdown",
   "metadata": {},
   "source": [
    "2. Using the previous dataframe (`df_new`), *summarize* how many successes and failures each participant had.\n",
    "\n",
    "Your result should have 6 rows: 2 for each participant"
   ]
  },
  {
   "cell_type": "code",
   "execution_count": null,
   "metadata": {},
   "outputs": [],
   "source": [
    "# Your code here\n",
    "\n",
    "\n",
    "# Hint: you can group_by multiple columns by passing a list of column names, e.g. \n",
    "\n",
    "# df_new.group_by(['col_1', 'col_2']).agg(...)"
   ]
  },
  {
   "cell_type": "code",
   "execution_count": 114,
   "metadata": {
    "tags": [
     "remove-cell"
    ]
   },
   "outputs": [
    {
     "data": {
      "text/html": [
       "<div><style>\n",
       ".dataframe > thead > tr,\n",
       ".dataframe > tbody > tr {\n",
       "  text-align: right;\n",
       "  white-space: pre-wrap;\n",
       "}\n",
       "</style>\n",
       "<small>shape: (6, 3)</small><table border=\"1\" class=\"dataframe\"><thead><tr><th>participant</th><th>performance</th><th>number_of_trials</th></tr><tr><td>i64</td><td>str</td><td>u32</td></tr></thead><tbody><tr><td>1</td><td>&quot;fail&quot;</td><td>2</td></tr><tr><td>1</td><td>&quot;success&quot;</td><td>3</td></tr><tr><td>2</td><td>&quot;fail&quot;</td><td>3</td></tr><tr><td>2</td><td>&quot;success&quot;</td><td>2</td></tr><tr><td>3</td><td>&quot;success&quot;</td><td>4</td></tr><tr><td>3</td><td>&quot;fail&quot;</td><td>1</td></tr></tbody></table></div>"
      ],
      "text/plain": [
       "shape: (6, 3)\n",
       "┌─────────────┬─────────────┬──────────────────┐\n",
       "│ participant ┆ performance ┆ number_of_trials │\n",
       "│ ---         ┆ ---         ┆ ---              │\n",
       "│ i64         ┆ str         ┆ u32              │\n",
       "╞═════════════╪═════════════╪══════════════════╡\n",
       "│ 1           ┆ fail        ┆ 2                │\n",
       "│ 1           ┆ success     ┆ 3                │\n",
       "│ 2           ┆ fail        ┆ 3                │\n",
       "│ 2           ┆ success     ┆ 2                │\n",
       "│ 3           ┆ success     ┆ 4                │\n",
       "│ 3           ┆ fail        ┆ 1                │\n",
       "└─────────────┴─────────────┴──────────────────┘"
      ]
     },
     "execution_count": 114,
     "metadata": {},
     "output_type": "execute_result"
    }
   ],
   "source": [
    "df_new.group_by([\"participant\", \"performance\"], maintain_order=True).agg(\n",
    "    number_of_trials = col('performance').len()\n",
    ")"
   ]
  },
  {
   "cell_type": "markdown",
   "metadata": {},
   "source": [
    "## More complex expressions with *attribute (type) operations*\n",
    "\n",
    "In addition to importing functions to build more complicated expressions, Polars also allows you to perform specific *operations* based upon the **type** of data in a column. \n",
    "\n",
    "You don't need to import anything to use these. Instead you can use `.` syntax to \"narrow down\" to the type of **data attribute** you want, and then select the operations you would like. \n",
    "\n",
    "For example, we'll use the DataFrame we created in the previous section, `ddf`:\n",
    "\n"
   ]
  },
  {
   "cell_type": "code",
   "execution_count": 70,
   "metadata": {},
   "outputs": [
    {
     "data": {
      "text/html": [
       "<div><style>\n",
       ".dataframe > thead > tr,\n",
       ".dataframe > tbody > tr {\n",
       "  text-align: right;\n",
       "  white-space: pre-wrap;\n",
       "}\n",
       "</style>\n",
       "<small>shape: (5, 4)</small><table border=\"1\" class=\"dataframe\"><thead><tr><th>participant</th><th>accuracy</th><th>rt</th><th>rt_split</th></tr><tr><td>i64</td><td>i64</td><td>f64</td><td>str</td></tr></thead><tbody><tr><td>1</td><td>44</td><td>261.28435</td><td>&quot;fast&quot;</td></tr><tr><td>1</td><td>47</td><td>728.208489</td><td>&quot;slow&quot;</td></tr><tr><td>1</td><td>64</td><td>801.889016</td><td>&quot;slow&quot;</td></tr><tr><td>1</td><td>67</td><td>713.555026</td><td>&quot;slow&quot;</td></tr><tr><td>1</td><td>67</td><td>362.682105</td><td>&quot;slow&quot;</td></tr></tbody></table></div>"
      ],
      "text/plain": [
       "shape: (5, 4)\n",
       "┌─────────────┬──────────┬────────────┬──────────┐\n",
       "│ participant ┆ accuracy ┆ rt         ┆ rt_split │\n",
       "│ ---         ┆ ---      ┆ ---        ┆ ---      │\n",
       "│ i64         ┆ i64      ┆ f64        ┆ str      │\n",
       "╞═════════════╪══════════╪════════════╪══════════╡\n",
       "│ 1           ┆ 44       ┆ 261.28435  ┆ fast     │\n",
       "│ 1           ┆ 47       ┆ 728.208489 ┆ slow     │\n",
       "│ 1           ┆ 64       ┆ 801.889016 ┆ slow     │\n",
       "│ 1           ┆ 67       ┆ 713.555026 ┆ slow     │\n",
       "│ 1           ┆ 67       ┆ 362.682105 ┆ slow     │\n",
       "└─────────────┴──────────┴────────────┴──────────┘"
      ]
     },
     "execution_count": 70,
     "metadata": {},
     "output_type": "execute_result"
    }
   ],
   "source": [
    "ddf.head()"
   ]
  },
  {
   "cell_type": "markdown",
   "metadata": {},
   "source": [
    "To create an expression that converts each value in the new \"rt_split\" column to uppercase.\n",
    "\n",
    "We can do this by *selecting* with `col()` as usual, but then before calling an operation with `.` like before, we first access the `.str` **attribute**, and then call operations that specifically operate on strings!"
   ]
  },
  {
   "cell_type": "code",
   "execution_count": 71,
   "metadata": {},
   "outputs": [
    {
     "data": {
      "text/html": [
       "<div><style>\n",
       ".dataframe > thead > tr,\n",
       ".dataframe > tbody > tr {\n",
       "  text-align: right;\n",
       "  white-space: pre-wrap;\n",
       "}\n",
       "</style>\n",
       "<small>shape: (15, 4)</small><table border=\"1\" class=\"dataframe\"><thead><tr><th>participant</th><th>accuracy</th><th>rt</th><th>rt_split</th></tr><tr><td>i64</td><td>i64</td><td>f64</td><td>str</td></tr></thead><tbody><tr><td>1</td><td>44</td><td>261.28435</td><td>&quot;FAST&quot;</td></tr><tr><td>1</td><td>47</td><td>728.208489</td><td>&quot;SLOW&quot;</td></tr><tr><td>1</td><td>64</td><td>801.889016</td><td>&quot;SLOW&quot;</td></tr><tr><td>1</td><td>67</td><td>713.555026</td><td>&quot;SLOW&quot;</td></tr><tr><td>1</td><td>67</td><td>362.682105</td><td>&quot;SLOW&quot;</td></tr><tr><td>&hellip;</td><td>&hellip;</td><td>&hellip;</td><td>&hellip;</td></tr><tr><td>3</td><td>70</td><td>439.524973</td><td>&quot;SLOW&quot;</td></tr><tr><td>3</td><td>88</td><td>55.11928</td><td>&quot;FAST&quot;</td></tr><tr><td>3</td><td>88</td><td>644.801272</td><td>&quot;SLOW&quot;</td></tr><tr><td>3</td><td>12</td><td>571.800553</td><td>&quot;SLOW&quot;</td></tr><tr><td>3</td><td>58</td><td>715.224208</td><td>&quot;SLOW&quot;</td></tr></tbody></table></div>"
      ],
      "text/plain": [
       "shape: (15, 4)\n",
       "┌─────────────┬──────────┬────────────┬──────────┐\n",
       "│ participant ┆ accuracy ┆ rt         ┆ rt_split │\n",
       "│ ---         ┆ ---      ┆ ---        ┆ ---      │\n",
       "│ i64         ┆ i64      ┆ f64        ┆ str      │\n",
       "╞═════════════╪══════════╪════════════╪══════════╡\n",
       "│ 1           ┆ 44       ┆ 261.28435  ┆ FAST     │\n",
       "│ 1           ┆ 47       ┆ 728.208489 ┆ SLOW     │\n",
       "│ 1           ┆ 64       ┆ 801.889016 ┆ SLOW     │\n",
       "│ 1           ┆ 67       ┆ 713.555026 ┆ SLOW     │\n",
       "│ 1           ┆ 67       ┆ 362.682105 ┆ SLOW     │\n",
       "│ …           ┆ …        ┆ …          ┆ …        │\n",
       "│ 3           ┆ 70       ┆ 439.524973 ┆ SLOW     │\n",
       "│ 3           ┆ 88       ┆ 55.11928   ┆ FAST     │\n",
       "│ 3           ┆ 88       ┆ 644.801272 ┆ SLOW     │\n",
       "│ 3           ┆ 12       ┆ 571.800553 ┆ SLOW     │\n",
       "│ 3           ┆ 58       ┆ 715.224208 ┆ SLOW     │\n",
       "└─────────────┴──────────┴────────────┴──────────┘"
      ]
     },
     "execution_count": 71,
     "metadata": {},
     "output_type": "execute_result"
    }
   ],
   "source": [
    "ddf.with_columns(\n",
    "    col('rt_split').str.to_uppercase() # .uppercase() is only available to str data!\n",
    ")"
   ]
  },
  {
   "cell_type": "markdown",
   "metadata": {},
   "source": [
    "Without `.str` to \"narrow-in\" to the string **attribute** Polars will complain about an `AttributeError`, because only `str` types have a `.to_uppercase()` operation!"
   ]
  },
  {
   "cell_type": "code",
   "execution_count": 72,
   "metadata": {},
   "outputs": [
    {
     "ename": "AttributeError",
     "evalue": "'Expr' object has no attribute 'to_uppercase'",
     "output_type": "error",
     "traceback": [
      "\u001b[0;31m---------------------------------------------------------------------------\u001b[0m",
      "\u001b[0;31mAttributeError\u001b[0m                            Traceback (most recent call last)",
      "Cell \u001b[0;32mIn[72], line 2\u001b[0m\n\u001b[1;32m      1\u001b[0m ddf\u001b[38;5;241m.\u001b[39mwith_columns(\n\u001b[0;32m----> 2\u001b[0m     \u001b[43mcol\u001b[49m\u001b[43m(\u001b[49m\u001b[38;5;124;43m'\u001b[39;49m\u001b[38;5;124;43mrt_split\u001b[39;49m\u001b[38;5;124;43m'\u001b[39;49m\u001b[43m)\u001b[49m\u001b[38;5;241;43m.\u001b[39;49m\u001b[43mto_uppercase\u001b[49m() \u001b[38;5;66;03m# no .str\u001b[39;00m\n\u001b[1;32m      3\u001b[0m )\n",
      "\u001b[0;31mAttributeError\u001b[0m: 'Expr' object has no attribute 'to_uppercase'"
     ]
    }
   ],
   "source": [
    "ddf.with_columns(\n",
    "    col('rt_split').to_uppercase() # no .str\n",
    ")"
   ]
  },
  {
   "cell_type": "markdown",
   "metadata": {},
   "source": [
    "Polars includes many attribute operations. The most common ones you'll use are for working with:\n",
    "\n",
    "**[`.str`](https://docs.pola.rs/api/python/stable/reference/expressions/string.html)**: if your data are strings\n",
    "\n",
    "**[`.name`](https://docs.pola.rs/api/python/stable/reference/expressions/name.html)**: which allows you to quickly change the names of columns from within a more complicated expression.\n",
    "\n",
    "**[`.list`](https://docs.pola.rs/api/python/stable/reference/expressions/list.html)**: if you columns contain Python lists\n",
    "\n"
   ]
  },
  {
   "cell_type": "markdown",
   "metadata": {},
   "source": [
    "For example, below we using a **single expression** inside the `with_columns` context below to calculate the mean of the judgement and rt columns. \n"
   ]
  },
  {
   "cell_type": "code",
   "execution_count": 73,
   "metadata": {},
   "outputs": [
    {
     "data": {
      "text/html": [
       "<div><style>\n",
       ".dataframe > thead > tr,\n",
       ".dataframe > tbody > tr {\n",
       "  text-align: right;\n",
       "  white-space: pre-wrap;\n",
       "}\n",
       "</style>\n",
       "<small>shape: (15, 3)</small><table border=\"1\" class=\"dataframe\"><thead><tr><th>participant</th><th>accuracy</th><th>rt</th></tr><tr><td>i64</td><td>f64</td><td>f64</td></tr></thead><tbody><tr><td>1</td><td>56.066667</td><td>518.595745</td></tr><tr><td>1</td><td>56.066667</td><td>518.595745</td></tr><tr><td>1</td><td>56.066667</td><td>518.595745</td></tr><tr><td>1</td><td>56.066667</td><td>518.595745</td></tr><tr><td>1</td><td>56.066667</td><td>518.595745</td></tr><tr><td>&hellip;</td><td>&hellip;</td><td>&hellip;</td></tr><tr><td>3</td><td>56.066667</td><td>518.595745</td></tr><tr><td>3</td><td>56.066667</td><td>518.595745</td></tr><tr><td>3</td><td>56.066667</td><td>518.595745</td></tr><tr><td>3</td><td>56.066667</td><td>518.595745</td></tr><tr><td>3</td><td>56.066667</td><td>518.595745</td></tr></tbody></table></div>"
      ],
      "text/plain": [
       "shape: (15, 3)\n",
       "┌─────────────┬───────────┬────────────┐\n",
       "│ participant ┆ accuracy  ┆ rt         │\n",
       "│ ---         ┆ ---       ┆ ---        │\n",
       "│ i64         ┆ f64       ┆ f64        │\n",
       "╞═════════════╪═══════════╪════════════╡\n",
       "│ 1           ┆ 56.066667 ┆ 518.595745 │\n",
       "│ 1           ┆ 56.066667 ┆ 518.595745 │\n",
       "│ 1           ┆ 56.066667 ┆ 518.595745 │\n",
       "│ 1           ┆ 56.066667 ┆ 518.595745 │\n",
       "│ 1           ┆ 56.066667 ┆ 518.595745 │\n",
       "│ …           ┆ …         ┆ …          │\n",
       "│ 3           ┆ 56.066667 ┆ 518.595745 │\n",
       "│ 3           ┆ 56.066667 ┆ 518.595745 │\n",
       "│ 3           ┆ 56.066667 ┆ 518.595745 │\n",
       "│ 3           ┆ 56.066667 ┆ 518.595745 │\n",
       "│ 3           ┆ 56.066667 ┆ 518.595745 │\n",
       "└─────────────┴───────────┴────────────┘"
      ]
     },
     "execution_count": 73,
     "metadata": {},
     "output_type": "execute_result"
    }
   ],
   "source": [
    "df.with_columns(\n",
    "    col('accuracy', 'rt').mean()\n",
    ")"
   ]
  },
  {
   "cell_type": "markdown",
   "metadata": {},
   "source": [
    "Because we're using `.with_columns`, the output of our expression is **overwriting** the original values in the accuracy and rt columns.\n",
    "\n",
    "We saw how rename output when we had **separate** `col('accuracy').mean()` and `col('rt').mean()` **expressions**: using `.alias()` at the end or `=` at the beginning.\n",
    "\n",
    "But how do we chage the names of *both* columns **at the same time**?\n",
    "\n",
    "But accessing the `.name` attribute gives us access to additional *operations* that help us out. In this case we use the `.suffix()` operation to add a suffix to the output `name`(s)."
   ]
  },
  {
   "cell_type": "code",
   "execution_count": 74,
   "metadata": {},
   "outputs": [
    {
     "data": {
      "text/html": [
       "<div><style>\n",
       ".dataframe > thead > tr,\n",
       ".dataframe > tbody > tr {\n",
       "  text-align: right;\n",
       "  white-space: pre-wrap;\n",
       "}\n",
       "</style>\n",
       "<small>shape: (15, 5)</small><table border=\"1\" class=\"dataframe\"><thead><tr><th>participant</th><th>accuracy</th><th>rt</th><th>accuracy_mean</th><th>rt_mean</th></tr><tr><td>i64</td><td>i64</td><td>f64</td><td>f64</td><td>f64</td></tr></thead><tbody><tr><td>1</td><td>44</td><td>261.28435</td><td>56.066667</td><td>518.595745</td></tr><tr><td>1</td><td>47</td><td>728.208489</td><td>56.066667</td><td>518.595745</td></tr><tr><td>1</td><td>64</td><td>801.889016</td><td>56.066667</td><td>518.595745</td></tr><tr><td>1</td><td>67</td><td>713.555026</td><td>56.066667</td><td>518.595745</td></tr><tr><td>1</td><td>67</td><td>362.682105</td><td>56.066667</td><td>518.595745</td></tr><tr><td>&hellip;</td><td>&hellip;</td><td>&hellip;</td><td>&hellip;</td><td>&hellip;</td></tr><tr><td>3</td><td>70</td><td>439.524973</td><td>56.066667</td><td>518.595745</td></tr><tr><td>3</td><td>88</td><td>55.11928</td><td>56.066667</td><td>518.595745</td></tr><tr><td>3</td><td>88</td><td>644.801272</td><td>56.066667</td><td>518.595745</td></tr><tr><td>3</td><td>12</td><td>571.800553</td><td>56.066667</td><td>518.595745</td></tr><tr><td>3</td><td>58</td><td>715.224208</td><td>56.066667</td><td>518.595745</td></tr></tbody></table></div>"
      ],
      "text/plain": [
       "shape: (15, 5)\n",
       "┌─────────────┬──────────┬────────────┬───────────────┬────────────┐\n",
       "│ participant ┆ accuracy ┆ rt         ┆ accuracy_mean ┆ rt_mean    │\n",
       "│ ---         ┆ ---      ┆ ---        ┆ ---           ┆ ---        │\n",
       "│ i64         ┆ i64      ┆ f64        ┆ f64           ┆ f64        │\n",
       "╞═════════════╪══════════╪════════════╪═══════════════╪════════════╡\n",
       "│ 1           ┆ 44       ┆ 261.28435  ┆ 56.066667     ┆ 518.595745 │\n",
       "│ 1           ┆ 47       ┆ 728.208489 ┆ 56.066667     ┆ 518.595745 │\n",
       "│ 1           ┆ 64       ┆ 801.889016 ┆ 56.066667     ┆ 518.595745 │\n",
       "│ 1           ┆ 67       ┆ 713.555026 ┆ 56.066667     ┆ 518.595745 │\n",
       "│ 1           ┆ 67       ┆ 362.682105 ┆ 56.066667     ┆ 518.595745 │\n",
       "│ …           ┆ …        ┆ …          ┆ …             ┆ …          │\n",
       "│ 3           ┆ 70       ┆ 439.524973 ┆ 56.066667     ┆ 518.595745 │\n",
       "│ 3           ┆ 88       ┆ 55.11928   ┆ 56.066667     ┆ 518.595745 │\n",
       "│ 3           ┆ 88       ┆ 644.801272 ┆ 56.066667     ┆ 518.595745 │\n",
       "│ 3           ┆ 12       ┆ 571.800553 ┆ 56.066667     ┆ 518.595745 │\n",
       "│ 3           ┆ 58       ┆ 715.224208 ┆ 56.066667     ┆ 518.595745 │\n",
       "└─────────────┴──────────┴────────────┴───────────────┴────────────┘"
      ]
     },
     "execution_count": 74,
     "metadata": {},
     "output_type": "execute_result"
    }
   ],
   "source": [
    "df.with_columns(\n",
    "    col('accuracy', 'rt').mean().name.suffix('_mean')\n",
    ")"
   ]
  },
  {
   "cell_type": "markdown",
   "metadata": {},
   "source": [
    "Now we have the *original* accuracy and rt columns and the newly named ones we created!"
   ]
  },
  {
   "cell_type": "markdown",
   "metadata": {},
   "source": [
    "## Building expressions from additional *selectors*\n",
    "\n",
    "So far we've seen how to use `col()` to *select* 1 or more columns we want to create an expression about.\n",
    "\n",
    "But sometimes you need to *select* things in more complicated ways. Fortunately, Polars has additional [selectors](https://docs.pola.rs/api/python/stable/reference/selectors.html#functions) that we can use to express ourselves. A common pattern is to import these together using `as`:\n",
    "\n",
    "`from polars import selectors as cs`\n",
    "\n",
    "Then we can refer to these using `cs.some_selector()`. Some of these include:\n",
    "\n",
    "- `cs.all()`\n",
    "- `cs.exclude()`\n",
    "- `cs.starts_with()`\n",
    "- `cs.string()`\n",
    "\n",
    "Let's see some of these in action using a dataset that include a column of reaction times:"
   ]
  },
  {
   "cell_type": "code",
   "execution_count": 75,
   "metadata": {},
   "outputs": [
    {
     "data": {
      "text/html": [
       "<div><style>\n",
       ".dataframe > thead > tr,\n",
       ".dataframe > tbody > tr {\n",
       "  text-align: right;\n",
       "  white-space: pre-wrap;\n",
       "}\n",
       "</style>\n",
       "<small>shape: (1, 3)</small><table border=\"1\" class=\"dataframe\"><thead><tr><th>participant</th><th>accuracy</th><th>rt</th></tr><tr><td>u32</td><td>u32</td><td>u32</td></tr></thead><tbody><tr><td>15</td><td>15</td><td>15</td></tr></tbody></table></div>"
      ],
      "text/plain": [
       "shape: (1, 3)\n",
       "┌─────────────┬──────────┬─────┐\n",
       "│ participant ┆ accuracy ┆ rt  │\n",
       "│ ---         ┆ ---      ┆ --- │\n",
       "│ u32         ┆ u32      ┆ u32 │\n",
       "╞═════════════╪══════════╪═════╡\n",
       "│ 15          ┆ 15       ┆ 15  │\n",
       "└─────────────┴──────────┴─────┘"
      ]
     },
     "execution_count": 75,
     "metadata": {},
     "output_type": "execute_result"
    }
   ],
   "source": [
    "import polars.selectors as cs\n",
    "\n",
    "df.select(\n",
    "    cs.all().count()   # <- get all cols and calc count()\n",
    ")"
   ]
  },
  {
   "cell_type": "markdown",
   "metadata": {},
   "source": [
    "This is as the same as the following code, but many fewer lines!"
   ]
  },
  {
   "cell_type": "code",
   "execution_count": 76,
   "metadata": {},
   "outputs": [
    {
     "data": {
      "text/html": [
       "<div><style>\n",
       ".dataframe > thead > tr,\n",
       ".dataframe > tbody > tr {\n",
       "  text-align: right;\n",
       "  white-space: pre-wrap;\n",
       "}\n",
       "</style>\n",
       "<small>shape: (1, 3)</small><table border=\"1\" class=\"dataframe\"><thead><tr><th>participant</th><th>accuracy</th><th>rt</th></tr><tr><td>u32</td><td>u32</td><td>u32</td></tr></thead><tbody><tr><td>15</td><td>15</td><td>15</td></tr></tbody></table></div>"
      ],
      "text/plain": [
       "shape: (1, 3)\n",
       "┌─────────────┬──────────┬─────┐\n",
       "│ participant ┆ accuracy ┆ rt  │\n",
       "│ ---         ┆ ---      ┆ --- │\n",
       "│ u32         ┆ u32      ┆ u32 │\n",
       "╞═════════════╪══════════╪═════╡\n",
       "│ 15          ┆ 15       ┆ 15  │\n",
       "└─────────────┴──────────┴─────┘"
      ]
     },
     "execution_count": 76,
     "metadata": {},
     "output_type": "execute_result"
    }
   ],
   "source": [
    "df.select(\n",
    "    col('participant').count(),\n",
    "    col('accuracy').count(),\n",
    "    col('rt').count()\n",
    ")"
   ]
  },
  {
   "cell_type": "markdown",
   "metadata": {},
   "source": [
    "And `cs.exclude` is the opposite of `cs.all()`"
   ]
  },
  {
   "cell_type": "code",
   "execution_count": 77,
   "metadata": {},
   "outputs": [
    {
     "data": {
      "text/html": [
       "<div><style>\n",
       ".dataframe > thead > tr,\n",
       ".dataframe > tbody > tr {\n",
       "  text-align: right;\n",
       "  white-space: pre-wrap;\n",
       "}\n",
       "</style>\n",
       "<small>shape: (1, 2)</small><table border=\"1\" class=\"dataframe\"><thead><tr><th>accuracy</th><th>rt</th></tr><tr><td>f64</td><td>f64</td></tr></thead><tbody><tr><td>56.066667</td><td>518.595745</td></tr></tbody></table></div>"
      ],
      "text/plain": [
       "shape: (1, 2)\n",
       "┌───────────┬────────────┐\n",
       "│ accuracy  ┆ rt         │\n",
       "│ ---       ┆ ---        │\n",
       "│ f64       ┆ f64        │\n",
       "╞═══════════╪════════════╡\n",
       "│ 56.066667 ┆ 518.595745 │\n",
       "└───────────┴────────────┘"
      ]
     },
     "execution_count": 77,
     "metadata": {},
     "output_type": "execute_result"
    }
   ],
   "source": [
    "df.select(\n",
    "    cs.exclude('participant').mean() # <- all cols except participant\n",
    ")"
   ]
  },
  {
   "cell_type": "markdown",
   "metadata": {},
   "source": [
    "We can select all columns that start with certain characters:"
   ]
  },
  {
   "cell_type": "code",
   "execution_count": 78,
   "metadata": {},
   "outputs": [
    {
     "data": {
      "text/html": [
       "<div><style>\n",
       ".dataframe > thead > tr,\n",
       ".dataframe > tbody > tr {\n",
       "  text-align: right;\n",
       "  white-space: pre-wrap;\n",
       "}\n",
       "</style>\n",
       "<small>shape: (1, 1)</small><table border=\"1\" class=\"dataframe\"><thead><tr><th>participant</th></tr><tr><td>u32</td></tr></thead><tbody><tr><td>3</td></tr></tbody></table></div>"
      ],
      "text/plain": [
       "shape: (1, 1)\n",
       "┌─────────────┐\n",
       "│ participant │\n",
       "│ ---         │\n",
       "│ u32         │\n",
       "╞═════════════╡\n",
       "│ 3           │\n",
       "└─────────────┘"
      ]
     },
     "execution_count": 78,
     "metadata": {},
     "output_type": "execute_result"
    }
   ],
   "source": [
    "df.select(\n",
    "    cs.starts_with('pa').n_unique()\n",
    ")"
   ]
  },
  {
   "cell_type": "markdown",
   "metadata": {},
   "source": [
    "Or even select columns based on the *type* of data they contain. In this case all the columns with *Integer* data:"
   ]
  },
  {
   "cell_type": "code",
   "execution_count": 79,
   "metadata": {},
   "outputs": [
    {
     "data": {
      "text/html": [
       "<div><style>\n",
       ".dataframe > thead > tr,\n",
       ".dataframe > tbody > tr {\n",
       "  text-align: right;\n",
       "  white-space: pre-wrap;\n",
       "}\n",
       "</style>\n",
       "<small>shape: (15, 2)</small><table border=\"1\" class=\"dataframe\"><thead><tr><th>participant</th><th>accuracy</th></tr><tr><td>i64</td><td>i64</td></tr></thead><tbody><tr><td>1</td><td>44</td></tr><tr><td>1</td><td>47</td></tr><tr><td>1</td><td>64</td></tr><tr><td>1</td><td>67</td></tr><tr><td>1</td><td>67</td></tr><tr><td>&hellip;</td><td>&hellip;</td></tr><tr><td>3</td><td>70</td></tr><tr><td>3</td><td>88</td></tr><tr><td>3</td><td>88</td></tr><tr><td>3</td><td>12</td></tr><tr><td>3</td><td>58</td></tr></tbody></table></div>"
      ],
      "text/plain": [
       "shape: (15, 2)\n",
       "┌─────────────┬──────────┐\n",
       "│ participant ┆ accuracy │\n",
       "│ ---         ┆ ---      │\n",
       "│ i64         ┆ i64      │\n",
       "╞═════════════╪══════════╡\n",
       "│ 1           ┆ 44       │\n",
       "│ 1           ┆ 47       │\n",
       "│ 1           ┆ 64       │\n",
       "│ 1           ┆ 67       │\n",
       "│ 1           ┆ 67       │\n",
       "│ …           ┆ …        │\n",
       "│ 3           ┆ 70       │\n",
       "│ 3           ┆ 88       │\n",
       "│ 3           ┆ 88       │\n",
       "│ 3           ┆ 12       │\n",
       "│ 3           ┆ 58       │\n",
       "└─────────────┴──────────┘"
      ]
     },
     "execution_count": 79,
     "metadata": {},
     "output_type": "execute_result"
    }
   ],
   "source": [
    "df.select(\n",
    "    cs.integer()\n",
    ")"
   ]
  },
  {
   "cell_type": "markdown",
   "metadata": {},
   "source": [
    "There are a many more useful selectors. So check out the [selector documentation page](https://docs.pola.rs/api/python/stable/reference/selectors.html#functions) when you're trying the challenge exercises later on in this notebook"
   ]
  },
  {
   "cell_type": "markdown",
   "metadata": {},
   "source": [
    "## Reshaping DataFrames\n",
    "\n",
    "Sometimes you'll find yourself working \"non-tidy\" DataFrames or \"wide\" format data. \n",
    "\n",
    "What's tidy-data again?  \n",
    "\n",
    "1. Each variable must have its own column.\n",
    "2. Each observation must have its own row.\n",
    "3. Each value must have its own cell.\n",
    "\n",
    "In polars we can achieve this using:\n",
    "\n",
    "`.pivot()`: long -> wide, similar to `pivot_wider()` in R  \n",
    "`.unpivot()`: wide -> long, similar to `pivot_longer()` in R  \n",
    "`pl.concat()`: combine 2 or more dataframes/columns/rows into a larger DataFrame\n",
    "\n",
    "Here, I’ve generated data from two participants with three observations. This data frame is not tidy since each row contains more than a *single* observation."
   ]
  },
  {
   "cell_type": "code",
   "execution_count": 80,
   "metadata": {},
   "outputs": [
    {
     "data": {
      "text/html": [
       "<div><style>\n",
       ".dataframe > thead > tr,\n",
       ".dataframe > tbody > tr {\n",
       "  text-align: right;\n",
       "  white-space: pre-wrap;\n",
       "}\n",
       "</style>\n",
       "<small>shape: (2, 4)</small><table border=\"1\" class=\"dataframe\"><thead><tr><th>participant</th><th>observation_1</th><th>observation_2</th><th>observation_3</th></tr><tr><td>i64</td><td>i64</td><td>i64</td><td>i64</td></tr></thead><tbody><tr><td>1</td><td>10</td><td>100</td><td>24</td></tr><tr><td>2</td><td>25</td><td>63</td><td>45</td></tr></tbody></table></div>"
      ],
      "text/plain": [
       "shape: (2, 4)\n",
       "┌─────────────┬───────────────┬───────────────┬───────────────┐\n",
       "│ participant ┆ observation_1 ┆ observation_2 ┆ observation_3 │\n",
       "│ ---         ┆ ---           ┆ ---           ┆ ---           │\n",
       "│ i64         ┆ i64           ┆ i64           ┆ i64           │\n",
       "╞═════════════╪═══════════════╪═══════════════╪═══════════════╡\n",
       "│ 1           ┆ 10            ┆ 100           ┆ 24            │\n",
       "│ 2           ┆ 25            ┆ 63            ┆ 45            │\n",
       "└─────────────┴───────────────┴───────────────┴───────────────┘"
      ]
     },
     "execution_count": 80,
     "metadata": {},
     "output_type": "execute_result"
    }
   ],
   "source": [
    "df = pl.DataFrame({\n",
    "    'participant': [1, 2],\n",
    "    'observation_1': [10, 25],\n",
    "    'observation_2': [100, 63],\n",
    "    'observation_3': [24, 45],\n",
    "})\n",
    "df"
   ]
  },
  {
   "cell_type": "markdown",
   "metadata": {},
   "source": [
    "We can make it tidy by using the `.unpivot` method on the DataFrame, which takes 4 arguments:\n",
    "\n",
    "`on`: the column(s) that contain values for each row  \n",
    "`index`: the column(s) to use as the identifier across rows  \n",
    "`variable_name`: name of the column that contains the original column names  \n",
    "`value_name`: name of the column that contains the values that were previous spread across columns\n"
   ]
  },
  {
   "cell_type": "code",
   "execution_count": 81,
   "metadata": {},
   "outputs": [
    {
     "data": {
      "text/html": [
       "<div><style>\n",
       ".dataframe > thead > tr,\n",
       ".dataframe > tbody > tr {\n",
       "  text-align: right;\n",
       "  white-space: pre-wrap;\n",
       "}\n",
       "</style>\n",
       "<small>shape: (6, 3)</small><table border=\"1\" class=\"dataframe\"><thead><tr><th>participant</th><th>trial</th><th>rating</th></tr><tr><td>i64</td><td>str</td><td>i64</td></tr></thead><tbody><tr><td>1</td><td>&quot;observation_1&quot;</td><td>10</td></tr><tr><td>2</td><td>&quot;observation_1&quot;</td><td>25</td></tr><tr><td>1</td><td>&quot;observation_2&quot;</td><td>100</td></tr><tr><td>2</td><td>&quot;observation_2&quot;</td><td>63</td></tr><tr><td>1</td><td>&quot;observation_3&quot;</td><td>24</td></tr><tr><td>2</td><td>&quot;observation_3&quot;</td><td>45</td></tr></tbody></table></div>"
      ],
      "text/plain": [
       "shape: (6, 3)\n",
       "┌─────────────┬───────────────┬────────┐\n",
       "│ participant ┆ trial         ┆ rating │\n",
       "│ ---         ┆ ---           ┆ ---    │\n",
       "│ i64         ┆ str           ┆ i64    │\n",
       "╞═════════════╪═══════════════╪════════╡\n",
       "│ 1           ┆ observation_1 ┆ 10     │\n",
       "│ 2           ┆ observation_1 ┆ 25     │\n",
       "│ 1           ┆ observation_2 ┆ 100    │\n",
       "│ 2           ┆ observation_2 ┆ 63     │\n",
       "│ 1           ┆ observation_3 ┆ 24     │\n",
       "│ 2           ┆ observation_3 ┆ 45     │\n",
       "└─────────────┴───────────────┴────────┘"
      ]
     },
     "execution_count": 81,
     "metadata": {},
     "output_type": "execute_result"
    }
   ],
   "source": [
    "df_long = df.unpivot(\n",
    "    on=cs.starts_with('observation'),\n",
    "    index='participant', \n",
    "    variable_name='trial',\n",
    "    value_name='rating'\n",
    "    )\n",
    "df_long"
   ]
  },
  {
   "cell_type": "markdown",
   "metadata": {},
   "source": [
    "The `.pivot` method is the counter-part of `.unpivot`. We can use it to turn tidydata (long) to wide format. It takes 4 arguments as well:\n",
    "\n",
    "`on`: the column(s) whos values will be turned into new columns  \n",
    "`index`: the column(s) that are unique rows in the new DataFrame  \n",
    "`values`: the values that will be moved into new columns with each row  \n",
    "`aggregate_function`: how to aggregate multiple rows within each index, e.g. None, mean, first, sum, etc"
   ]
  },
  {
   "cell_type": "code",
   "execution_count": 82,
   "metadata": {},
   "outputs": [
    {
     "data": {
      "text/html": [
       "<div><style>\n",
       ".dataframe > thead > tr,\n",
       ".dataframe > tbody > tr {\n",
       "  text-align: right;\n",
       "  white-space: pre-wrap;\n",
       "}\n",
       "</style>\n",
       "<small>shape: (2, 4)</small><table border=\"1\" class=\"dataframe\"><thead><tr><th>participant</th><th>observation_1</th><th>observation_2</th><th>observation_3</th></tr><tr><td>i64</td><td>i64</td><td>i64</td><td>i64</td></tr></thead><tbody><tr><td>1</td><td>10</td><td>100</td><td>24</td></tr><tr><td>2</td><td>25</td><td>63</td><td>45</td></tr></tbody></table></div>"
      ],
      "text/plain": [
       "shape: (2, 4)\n",
       "┌─────────────┬───────────────┬───────────────┬───────────────┐\n",
       "│ participant ┆ observation_1 ┆ observation_2 ┆ observation_3 │\n",
       "│ ---         ┆ ---           ┆ ---           ┆ ---           │\n",
       "│ i64         ┆ i64           ┆ i64           ┆ i64           │\n",
       "╞═════════════╪═══════════════╪═══════════════╪═══════════════╡\n",
       "│ 1           ┆ 10            ┆ 100           ┆ 24            │\n",
       "│ 2           ┆ 25            ┆ 63            ┆ 45            │\n",
       "└─────────────┴───────────────┴───────────────┴───────────────┘"
      ]
     },
     "execution_count": 82,
     "metadata": {},
     "output_type": "execute_result"
    }
   ],
   "source": [
    "df_long.pivot(\n",
    "    on='trial',\n",
    "    index='participant', \n",
    "    values='rating',\n",
    "    aggregate_function=None\n",
    "    )"
   ]
  },
  {
   "cell_type": "markdown",
   "metadata": {},
   "source": [
    "You can safely set `aggregate_function = None` if you don't have repeated observations within each unique combination of `index` and `on`. In this case each participant only has a single \"observation_1\", \"observation_2\", and \"observation_3\". \n",
    "\n",
    "But if they had multiple, Polars will raise and error and ask you to specify how to aggregate them"
   ]
  },
  {
   "cell_type": "markdown",
   "metadata": {},
   "source": [
    "## Splitting 1 column into many\n",
    "\n",
    "Sometimes you'll need to split one column into multiple columns.  \n",
    "Let's say we wanted to split the \"year_month\" column into 2 separate columns of \"year\" and \"month\":"
   ]
  },
  {
   "cell_type": "code",
   "execution_count": 83,
   "metadata": {},
   "outputs": [
    {
     "data": {
      "text/html": [
       "<div><style>\n",
       ".dataframe > thead > tr,\n",
       ".dataframe > tbody > tr {\n",
       "  text-align: right;\n",
       "  white-space: pre-wrap;\n",
       "}\n",
       "</style>\n",
       "<small>shape: (3, 2)</small><table border=\"1\" class=\"dataframe\"><thead><tr><th>id</th><th>year_month</th></tr><tr><td>i64</td><td>str</td></tr></thead><tbody><tr><td>1</td><td>&quot;2021-01&quot;</td></tr><tr><td>2</td><td>&quot;2021-02&quot;</td></tr><tr><td>3</td><td>&quot;2021-03&quot;</td></tr></tbody></table></div>"
      ],
      "text/plain": [
       "shape: (3, 2)\n",
       "┌─────┬────────────┐\n",
       "│ id  ┆ year_month │\n",
       "│ --- ┆ ---        │\n",
       "│ i64 ┆ str        │\n",
       "╞═════╪════════════╡\n",
       "│ 1   ┆ 2021-01    │\n",
       "│ 2   ┆ 2021-02    │\n",
       "│ 3   ┆ 2021-03    │\n",
       "└─────┴────────────┘"
      ]
     },
     "execution_count": 83,
     "metadata": {},
     "output_type": "execute_result"
    }
   ],
   "source": [
    "df = pl.DataFrame({\n",
    "    \"id\": [1, 2, 3],\n",
    "    \"year_month\": [\"2021-01\", \"2021-02\", \"2021-03\"]\n",
    "})\n",
    "df"
   ]
  },
  {
   "cell_type": "markdown",
   "metadata": {},
   "source": [
    "You can use *[attribute operations for `.str`](https://docs.pola.rs/api/python/stable/reference/expressions/string.html)* to do this!\n",
    "\n",
    "Specifically we use can `.split_exact` to split a `str` into a `n+1` parts."
   ]
  },
  {
   "cell_type": "code",
   "execution_count": 84,
   "metadata": {},
   "outputs": [
    {
     "data": {
      "text/html": [
       "<div><style>\n",
       ".dataframe > thead > tr,\n",
       ".dataframe > tbody > tr {\n",
       "  text-align: right;\n",
       "  white-space: pre-wrap;\n",
       "}\n",
       "</style>\n",
       "<small>shape: (3, 2)</small><table border=\"1\" class=\"dataframe\"><thead><tr><th>id</th><th>year_month</th></tr><tr><td>i64</td><td>struct[2]</td></tr></thead><tbody><tr><td>1</td><td>{&quot;2021&quot;,&quot;01&quot;}</td></tr><tr><td>2</td><td>{&quot;2021&quot;,&quot;02&quot;}</td></tr><tr><td>3</td><td>{&quot;2021&quot;,&quot;03&quot;}</td></tr></tbody></table></div>"
      ],
      "text/plain": [
       "shape: (3, 2)\n",
       "┌─────┬───────────────┐\n",
       "│ id  ┆ year_month    │\n",
       "│ --- ┆ ---           │\n",
       "│ i64 ┆ struct[2]     │\n",
       "╞═════╪═══════════════╡\n",
       "│ 1   ┆ {\"2021\",\"01\"} │\n",
       "│ 2   ┆ {\"2021\",\"02\"} │\n",
       "│ 3   ┆ {\"2021\",\"03\"} │\n",
       "└─────┴───────────────┘"
      ]
     },
     "execution_count": 84,
     "metadata": {},
     "output_type": "execute_result"
    }
   ],
   "source": [
    "df_split = df.with_columns(\n",
    "    # string attribute method, to split by delimiter \"-\" into 2 parts\n",
    "    col(\"year_month\")\n",
    "    .str.split_exact(\"-\", 1)\n",
    ")\n",
    "df_split"
   ]
  },
  {
   "cell_type": "markdown",
   "metadata": {},
   "source": [
    " Polars stores these parts in a **struct** which is just a Python dictionary:"
   ]
  },
  {
   "cell_type": "code",
   "execution_count": 85,
   "metadata": {},
   "outputs": [
    {
     "data": {
      "text/plain": [
       "{'field_0': '2021', 'field_1': '01'}"
      ]
     },
     "execution_count": 85,
     "metadata": {},
     "output_type": "execute_result"
    }
   ],
   "source": [
    "# First row, second column value\n",
    "df_split[0, 1]"
   ]
  },
  {
   "cell_type": "markdown",
   "metadata": {},
   "source": [
    "Polars provides additional *[attribute operations on the `.struct`](https://docs.pola.rs/api/python/stable/reference/expressions/struct.html)* to create new columns. \n",
    "\n",
    "First we'll call `.rename_field` to rename the *fields* of the struct (equivalent to renaming the *keys* of a Python dictionary).\n"
   ]
  },
  {
   "cell_type": "code",
   "execution_count": 86,
   "metadata": {},
   "outputs": [
    {
     "data": {
      "text/html": [
       "<div><style>\n",
       ".dataframe > thead > tr,\n",
       ".dataframe > tbody > tr {\n",
       "  text-align: right;\n",
       "  white-space: pre-wrap;\n",
       "}\n",
       "</style>\n",
       "<small>shape: (3, 2)</small><table border=\"1\" class=\"dataframe\"><thead><tr><th>id</th><th>year_month</th></tr><tr><td>i64</td><td>struct[2]</td></tr></thead><tbody><tr><td>1</td><td>{&quot;2021&quot;,&quot;01&quot;}</td></tr><tr><td>2</td><td>{&quot;2021&quot;,&quot;02&quot;}</td></tr><tr><td>3</td><td>{&quot;2021&quot;,&quot;03&quot;}</td></tr></tbody></table></div>"
      ],
      "text/plain": [
       "shape: (3, 2)\n",
       "┌─────┬───────────────┐\n",
       "│ id  ┆ year_month    │\n",
       "│ --- ┆ ---           │\n",
       "│ i64 ┆ struct[2]     │\n",
       "╞═════╪═══════════════╡\n",
       "│ 1   ┆ {\"2021\",\"01\"} │\n",
       "│ 2   ┆ {\"2021\",\"02\"} │\n",
       "│ 3   ┆ {\"2021\",\"03\"} │\n",
       "└─────┴───────────────┘"
      ]
     },
     "execution_count": 86,
     "metadata": {},
     "output_type": "execute_result"
    }
   ],
   "source": [
    "df_split = df.with_columns(\n",
    "    col(\"year_month\")\n",
    "    # string attribute method, to split by delimiter \"-\" into 2 parts\n",
    "    .str.split_exact(\"-\", 1)\n",
    "\n",
    "    # struct attribute method to rename fields\n",
    "    .struct.rename_fields([\"year\", \"month\"])\n",
    ")\n",
    "df_split"
   ]
  },
  {
   "cell_type": "code",
   "execution_count": 87,
   "metadata": {},
   "outputs": [
    {
     "data": {
      "text/plain": [
       "{'year': '2021', 'month': '01'}"
      ]
     },
     "execution_count": 87,
     "metadata": {},
     "output_type": "execute_result"
    }
   ],
   "source": [
    "# First row, second column value\n",
    "df_split[0, 1]"
   ]
  },
  {
   "cell_type": "markdown",
   "metadata": {},
   "source": [
    "Then we'll call `struct.unnest()` to create new columns, 1 per field"
   ]
  },
  {
   "cell_type": "code",
   "execution_count": 88,
   "metadata": {},
   "outputs": [
    {
     "data": {
      "text/html": [
       "<div><style>\n",
       ".dataframe > thead > tr,\n",
       ".dataframe > tbody > tr {\n",
       "  text-align: right;\n",
       "  white-space: pre-wrap;\n",
       "}\n",
       "</style>\n",
       "<small>shape: (3, 4)</small><table border=\"1\" class=\"dataframe\"><thead><tr><th>id</th><th>year_month</th><th>year</th><th>month</th></tr><tr><td>i64</td><td>str</td><td>str</td><td>str</td></tr></thead><tbody><tr><td>1</td><td>&quot;2021-01&quot;</td><td>&quot;2021&quot;</td><td>&quot;01&quot;</td></tr><tr><td>2</td><td>&quot;2021-02&quot;</td><td>&quot;2021&quot;</td><td>&quot;02&quot;</td></tr><tr><td>3</td><td>&quot;2021-03&quot;</td><td>&quot;2021&quot;</td><td>&quot;03&quot;</td></tr></tbody></table></div>"
      ],
      "text/plain": [
       "shape: (3, 4)\n",
       "┌─────┬────────────┬──────┬───────┐\n",
       "│ id  ┆ year_month ┆ year ┆ month │\n",
       "│ --- ┆ ---        ┆ ---  ┆ ---   │\n",
       "│ i64 ┆ str        ┆ str  ┆ str   │\n",
       "╞═════╪════════════╪══════╪═══════╡\n",
       "│ 1   ┆ 2021-01    ┆ 2021 ┆ 01    │\n",
       "│ 2   ┆ 2021-02    ┆ 2021 ┆ 02    │\n",
       "│ 3   ┆ 2021-03    ┆ 2021 ┆ 03    │\n",
       "└─────┴────────────┴──────┴───────┘"
      ]
     },
     "execution_count": 88,
     "metadata": {},
     "output_type": "execute_result"
    }
   ],
   "source": [
    "df_split = df.with_columns(\n",
    "    col(\"year_month\")\n",
    "    # string attribute method, to split by delimiter \"-\" into 2 parts\n",
    "    .str.split_exact(\"-\", 1)\n",
    "\n",
    "    # struct attribute method to rename fields\n",
    "    .struct.rename_fields([\"year\", \"month\"])\n",
    "\n",
    "    # struct attribute method to create 1 column per field\n",
    "    .struct.unnest()\n",
    ")\n",
    "df_split"
   ]
  },
  {
   "cell_type": "markdown",
   "metadata": {},
   "source": [
    "We can also split up values in a column *over rows* [`.explode('column_name')` method](https://docs.pola.rs/api/python/stable/reference/dataframe/api/polars.DataFrame.explode.html#polars.DataFrame.explode) on the DataFrame itself:"
   ]
  },
  {
   "cell_type": "code",
   "execution_count": 89,
   "metadata": {},
   "outputs": [
    {
     "data": {
      "text/html": [
       "<div><style>\n",
       ".dataframe > thead > tr,\n",
       ".dataframe > tbody > tr {\n",
       "  text-align: right;\n",
       "  white-space: pre-wrap;\n",
       "}\n",
       "</style>\n",
       "<small>shape: (4, 2)</small><table border=\"1\" class=\"dataframe\"><thead><tr><th>letters</th><th>numbers</th></tr><tr><td>str</td><td>list[i64]</td></tr></thead><tbody><tr><td>&quot;a&quot;</td><td>[1]</td></tr><tr><td>&quot;a&quot;</td><td>[2, 3]</td></tr><tr><td>&quot;b&quot;</td><td>[4, 5]</td></tr><tr><td>&quot;c&quot;</td><td>[6, 7, 8]</td></tr></tbody></table></div>"
      ],
      "text/plain": [
       "shape: (4, 2)\n",
       "┌─────────┬───────────┐\n",
       "│ letters ┆ numbers   │\n",
       "│ ---     ┆ ---       │\n",
       "│ str     ┆ list[i64] │\n",
       "╞═════════╪═══════════╡\n",
       "│ a       ┆ [1]       │\n",
       "│ a       ┆ [2, 3]    │\n",
       "│ b       ┆ [4, 5]    │\n",
       "│ c       ┆ [6, 7, 8] │\n",
       "└─────────┴───────────┘"
      ]
     },
     "execution_count": 89,
     "metadata": {},
     "output_type": "execute_result"
    }
   ],
   "source": [
    "df = pl.DataFrame(\n",
    "    {\n",
    "        \"letters\": [\"a\", \"a\", \"b\", \"c\"],\n",
    "        \"numbers\": [[1], [2, 3], [4, 5], [6, 7, 8]],\n",
    "    }\n",
    ")\n",
    "df"
   ]
  },
  {
   "cell_type": "code",
   "execution_count": 90,
   "metadata": {},
   "outputs": [
    {
     "data": {
      "text/html": [
       "<div><style>\n",
       ".dataframe > thead > tr,\n",
       ".dataframe > tbody > tr {\n",
       "  text-align: right;\n",
       "  white-space: pre-wrap;\n",
       "}\n",
       "</style>\n",
       "<small>shape: (8, 2)</small><table border=\"1\" class=\"dataframe\"><thead><tr><th>letters</th><th>numbers</th></tr><tr><td>str</td><td>i64</td></tr></thead><tbody><tr><td>&quot;a&quot;</td><td>1</td></tr><tr><td>&quot;a&quot;</td><td>2</td></tr><tr><td>&quot;a&quot;</td><td>3</td></tr><tr><td>&quot;b&quot;</td><td>4</td></tr><tr><td>&quot;b&quot;</td><td>5</td></tr><tr><td>&quot;c&quot;</td><td>6</td></tr><tr><td>&quot;c&quot;</td><td>7</td></tr><tr><td>&quot;c&quot;</td><td>8</td></tr></tbody></table></div>"
      ],
      "text/plain": [
       "shape: (8, 2)\n",
       "┌─────────┬─────────┐\n",
       "│ letters ┆ numbers │\n",
       "│ ---     ┆ ---     │\n",
       "│ str     ┆ i64     │\n",
       "╞═════════╪═════════╡\n",
       "│ a       ┆ 1       │\n",
       "│ a       ┆ 2       │\n",
       "│ a       ┆ 3       │\n",
       "│ b       ┆ 4       │\n",
       "│ b       ┆ 5       │\n",
       "│ c       ┆ 6       │\n",
       "│ c       ┆ 7       │\n",
       "│ c       ┆ 8       │\n",
       "└─────────┴─────────┘"
      ]
     },
     "execution_count": 90,
     "metadata": {},
     "output_type": "execute_result"
    }
   ],
   "source": [
    "df.explode('numbers')"
   ]
  },
  {
   "cell_type": "markdown",
   "metadata": {},
   "source": [
    "## Combining many columns into 1"
   ]
  },
  {
   "cell_type": "markdown",
   "metadata": {},
   "source": [
    "We can combine columns into a single column using additional *[functions](https://docs.pola.rs/api/python/stable/reference/expressions/functions.html)* in an expression like `pl.concat_list()` and `pl.concat_str()`, which take column names as input:"
   ]
  },
  {
   "cell_type": "code",
   "execution_count": 91,
   "metadata": {},
   "outputs": [
    {
     "data": {
      "text/html": [
       "<div><style>\n",
       ".dataframe > thead > tr,\n",
       ".dataframe > tbody > tr {\n",
       "  text-align: right;\n",
       "  white-space: pre-wrap;\n",
       "}\n",
       "</style>\n",
       "<small>shape: (3, 5)</small><table border=\"1\" class=\"dataframe\"><thead><tr><th>id</th><th>year_month</th><th>year</th><th>month</th><th>month_year</th></tr><tr><td>i64</td><td>str</td><td>str</td><td>str</td><td>str</td></tr></thead><tbody><tr><td>1</td><td>&quot;2021-01&quot;</td><td>&quot;2021&quot;</td><td>&quot;01&quot;</td><td>&quot;01-2021&quot;</td></tr><tr><td>2</td><td>&quot;2021-02&quot;</td><td>&quot;2021&quot;</td><td>&quot;02&quot;</td><td>&quot;02-2021&quot;</td></tr><tr><td>3</td><td>&quot;2021-03&quot;</td><td>&quot;2021&quot;</td><td>&quot;03&quot;</td><td>&quot;03-2021&quot;</td></tr></tbody></table></div>"
      ],
      "text/plain": [
       "shape: (3, 5)\n",
       "┌─────┬────────────┬──────┬───────┬────────────┐\n",
       "│ id  ┆ year_month ┆ year ┆ month ┆ month_year │\n",
       "│ --- ┆ ---        ┆ ---  ┆ ---   ┆ ---        │\n",
       "│ i64 ┆ str        ┆ str  ┆ str   ┆ str        │\n",
       "╞═════╪════════════╪══════╪═══════╪════════════╡\n",
       "│ 1   ┆ 2021-01    ┆ 2021 ┆ 01    ┆ 01-2021    │\n",
       "│ 2   ┆ 2021-02    ┆ 2021 ┆ 02    ┆ 02-2021    │\n",
       "│ 3   ┆ 2021-03    ┆ 2021 ┆ 03    ┆ 03-2021    │\n",
       "└─────┴────────────┴──────┴───────┴────────────┘"
      ]
     },
     "execution_count": 91,
     "metadata": {},
     "output_type": "execute_result"
    }
   ],
   "source": [
    "df_split.with_columns(\n",
    "    month_year = pl.concat_str('month', 'year', separator='-')\n",
    ")"
   ]
  },
  {
   "cell_type": "markdown",
   "metadata": {},
   "source": [
    "Polars also includes various *[functions that end with `_horizontal`](https://docs.pola.rs/api/python/stable/reference/expressions/functions.html)*.  \n",
    "\n",
    "Like the suffix implies, these functions are design to operate *horizontally* across columns within each row separately.\n",
    "\n",
    "Let's say our DataFrame had these 3 numeric columns:"
   ]
  },
  {
   "cell_type": "code",
   "execution_count": 92,
   "metadata": {},
   "outputs": [
    {
     "data": {
      "text/html": [
       "<div><style>\n",
       ".dataframe > thead > tr,\n",
       ".dataframe > tbody > tr {\n",
       "  text-align: right;\n",
       "  white-space: pre-wrap;\n",
       "}\n",
       "</style>\n",
       "<small>shape: (4, 5)</small><table border=\"1\" class=\"dataframe\"><thead><tr><th>letters</th><th>numbers</th><th>a</th><th>b</th><th>c</th></tr><tr><td>str</td><td>list[i64]</td><td>f64</td><td>f64</td><td>f64</td></tr></thead><tbody><tr><td>&quot;a&quot;</td><td>[1]</td><td>0.259086</td><td>1.045184</td><td>0.351679</td></tr><tr><td>&quot;a&quot;</td><td>[2, 3]</td><td>-0.785854</td><td>-1.13132</td><td>0.072687</td></tr><tr><td>&quot;b&quot;</td><td>[4, 5]</td><td>-0.906119</td><td>-0.768075</td><td>0.068268</td></tr><tr><td>&quot;c&quot;</td><td>[6, 7, 8]</td><td>0.325925</td><td>1.156249</td><td>-1.763849</td></tr></tbody></table></div>"
      ],
      "text/plain": [
       "shape: (4, 5)\n",
       "┌─────────┬───────────┬───────────┬───────────┬───────────┐\n",
       "│ letters ┆ numbers   ┆ a         ┆ b         ┆ c         │\n",
       "│ ---     ┆ ---       ┆ ---       ┆ ---       ┆ ---       │\n",
       "│ str     ┆ list[i64] ┆ f64       ┆ f64       ┆ f64       │\n",
       "╞═════════╪═══════════╪═══════════╪═══════════╪═══════════╡\n",
       "│ a       ┆ [1]       ┆ 0.259086  ┆ 1.045184  ┆ 0.351679  │\n",
       "│ a       ┆ [2, 3]    ┆ -0.785854 ┆ -1.13132  ┆ 0.072687  │\n",
       "│ b       ┆ [4, 5]    ┆ -0.906119 ┆ -0.768075 ┆ 0.068268  │\n",
       "│ c       ┆ [6, 7, 8] ┆ 0.325925  ┆ 1.156249  ┆ -1.763849 │\n",
       "└─────────┴───────────┴───────────┴───────────┴───────────┘"
      ]
     },
     "execution_count": 92,
     "metadata": {},
     "output_type": "execute_result"
    }
   ],
   "source": [
    "import numpy as np # to generate data\n",
    "\n",
    "df = df.with_columns(\n",
    "    a=np.random.normal(size=df.height),\n",
    "    b=np.random.normal(size=df.height),\n",
    "    c=np.random.normal(size=df.height),\n",
    ")\n",
    "df"
   ]
  },
  {
   "cell_type": "markdown",
   "metadata": {},
   "source": [
    "And we want to create a new column that is the average of these 3 columns within each row. We can easily to that using a *horizontal function* like `pl.mean_horizontal`"
   ]
  },
  {
   "cell_type": "code",
   "execution_count": 93,
   "metadata": {},
   "outputs": [
    {
     "data": {
      "text/html": [
       "<div><style>\n",
       ".dataframe > thead > tr,\n",
       ".dataframe > tbody > tr {\n",
       "  text-align: right;\n",
       "  white-space: pre-wrap;\n",
       "}\n",
       "</style>\n",
       "<small>shape: (4, 6)</small><table border=\"1\" class=\"dataframe\"><thead><tr><th>letters</th><th>numbers</th><th>a</th><th>b</th><th>c</th><th>abc_mean</th></tr><tr><td>str</td><td>list[i64]</td><td>f64</td><td>f64</td><td>f64</td><td>f64</td></tr></thead><tbody><tr><td>&quot;a&quot;</td><td>[1]</td><td>0.259086</td><td>1.045184</td><td>0.351679</td><td>0.551983</td></tr><tr><td>&quot;a&quot;</td><td>[2, 3]</td><td>-0.785854</td><td>-1.13132</td><td>0.072687</td><td>-0.614829</td></tr><tr><td>&quot;b&quot;</td><td>[4, 5]</td><td>-0.906119</td><td>-0.768075</td><td>0.068268</td><td>-0.535309</td></tr><tr><td>&quot;c&quot;</td><td>[6, 7, 8]</td><td>0.325925</td><td>1.156249</td><td>-1.763849</td><td>-0.093892</td></tr></tbody></table></div>"
      ],
      "text/plain": [
       "shape: (4, 6)\n",
       "┌─────────┬───────────┬───────────┬───────────┬───────────┬───────────┐\n",
       "│ letters ┆ numbers   ┆ a         ┆ b         ┆ c         ┆ abc_mean  │\n",
       "│ ---     ┆ ---       ┆ ---       ┆ ---       ┆ ---       ┆ ---       │\n",
       "│ str     ┆ list[i64] ┆ f64       ┆ f64       ┆ f64       ┆ f64       │\n",
       "╞═════════╪═══════════╪═══════════╪═══════════╪═══════════╪═══════════╡\n",
       "│ a       ┆ [1]       ┆ 0.259086  ┆ 1.045184  ┆ 0.351679  ┆ 0.551983  │\n",
       "│ a       ┆ [2, 3]    ┆ -0.785854 ┆ -1.13132  ┆ 0.072687  ┆ -0.614829 │\n",
       "│ b       ┆ [4, 5]    ┆ -0.906119 ┆ -0.768075 ┆ 0.068268  ┆ -0.535309 │\n",
       "│ c       ┆ [6, 7, 8] ┆ 0.325925  ┆ 1.156249  ┆ -1.763849 ┆ -0.093892 │\n",
       "└─────────┴───────────┴───────────┴───────────┴───────────┴───────────┘"
      ]
     },
     "execution_count": 93,
     "metadata": {},
     "output_type": "execute_result"
    }
   ],
   "source": [
    "df.with_columns(\n",
    "    abc_mean = pl.mean_horizontal('a', 'b', 'c')\n",
    ")"
   ]
  },
  {
   "cell_type": "markdown",
   "metadata": {},
   "source": [
    "## Your turn\n",
    "\n",
    "Make the following DataFrame \"tidy\", i.e. long-format with 4 columns:\n",
    "- participant: integer of participant ID\n",
    "- order: integer stimulus and observation order (from column names)\n",
    "- stimulus: string of stimulus name\n",
    "- observation: float of numeric rating ech participant gave"
   ]
  },
  {
   "cell_type": "code",
   "execution_count": 94,
   "metadata": {},
   "outputs": [
    {
     "data": {
      "text/html": [
       "<div><style>\n",
       ".dataframe > thead > tr,\n",
       ".dataframe > tbody > tr {\n",
       "  text-align: right;\n",
       "  white-space: pre-wrap;\n",
       "}\n",
       "</style>\n",
       "<small>shape: (2, 7)</small><table border=\"1\" class=\"dataframe\"><thead><tr><th>participant</th><th>stimulus_1</th><th>observation_1</th><th>stimulus_2</th><th>observation_2</th><th>stimulus_3</th><th>observation_3</th></tr><tr><td>f64</td><td>str</td><td>f64</td><td>str</td><td>f64</td><td>str</td><td>f64</td></tr></thead><tbody><tr><td>1.0</td><td>&quot;flower&quot;</td><td>10.0</td><td>&quot;house&quot;</td><td>100.0</td><td>&quot;car&quot;</td><td>24.0</td></tr><tr><td>2.0</td><td>&quot;car&quot;</td><td>25.0</td><td>&quot;flower&quot;</td><td>63.0</td><td>&quot;house&quot;</td><td>45.0</td></tr></tbody></table></div>"
      ],
      "text/plain": [
       "shape: (2, 7)\n",
       "┌─────────────┬────────────┬───────────────┬────────────┬──────────────┬────────────┬──────────────┐\n",
       "│ participant ┆ stimulus_1 ┆ observation_1 ┆ stimulus_2 ┆ observation_ ┆ stimulus_3 ┆ observation_ │\n",
       "│ ---         ┆ ---        ┆ ---           ┆ ---        ┆ 2            ┆ ---        ┆ 3            │\n",
       "│ f64         ┆ str        ┆ f64           ┆ str        ┆ ---          ┆ str        ┆ ---          │\n",
       "│             ┆            ┆               ┆            ┆ f64          ┆            ┆ f64          │\n",
       "╞═════════════╪════════════╪═══════════════╪════════════╪══════════════╪════════════╪══════════════╡\n",
       "│ 1.0         ┆ flower     ┆ 10.0          ┆ house      ┆ 100.0        ┆ car        ┆ 24.0         │\n",
       "│ 2.0         ┆ car        ┆ 25.0          ┆ flower     ┆ 63.0         ┆ house      ┆ 45.0         │\n",
       "└─────────────┴────────────┴───────────────┴────────────┴──────────────┴────────────┴──────────────┘"
      ]
     },
     "execution_count": 94,
     "metadata": {},
     "output_type": "execute_result"
    }
   ],
   "source": [
    "reshape = pl.DataFrame({\n",
    "    'participant': [1., 2.],\n",
    "    'stimulus_1': ['flower', 'car'],\n",
    "    'observation_1': [10., 25.,],\n",
    "    'stimulus_2': ['house', 'flower'],\n",
    "    'observation_2': [100., 63.,],\n",
    "    'stimulus_3': ['car', 'house'],\n",
    "    'observation_3': [24., 45.,]\n",
    "})\n",
    "reshape"
   ]
  },
  {
   "cell_type": "markdown",
   "metadata": {},
   "source": [
    "**Hints**\n",
    "\n",
    "Think about this as a sequence of 4 steps. We've created 4 code cells below with an image above each of the expected result:"
   ]
  },
  {
   "cell_type": "markdown",
   "metadata": {},
   "source": [
    "1. unpivot wide -> long\n",
    "\n",
    "<img src=\"./figs/step1.png\" width=\"40%\" alt=\"Figure 1\">"
   ]
  },
  {
   "cell_type": "code",
   "execution_count": null,
   "metadata": {},
   "outputs": [],
   "source": [
    "# Your code here"
   ]
  },
  {
   "cell_type": "markdown",
   "metadata": {},
   "source": [
    "2. split the `variable_name` column from the previous step (I called it \"trial\") into 2 new columns by '_' (which I called \"index\" and \"order\")  \n",
    "\n",
    "<img src=\"./figs/step2.png\" width=\"60%\" alt=\"Figure 1\">\n"
   ]
  },
  {
   "cell_type": "code",
   "execution_count": null,
   "metadata": {},
   "outputs": [],
   "source": [
    "# Your code here"
   ]
  },
  {
   "cell_type": "markdown",
   "metadata": {},
   "source": [
    "3. select only the columns: participant, 2 you created (I called mine \"index\" and \"order\"), and the `value_name` column from the first step (I called it \"rating\")  \n",
    "\n",
    "<img src=\"./figs/step3.png\" width=\"40%\" alt=\"Figure 1\">\n"
   ]
  },
  {
   "cell_type": "code",
   "execution_count": null,
   "metadata": {},
   "outputs": [],
   "source": [
    "# Your code here"
   ]
  },
  {
   "cell_type": "markdown",
   "metadata": {},
   "source": [
    "4. pivot long -> wide to breakout the `value_name` column (I called it \"rating\") into multiple columns\n",
    "\n",
    "<img src=\"./figs/step4.png\" width=\"40%\" alt=\"Figure 1\">"
   ]
  },
  {
   "cell_type": "code",
   "execution_count": null,
   "metadata": {
    "tags": [
     "remove-cell"
    ]
   },
   "outputs": [
    {
     "data": {
      "text/html": [
       "<div><style>\n",
       ".dataframe > thead > tr,\n",
       ".dataframe > tbody > tr {\n",
       "  text-align: right;\n",
       "  white-space: pre-wrap;\n",
       "}\n",
       "</style>\n",
       "<small>shape: (6, 4)</small><table border=\"1\" class=\"dataframe\"><thead><tr><th>participant</th><th>order</th><th>stimulus</th><th>observation</th></tr><tr><td>i64</td><td>i64</td><td>str</td><td>f64</td></tr></thead><tbody><tr><td>1</td><td>1</td><td>&quot;flower&quot;</td><td>10.0</td></tr><tr><td>2</td><td>1</td><td>&quot;car&quot;</td><td>25.0</td></tr><tr><td>1</td><td>2</td><td>&quot;house&quot;</td><td>100.0</td></tr><tr><td>2</td><td>2</td><td>&quot;flower&quot;</td><td>63.0</td></tr><tr><td>1</td><td>3</td><td>&quot;car&quot;</td><td>24.0</td></tr><tr><td>2</td><td>3</td><td>&quot;house&quot;</td><td>45.0</td></tr></tbody></table></div>"
      ],
      "text/plain": [
       "shape: (6, 4)\n",
       "┌─────────────┬───────┬──────────┬─────────────┐\n",
       "│ participant ┆ order ┆ stimulus ┆ observation │\n",
       "│ ---         ┆ ---   ┆ ---      ┆ ---         │\n",
       "│ i64         ┆ i64   ┆ str      ┆ f64         │\n",
       "╞═════════════╪═══════╪══════════╪═════════════╡\n",
       "│ 1           ┆ 1     ┆ flower   ┆ 10.0        │\n",
       "│ 2           ┆ 1     ┆ car      ┆ 25.0        │\n",
       "│ 1           ┆ 2     ┆ house    ┆ 100.0       │\n",
       "│ 2           ┆ 2     ┆ flower   ┆ 63.0        │\n",
       "│ 1           ┆ 3     ┆ car      ┆ 24.0        │\n",
       "│ 2           ┆ 3     ┆ house    ┆ 45.0        │\n",
       "└─────────────┴───────┴──────────┴─────────────┘"
      ]
     },
     "execution_count": 258,
     "metadata": {},
     "output_type": "execute_result"
    }
   ],
   "source": [
    "# Solution\n",
    "reshape.unpivot(\n",
    "    index='participant',\n",
    "    on=cs.contains('_'),\n",
    "    variable_name='trial',\n",
    "    value_name='rating'\n",
    ").with_columns(\n",
    "    col('trial').str.split_exact('_', 1)\n",
    "    .struct.rename_fields(['index', 'order'])\n",
    "    .struct.unnest()\n",
    ").select(\n",
    "    col('participant').cast(int),\n",
    "    col('index'),\n",
    "    col('order').cast(int),\n",
    "    col('rating')\n",
    ").pivot(\n",
    "    on='index',\n",
    "    values='rating',\n",
    "    index=['participant', 'order'], \n",
    "    aggregate_function=None\n",
    ").with_columns(\n",
    "    col('observation').cast(float)\n",
    ")"
   ]
  },
  {
   "cell_type": "markdown",
   "metadata": {},
   "source": [
    "---"
   ]
  },
  {
   "cell_type": "markdown",
   "metadata": {},
   "source": [
    "# Appendix"
   ]
  },
  {
   "cell_type": "markdown",
   "metadata": {},
   "source": [
    "## Additional Resources\n",
    "Here a few additional resources you might helpful as you try out the challenge notebook later:\n",
    "\n",
    "Here are a few other resources:\n",
    "- [Polars official intro tutorial](https://docs.pola.rs/user-guide/getting-started/)\n",
    "- [More Comprehensive intro to Polars](https://bebi103a.github.io/lessons/06/intro_to_polars.html#)\n",
    "- [TidyData analysis in Polars](https://bebi103a.github.io/lessons/06/tidy_data.html)\n",
    "- [Polars patterns vs R's dplyr](https://www.emilyriederer.com/post/py-rgo-polars/#what-are-dplyrs-ergonomics)\n"
   ]
  },
  {
   "cell_type": "markdown",
   "metadata": {},
   "source": [
    "## Interactive DataFrames\n",
    "\n",
    "Since Polars DataFrames are not *interactive* inside this notebook, we can use a function called `show()` from a neat library called `itables`, which will give us an **interactive viewer** for the DataFrame.\n",
    "\n",
    "This won't allow us to set or change values, but can be helpful to interactive scroll/search through a DataFrame when you're first checking it out."
   ]
  },
  {
   "cell_type": "code",
   "execution_count": null,
   "metadata": {},
   "outputs": [],
   "source": [
    "from itables import show\n",
    "show(df)"
   ]
  },
  {
   "cell_type": "markdown",
   "metadata": {},
   "source": [
    "**WARNING**\n",
    "\n",
    "Make sure to **delete** any cell you use `show()` inside of before `commit`-ing your notebook.\n",
    "\n",
    "The interactive viewer can make the file-size of your notebook **much larger**.  \n",
    "\n",
    "And since you probably only need *while* working interactively, you can avoid a headache and just delete the cell when you're done."
   ]
  },
  {
   "cell_type": "markdown",
   "metadata": {},
   "source": [
    "## Use direct imports with caution"
   ]
  },
  {
   "cell_type": "markdown",
   "metadata": {},
   "source": [
    "\n",
    "\n",
    "In most of the help you'll see online and in the official polars documentation, commands use `pl.col`, but we've been using `col`. What gives?\n",
    "\n",
    "Python gives us a few tricks when we `import` a library to save ourselves some keystrokes when typing the same commands over and over again. One of those tricks is the `as` statement. This allows us to name something we're importing by *another name of our choosing*. \n",
    "\n",
    "What you've encountered before: `import polars as pl` and `import numpy as np` makes it so we can use `pl` to refer to `polars` and `np` to refer to `numpy`. \n",
    "\n",
    "That makes it much easier to not have to type out something like **`numpy`**`.random.normal` and just use **`np`** `.random.normal`.  \n",
    "\n",
    "You can use `as` to name things *whatever you want*. **But take caution**. If you import something `as` something that already exists and has the same name **you will overwrite it!**:  \n",
    "\n",
    "```python\n",
    "my_name = 'eshin'\n",
    "import numpy as my_name\n",
    "\n",
    "my_name # is now the same as numpy!!!\n",
    "```\n"
   ]
  },
  {
   "cell_type": "markdown",
   "metadata": {},
   "source": [
    "Using `import polars as pl`, makes *everything* polars has available to us by prefixing with `pl.`, for example `pl.col()`. \n",
    "\n",
    "But sometimes we use `pl.col()` so often, it would be nice to just type it as `col()`. We can do this using the `from` statement to **directly import** any functionality from a library:\n",
    "\n",
    "```python\n",
    "import polars as pl\n",
    "from polars import col # add this line\n",
    "```\n",
    "\n",
    "Now `col` is available to us and is *exactly the same* as `pl.col`.  \n",
    "\n",
    "As we learn about other polars functionality, you may find it helpful to directly import other functionality you use often. You can also combine this with `as` to make things even a bit cleaner:\n",
    "\n",
    "```python\n",
    "import polars as pl\n",
    "from polars import col as c\n",
    "\n",
    "df.select(\n",
    "  c('judgement').mean()\n",
    ")\n",
    "```\n",
    "\n",
    "But again **take caution**. If you create a new variable `c` anywhere in your notebook, e.g `c = 3`, it will **overwrite** what you imported from polars!\n"
   ]
  },
  {
   "cell_type": "markdown",
   "metadata": {},
   "source": [
    "\n",
    "Coding style is a personal preference, but there are also conventions for a reason - **communication**:   \n",
    "so other people (including your future self) can *read* what you *wrote*. \n",
    "\n",
    "Make things as concise and clear as you can, but don't get carried away. Python's big advantage compared to other langauges is that it's very easy to *read* and get a *gist* for what's going on.\n",
    "\n",
    "So as you using things like `from` and `as`, think about whether your code stays *readable*:  \n",
    "\n",
    "```python\n",
    "# Ummmm....\n",
    "from numpy.random import normal as n\n",
    "import polars as p\n",
    "from polars import col as c\n",
    "\n",
    "# Ehhh...\n",
    "l, s, n = 0, 1, df.shape[0]\n",
    "\n",
    "# How easily can someone else read this? Can you decipher it in 6mo?\n",
    "df.select(p.all().add(n(l,s,n)))\n",
    "```"
   ]
  }
 ],
 "metadata": {
  "kernelspec": {
   "display_name": "201b",
   "language": "python",
   "name": "python3"
  },
  "language_info": {
   "codemirror_mode": {
    "name": "ipython",
    "version": 3
   },
   "file_extension": ".py",
   "mimetype": "text/x-python",
   "name": "python",
   "nbconvert_exporter": "python",
   "pygments_lexer": "ipython3",
   "version": "3.11.10"
  }
 },
 "nbformat": 4,
 "nbformat_minor": 2
}
