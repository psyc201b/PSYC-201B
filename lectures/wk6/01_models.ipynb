{
 "cells": [
  {
   "cell_type": "markdown",
   "metadata": {},
   "source": [
    "# Models I: GLM & OLS\n",
    "\n",
    "## Learning Goals\n",
    "\n",
    "This week's lab notebooks are designed to give you hands-on experience with the topics we covered last week's lectures. This first notebook will review some of the basics we learned about modeling and walk you through how to estimate a model by-hand using `numpy`. \n",
    "\n",
    "Specifically, we'll cover:\n",
    "\n",
    "- What a model is\n",
    "- The General Linear Model\n",
    "- Estimating a GLM with Ordinary Least Squares (OLS)\n",
    "\n",
    "\n",
    "## Slides for reference\n",
    "\n",
    "[Modeling Data I (slides)](https://stat-intuitions.com/lectures/wk5/1.html)  \n",
    "[Modeling Data II (slides)](https://stat-intuitions.com/lectures/wk5/2.html)  \n",
    "[Modeling Data II 1/2 (slides)](https://stat-intuitions.com/lectures/wk5/3.html)  "
   ]
  },
  {
   "cell_type": "markdown",
   "metadata": {},
   "source": [
    "## How to use this notebook\n",
    "\n",
    "This notebook is designed for you to work through at your own pace. When you're finished you should save and `commit` your changes and `push` them to your Github Classroom repository\n",
    "\n",
    "Try experimenting by creating new code cells and playing around with the demonstrated functionality.\n",
    "\n",
    "Remember to use `?` or `help()` from *within* this notebook to look up how functionality works.  \n"
   ]
  },
  {
   "cell_type": "markdown",
   "metadata": {},
   "source": [
    "## What is a model?\n",
    "\n",
    "In the physical world, “models” are generally simplifications of things in the real world that nonetheless convey the essence of the thing being modeled. A model of a building conveys the structure of the building while being small and light enough to pick up with one’s hands; a model of a cell in biology is much larger than the actual thing, but again conveys the major parts of the cell and their relationships.\n",
    "\n",
    "In statistics, a model is meant to provide a similarly condensed description, but for data rather than for a physical structure. Like physical models, a statistical model is generally much simpler than the data being described; it is meant to capture the structure of the data as simply as possible. In both cases, we realize that the model is a convenient fiction that necessarily glosses over some of the details of the actual thing being modeled. As the statistician George Box famously said: “All models are wrong but some are useful.” It can also be useful to think of a statistical model as a theory of how the observed data were generated; our goal then becomes to find the model that most efficiently and accurately summarizes the way in which the data were actually generated. But as we will see below, the desires of efficiency and accuracy will often be diametrically opposed to one another.\n",
    "\n",
    "The basic structure of a statistical model is:\n",
    "\n",
    "$$ data = model + error $$\n",
    "\n",
    "This expresses the idea that the data can be broken into two portions: one portion that is described by a statistical model, which expresses the values that we expect the data to take given our knowledge, and another portion that we refer to as the error that reflects the difference between the model’s predictions and the observed data.\n",
    "\n",
    "In essence we would like to use our model to predict the value of the data for any given observation $i$. We would write the equation like this:\n",
    "\n",
    "\n",
    "$$ \\widehat{data}_i = model_i $$\n",
    "\n",
    "The “hat” over the data denotes that it’s our prediction rather than the actual value of the data. This means that the predicted value of the data for observation $i$ is equal to the value of the model for that observation. Once we have a prediction from the model, we can then compute the error:\n",
    "\n",
    "$$ error_i = data_i - \\widehat{data}_i $$\n",
    "\n",
    "That is, the error for any observation is the difference between the observed value of the data and the predicted value of the data from the model. We refer to these errors as model **residuals**: what's \"left-over\" that our model doesn't explain."
   ]
  },
  {
   "cell_type": "markdown",
   "metadata": {},
   "source": [
    "## The mean as a model\n",
    "\n",
    "Let’s look at an example of building a model for data, using the toy example we discussed in class: whether chococlate consumption is related to how happy people are. In particular, we will try to build a model of the happiness score of people in our sample. First let’s load the data and plot them:\n"
   ]
  },
  {
   "cell_type": "code",
   "execution_count": null,
   "metadata": {},
   "outputs": [],
   "source": [
    "import numpy as np\n",
    "np.set_printoptions(suppress=True)\n",
    "import polars as pl\n",
    "from polars import col\n",
    "import seaborn as sns\n",
    "import matplotlib.pyplot as plt\n",
    "\n",
    "df = pl.read_csv(\"./data/chocolate.csv\")\n",
    "df.head()\n"
   ]
  },
  {
   "cell_type": "markdown",
   "metadata": {},
   "source": [
    "Let's make a histogram of Happiness scores:"
   ]
  },
  {
   "cell_type": "code",
   "execution_count": null,
   "metadata": {},
   "outputs": [],
   "source": [
    "sns.displot(x='Happiness',data=df)"
   ]
  },
  {
   "cell_type": "markdown",
   "metadata": {},
   "source": [
    "Remember that we want to describe these data as simply as possible while still capturing their important features. The simplest model that we can imagine would involve only a single number; that is, the model would predict the *same* value for each observation (each person's happiness), regardless of what else we might know about those observations (how much chocolate they eat). We generally describe a model in terms of its **parameters**, which are values that we can change in order to modify the predictions of the model. \n",
    "\n",
    "You'll most often see these denoted using the Greek letter beta ($\\beta$); when the model has more than one parameter, we use subscripted numbers to denote the different betas (e.g. $\\beta_0$,  $\\beta_1$). It’s also customary to refer to the values of the data using the letter $y$, and to use a subscripted version $y_i$ to refer to each individual observation $i$.\n",
    "\n",
    "We generally don’t know the true values of the parameters, so we have to estimate them from the data. For this reason, we will generally put a “hat” over the $\\beta$ symbol to denote that we are using an estimate of the parameter value rather than its true value (which we generally don’t know). Thus, our simple model for happiness using a single parameter would be:\n",
    "\n",
    "$$ \\hat{y_i} = \\hat{\\beta} + \\epsilon $$\n",
    "\n",
    "The subscript $i$ doesn’t appear on the right side of the equation, which means that the prediction of the model doesn’t depend on which observation we are looking at — it’s the same for all of them. The question then becomes: how do we estimate the best values of the parameter(s) in the model? In this particular case, what single value is the best estimate for $\\beta$ ? And, more importantly, how do we even define *best*?\n",
    "\n",
    "### Error minimization\n",
    "\n",
    "One notion of best is that we want our model to be as accurate as possible, i.e. or have the *smallest error* $y_i - \\hat{y}_i$. \n",
    "\n",
    "We learned in class that to account for the negative/positive signs of our errors we often prefer models that minimize the **sum-of-squared-errorr (SSE)**:\n",
    "\n",
    "$$ SSE = \\sum_{i=1}^n (y_i - \\hat{y}_i)^2 $$\n",
    "\n",
    "We also learned that the best *single parameter* model that minimizes this error is the **mean**. \n",
    "\n",
    "\n",
    "*You can play with the widget below to make sure you understand the relationship between \"best\" and \"smallest error\".  \n",
    "X1 = Chocolate; y = Happiness*"
   ]
  },
  {
   "cell_type": "code",
   "execution_count": null,
   "metadata": {},
   "outputs": [],
   "source": [
    "from helpers import mean_model_widget\n",
    "mean_model_widget()"
   ]
  },
  {
   "cell_type": "markdown",
   "metadata": {},
   "source": [
    "#### Note: Other measures of error\n",
    "\n",
    "Because our notion of \"best\" depends on the *way* we calculate our error - there are other \"best\" measures accordining to a different error minimization criteria. \n",
    "\n",
    "Most commonly, you'll encounter the **median** which is the best single parameter model that minimizes the **sum-of-absolute errors (SAE)**. Because the error associated with each observation $y_i$ isn't squared, larger errors ($y_i - \\hat{y}_i$) are treated the same as smaller errors.\n",
    "\n",
    "This is *why* we say the median is a \"robust\" measure - it treats errors *linearly* - whereas SSE treats them *quadratically*:\n",
    "\n",
    "<div align=\"center\">\n",
    "<img src=\"./figs/errors.png\" width=\"70%\" alt=\"Figure 1\">\n",
    "</div>"
   ]
  },
  {
   "cell_type": "markdown",
   "metadata": {},
   "source": [
    "## Improving our model: Univariate Regression\n",
    "\n",
    "Can we imagine a better model? Clearly we're ignoring additional information we know about each observation: how much chocolate a person eats. In other words, rather than predicting the same value for each observation (*mean happiness*), we want our model to be able to change its predictions based on the amount of chocolate eaten by each person. \n",
    "\n",
    "You might remember from basic algebra that a line is defined as:\n",
    "\n",
    "$$ y = intercept + slope * x $$"
   ]
  },
  {
   "cell_type": "markdown",
   "metadata": {},
   "source": [
    "We can extend our model to include this information by adding a **parameter** that controls the *slope* of our predictions. \n",
    "\n",
    "$$ \\hat{y_i} = \\hat{\\beta}_0 + \\hat{\\beta}_1 * chocolate_i $$\n",
    "\n",
    "where $\\hat{\\beta}_1$ is our estimate of the parameter that we multiply by a person's chocolate consumption by to generate a prediction for their happiness\n",
    "\n",
    "And $\\hat{\\beta}_0$ is our estimate of the **intercept** of our model which is a constant value added to the prediction for each individual. We call it the intercept because it maps onto the intercept in the equation for a straight line. In machine-learning this is called the model's **bias** term. \n",
    "\n",
    "How do we know what the best slope is? We can use the same criteria we did for a 1-parameter model: **the value that minimizes the SSE**\n",
    "\n",
    "*You can play with the widget below to make sure you understand the relationship between \"best\" and \"smallest error\".  \n",
    "X1 = Chocolate; y = Happiness*"
   ]
  },
  {
   "cell_type": "code",
   "execution_count": null,
   "metadata": {},
   "outputs": [],
   "source": [
    "from helpers import slope_model_widget\n",
    "slope_model_widget()"
   ]
  },
  {
   "cell_type": "markdown",
   "metadata": {},
   "source": [
    "## The General Linear Model\n",
    "\n",
    "We can keep extending this idea by adding additional **parameters** to our model and minimizing the **error** between the model and the data to evaluate how well we're able to **predict** the data.\n",
    "\n",
    "It turns out the simple univariate regression and even multiple regression are just special cases of the **General Linear Model (GLM)**: \n",
    "\n",
    "An approach for modeling a single **scalar** variable $y$ as a linear function of predictor variables $X$ plus an **independent and identically distributed** (iid) set of errors ($\\epsilon$). \n",
    "\n",
    "<div align=\"center\">\n",
    "<img src=\"./figs/glm.png\" width=\"90%\" alt=\"Figure 1\">\n",
    "</div>\n"
   ]
  },
  {
   "cell_type": "markdown",
   "metadata": {},
   "source": [
    "Building a deep understanding of the GLM will lay a strong foundation for the rest of your statistics journey. Why?  \n",
    "Because it turns out that *most* of the statistical tests you'll use on a regular basis are just GLMs (or extensions) in disguise...\n",
    "\n",
    "<div align=\"center\">\n",
    "<img src=\"./figs/glmview.png\" width=\"90%\" alt=\"Figure 1\">\n",
    "</div>\n",
    "\n",
    "This week we'll focus on the \"standard\" GLM - with uncorrelated errors. Later on we'll discuss extensions that allow us to handle corrrelated errors (e.g. repeated measures) and link-functions that allow us to model non-continuous dependent variables (e.g. logistic regression)."
   ]
  },
  {
   "cell_type": "markdown",
   "metadata": {},
   "source": [
    "## Estimating a GLM: Ordinary-Least-Squares (OLS)\n",
    "\n",
    "So how do we **estimate** the **parameters** of our model? \n",
    "\n",
    "One approach, we discussed is \"intellgient guesstimation\" or an *iterative approach* to estimating the parameters of a model: guess, check, update guess, repeat...\n",
    "\n",
    "However, for **linear** models, we can use a faster \"closed-form\" equation called **Ordinary-Least-Squares**:\n",
    "\n",
    "$$\n",
    "\\beta = (X^T X)^{-1} X^T y\n",
    "$$\n",
    "\n",
    "This is what most statistics software is estimating this for you automatically when you use a formula e.g. in R `lm(Happiness ~ Chocolate)`. In the next notebook we'll see how to how to use the same [Wilkson formula syntax](https://davidwalz.github.io/posts/2021/wilkinson/) in Python.\n",
    "\n",
    "But it's first important to understand what's happening under-the-hood and not *only* rely on these easy-to-use functions.  \n",
    "Let's build some intuitions by implementing OLS by-hand using using `numpy` and some basic linear algebra.\n",
    "\n",
    "\n",
    "Let's start with some fundamentals using the Internet Access dataset we discussed in class. \n",
    "\n",
    "<div align=\"center\">\n",
    "<img src=\"./figs/internet.png\" width=\"50%\" alt=\"Figure 1\">\n",
    "</div>"
   ]
  },
  {
   "cell_type": "code",
   "execution_count": null,
   "metadata": {},
   "outputs": [],
   "source": [
    "df_net = pl.read_csv(\"./data/internet.csv\")\n",
    "df_net.head()"
   ]
  },
  {
   "cell_type": "markdown",
   "metadata": {},
   "source": [
    "Each row of the dataframe contains measurements about a single state. Our goal to estimate a model that tries to use a state's socio-economic-status to predict the % of residents with internet access:\n",
    "\n",
    "$$\n",
    "\\hat{internet}_i = \\hat{\\beta_0} + \\hat{\\beta_1} SES_i\n",
    "$$\n",
    "\n",
    "Let's see how to do this using linear algebra.\n"
   ]
  },
  {
   "cell_type": "markdown",
   "metadata": {},
   "source": [
    "### Linear Algebra Fundamentals\n",
    "\n",
    "At its core, OLS is about solving a *system of equations* by minimizing SSE. What equations?\n",
    "\n",
    "One per observation in our dataset:\n",
    "\n",
    "$$\n",
    "\\begin{align*}\n",
    "79 &= \\beta_0 + \\beta_1*41.26 \\\\\n",
    "63.5 &= \\beta_0 + \\beta_1*32.15 \\\\\n",
    "60.9 &= \\beta_0 + \\beta_1*31.43 \\\\\n",
    "\\vdots\n",
    "\\end{align*}\n",
    "$$"
   ]
  },
  {
   "cell_type": "code",
   "execution_count": null,
   "metadata": {},
   "outputs": [],
   "source": [
    "# E.g. first 3 rows \n",
    "df_net.select(['State','Internet','SES']).head(3)"
   ]
  },
  {
   "cell_type": "markdown",
   "metadata": {},
   "source": [
    "\n",
    "Linear algebra gives us a set of tools for representing a system of many equations: **vectors** and **matrices**. \n",
    "\n",
    "$$\n",
    "\\begin{bmatrix} 79 \\\\ 63.5 \\\\ 60.9 \\end{bmatrix} =\n",
    "\\begin{bmatrix} 1 & 41.26 \\\\ 1 & 32.15 \\\\ 1 & 31.43 \\end{bmatrix}\n",
    "\\begin{bmatrix} \\beta_0 \\\\ \\beta_1 \\end{bmatrix}\n",
    "$$\n",
    "\n",
    "Here's the correspondence:\n",
    "\n",
    "<div align=\"center\">\n",
    "<img src=\"./figs/mats.png\" width=\"50%\" alt=\"Figure 1\">\n",
    "</div>\n"
   ]
  },
  {
   "cell_type": "markdown",
   "metadata": {},
   "source": [
    "#### Vectors\n",
    "\n",
    "A **vector** is simply a list of numbers (e.g., a column of values from your DataFrame). In Python we can represent a vector as a **1-dimensional numpy array**:\n",
    "\n",
    "$$\n",
    "y = \\begin{bmatrix} 79 \\\\ 63.5 \\\\ 60.9 \\end{bmatrix} \n",
    "$$"
   ]
  },
  {
   "cell_type": "code",
   "execution_count": null,
   "metadata": {},
   "outputs": [],
   "source": [
    "# Convert column to numpy array\n",
    "y = df_net['Internet'].to_numpy()\n",
    "\n",
    "# Print first 3 values\n",
    "y[:3]"
   ]
  },
  {
   "cell_type": "code",
   "execution_count": null,
   "metadata": {},
   "outputs": [],
   "source": [
    "# Check dimensionality\n",
    "y.ndim"
   ]
  },
  {
   "cell_type": "code",
   "execution_count": null,
   "metadata": {},
   "outputs": [],
   "source": [
    "# Shape\n",
    "# Only has 1 value hence 1 dimensional\n",
    "y.shape"
   ]
  },
  {
   "cell_type": "markdown",
   "metadata": {},
   "source": [
    "#### Matrices \n",
    "A **matrix** is a collection of vectors arranged in a rectangular shape column-wise. In the GLM, we store all the predictor variables in a matrix called the **Design Matrix**. We'll be exploring this matrix in more detail in the future especially when we talk about *categorical predictors*.\n",
    "\n",
    "$$\n",
    "X =\n",
    "\\begin{bmatrix} \n",
    "1 & 41.26 \\\\\n",
    "1 & 32.15 \\\\\n",
    "1 & 31.43\n",
    "\\end{bmatrix}\n",
    "$$\n",
    "\n",
    "\n",
    "It's standard practice to set the first column of this matrix to all ones, which allows us to model the *mean* of $y$ in addition to *slope* of other predictors:"
   ]
  },
  {
   "cell_type": "code",
   "execution_count": null,
   "metadata": {},
   "outputs": [],
   "source": [
    "X = df_net['SES'].to_numpy()\n",
    "\n",
    "# Intercept\n",
    "intercept_column = np.ones(len(X))\n",
    "\n",
    "# Concatenate 2 arrays column-wise\n",
    "X = np.column_stack([intercept_column, X])\n",
    "\n",
    "# First 3 rows\n",
    "X[:3, :]"
   ]
  },
  {
   "cell_type": "code",
   "execution_count": null,
   "metadata": {},
   "outputs": [],
   "source": [
    "# 2 dimensions\n",
    "X.ndim"
   ]
  },
  {
   "cell_type": "code",
   "execution_count": null,
   "metadata": {},
   "outputs": [],
   "source": [
    "# Shape has 2 values (rows x columns) hence 2d\n",
    "X.shape"
   ]
  },
  {
   "cell_type": "markdown",
   "metadata": {},
   "source": [
    "#### Extensibility\n",
    "\n",
    "Vectors and matrices allow us to formulate our model in an extensible way:\n",
    "\n",
    "$$ y = X\\beta $$\n",
    "\n",
    "Where:\n",
    "- $ y $ is $n \\times 1$ **vector** of observed responses (the dependent variable).\n",
    "- $ X $ is the $n \\times p$ **design matrix** (it contains the values of the predictors, including a column of ones for the intercept).\n",
    "- $ \\beta $ is a $p \\times 1$ vector of the **parameters** we want to estimate; 1 per predictor.\n",
    "\n",
    "Expanded out to many observations and many predictors, the matrix multiplication looks like this:\n",
    "\n",
    "$$\n",
    "\\begin{bmatrix}\n",
    "y_1 \\\\\n",
    "y_2 \\\\\n",
    "\\vdots \\\\\n",
    "y_n \\\\\n",
    "\\end{bmatrix}\n",
    "=\n",
    "\\begin{bmatrix}\n",
    "1 & x_{11} & x_{12} & \\ldots & x_{1p} \\\\\n",
    "1 & x_{21} & x_{22} & \\ldots & x_{2p} \\\\\n",
    "\\vdots & \\vdots & \\vdots & \\ddots & \\vdots \\\\\n",
    "1 & x_{n1} & x_{n2} & \\ldots & x_{np} \\\\\n",
    "\\end{bmatrix}\n",
    "*\n",
    "\\begin{bmatrix}\n",
    "\\beta_0 \\\\\n",
    "\\beta_1 \\\\\n",
    "\\vdots \\\\\n",
    "\\beta_p \\\\\n",
    "\\end{bmatrix}\n",
    "$$\n"
   ]
  },
  {
   "cell_type": "markdown",
   "metadata": {},
   "source": [
    "Which is the same as multiplying each column of $X$ by it's corresponding $\\beta$:\n",
    "\n",
    "$$\n",
    "\\begin{bmatrix}\n",
    "y_1 \\\\\n",
    "y_2 \\\\\n",
    "\\vdots \\\\\n",
    "y_n \\\\\n",
    "\\end{bmatrix}\n",
    "=\n",
    "\\beta_0\n",
    "*\n",
    "\\begin{bmatrix}\n",
    "1 \\\\\n",
    "1 \\\\\n",
    "\\vdots \\\\\n",
    "1 \\\\\n",
    "\\end{bmatrix}\n",
    "+\n",
    "\\beta_1\n",
    "*\n",
    "\\begin{bmatrix}\n",
    "x_{11} \\\\\n",
    "x_{21} \\\\\n",
    "\\vdots \\\\\n",
    "x_{n1} \\\\\n",
    "\\end{bmatrix}\n",
    "+\n",
    "\\beta_2\n",
    "*\n",
    "\\begin{bmatrix}\n",
    "x_{12} \\\\\n",
    "x_{22} \\\\\n",
    "\\vdots \\\\\n",
    "x_{n2} \\\\\n",
    "\\end{bmatrix}\n",
    "\\ldots\n",
    "+\n",
    "\\beta_p\n",
    "*\n",
    "\\begin{bmatrix}\n",
    "x_{1p} \\\\\n",
    "x_{2p} \\\\\n",
    "\\vdots \\\\\n",
    "x_{np} \\\\\n",
    "\\end{bmatrix}\n",
    "$$\n"
   ]
  },
  {
   "cell_type": "markdown",
   "metadata": {},
   "source": [
    "## The Ordinary-Least-Squares Solution\n",
    "\n",
    "The key OLS equation is:\n",
    "\n",
    "$$\n",
    "\\beta = (X^T X)^{-1} X^T y\n",
    "$$\n",
    "\n",
    "<div align=\"center\">\n",
    "<img src=\"./figs/ols.png\" width=\"60%\" alt=\"Figure 1\">\n",
    "</div>\n",
    "\n",
    "Let's understand this equation by implementing each part of the diagram above in separate steps.  \n",
    "Here are the relevant linear algebra operations and how to think about them:\n",
    "\n",
    "*If you prefer visuals make sure to watch [The Essence of Linear Algebra videos](https://stat-intuitions.com/lectures/wk4/overview.html) we added to the course website in Week 4*\n"
   ]
  },
  {
   "cell_type": "markdown",
   "metadata": {},
   "source": [
    "### Transpose\n",
    "The **transpose** of a matrix, denoted $( X^T $), flips rows into columns and visa-versa.\n",
    "\n",
    "Example:\n",
    "\n",
    "$$\n",
    "X =\n",
    "\\begin{bmatrix} \n",
    "1 & 41.26 \\\\\n",
    "1 & 32.15 \\\\\n",
    "1 & 31.43\n",
    "\\end{bmatrix}\n",
    "$$\n",
    "\n",
    "\n",
    "$$\n",
    "X^T =\n",
    "\\begin{bmatrix} \n",
    "1 & 1 & 1 \\\\\n",
    "41.26 & 32.15 & 31.42\n",
    "\\end{bmatrix}\n",
    "$$\n",
    "\n",
    "We can transpose a matrix in numpy using `.T`"
   ]
  },
  {
   "cell_type": "code",
   "execution_count": null,
   "metadata": {},
   "outputs": [],
   "source": [
    "# Normal\n",
    "# Rows = observations\n",
    "# Columns = predictors\n",
    "X[:3,:]"
   ]
  },
  {
   "cell_type": "code",
   "execution_count": null,
   "metadata": {},
   "outputs": [],
   "source": [
    "# Transposed\n",
    "# Rows = predictors\n",
    "# Columns = observations\n",
    "X[:3,:].T"
   ]
  },
  {
   "cell_type": "code",
   "execution_count": null,
   "metadata": {},
   "outputs": [],
   "source": [
    "# And back again\n",
    "X[:3,:].T.T"
   ]
  },
  {
   "cell_type": "markdown",
   "metadata": {},
   "source": [
    "### Similarity between predictors: Matrix-Matrix dot-product (inner product)\n",
    "\n",
    "Remember from our previous class on *summarizing relationships* that the [dot-product](https://stat-intuitions.com/pages/formulas.html#dot-product) allows us to capture a notion of how similar two sets of elements are based on the *sum of their products*.  \n",
    "The dot-product (or *inner product*) of two matrices is a measure of the similarity between *each pair of columns* from both matrices. \n",
    "\n",
    "Each element $C_{ij}$ in the resulting matrix = the sum over the element-wise products of the $i$-th row of $A$ and the $j$-th column of $B$. To perform this calculation, both matrices must have the same **inner dimensions**: the *columns* $k$ in matrix $A$, and the *rows* $k$ in matrix $B$:\n",
    "\n",
    "$$\n",
    "C_{ij} = \\sum A_{ik} B_{kj}\n",
    "$$\n",
    "\n",
    "When we calculate the inner product of a matrix $X$ with itself $X.T$, it's like calculating the dot-product between all pairs of columns *in that single matrix*, including columns with themselves. This results in a *square* matrix with the same number of rows & columns as columns $X$.  \n",
    "The diagonal elements capture the (unscaled) variance of each individual column and off-diagonal elements capture the (un-scaled) co-variance between columns:\n",
    "\n",
    "$$\n",
    "C_{kk} = \\sum X^T_{ki} X_{ik}\n",
    "$$"
   ]
  },
  {
   "cell_type": "code",
   "execution_count": null,
   "metadata": {},
   "outputs": [],
   "source": [
    "XTX = np.dot(X.T, X)\n",
    "XTX"
   ]
  },
  {
   "cell_type": "markdown",
   "metadata": {},
   "source": [
    "In our internet dataset, the top left value is the dot-product of the intercept with itself - just the total number of observations in the dataset:"
   ]
  },
  {
   "cell_type": "code",
   "execution_count": null,
   "metadata": {},
   "outputs": [],
   "source": [
    "np.dot(X[:,0], X[:, 0])\n",
    "\n",
    "\n",
    "# Equivalent to:\n",
    "# np.sum(X[:,0] * X[:, 0]) \n"
   ]
  },
  {
   "cell_type": "markdown",
   "metadata": {},
   "source": [
    "The bottom right value is the dot-product of SES with itself:"
   ]
  },
  {
   "cell_type": "code",
   "execution_count": null,
   "metadata": {},
   "outputs": [],
   "source": [
    "np.dot(X[:,1], X[:, 1]) "
   ]
  },
  {
   "cell_type": "markdown",
   "metadata": {},
   "source": [
    "And the off diagonal elements is the dot product between the intercept and SES:"
   ]
  },
  {
   "cell_type": "code",
   "execution_count": null,
   "metadata": {},
   "outputs": [],
   "source": [
    "np.dot(X[:,0], X[:, 1]) "
   ]
  },
  {
   "cell_type": "markdown",
   "metadata": {},
   "source": [
    "#### The Gram Matrix\n",
    "\n",
    "In OLS this part of the equation has a special name: the \"Gram Matrix\"\n",
    "\n",
    "You can think of it like an un-scaled version of the **covariance** of our predictors. If we mean-center each column of $X$ before computing the inner product, we can calculate the co-variance matrix of $X$\n",
    "\n",
    "$$\n",
    "\\begin{align*}\n",
    "G &= X^TX \\\\\n",
    "\\\\\n",
    "cov(X) &\\approx G\\frac{1}{n-1}\n",
    "\\end{align*}\n",
    "$$\n",
    "\n",
    "This symmetric matrix allows us to do a few important things:\n",
    "1. Capture how similar different predictors are to each other (off-diagonals), so we can remove it to **estimate parameters** $\\beta$\n",
    "2. Capture the variance (uncertainty) associated with each predictor $var(\\beta)$ and later perform **parameter inference** by calculating t-statistics and p-values \n",
    "3. Estimate the degree of **multi-collinearity** of our predictors - how correlated they are with each other - an important assumption of the GLM that we'll explore when we discusus multiple regression"
   ]
  },
  {
   "cell_type": "markdown",
   "metadata": {},
   "source": [
    "### Linear Algebra \"undo\": Matrix Inverse\n",
    "\n",
    "Now that we've captured the similarity between predictors we want to *remove it* so we can calculate the resulting similarity with $y$. This allows us to isolate the *unique similarity* between each column of $X$ and $y$ - i.e. the $\\beta$ coefficients we want to solve for with OLS.\n",
    "\n",
    "Just like you can \"undo\" or \"cancel-out\" the effect of multiplication in basic algebra using division or *multiplying by the inverse*:\n",
    "\n",
    "$$\n",
    "\\begin{align*}\n",
    "5 / 5 &= 1 \\\\\n",
    "5 * \\frac{1}{5} &= 1 \\\\\n",
    "5^{-1} &= \\frac{1}{5} \\\\\n",
    "5 * 5^{-1} &= 1 \\\\\n",
    "\\end{align*}\n",
    "$$\n",
    "\n",
    "\n",
    "In linear algebra, you can \"undo\" the effect of matrix by multiplying by its  **matrix inverse**, denoted by raising to the $-1$ power.  \n",
    "The linear aglebra equivalent of the scalar value $1$ is called the identity-matrix $I$, which has 0s for all off-diagonals and 1s across the diagonal:   \n",
    "\n",
    "$$\n",
    "\\begin{pmatrix}\n",
    "1 & 0 & \\cdots & 0 \\\\\n",
    "0 & 1 & \\cdots & 0 \\\\\n",
    "\\vdots & \\vdots & \\ddots & \\vdots \\\\\n",
    "0 & 0 & \\cdots & 1\n",
    "\\end{pmatrix} = I\n",
    "$$\n",
    "\n",
    "And just like in basic algebra, multiplying a matrix by its inverse is equal to the identity matrix:\n",
    "\n",
    "$$\n",
    "(X^TX)({X^TX})^{-1} = I\n",
    "$$\n",
    "\n",
    "Not all matrices have inverses, but if they do you can calculate them using `np.linalg.inv`:\n"
   ]
  },
  {
   "cell_type": "code",
   "execution_count": null,
   "metadata": {},
   "outputs": [],
   "source": [
    "XTX_inv = np.linalg.inv(XTX)"
   ]
  },
  {
   "cell_type": "code",
   "execution_count": null,
   "metadata": {},
   "outputs": [],
   "source": [
    "# 2x2 identity matrix because X has 2 columns\n",
    "np.dot(XTX, XTX_inv)"
   ]
  },
  {
   "cell_type": "markdown",
   "metadata": {},
   "source": [
    "Let's see how using the inverse *undoes* the dot product. Let's start with a vector of 2 values:"
   ]
  },
  {
   "cell_type": "code",
   "execution_count": null,
   "metadata": {},
   "outputs": [],
   "source": [
    "vector = np.array([1., 2.])\n",
    "vector"
   ]
  },
  {
   "cell_type": "markdown",
   "metadata": {},
   "source": [
    "If we take the dot product of the vector and the matrix $X^T X$ we get a new vector:"
   ]
  },
  {
   "cell_type": "code",
   "execution_count": null,
   "metadata": {},
   "outputs": [],
   "source": [
    "new_vector = np.dot(vector, XTX) \n",
    "\n",
    "new_vector"
   ]
  },
  {
   "cell_type": "markdown",
   "metadata": {},
   "source": [
    "But if we take the dot product of this new vector and the inverse $(X^T X)^{-1}$, we can recover our original vector!"
   ]
  },
  {
   "cell_type": "code",
   "execution_count": null,
   "metadata": {},
   "outputs": [],
   "source": [
    "np.dot(new_vector, XTX_inv)  "
   ]
  },
  {
   "cell_type": "markdown",
   "metadata": {},
   "source": [
    "### Similarity between predictors & outcome: Matrix-vector dot-product\n",
    "\n",
    "You just saw the last piece of our puzzle: the matrix-vector dot-product!\n",
    "\n",
    "Just like the matrix-matrix dot-product computes the similarity between columns of two matrices, the matrix-vector dot-product between $X^Ty$ computes the similarity between each *column* of $X$ and $y$.\n",
    "\n",
    "The result is another vector that has the same number of rows as $X^T$, i.e. the same number of *columns* as $X$"
   ]
  },
  {
   "cell_type": "code",
   "execution_count": null,
   "metadata": {},
   "outputs": [],
   "source": [
    "np.dot(X.T, y)"
   ]
  },
  {
   "cell_type": "markdown",
   "metadata": {},
   "source": [
    "### Challenge: Putting the pieces together\n",
    "\n",
    "Now we have have all the pieces to put together the OLS equation:\n",
    "\n",
    "$$\n",
    "\\beta = (X^T X)^{-1} X^T y\n",
    "$$\n",
    "\n",
    "Take a shot writing this out using `numpy`:"
   ]
  },
  {
   "cell_type": "code",
   "execution_count": null,
   "metadata": {},
   "outputs": [],
   "source": [
    "# Your turn\n",
    "# Fill out the right-hand side of each equation below\n",
    "\n",
    "XTX = \n",
    "\n",
    "XTX_inv = \n",
    "\n",
    "XTy = \n",
    "\n",
    "betas = \n",
    "\n",
    "# display betas\n",
    "betas"
   ]
  },
  {
   "cell_type": "markdown",
   "metadata": {},
   "source": [
    "If you did things right you should get a vector of 2 $\\beta$ values:\n",
    "\n",
    "$$\n",
    "\\beta = \\begin{bmatrix} 11.28 \\\\ 1.68 \\end{bmatrix}\n",
    "$$\n",
    "\n",
    "Which are our **parameter estimates**:\n",
    "\n",
    "$$\n",
    "\\begin{align*}\n",
    "\\hat{\\beta_0} &= 11.28 \\\\\n",
    "\\hat{\\beta_1} &= 1.68\n",
    "\\end{align*}\n",
    "$$\n",
    "\n",
    "That allow us to complete our original model equation:\n",
    "\n",
    "$$\n",
    "\\begin{align*}\n",
    "\\hat{internet}_i &= \\hat{\\beta_0} + \\hat{\\beta_1} SES_i \\\\\n",
    "\\hat{internet}_i &= 11.28 + 1.68 * SES_i\n",
    "\\end{align*}\n",
    "$$"
   ]
  },
  {
   "cell_type": "code",
   "execution_count": null,
   "metadata": {},
   "outputs": [],
   "source": [
    "# Solution\n",
    "XTX = np.dot(X.T, X)\n",
    "\n",
    "XTX_inv = np.linalg.inv(XTX)\n",
    "\n",
    "XTy = np.dot(X.T, y)\n",
    "\n",
    "betas = np.dot(XTX_inv, XTy)\n",
    "\n",
    "betas\n",
    "\n",
    "# OR\n",
    "\n",
    "# np.linalg.inv(np.dot(X.T, X)).dot(np.dot(X.T, y))"
   ]
  },
  {
   "cell_type": "markdown",
   "metadata": {},
   "source": [
    "### Using betas for prediction\n",
    "\n",
    "Now that we've estimated values for $\\beta$ we can use them to generate predictions for each observation $\\hat{internet}_i$.  \n",
    "Once again linear algebra makes this easy!  \n",
    "Rather than looping over each row of our DataFrame and plugging in our **parameter estimates**, we can use the dot-product:\n",
    "\n",
    "$$ \\hat{y} = X\\hat{\\beta} $$\n"
   ]
  },
  {
   "cell_type": "code",
   "execution_count": null,
   "metadata": {},
   "outputs": [],
   "source": [
    "y_hats = np.dot(X,betas)"
   ]
  },
  {
   "cell_type": "markdown",
   "metadata": {},
   "source": [
    "Let's visualize these along with the true values of $y$:"
   ]
  },
  {
   "cell_type": "code",
   "execution_count": null,
   "metadata": {},
   "outputs": [],
   "source": [
    "# Add a column to our dataframe with the predictions\n",
    "df_net = df_net.with_columns(\n",
    "    Internet_predictions = y_hats\n",
    ")\n",
    "\n",
    "df_net"
   ]
  },
  {
   "cell_type": "markdown",
   "metadata": {},
   "source": [
    "We'll used `sns.FacetGrid` to overlay 2 scatterplots:\n",
    "\n",
    "1. $Internet \\sim SES$ - the observed data\n",
    "2. $\\hat{Internet} \\sim SES$ - the predicted data\n",
    "\n",
    "*You can refer to the [layering plots](https://stat-intuitions.com/labs/3/02_new_eda_seaborn.html#layering-plots-on-facetgrid) section of our previous lab to refresh yourself on seaborn*"
   ]
  },
  {
   "cell_type": "code",
   "execution_count": null,
   "metadata": {},
   "outputs": [],
   "source": [
    "# Create grid\n",
    "grid = sns.FacetGrid(data=df_net, height=4)\n",
    "# Original\n",
    "grid.map(sns.scatterplot, 'SES', 'Internet', color='black', label='Observed')\n",
    "# Predicted\n",
    "grid.map(sns.scatterplot, 'SES', 'Internet_predictions', color='steelblue', label='Predicted');\n",
    "# Labels\n",
    "grid.set(ylabel='Internet');\n",
    "grid.add_legend();"
   ]
  },
  {
   "cell_type": "markdown",
   "metadata": {},
   "source": [
    "### Evaluating our predictions\n",
    "\n",
    "Let's see how well our model did by calculating the **residuals**: $y - \\hat{y}$"
   ]
  },
  {
   "cell_type": "code",
   "execution_count": null,
   "metadata": {},
   "outputs": [],
   "source": [
    "# Add another column with residuals\n",
    "df_net = df_net.with_columns(\n",
    "    residuals = col('Internet') - col('Internet_predictions')\n",
    ")\n",
    "df_net"
   ]
  },
  {
   "cell_type": "markdown",
   "metadata": {},
   "source": [
    "To inspect our model assumptions we can plot these residuals and look for any structure"
   ]
  },
  {
   "cell_type": "code",
   "execution_count": null,
   "metadata": {},
   "outputs": [],
   "source": [
    "grid = sns.FacetGrid(data=df_net, height=4)\n",
    "grid.map(sns.scatterplot, 'SES', 'residuals', color='black');\n",
    "grid.map(plt.axhline, y=0, color='gray', linestyle='--');"
   ]
  },
  {
   "cell_type": "markdown",
   "metadata": {},
   "source": [
    "Nothing too obvious pops out which is good! \n",
    "\n",
    "It's also helpful to see them as a histogram ignoring our predictor $SES$"
   ]
  },
  {
   "cell_type": "code",
   "execution_count": null,
   "metadata": {},
   "outputs": [],
   "source": [
    "# Todo map kde and historgram along with axvline\n",
    "sns.displot(df_net,x='residuals', color='black', kde=True)"
   ]
  },
  {
   "cell_type": "markdown",
   "metadata": {},
   "source": [
    "## Gauss Markov Theorem\n",
    "\n",
    "Hopefully that wasn't *too bad* for some math! We'll go over more details about regression in the next notebook, but now you should have a decent idea of what's actually getting done in the background.\n",
    "\n",
    "OLS is one of the most fundamental results in all of statistics and is motivated by the [**Gauss-Markov Theorem**](https://statisticsbyjim.com/regression/gauss-markov-theorem-ols-blue/):\n",
    "\n",
    "> If the errors in a regression model have mean zero, are homoskedastic, and uncorrelated, then the OLS $\\beta$ is **BLUE**: the **B**est **L**inear **U**nbiased **E**stimator.  \n",
    "\n",
    "In other words, if we meet [these assumptions](https://www.statisticshowto.com/gauss-markov-theorem-assumptions/), then the slopes we calculate using OLS will have the **lowest variance** and **least bias** of all possible linear slopes we *could have calculated* using any other model! \n",
    "\n",
    "### Revisiting the bias-variance tradeoff\n",
    "\n",
    "Remember when we discussed **what makes a model good**?\n",
    "\n",
    "First, we want it to describe our data well; that is, we want it to have the *lowest possible error* when predicting our observed data.  \n",
    "\n",
    "Second, we want it to *generalize to new data*; that is, we want its error to be as low as possible when we use it to predict *unobserved* data. \n",
    "\n",
    "It turns out that these two features are ofthen in conflict with each other:\n",
    "\n",
    "<div align=\"center\">\n",
    "<img src=\"./figs/bias_variance.png\" width=\"40%\" alt=\"Figure 1\">\n",
    "</div>\n",
    "\n",
    "This happens because our error is actually driven by 2 sources:\n",
    "\n",
    "**Bias error (underfitting)**: error that occurs because we're making the wrong assumptions about our data, e.g. a straight line is a the best model, but in reality the relationship is non-linear (*left-most panel below*)\n",
    "\n",
    "**Variance error (overfitting)**: error that occurs because our model is **too sensitive* to small changes in the data that could be cause by random noise, e.g. a curve that fits every data point perfectly (\"memorizes\" the data) but fails catastrophically when used to make predicts on new data (*right-most panel below*)\n",
    "\n",
    "\n",
    "<div align=\"center\">\n",
    "<img src=\"./figs/underover_biasvariance.png\" width=\"60%\" alt=\"Figure 1\">\n",
    "</div>\n",
    "\n",
    "From this perspective the Gauss-Markov theorem tells us that when we use OLS to estimate our **model parameters**, if our assumptions hold, then estimates we get will be the best in term of both minimizing bias and variance across *all possible linear models*. \n",
    "\n",
    "This doesn't mean the OLS is the best model, but that we can't find a better slope that minimizes SSE without introducing some additional bias or variane to the model."
   ]
  },
  {
   "cell_type": "markdown",
   "metadata": {},
   "source": [
    "## Challenge\n",
    "\n",
    "Let's use the same internet dataset estimate model with **2 additional parameters**:\n",
    "\n",
    "$$\n",
    "\\hat{internet}_i = \\hat{\\beta_0} + \\hat{\\beta_1} SES_i + \\hat{\\beta_2} College_i + \\hat{\\beta_3} Auto_i\n",
    "$$\n",
    "\n",
    "Where $\\hat{\\beta_2}$ an $\\hat{\\beta_3}$ are capturing the slopes of:  \n",
    "\n",
    "- $College$ - the % of a state's population that are college educated\n",
    "- $Auto$ - the average number of cars per household\n"
   ]
  },
  {
   "cell_type": "code",
   "execution_count": null,
   "metadata": {},
   "outputs": [],
   "source": [
    "df_net = pl.read_csv(\"./data/internet.csv\")\n",
    "df_net.head()"
   ]
  },
  {
   "cell_type": "markdown",
   "metadata": {},
   "source": [
    "### (1)\n",
    "\n",
    "Use `numpy` to implement OLS and estimate values for $\\beta_0$, $\\beta_1$, $\\beta_3$, and $\\beta_4$\n",
    "\n",
    "For reference the OLS formula is:\n",
    "\n",
    "$$\n",
    "\\beta = (X^T X)^{-1} X^T y\n",
    "$$\n",
    "\n",
    "Where $X$ is a matrix of your independent variables (and an intercept) and $y$ is a vector of your dependent variable.\n",
    "\n",
    "\n",
    "If you did things right you should get a vector of 4 $\\beta$ values:\n",
    "\n",
    "$$\n",
    "\\beta = \\begin{bmatrix} 18.24 \\\\ 1.27 \\\\ 0.31 \\\\ -0.58 \\end{bmatrix}\n",
    "$$"
   ]
  },
  {
   "cell_type": "code",
   "execution_count": null,
   "metadata": {},
   "outputs": [],
   "source": [
    "# Your code here"
   ]
  },
  {
   "cell_type": "markdown",
   "metadata": {},
   "source": [
    "### (2)\n",
    "\n",
    "Using your parameter estimates, compute the predictions of the model $\\hat{internet_i}$ and calculate to calculate the **sum-of-squared-errors (SSE)** for the model\n",
    "\n",
    "You can generate predictions using:\n",
    "\n",
    "$$ \\hat{y} = X\\beta $$\n",
    "\n",
    "And as a reminder the formula for SSE is:\n",
    "\n",
    "$$SSE = \\sum_{i=1}^n (y_i - \\hat{y_i})^2$$\n",
    "\n",
    "where $y_i$ is the true value of your dependent variable and $\\hat{y_i}$ is the predicted value of the dependent variable from your model\n",
    "\n",
    "If you did things right you should get\n",
    "\n",
    "$$\n",
    "SSE = 150.183\n",
    "$$"
   ]
  },
  {
   "cell_type": "code",
   "execution_count": null,
   "metadata": {},
   "outputs": [],
   "source": [
    "# Your code here"
   ]
  },
  {
   "cell_type": "markdown",
   "metadata": {},
   "source": [
    "## Wrapping Up\n",
    "\n",
    "In this notebook we calculated a GLM by-hand by implementing the OLS solution using `numpy`. Our goal was to demystify the process of **estimating** a linear model, by understanding the basic inner-workings using linear algebra. In practice, we'll often use additional Python libraries and functions to automate this process.\n",
    "\n",
    "You're ready to move onto the next notebook and meet `statsmodels` a library that allows us to much more easily *estimate*, *evaluate*, and *compare* models to each other."
   ]
  }
 ],
 "metadata": {
  "kernelspec": {
   "display_name": "201b",
   "language": "python",
   "name": "python3"
  },
  "language_info": {
   "codemirror_mode": {
    "name": "ipython",
    "version": 3
   },
   "file_extension": ".py",
   "mimetype": "text/x-python",
   "name": "python",
   "nbconvert_exporter": "python",
   "pygments_lexer": "ipython3",
   "version": "3.11.10"
  }
 },
 "nbformat": 4,
 "nbformat_minor": 2
}
