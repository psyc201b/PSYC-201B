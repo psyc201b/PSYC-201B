{
 "cells": [
  {
   "cell_type": "markdown",
   "metadata": {},
   "source": [
    "# Interactive Resources\n",
    "\n",
    "This notebook contains links to a bunch of interactive resources that you can check-out during today's lab or on your own time.\n",
    "\n",
    "Videos will open links in your browser which you can watch and take notes on in this notebook.\n",
    "\n",
    "Interactive explainers have been *embedded* in this notebook so you can browse the website as you normally would from within a notebook cell."
   ]
  },
  {
   "cell_type": "markdown",
   "metadata": {},
   "source": [
    "---"
   ]
  },
  {
   "cell_type": "markdown",
   "metadata": {},
   "source": [
    "# Regression"
   ]
  },
  {
   "cell_type": "markdown",
   "metadata": {},
   "source": [
    "## Videos\n",
    "The following are a series of videos from [StatQuest](https://www.youtube.com/playlist?list=PLblh5JKOoLUIzaEkCLIUxQFjPIlapw8nU) that are very helpful for understanding regression. I find his voice a little annoying at times so I like to watch on 1.5-2x speed. But his explanations are very clear and he points out the key concepts that really matter and the extraneous details that can be ignored.\n",
    "\n",
    "**Click on each thumbnail below to launch the video in your browser**\n",
    "\n",
    "I've added another cell below each video thumbnail in case you want to take notes or list questions to ask us"
   ]
  },
  {
   "cell_type": "markdown",
   "metadata": {},
   "source": [
    "### Fitting a Line to Data (short)\n",
    "\n",
    "[![](./figs/reg1.png)](https://www.youtube.com/watch?v=PaFPbb66DxQ&list=PLblh5JKOoLUIzaEkCLIUxQFjPIlapw8nU&index=2&t=11s)"
   ]
  },
  {
   "cell_type": "markdown",
   "metadata": {},
   "source": [
    "#### Notes/Questions\n",
    "- "
   ]
  },
  {
   "cell_type": "markdown",
   "metadata": {},
   "source": [
    "### Linear Regression (long)\n",
    "\n",
    "[![](./figs/reg2.png)](https://www.youtube.com/watch?v=nk2CQITm_eo)"
   ]
  },
  {
   "cell_type": "markdown",
   "metadata": {},
   "source": [
    "#### Notes/Questions\n",
    "- "
   ]
  },
  {
   "cell_type": "markdown",
   "metadata": {},
   "source": [
    "### Multiple Regression (short)\n",
    "\n",
    "[![](./figs/reg3.png)](https://www.youtube.com/watch?v=EkAQAi3a4js)"
   ]
  },
  {
   "cell_type": "markdown",
   "metadata": {},
   "source": [
    "#### Notes/Questions\n",
    "- "
   ]
  },
  {
   "cell_type": "markdown",
   "metadata": {},
   "source": [
    "## Interactive Articles"
   ]
  },
  {
   "cell_type": "markdown",
   "metadata": {},
   "source": [
    "### A visual introduction to linear algebra\n",
    "**[Original Link](https://mlu-explain.github.io/linear-regression/)**\n",
    "\n",
    "This is the original interactive demo you walked through last week.\n",
    "\n",
    "<iframe src=\"https://mlu-explain.github.io/linear-regression/\" width=\"90%\" height=\"700\" frameborder=\"0\"></iframe>"
   ]
  },
  {
   "cell_type": "markdown",
   "metadata": {},
   "source": [
    "#### Notes/Questions\n",
    "- "
   ]
  },
  {
   "cell_type": "markdown",
   "metadata": {},
   "source": [
    "### OLS explained visually\n",
    "**[Original Link](https://setosa.io/ev/ordinary-least-squares-regression/)**\n",
    "\n",
    "Another interactive article that explains OLS in a visual way.\n",
    "\n",
    "<iframe src=\"https://setosa.io/ev/ordinary-least-squares-regression/\" width=\"90%\" height=\"700\" frameborder=\"0\"></iframe>"
   ]
  },
  {
   "cell_type": "markdown",
   "metadata": {},
   "source": [
    "#### Notes/Questions\n",
    "- "
   ]
  },
  {
   "cell_type": "markdown",
   "metadata": {},
   "source": [
    "---"
   ]
  },
  {
   "cell_type": "markdown",
   "metadata": {},
   "source": [
    "# Linear Algebra\n",
    "\n",
    "I've embedded just a couple of web-pages based on the [Essence of Linear Algebra](https://www.3blue1brown.com/topics/linear-algebra) series we asked you to watch. The full list of videos is available on the course website at the [bottom of this page](https://stat-intuitions.com/lectures/wk4/overview.html).\n",
    "\n",
    "Below, you can interactively scroll through each page right from this notebook.However **youtube videos won't play**. \n",
    "\n",
    "Instead click the link below the title to open the video in your browser"
   ]
  },
  {
   "cell_type": "markdown",
   "metadata": {},
   "source": [
    "### Vectors: What even are they?\n",
    "**[Youtube Link](https://www.youtube.com/watch?v=fNk_zzaMoSs)**\n",
    "\n",
    "<iframe src=\"https://www.3blue1brown.com/lessons/vectors\" width=\"90%\" height=\"700\" frameborder=\"0\"></iframe>\n",
    "\n",
    "---"
   ]
  },
  {
   "cell_type": "markdown",
   "metadata": {},
   "source": [
    "### Linear Combinations and Span\n",
    "**[Youtube Link](https://www.youtube.com/watch?v=k7RM-ot2NWY)**\n",
    "\n",
    "<iframe src=\"https://www.3blue1brown.com/lessons/span\" width=\"90%\" height=\"700\" frameborder=\"0\"></iframe>\n",
    "\n",
    "---"
   ]
  },
  {
   "cell_type": "markdown",
   "metadata": {},
   "source": [
    "### Dot Products\n",
    "**[Youtube Link](https://www.youtube.com/watch?v=LyGKycYT2v0)**\n",
    "\n",
    "<iframe src=\"https://www.3blue1brown.com/lessons/dot-products\" width=\"90%\" height=\"700\" frameborder=\"0\"></iframe>\n",
    "\n",
    "---"
   ]
  },
  {
   "cell_type": "markdown",
   "metadata": {},
   "source": [
    "### Matrix Multiplication\n",
    "**[Youtube Link](https://www.youtube.com/watch?v=XkY2DOUCWMU)**\n",
    "\n",
    "<iframe src=\"https://www.3blue1brown.com/lessons/matrix-multiplication\" width=\"90%\" height=\"700\" frameborder=\"0\"></iframe>\n",
    "\n",
    "---"
   ]
  },
  {
   "cell_type": "markdown",
   "metadata": {},
   "source": []
  },
  {
   "cell_type": "code",
   "execution_count": null,
   "metadata": {},
   "outputs": [],
   "source": []
  }
 ],
 "metadata": {
  "kernelspec": {
   "display_name": "201b",
   "language": "python",
   "name": "python3"
  },
  "language_info": {
   "codemirror_mode": {
    "name": "ipython",
    "version": 3
   },
   "file_extension": ".py",
   "mimetype": "text/x-python",
   "name": "python",
   "nbconvert_exporter": "python",
   "pygments_lexer": "ipython3",
   "version": "3.11.10"
  }
 },
 "nbformat": 4,
 "nbformat_minor": 2
}
