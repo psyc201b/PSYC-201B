{
 "cells": [
  {
   "cell_type": "markdown",
   "metadata": {},
   "source": [
    "# Models VIII: Multiple Categorical Predictors & ANOVA"
   ]
  },
  {
   "cell_type": "markdown",
   "metadata": {},
   "source": [
    "Let's keep working with the *poker dataset* from the previous notbook and explore models with **multiple categorical variables**\n",
    "\n",
    "The experiments used a 2 (skill) x 3 (hand) x 2 (limit) design\n",
    "\n",
    "| Variable   | Description                     |\n",
    "|------------|---------------------------------|\n",
    "| skill     | a player's skill (expert/average)|\n",
    "| hand     | the quality of the hand experimenters manipulate (bad/neutral/good)|\n",
    "| limit     | the style of game (fixed/no-limit)|\n",
    "| balance     | a player's final balance in Euros|\n",
    "\n",
    "### Slides for reference\n",
    "\n",
    "[Modeling VII](https://stat-intuitions.com/lectures/wk8/1.html)"
   ]
  },
  {
   "cell_type": "code",
   "execution_count": 2,
   "metadata": {},
   "outputs": [],
   "source": [
    "import numpy as np\n",
    "import polars as pl\n",
    "from polars import col\n",
    "import seaborn as sns\n",
    "import matplotlib.pyplot as plt\n",
    "from statsmodels.formula.api import ols\n",
    "from statsmodels.stats.anova import anova_lm\n",
    "\n",
    "# Load data\n",
    "df = pl.read_csv('./data/poker-tidy.csv')"
   ]
  },
  {
   "cell_type": "code",
   "execution_count": 3,
   "metadata": {},
   "outputs": [],
   "source": [
    "# Calculate means of each level\n",
    "bad = df.filter(col('hand') == 'bad')['balance'].mean()\n",
    "good = df.filter(col('hand') == 'good')['balance'].mean()\n",
    "neutral = df.filter(col('hand') == 'neutral')['balance'].mean()\n",
    "\n",
    "means = np.array([bad, good, neutral])\n",
    "\n",
    "# And the grand-mean\n",
    "grand_mean = means.mean()"
   ]
  },
  {
   "cell_type": "markdown",
   "metadata": {},
   "source": [
    "## Review: One-way ANOVA\n",
    "\n",
    "Previously we estimated the model: $$balance \\sim hand$$ where $hand$ had 3 levels: $bad$, $neutral$ and $good$\n",
    "\n",
    "By using the `anova_lm()` function we can perform an F-test to see if adding `skill` to the model is *worth it* relative to a model with just an intercept. This doesn't test *which levels* of `skill` are different, just whether including `skill` in the model make a difference in our ability to predict `balance`.\n",
    "\n",
    "And we observe that it is: F(2,297) = 75.70, p < .001"
   ]
  },
  {
   "cell_type": "code",
   "execution_count": 5,
   "metadata": {},
   "outputs": [
    {
     "data": {
      "text/html": [
       "<div>\n",
       "<style scoped>\n",
       "    .dataframe tbody tr th:only-of-type {\n",
       "        vertical-align: middle;\n",
       "    }\n",
       "\n",
       "    .dataframe tbody tr th {\n",
       "        vertical-align: top;\n",
       "    }\n",
       "\n",
       "    .dataframe thead th {\n",
       "        text-align: right;\n",
       "    }\n",
       "</style>\n",
       "<table border=\"1\" class=\"dataframe\">\n",
       "  <thead>\n",
       "    <tr style=\"text-align: right;\">\n",
       "      <th></th>\n",
       "      <th>sum_sq</th>\n",
       "      <th>df</th>\n",
       "      <th>F</th>\n",
       "      <th>PR(&gt;F)</th>\n",
       "    </tr>\n",
       "  </thead>\n",
       "  <tbody>\n",
       "    <tr>\n",
       "      <th>Intercept</th>\n",
       "      <td>3530.142225</td>\n",
       "      <td>1.0</td>\n",
       "      <td>208.830766</td>\n",
       "      <td>3.272007e-36</td>\n",
       "    </tr>\n",
       "    <tr>\n",
       "      <th>C(hand)</th>\n",
       "      <td>2559.401402</td>\n",
       "      <td>2.0</td>\n",
       "      <td>75.702581</td>\n",
       "      <td>2.699281e-27</td>\n",
       "    </tr>\n",
       "    <tr>\n",
       "      <th>Residual</th>\n",
       "      <td>5020.583223</td>\n",
       "      <td>297.0</td>\n",
       "      <td>NaN</td>\n",
       "      <td>NaN</td>\n",
       "    </tr>\n",
       "  </tbody>\n",
       "</table>\n",
       "</div>"
      ],
      "text/plain": [
       "                sum_sq     df           F        PR(>F)\n",
       "Intercept  3530.142225    1.0  208.830766  3.272007e-36\n",
       "C(hand)    2559.401402    2.0   75.702581  2.699281e-27\n",
       "Residual   5020.583223  297.0         NaN           NaN"
      ]
     },
     "execution_count": 5,
     "metadata": {},
     "output_type": "execute_result"
    }
   ],
   "source": [
    "one_way = ols('balance ~ C(hand)', data=df.to_pandas())\n",
    "one_way_results = one_way.fit()\n",
    "\n",
    "anova_lm(one_way_results, typ=3)"
   ]
  },
  {
   "cell_type": "markdown",
   "metadata": {},
   "source": [
    "We also learned that for any categorical predictor with *k-levels* (k = 3 for `hand`), we can represent in our GLM represents it using *k-1 parameters* (2 betas for `hand`) depending on a variety of **coding schemes** with different parameter interpretations. And yet all of these yield the same F-test...\n",
    "\n",
    "The same **One-way ANOVA** results"
   ]
  },
  {
   "cell_type": "markdown",
   "metadata": {},
   "source": [
    "1. **Treatment (Dummy) Coding**\n",
    "  - Default coding scheme\n",
    "  - Intercept = reference level\n",
    "  - Other parameters = differences from reference level\n"
   ]
  },
  {
   "cell_type": "code",
   "execution_count": 6,
   "metadata": {},
   "outputs": [
    {
     "data": {
      "text/plain": [
       "Intercept             5.9415\n",
       "C(hand)[T.good]       7.0849\n",
       "C(hand)[T.neutral]    4.4051\n",
       "dtype: float64"
      ]
     },
     "execution_count": 6,
     "metadata": {},
     "output_type": "execute_result"
    }
   ],
   "source": [
    "treatment = ols('balance ~ C(hand)', data=df.to_pandas()).fit()\n",
    "treatment.params"
   ]
  },
  {
   "cell_type": "code",
   "execution_count": 7,
   "metadata": {},
   "outputs": [
    {
     "name": "stdout",
     "output_type": "stream",
     "text": [
      "Intercept = Bad mean 5.941\n",
      "B1 = Good - Bad 7.085\n",
      "B2 = Neutral - Bad 4.405\n"
     ]
    }
   ],
   "source": [
    "print(f\"Intercept = Bad mean {bad:.3f}\")\n",
    "print(f\"B1 = Good - Bad {good - bad:.3f}\")\n",
    "print(f\"B2 = Neutral - Bad {neutral - bad:.3f}\")"
   ]
  },
  {
   "cell_type": "markdown",
   "metadata": {},
   "source": [
    "2. **Deviation (Sum) Coding**\n",
    "  - Intercept = grand-mean\n",
    "  - Other parameters = differences from grand-mean\n"
   ]
  },
  {
   "cell_type": "code",
   "execution_count": 8,
   "metadata": {},
   "outputs": [
    {
     "data": {
      "text/plain": [
       "Intercept               9.7715\n",
       "C(hand, Sum)[S.bad]    -3.8300\n",
       "C(hand, Sum)[S.good]    3.2549\n",
       "dtype: float64"
      ]
     },
     "execution_count": 8,
     "metadata": {},
     "output_type": "execute_result"
    }
   ],
   "source": [
    "sums = ols('balance ~ C(hand, Sum)',data=df.to_pandas()).fit()\n",
    "sums.params"
   ]
  },
  {
   "cell_type": "code",
   "execution_count": 9,
   "metadata": {},
   "outputs": [
    {
     "name": "stdout",
     "output_type": "stream",
     "text": [
      "Intercept = Grand mean 9.771\n",
      "B1 = Bad - Grand mean -3.830\n",
      "B2 = Good - Grand mean 3.255\n"
     ]
    }
   ],
   "source": [
    "print(f\"Intercept = Grand mean {grand_mean:.3f}\")\n",
    "print(f\"B1 = Bad - Grand mean {bad - grand_mean:.3f}\")\n",
    "print(f\"B2 = Good - Grand mean {good - grand_mean:.3f}\")\n"
   ]
  },
  {
   "cell_type": "markdown",
   "metadata": {},
   "source": [
    "3. **Orthogonal (Polynomial) Coding**\n",
    "  - Intercept = grand-mean\n",
    "  - Other parameters = trends across levels (e.g. linear, quadratic, cubic)\n"
   ]
  },
  {
   "cell_type": "code",
   "execution_count": 10,
   "metadata": {},
   "outputs": [
    {
     "data": {
      "text/plain": [
       "Intercept                  9.771500\n",
       "C(hand, Poly).Linear       3.114876\n",
       "C(hand, Poly).Quadratic   -3.986422\n",
       "dtype: float64"
      ]
     },
     "execution_count": 10,
     "metadata": {},
     "output_type": "execute_result"
    }
   ],
   "source": [
    "polys = ols('balance ~ C(hand, Poly)',data=df.to_pandas()).fit()\n",
    "polys.params"
   ]
  },
  {
   "cell_type": "code",
   "execution_count": 9,
   "metadata": {},
   "outputs": [
    {
     "name": "stdout",
     "output_type": "stream",
     "text": [
      "Intercept = Grand mean 9.771\n",
      "Linear contrast = 3.114\n",
      "Quadratic contrast = -3.984\n"
     ]
    }
   ],
   "source": [
    "# Approximately the linear contrast Poly uses\n",
    "lin_con = np.dot([-.707, 0, .707], means)\n",
    "\n",
    "# Approximately the quadratic contrast Poly uses\n",
    "quad_con = np.dot([.408, -.816, .408], means)\n",
    "\n",
    "print(f\"Intercept = Grand mean {grand_mean:.3f}\")\n",
    "print(f\"Linear contrast = {lin_con:.3f}\")\n",
    "print(f\"Quadratic contrast = {quad_con:.3f}\")"
   ]
  },
  {
   "cell_type": "markdown",
   "metadata": {},
   "source": [
    "## Multiple Categorical Predictors\n",
    "\n",
    "In the original study the authors also had players of different `skill` levels participant: $expert$ and $average$ players. \n",
    "\n",
    "Let's extend our model to test if this additional information is *worth* adding to our model and whether we need to think more carefully about the *coding* scheme we're using... \n",
    "\n",
    "Let's do some visual inspection to look at the effects of `hand` and `skill` and their interction:\n"
   ]
  },
  {
   "cell_type": "markdown",
   "metadata": {},
   "source": [
    "### Challenge\n",
    "\n",
    "Make 3 boxplot figures all of which plot `balance` on the y-axis and:\n",
    "1. `hand` on the x-axis (\"main effect\" of hand)\n",
    "2. `skill` on the x-axis and on `hue` (\"main effect\" of skill)\n",
    "3. `hand` on the x-axis and `skill` on the `hue` (\"interaction\" of hand and skill)"
   ]
  },
  {
   "cell_type": "markdown",
   "metadata": {},
   "source": [
    "1. The effect of `hand` we estimated in the one-way ANOVA above:"
   ]
  },
  {
   "cell_type": "code",
   "execution_count": 12,
   "metadata": {},
   "outputs": [
    {
     "data": {
      "image/png": "[encoded data removed]",
      "text/plain": [
       "<Figure size 411.111x400 with 1 Axes>"
      ]
     },
     "metadata": {
      "image/png": {
       "height": 390,
       "width": 407
      }
     },
     "output_type": "display_data"
    }
   ],
   "source": [
    "# Solution\n",
    "grid = sns.catplot(data=df, x='hand', y='balance',kind='box',height=4)"
   ]
  },
  {
   "cell_type": "markdown",
   "metadata": {},
   "source": [
    "2. The effect of `skill`"
   ]
  },
  {
   "cell_type": "code",
   "execution_count": null,
   "metadata": {},
   "outputs": [
    {
     "data": {
      "image/png": "[encoded data removed]",
      "text/plain": [
       "<Figure size 400x400 with 1 Axes>"
      ]
     },
     "metadata": {
      "image/png": {
       "height": 390,
       "width": 389
      }
     },
     "output_type": "display_data"
    }
   ],
   "source": [
    "# Solution\n",
    "grid = sns.catplot(data=df, x='skill', y='balance', hue='skill', kind='box',height=4)"
   ]
  },
  {
   "cell_type": "markdown",
   "metadata": {},
   "source": [
    "3. The *interaction* between them, which we can think of as either:\n",
    "- the difference between `skill` levels at each level of `hand`\n",
    "- the difference between `hand` levels at each level of `skill`"
   ]
  },
  {
   "cell_type": "code",
   "execution_count": 14,
   "metadata": {},
   "outputs": [
    {
     "data": {
      "image/png": "[encoded data removed]",
      "text/plain": [
       "<Figure size 707.125x400 with 1 Axes>"
      ]
     },
     "metadata": {
      "image/png": {
       "height": 390,
       "width": 693
      }
     },
     "output_type": "display_data"
    }
   ],
   "source": [
    "# Solution\n",
    "grid = sns.catplot(data=df, x='hand', y='balance',hue='skill', kind='box', height=4, aspect=1.5)"
   ]
  },
  {
   "cell_type": "markdown",
   "metadata": {},
   "source": [
    "After some visual inspection of the figures it looks like the best way to incorporate additional information about a player's `skill` is to estimate a model that includes an **interaction** between `hand` and `skill`. Why? Because it looks like the differences between `bad`, `good`, and `neutral` hands are *different* for `expert` vs `average` players"
   ]
  },
  {
   "cell_type": "markdown",
   "metadata": {},
   "source": [
    "### Challenge\n",
    "Fit 2 new models that estimate $$balance \\sim hand * skill $$\n",
    "\n",
    "- For one of the models using the default *treatment* coding.  \n",
    "- For the other model use *sum* coding\n",
    "\n",
    "Use `anova_lm(your_model, type=3)` to inspect the F-table for each model *separately*.  \n",
    "\n",
    "For which model to the results make sense with respect to the figures you made above?"
   ]
  },
  {
   "cell_type": "markdown",
   "metadata": {},
   "source": [
    "*Your response here*"
   ]
  },
  {
   "cell_type": "code",
   "execution_count": 15,
   "metadata": {},
   "outputs": [
    {
     "data": {
      "text/html": [
       "<div>\n",
       "<style scoped>\n",
       "    .dataframe tbody tr th:only-of-type {\n",
       "        vertical-align: middle;\n",
       "    }\n",
       "\n",
       "    .dataframe tbody tr th {\n",
       "        vertical-align: top;\n",
       "    }\n",
       "\n",
       "    .dataframe thead th {\n",
       "        text-align: right;\n",
       "    }\n",
       "</style>\n",
       "<table border=\"1\" class=\"dataframe\">\n",
       "  <thead>\n",
       "    <tr style=\"text-align: right;\">\n",
       "      <th></th>\n",
       "      <th>sum_sq</th>\n",
       "      <th>df</th>\n",
       "      <th>F</th>\n",
       "      <th>PR(&gt;F)</th>\n",
       "    </tr>\n",
       "  </thead>\n",
       "  <tbody>\n",
       "    <tr>\n",
       "      <th>Intercept</th>\n",
       "      <td>1051.8450</td>\n",
       "      <td>1.0</td>\n",
       "      <td>65.0728</td>\n",
       "      <td>0.0000</td>\n",
       "    </tr>\n",
       "    <tr>\n",
       "      <th>C(hand)</th>\n",
       "      <td>2135.2201</td>\n",
       "      <td>2.0</td>\n",
       "      <td>66.0481</td>\n",
       "      <td>0.0000</td>\n",
       "    </tr>\n",
       "    <tr>\n",
       "      <th>C(skill)</th>\n",
       "      <td>183.5754</td>\n",
       "      <td>1.0</td>\n",
       "      <td>11.3570</td>\n",
       "      <td>0.0009</td>\n",
       "    </tr>\n",
       "    <tr>\n",
       "      <th>C(hand):C(skill)</th>\n",
       "      <td>228.9817</td>\n",
       "      <td>2.0</td>\n",
       "      <td>7.0830</td>\n",
       "      <td>0.0010</td>\n",
       "    </tr>\n",
       "    <tr>\n",
       "      <th>Residual</th>\n",
       "      <td>4752.2521</td>\n",
       "      <td>294.0</td>\n",
       "      <td>NaN</td>\n",
       "      <td>NaN</td>\n",
       "    </tr>\n",
       "  </tbody>\n",
       "</table>\n",
       "</div>"
      ],
      "text/plain": [
       "                     sum_sq     df        F  PR(>F)\n",
       "Intercept         1051.8450    1.0  65.0728  0.0000\n",
       "C(hand)           2135.2201    2.0  66.0481  0.0000\n",
       "C(skill)           183.5754    1.0  11.3570  0.0009\n",
       "C(hand):C(skill)   228.9817    2.0   7.0830  0.0010\n",
       "Residual          4752.2521  294.0      NaN     NaN"
      ]
     },
     "execution_count": 15,
     "metadata": {},
     "output_type": "execute_result"
    }
   ],
   "source": [
    "# Solution\n",
    "twoway_treatment = ols('balance ~ C(hand) * C(skill)', data=df.to_pandas()).fit()\n",
    "\n",
    "anova_lm(twoway_treatment,typ=3).round(4)"
   ]
  },
  {
   "cell_type": "code",
   "execution_count": 16,
   "metadata": {},
   "outputs": [
    {
     "data": {
      "text/html": [
       "<div>\n",
       "<style scoped>\n",
       "    .dataframe tbody tr th:only-of-type {\n",
       "        vertical-align: middle;\n",
       "    }\n",
       "\n",
       "    .dataframe tbody tr th {\n",
       "        vertical-align: top;\n",
       "    }\n",
       "\n",
       "    .dataframe thead th {\n",
       "        text-align: right;\n",
       "    }\n",
       "</style>\n",
       "<table border=\"1\" class=\"dataframe\">\n",
       "  <thead>\n",
       "    <tr style=\"text-align: right;\">\n",
       "      <th></th>\n",
       "      <th>sum_sq</th>\n",
       "      <th>df</th>\n",
       "      <th>F</th>\n",
       "      <th>PR(&gt;F)</th>\n",
       "    </tr>\n",
       "  </thead>\n",
       "  <tbody>\n",
       "    <tr>\n",
       "      <th>Intercept</th>\n",
       "      <td>28644.6637</td>\n",
       "      <td>1.0</td>\n",
       "      <td>1772.1137</td>\n",
       "      <td>0.0000</td>\n",
       "    </tr>\n",
       "    <tr>\n",
       "      <th>C(hand, Sum)</th>\n",
       "      <td>2559.4014</td>\n",
       "      <td>2.0</td>\n",
       "      <td>79.1692</td>\n",
       "      <td>0.0000</td>\n",
       "    </tr>\n",
       "    <tr>\n",
       "      <th>C(skill, Sum)</th>\n",
       "      <td>39.3494</td>\n",
       "      <td>1.0</td>\n",
       "      <td>2.4344</td>\n",
       "      <td>0.1198</td>\n",
       "    </tr>\n",
       "    <tr>\n",
       "      <th>C(hand, Sum):C(skill, Sum)</th>\n",
       "      <td>228.9817</td>\n",
       "      <td>2.0</td>\n",
       "      <td>7.0830</td>\n",
       "      <td>0.0010</td>\n",
       "    </tr>\n",
       "    <tr>\n",
       "      <th>Residual</th>\n",
       "      <td>4752.2521</td>\n",
       "      <td>294.0</td>\n",
       "      <td>NaN</td>\n",
       "      <td>NaN</td>\n",
       "    </tr>\n",
       "  </tbody>\n",
       "</table>\n",
       "</div>"
      ],
      "text/plain": [
       "                                sum_sq     df          F  PR(>F)\n",
       "Intercept                   28644.6637    1.0  1772.1137  0.0000\n",
       "C(hand, Sum)                 2559.4014    2.0    79.1692  0.0000\n",
       "C(skill, Sum)                  39.3494    1.0     2.4344  0.1198\n",
       "C(hand, Sum):C(skill, Sum)    228.9817    2.0     7.0830  0.0010\n",
       "Residual                     4752.2521  294.0        NaN     NaN"
      ]
     },
     "execution_count": 16,
     "metadata": {},
     "output_type": "execute_result"
    }
   ],
   "source": [
    "# Solution\n",
    "twoway_sums = ols('balance ~ C(hand,Sum) * C(skill, Sum)', data=df.to_pandas()).fit()\n",
    "\n",
    "anova_lm(twoway_sums, typ=3).round(4)"
   ]
  },
  {
   "cell_type": "markdown",
   "metadata": {},
   "source": [
    "## Two-way Factorial ANOVA\n",
    "\n",
    "You should have noticed that using the *treatment* coding scheme made it seem like the effect of `skill` was *also* significant even though $expert$ and $average$ players clearly don't look different from the figure above. So what's going on?\n",
    "\n",
    "It turns out that ***how* we code categorical matters for valid F-tests in multiple regression**.  \n",
    "\n",
    "In fact this type of multiple regression has a special name, it's called a **factorial ANOVA (analysis of variance)**.\n",
    "\n",
    "|    | Expert | Average |\n",
    "|----|--------|---------|\n",
    "| **Bad** | hand = bad, skill = expert   | hand = bad, skill = average |\n",
    "| **Neutral** | hand = neutral, skill = expert | hand = neutral, skill = average |\n",
    "| **Good** | hand = good, skill = expert | hand = good, skill = average |\n",
    "\n",
    "ANOVA is a statistical process initially [developed by Ronald Fisher in 1925](https://higherlogicdownload.s3.amazonaws.com/AMSTAT/1484431b-3202-461e-b7e6-ebce10ca8bcd/UploadedImages/Classroom_Activities/HS_8__FISHER_and_Design_of_experiments.pdf), for analyzing experiments with *only* categorical *factors*. ANOVA provides a mathematical \"trick\" we can use to efficiently calculate the *change in a model's residual variance* attributable to each factor - in the table above the first factor `hand` had 3 levels and the second factor `skill` had 2 levels. \n",
    "\n",
    "ANOVA allows us to decompose this variance to test *joint-hypotheses* - are *all the parameters* encoding *all the levels* of `skill` (or `hand`) *worth it?* For this reason we often refer to an F-test as an **omnibus test** because it tests all of the parameters encoding a factor at once.\n",
    "\n",
    " We've seen this \"change in residual variance\" before - it's the **Proportional Reduction in Error (PRE)** when we compare nested models! In fact the **F-distribution** is named in honor of Ronald Fisher - and describes how this change in variance changes as we have more/less factor levels and observations. \n",
    "\n",
    "\n",
    "<div align=\"center\">\n",
    "<img src=\"./figs/fstat-pre.png\" width=\"60%\" alt=\"Figure 1\">\n",
    "</div>\n",
    "\n"
   ]
  },
  {
   "cell_type": "markdown",
   "metadata": {},
   "source": [
    "However, in order to use this trick and calculate ANOVA correctly there are several **key requirements**:\n",
    "- We have to use a valid **contrast** coding scheme for our categorical variable\n",
    "- We have to calculate our sum-of-squared residuals using the \"type III approach\"\n",
    "\n",
    "There are certain situations in which these conditions won't matter as much (e.g. perfectly balanced data and factor levels) - but in practice you should follow the guidelines above whenever you plan to conduct F-tests using multiple categorical predictors.\n",
    "\n",
    "Let's take a look at each of these now"
   ]
  },
  {
   "cell_type": "markdown",
   "metadata": {},
   "source": [
    "### Valid Contrast coding schemes\n",
    "\n",
    "You should refer to this week's reading, especially Chapter 8 of Data Analysis: A Model Comparison Approach, for more additional background details, but in general we consider a categorical coding scheme to be a valid **contrast scheme** if using values if 2 conditions are met:\n",
    "- If the codes within each column sum-to-zero\n",
    "- If overall-sum of codes across columns equals zero\n",
    "\n",
    "This ensure that our comparisons are orthogonal to each other and yields valid \"main effect\" and \"interaction\" F-tests from our ANOVA. \n",
    "\n",
    "Let's see the difference between *treatment* and *sum* coding:"
   ]
  },
  {
   "cell_type": "code",
   "execution_count": 17,
   "metadata": {},
   "outputs": [],
   "source": [
    "from helpers import plot_design_matrix"
   ]
  },
  {
   "cell_type": "markdown",
   "metadata": {},
   "source": [
    "We can see that the *treatment/dummy* coding using 0s and 1s and therefore doesn't meet these conditions:"
   ]
  },
  {
   "cell_type": "code",
   "execution_count": 18,
   "metadata": {},
   "outputs": [
    {
     "data": {
      "image/png": "[encoded data removed]",
      "text/plain": [
       "<Figure size 640x480 with 2 Axes>"
      ]
     },
     "metadata": {
      "image/png": {
       "height": 468,
       "width": 629
      }
     },
     "output_type": "display_data"
    }
   ],
   "source": [
    "twoway_treatment = ols('balance ~ C(hand) * C(skill)', data=df.to_pandas())\n",
    "plot_design_matrix(twoway_treatment, plot_names=['intercept','b1','b2','b3','b4','b5'])"
   ]
  },
  {
   "cell_type": "markdown",
   "metadata": {},
   "source": [
    "If we add up the rows of our design matrix, ignoring the intercept, our columns do **not** sum to zero!"
   ]
  },
  {
   "cell_type": "code",
   "execution_count": 19,
   "metadata": {},
   "outputs": [
    {
     "data": {
      "text/plain": [
       "array([300., 100., 100., 150.,  50.,  50.])"
      ]
     },
     "execution_count": 19,
     "metadata": {},
     "output_type": "execute_result"
    }
   ],
   "source": [
    "twoway_treatment.exog.sum(axis=0)"
   ]
  },
  {
   "cell_type": "markdown",
   "metadata": {},
   "source": [
    "We can also see this by inspecting the coding matrix that `ols` is using like we did in a previous notebook. This shows the mapping between each level of our categorical predictor and the corresponding reprsentation in the model, like a mini design-matrix. \n",
    "\n",
    "You can see that it matches the design matrix above (without the intercept)"
   ]
  },
  {
   "cell_type": "code",
   "execution_count": 20,
   "metadata": {},
   "outputs": [
    {
     "data": {
      "text/plain": [
       "array([[1., 0., 0., 0., 0.],\n",
       "       [0., 1., 0., 0., 0.],\n",
       "       [0., 0., 1., 0., 0.],\n",
       "       [0., 0., 0., 1., 0.],\n",
       "       [0., 0., 0., 0., 1.]])"
      ]
     },
     "execution_count": 20,
     "metadata": {},
     "output_type": "execute_result"
    }
   ],
   "source": [
    "from patsy.contrasts import Treatment\n",
    "\n",
    "# All dummy-coded levels of our 2 categorical variables\n",
    "levels = twoway_treatment.exog_names[1:]\n",
    "\n",
    "# Generate the coding matrix\n",
    "treatment_codes = Treatment().code_with_intercept(levels).matrix\n",
    "treatment_codes"
   ]
  },
  {
   "cell_type": "markdown",
   "metadata": {},
   "source": [
    "And that it fails out first requirement: rows sum-to-zero"
   ]
  },
  {
   "cell_type": "code",
   "execution_count": 21,
   "metadata": {},
   "outputs": [
    {
     "data": {
      "text/plain": [
       "array([1., 1., 1., 1., 1.])"
      ]
     },
     "execution_count": 21,
     "metadata": {},
     "output_type": "execute_result"
    }
   ],
   "source": [
    "treatment_codes.sum(axis=0)"
   ]
  },
  {
   "cell_type": "markdown",
   "metadata": {},
   "source": [
    "And our second requirement: the overall sum across columns should be zero"
   ]
  },
  {
   "cell_type": "code",
   "execution_count": 22,
   "metadata": {},
   "outputs": [
    {
     "data": {
      "text/plain": [
       "np.float64(5.0)"
      ]
     },
     "execution_count": 22,
     "metadata": {},
     "output_type": "execute_result"
    }
   ],
   "source": [
    "treatment_codes.sum(axis=1).sum()"
   ]
  },
  {
   "cell_type": "markdown",
   "metadata": {},
   "source": [
    "Let's compare this to *deviation/sum* coding"
   ]
  },
  {
   "cell_type": "code",
   "execution_count": 23,
   "metadata": {},
   "outputs": [
    {
     "data": {
      "image/png": "[encoded data removed]",
      "text/plain": [
       "<Figure size 640x480 with 2 Axes>"
      ]
     },
     "metadata": {
      "image/png": {
       "height": 468,
       "width": 629
      }
     },
     "output_type": "display_data"
    }
   ],
   "source": [
    "twoway_sum = ols('balance ~ C(hand, Sum) * C(skill, Sum)', data=df.to_pandas())\n",
    "plot_design_matrix(twoway_sum, plot_names=['intercept','b1','b2','b3','b4','b5'])"
   ]
  },
  {
   "cell_type": "markdown",
   "metadata": {},
   "source": [
    "Again we can check out the model matrix and see it how it maps the different levels of our categorical predictors to numerical values:"
   ]
  },
  {
   "cell_type": "code",
   "execution_count": 24,
   "metadata": {},
   "outputs": [
    {
     "data": {
      "text/plain": [
       "array([[ 1.,  0.,  0.,  0.],\n",
       "       [ 0.,  1.,  0.,  0.],\n",
       "       [ 0.,  0.,  1.,  0.],\n",
       "       [ 0.,  0.,  0.,  1.],\n",
       "       [-1., -1., -1., -1.]])"
      ]
     },
     "execution_count": 24,
     "metadata": {},
     "output_type": "execute_result"
    }
   ],
   "source": [
    "from patsy.contrasts import Sum\n",
    "\n",
    "# All sum-coded levels of our 2 categorical variables\n",
    "levels = twoway_sum.exog_names[1:]\n",
    "\n",
    "# Generate the coding matrix\n",
    "sum_codes = Sum().code_without_intercept(levels).matrix\n",
    "sum_codes"
   ]
  },
  {
   "cell_type": "markdown",
   "metadata": {},
   "source": [
    "We can see that this scheme **is a valid contrast** because both rows and sum of columns equal 0:"
   ]
  },
  {
   "cell_type": "code",
   "execution_count": 25,
   "metadata": {},
   "outputs": [
    {
     "data": {
      "text/plain": [
       "array([0., 0., 0., 0.])"
      ]
     },
     "execution_count": 25,
     "metadata": {},
     "output_type": "execute_result"
    }
   ],
   "source": [
    "sum_codes.sum(axis=0)"
   ]
  },
  {
   "cell_type": "code",
   "execution_count": 26,
   "metadata": {},
   "outputs": [
    {
     "data": {
      "text/plain": [
       "np.float64(0.0)"
      ]
     },
     "execution_count": 26,
     "metadata": {},
     "output_type": "execute_result"
    }
   ],
   "source": [
    "sum_codes.sum(axis=1).sum()"
   ]
  },
  {
   "cell_type": "markdown",
   "metadata": {},
   "source": [
    "### Challenge\n",
    "Using the examples above and the starter code below, can you check if the *polynomial* scheme is a **valid contrast**?\n",
    "\n",
    "*Note: often in python you'll see very small number written using scientific-notation like `-2.22044605e-16`. For all intent-and-purposes, this is the **same as 0** and is due to the way that your computer (and Python) represents the precision of floating-point numbers.*"
   ]
  },
  {
   "cell_type": "code",
   "execution_count": 27,
   "metadata": {},
   "outputs": [
    {
     "data": {
      "image/png": "[encoded data removed]",
      "text/plain": [
       "<Figure size 640x480 with 2 Axes>"
      ]
     },
     "metadata": {
      "image/png": {
       "height": 468,
       "width": 629
      }
     },
     "output_type": "display_data"
    }
   ],
   "source": [
    "# Define model and plot design matrix here\n",
    "# Solution\n",
    "twoway_poly = ols('balance ~ C(hand, Poly) * C(skill, Poly)', data=df.to_pandas())\n",
    "plot_design_matrix(twoway_poly, plot_names=['intercept','b1','b2','b3','b4','b5'])"
   ]
  },
  {
   "cell_type": "code",
   "execution_count": 28,
   "metadata": {},
   "outputs": [],
   "source": [
    "# Solution\n",
    "from patsy.contrasts import Poly\n",
    "\n",
    "# Fill in with your model's design matrix\n",
    "levels = twoway_poly.exog_names[1:]\n",
    "\n",
    "# Generate the coding matrix\n",
    "poly_codes = Poly().code_without_intercept(levels).matrix"
   ]
  },
  {
   "cell_type": "code",
   "execution_count": 29,
   "metadata": {},
   "outputs": [
    {
     "data": {
      "text/plain": [
       "array([ 0., -0.,  0., -0.])"
      ]
     },
     "execution_count": 29,
     "metadata": {},
     "output_type": "execute_result"
    }
   ],
   "source": [
    "# Your code checking validity here\n",
    "# Solution\n",
    "poly_codes.sum(axis=0).round(5)"
   ]
  },
  {
   "cell_type": "code",
   "execution_count": 30,
   "metadata": {},
   "outputs": [
    {
     "data": {
      "text/plain": [
       "np.float64(-0.0)"
      ]
     },
     "execution_count": 30,
     "metadata": {},
     "output_type": "execute_result"
    }
   ],
   "source": [
    "poly_codes.sum(1).sum().round(5)"
   ]
  },
  {
   "cell_type": "markdown",
   "metadata": {},
   "source": [
    "### Type III sums of squares - valid inferences with unbalanced designs\n",
    "\n",
    "The other requirement for a valid ANOVA is to know what's refered to as \"type III sums of squares.\" This isn't technically a requirement but more of *default practice* in Psychology and most other social science because of its ability to handle **unbalanced designs with interactions**. \n",
    "\n",
    "Fisher's original formulation of ANOVA assumed that each combination of factor levels had the **same number of observations**. In experimental terms you might say you have the same $n$ in each \"cell\" of your design. When running a factorial ANOVA model with *different* $n$ in each cell, the type III method will partition variance for each factor in the way that you expect:\n",
    "\n",
    "$$ \n",
    "SS(A | B, AB)\\  \\text{for independent variable A} \\\\\n",
    "SS(B | A, AB)\\  \\text{for independent variable B} \\\\\n",
    "$$\n",
    "\n",
    "In other words it will calculate the *change in model error* when adding factor A accounting for both factors B *and* the interaction between A and B. Intuitively, you can think of this as the same interpretation as when we interpret our parameter estimates: the *unique variance* of predictor `a` when accounting for the other predictors `b` and their interactions `a*b`.\n",
    "\n",
    "In other types of SS calculations (I and II) the *order* in which factors are entered into the model *changes* the results! This is **almost never what you want in practice**, so we won't go into the details of these calculations. Instead you can check out this [article](https://mcfromnz.wordpress.com/2011/03/02/anova-type-iiiiii-ss-explained/) for a more detailed explanation with code examples in R.\n",
    "\n",
    "In your day-to-day work **always prefer type III sums-of-squares** which you can calculate by making sure to `typ=3` with `anova_lm`"
   ]
  },
  {
   "cell_type": "markdown",
   "metadata": {},
   "source": [
    "### Mini-Exercise\n",
    "\n",
    "Imagine you were running a replication of the poker study and you didn't quite get a chance to finish collecting the full set of data. Using the data we've loaded for you in the next cell complete the following exercises:"
   ]
  },
  {
   "cell_type": "code",
   "execution_count": 31,
   "metadata": {},
   "outputs": [
    {
     "data": {
      "text/html": [
       "<div><style>\n",
       ".dataframe > thead > tr,\n",
       ".dataframe > tbody > tr {\n",
       "  text-align: right;\n",
       "  white-space: pre-wrap;\n",
       "}\n",
       "</style>\n",
       "<small>shape: (5, 4)</small><table border=\"1\" class=\"dataframe\"><thead><tr><th>skill</th><th>hand</th><th>limit</th><th>balance</th></tr><tr><td>str</td><td>str</td><td>str</td><td>f64</td></tr></thead><tbody><tr><td>&quot;average&quot;</td><td>&quot;bad&quot;</td><td>&quot;no-limit&quot;</td><td>7.84</td></tr><tr><td>&quot;expert&quot;</td><td>&quot;bad&quot;</td><td>&quot;fixed&quot;</td><td>8.36</td></tr><tr><td>&quot;expert&quot;</td><td>&quot;good&quot;</td><td>&quot;no-limit&quot;</td><td>15.95</td></tr><tr><td>&quot;average&quot;</td><td>&quot;neutral&quot;</td><td>&quot;fixed&quot;</td><td>11.89</td></tr><tr><td>&quot;expert&quot;</td><td>&quot;bad&quot;</td><td>&quot;fixed&quot;</td><td>11.04</td></tr></tbody></table></div>"
      ],
      "text/plain": [
       "shape: (5, 4)\n",
       "┌─────────┬─────────┬──────────┬─────────┐\n",
       "│ skill   ┆ hand    ┆ limit    ┆ balance │\n",
       "│ ---     ┆ ---     ┆ ---      ┆ ---     │\n",
       "│ str     ┆ str     ┆ str      ┆ f64     │\n",
       "╞═════════╪═════════╪══════════╪═════════╡\n",
       "│ average ┆ bad     ┆ no-limit ┆ 7.84    │\n",
       "│ expert  ┆ bad     ┆ fixed    ┆ 8.36    │\n",
       "│ expert  ┆ good    ┆ no-limit ┆ 15.95   │\n",
       "│ average ┆ neutral ┆ fixed    ┆ 11.89   │\n",
       "│ expert  ┆ bad     ┆ fixed    ┆ 11.04   │\n",
       "└─────────┴─────────┴──────────┴─────────┘"
      ]
     },
     "execution_count": 31,
     "metadata": {},
     "output_type": "execute_result"
    }
   ],
   "source": [
    "# Load incomplete data\n",
    "df_inc = pl.read_csv('./data/poker-tidy-incomplete.csv')\n",
    "df_inc.head()"
   ]
  },
  {
   "cell_type": "markdown",
   "metadata": {},
   "source": [
    "Let's just focus on the `skill` and `hand` variables. How many observations per *cell* of the design in these data? And how does this compare to the original data (`df` variable)?"
   ]
  },
  {
   "cell_type": "code",
   "execution_count": 32,
   "metadata": {},
   "outputs": [
    {
     "data": {
      "text/html": [
       "<div><style>\n",
       ".dataframe > thead > tr,\n",
       ".dataframe > tbody > tr {\n",
       "  text-align: right;\n",
       "  white-space: pre-wrap;\n",
       "}\n",
       "</style>\n",
       "<small>shape: (6, 3)</small><table border=\"1\" class=\"dataframe\"><thead><tr><th>hand</th><th>skill</th><th>len</th></tr><tr><td>str</td><td>str</td><td>u32</td></tr></thead><tbody><tr><td>&quot;neutral&quot;</td><td>&quot;expert&quot;</td><td>37</td></tr><tr><td>&quot;bad&quot;</td><td>&quot;expert&quot;</td><td>44</td></tr><tr><td>&quot;bad&quot;</td><td>&quot;average&quot;</td><td>42</td></tr><tr><td>&quot;good&quot;</td><td>&quot;average&quot;</td><td>38</td></tr><tr><td>&quot;neutral&quot;</td><td>&quot;average&quot;</td><td>39</td></tr><tr><td>&quot;good&quot;</td><td>&quot;expert&quot;</td><td>40</td></tr></tbody></table></div>"
      ],
      "text/plain": [
       "shape: (6, 3)\n",
       "┌─────────┬─────────┬─────┐\n",
       "│ hand    ┆ skill   ┆ len │\n",
       "│ ---     ┆ ---     ┆ --- │\n",
       "│ str     ┆ str     ┆ u32 │\n",
       "╞═════════╪═════════╪═════╡\n",
       "│ neutral ┆ expert  ┆ 37  │\n",
       "│ bad     ┆ expert  ┆ 44  │\n",
       "│ bad     ┆ average ┆ 42  │\n",
       "│ good    ┆ average ┆ 38  │\n",
       "│ neutral ┆ average ┆ 39  │\n",
       "│ good    ┆ expert  ┆ 40  │\n",
       "└─────────┴─────────┴─────┘"
      ]
     },
     "execution_count": 32,
     "metadata": {},
     "output_type": "execute_result"
    }
   ],
   "source": [
    "# Solution\n",
    "df_inc.group_by(['hand','skill']).len()"
   ]
  },
  {
   "cell_type": "code",
   "execution_count": 33,
   "metadata": {},
   "outputs": [
    {
     "data": {
      "text/html": [
       "<div><style>\n",
       ".dataframe > thead > tr,\n",
       ".dataframe > tbody > tr {\n",
       "  text-align: right;\n",
       "  white-space: pre-wrap;\n",
       "}\n",
       "</style>\n",
       "<small>shape: (6, 3)</small><table border=\"1\" class=\"dataframe\"><thead><tr><th>hand</th><th>skill</th><th>len</th></tr><tr><td>str</td><td>str</td><td>u32</td></tr></thead><tbody><tr><td>&quot;bad&quot;</td><td>&quot;expert&quot;</td><td>50</td></tr><tr><td>&quot;neutral&quot;</td><td>&quot;average&quot;</td><td>50</td></tr><tr><td>&quot;bad&quot;</td><td>&quot;average&quot;</td><td>50</td></tr><tr><td>&quot;neutral&quot;</td><td>&quot;expert&quot;</td><td>50</td></tr><tr><td>&quot;good&quot;</td><td>&quot;expert&quot;</td><td>50</td></tr><tr><td>&quot;good&quot;</td><td>&quot;average&quot;</td><td>50</td></tr></tbody></table></div>"
      ],
      "text/plain": [
       "shape: (6, 3)\n",
       "┌─────────┬─────────┬─────┐\n",
       "│ hand    ┆ skill   ┆ len │\n",
       "│ ---     ┆ ---     ┆ --- │\n",
       "│ str     ┆ str     ┆ u32 │\n",
       "╞═════════╪═════════╪═════╡\n",
       "│ bad     ┆ expert  ┆ 50  │\n",
       "│ neutral ┆ average ┆ 50  │\n",
       "│ bad     ┆ average ┆ 50  │\n",
       "│ neutral ┆ expert  ┆ 50  │\n",
       "│ good    ┆ expert  ┆ 50  │\n",
       "│ good    ┆ average ┆ 50  │\n",
       "└─────────┴─────────┴─────┘"
      ]
     },
     "execution_count": 33,
     "metadata": {},
     "output_type": "execute_result"
    }
   ],
   "source": [
    "# Solution\n",
    "df.group_by(['hand','skill']).len()"
   ]
  },
  {
   "cell_type": "markdown",
   "metadata": {},
   "source": [
    "Below we've estimated a model with the same predictors `hand` and `skill`, input to the model in two different orders. For some reason the F-statistics and `mean_sq` (error) of each factor are different between the models.\n",
    "\n",
    "Can you figure out why? What can you change so that the order doesn't matter?"
   ]
  },
  {
   "cell_type": "markdown",
   "metadata": {},
   "source": [
    "*We need to use **type 3** sums of squares*"
   ]
  },
  {
   "cell_type": "code",
   "execution_count": 34,
   "metadata": {},
   "outputs": [
    {
     "data": {
      "text/html": [
       "<div>\n",
       "<style scoped>\n",
       "    .dataframe tbody tr th:only-of-type {\n",
       "        vertical-align: middle;\n",
       "    }\n",
       "\n",
       "    .dataframe tbody tr th {\n",
       "        vertical-align: top;\n",
       "    }\n",
       "\n",
       "    .dataframe thead th {\n",
       "        text-align: right;\n",
       "    }\n",
       "</style>\n",
       "<table border=\"1\" class=\"dataframe\">\n",
       "  <thead>\n",
       "    <tr style=\"text-align: right;\">\n",
       "      <th></th>\n",
       "      <th>df</th>\n",
       "      <th>sum_sq</th>\n",
       "      <th>mean_sq</th>\n",
       "      <th>F</th>\n",
       "      <th>PR(&gt;F)</th>\n",
       "    </tr>\n",
       "  </thead>\n",
       "  <tbody>\n",
       "    <tr>\n",
       "      <th>C(hand)</th>\n",
       "      <td>2.0</td>\n",
       "      <td>1972.7168</td>\n",
       "      <td>986.3584</td>\n",
       "      <td>59.4160</td>\n",
       "      <td>0.0000</td>\n",
       "    </tr>\n",
       "    <tr>\n",
       "      <th>C(skill)</th>\n",
       "      <td>1.0</td>\n",
       "      <td>22.9502</td>\n",
       "      <td>22.9502</td>\n",
       "      <td>1.3825</td>\n",
       "      <td>0.2409</td>\n",
       "    </tr>\n",
       "    <tr>\n",
       "      <th>Residual</th>\n",
       "      <td>236.0</td>\n",
       "      <td>3917.8128</td>\n",
       "      <td>16.6009</td>\n",
       "      <td>NaN</td>\n",
       "      <td>NaN</td>\n",
       "    </tr>\n",
       "  </tbody>\n",
       "</table>\n",
       "</div>"
      ],
      "text/plain": [
       "             df     sum_sq   mean_sq        F  PR(>F)\n",
       "C(hand)     2.0  1972.7168  986.3584  59.4160  0.0000\n",
       "C(skill)    1.0    22.9502   22.9502   1.3825  0.2409\n",
       "Residual  236.0  3917.8128   16.6009      NaN     NaN"
      ]
     },
     "execution_count": 34,
     "metadata": {},
     "output_type": "execute_result"
    }
   ],
   "source": [
    "hand_skill_treatment = ols('balance ~ C(hand) + C(skill)', data=df_inc.to_pandas()).fit()\n",
    "anova_lm(hand_skill_treatment, typ=1).round(4)"
   ]
  },
  {
   "cell_type": "code",
   "execution_count": 35,
   "metadata": {},
   "outputs": [
    {
     "data": {
      "text/html": [
       "<div>\n",
       "<style scoped>\n",
       "    .dataframe tbody tr th:only-of-type {\n",
       "        vertical-align: middle;\n",
       "    }\n",
       "\n",
       "    .dataframe tbody tr th {\n",
       "        vertical-align: top;\n",
       "    }\n",
       "\n",
       "    .dataframe thead th {\n",
       "        text-align: right;\n",
       "    }\n",
       "</style>\n",
       "<table border=\"1\" class=\"dataframe\">\n",
       "  <thead>\n",
       "    <tr style=\"text-align: right;\">\n",
       "      <th></th>\n",
       "      <th>df</th>\n",
       "      <th>sum_sq</th>\n",
       "      <th>mean_sq</th>\n",
       "      <th>F</th>\n",
       "      <th>PR(&gt;F)</th>\n",
       "    </tr>\n",
       "  </thead>\n",
       "  <tbody>\n",
       "    <tr>\n",
       "      <th>C(skill)</th>\n",
       "      <td>1.0</td>\n",
       "      <td>21.2849</td>\n",
       "      <td>21.2849</td>\n",
       "      <td>1.2822</td>\n",
       "      <td>0.2586</td>\n",
       "    </tr>\n",
       "    <tr>\n",
       "      <th>C(hand)</th>\n",
       "      <td>2.0</td>\n",
       "      <td>1974.3820</td>\n",
       "      <td>987.1910</td>\n",
       "      <td>59.4661</td>\n",
       "      <td>0.0000</td>\n",
       "    </tr>\n",
       "    <tr>\n",
       "      <th>Residual</th>\n",
       "      <td>236.0</td>\n",
       "      <td>3917.8128</td>\n",
       "      <td>16.6009</td>\n",
       "      <td>NaN</td>\n",
       "      <td>NaN</td>\n",
       "    </tr>\n",
       "  </tbody>\n",
       "</table>\n",
       "</div>"
      ],
      "text/plain": [
       "             df     sum_sq   mean_sq        F  PR(>F)\n",
       "C(skill)    1.0    21.2849   21.2849   1.2822  0.2586\n",
       "C(hand)     2.0  1974.3820  987.1910  59.4661  0.0000\n",
       "Residual  236.0  3917.8128   16.6009      NaN     NaN"
      ]
     },
     "execution_count": 35,
     "metadata": {},
     "output_type": "execute_result"
    }
   ],
   "source": [
    "skill_hand_treatment = ols('balance ~ C(skill) + C(hand)', data=df_inc.to_pandas()).fit()\n",
    "anova_lm(skill_hand_treatment, typ=1).round(4)"
   ]
  },
  {
   "cell_type": "code",
   "execution_count": 36,
   "metadata": {},
   "outputs": [
    {
     "data": {
      "text/html": [
       "<div>\n",
       "<style scoped>\n",
       "    .dataframe tbody tr th:only-of-type {\n",
       "        vertical-align: middle;\n",
       "    }\n",
       "\n",
       "    .dataframe tbody tr th {\n",
       "        vertical-align: top;\n",
       "    }\n",
       "\n",
       "    .dataframe thead th {\n",
       "        text-align: right;\n",
       "    }\n",
       "</style>\n",
       "<table border=\"1\" class=\"dataframe\">\n",
       "  <thead>\n",
       "    <tr style=\"text-align: right;\">\n",
       "      <th></th>\n",
       "      <th>sum_sq</th>\n",
       "      <th>df</th>\n",
       "      <th>F</th>\n",
       "      <th>PR(&gt;F)</th>\n",
       "    </tr>\n",
       "  </thead>\n",
       "  <tbody>\n",
       "    <tr>\n",
       "      <th>Intercept</th>\n",
       "      <td>1968.384433</td>\n",
       "      <td>1.0</td>\n",
       "      <td>118.570935</td>\n",
       "      <td>1.224542e-22</td>\n",
       "    </tr>\n",
       "    <tr>\n",
       "      <th>C(hand)</th>\n",
       "      <td>1974.382034</td>\n",
       "      <td>2.0</td>\n",
       "      <td>59.466108</td>\n",
       "      <td>1.220272e-21</td>\n",
       "    </tr>\n",
       "    <tr>\n",
       "      <th>C(skill)</th>\n",
       "      <td>22.950190</td>\n",
       "      <td>1.0</td>\n",
       "      <td>1.382466</td>\n",
       "      <td>2.408662e-01</td>\n",
       "    </tr>\n",
       "    <tr>\n",
       "      <th>Residual</th>\n",
       "      <td>3917.812805</td>\n",
       "      <td>236.0</td>\n",
       "      <td>NaN</td>\n",
       "      <td>NaN</td>\n",
       "    </tr>\n",
       "  </tbody>\n",
       "</table>\n",
       "</div>"
      ],
      "text/plain": [
       "                sum_sq     df           F        PR(>F)\n",
       "Intercept  1968.384433    1.0  118.570935  1.224542e-22\n",
       "C(hand)    1974.382034    2.0   59.466108  1.220272e-21\n",
       "C(skill)     22.950190    1.0    1.382466  2.408662e-01\n",
       "Residual   3917.812805  236.0         NaN           NaN"
      ]
     },
     "execution_count": 36,
     "metadata": {},
     "output_type": "execute_result"
    }
   ],
   "source": [
    "# Solution\n",
    "anova_lm(hand_skill_treatment, typ=3)"
   ]
  },
  {
   "cell_type": "code",
   "execution_count": 37,
   "metadata": {},
   "outputs": [
    {
     "data": {
      "text/html": [
       "<div>\n",
       "<style scoped>\n",
       "    .dataframe tbody tr th:only-of-type {\n",
       "        vertical-align: middle;\n",
       "    }\n",
       "\n",
       "    .dataframe tbody tr th {\n",
       "        vertical-align: top;\n",
       "    }\n",
       "\n",
       "    .dataframe thead th {\n",
       "        text-align: right;\n",
       "    }\n",
       "</style>\n",
       "<table border=\"1\" class=\"dataframe\">\n",
       "  <thead>\n",
       "    <tr style=\"text-align: right;\">\n",
       "      <th></th>\n",
       "      <th>sum_sq</th>\n",
       "      <th>df</th>\n",
       "      <th>F</th>\n",
       "      <th>PR(&gt;F)</th>\n",
       "    </tr>\n",
       "  </thead>\n",
       "  <tbody>\n",
       "    <tr>\n",
       "      <th>Intercept</th>\n",
       "      <td>1968.384433</td>\n",
       "      <td>1.0</td>\n",
       "      <td>118.570935</td>\n",
       "      <td>1.224542e-22</td>\n",
       "    </tr>\n",
       "    <tr>\n",
       "      <th>C(skill)</th>\n",
       "      <td>22.950190</td>\n",
       "      <td>1.0</td>\n",
       "      <td>1.382466</td>\n",
       "      <td>2.408662e-01</td>\n",
       "    </tr>\n",
       "    <tr>\n",
       "      <th>C(hand)</th>\n",
       "      <td>1974.382034</td>\n",
       "      <td>2.0</td>\n",
       "      <td>59.466108</td>\n",
       "      <td>1.220272e-21</td>\n",
       "    </tr>\n",
       "    <tr>\n",
       "      <th>Residual</th>\n",
       "      <td>3917.812805</td>\n",
       "      <td>236.0</td>\n",
       "      <td>NaN</td>\n",
       "      <td>NaN</td>\n",
       "    </tr>\n",
       "  </tbody>\n",
       "</table>\n",
       "</div>"
      ],
      "text/plain": [
       "                sum_sq     df           F        PR(>F)\n",
       "Intercept  1968.384433    1.0  118.570935  1.224542e-22\n",
       "C(skill)     22.950190    1.0    1.382466  2.408662e-01\n",
       "C(hand)    1974.382034    2.0   59.466108  1.220272e-21\n",
       "Residual   3917.812805  236.0         NaN           NaN"
      ]
     },
     "execution_count": 37,
     "metadata": {},
     "output_type": "execute_result"
    }
   ],
   "source": [
    "# Solution\n",
    "anova_lm(skill_hand_treatment, typ=3)"
   ]
  },
  {
   "cell_type": "markdown",
   "metadata": {},
   "source": [
    "Looking back at either model, it turns out we may not actually be calculating a **valid ANOVA** based on our coding scheme...\n",
    "\n",
    "Fit a new model that estimates a valid ANOVA. Compare the **F statistics** of this model and the previous two models. What do you notice?"
   ]
  },
  {
   "cell_type": "markdown",
   "metadata": {},
   "source": [
    "*The F-stat for `hand` matches `skill_hand_treatment` and the F-stat for `skill` matches `hand_skill_treatment` because type I SS is *sequential* so it first accounts for variance from the first entered term before calculating remaining variance for the second. Type III does this automatically, calculating **unique variance** for each factor irrespective of order!"
   ]
  },
  {
   "cell_type": "code",
   "execution_count": 38,
   "metadata": {},
   "outputs": [
    {
     "data": {
      "text/html": [
       "<div>\n",
       "<style scoped>\n",
       "    .dataframe tbody tr th:only-of-type {\n",
       "        vertical-align: middle;\n",
       "    }\n",
       "\n",
       "    .dataframe tbody tr th {\n",
       "        vertical-align: top;\n",
       "    }\n",
       "\n",
       "    .dataframe thead th {\n",
       "        text-align: right;\n",
       "    }\n",
       "</style>\n",
       "<table border=\"1\" class=\"dataframe\">\n",
       "  <thead>\n",
       "    <tr style=\"text-align: right;\">\n",
       "      <th></th>\n",
       "      <th>sum_sq</th>\n",
       "      <th>df</th>\n",
       "      <th>F</th>\n",
       "      <th>PR(&gt;F)</th>\n",
       "    </tr>\n",
       "  </thead>\n",
       "  <tbody>\n",
       "    <tr>\n",
       "      <th>Intercept</th>\n",
       "      <td>1968.3844</td>\n",
       "      <td>1.0</td>\n",
       "      <td>118.5709</td>\n",
       "      <td>0.0000</td>\n",
       "    </tr>\n",
       "    <tr>\n",
       "      <th>C(skill)</th>\n",
       "      <td>22.9502</td>\n",
       "      <td>1.0</td>\n",
       "      <td>1.3825</td>\n",
       "      <td>0.2409</td>\n",
       "    </tr>\n",
       "    <tr>\n",
       "      <th>C(hand)</th>\n",
       "      <td>1974.3820</td>\n",
       "      <td>2.0</td>\n",
       "      <td>59.4661</td>\n",
       "      <td>0.0000</td>\n",
       "    </tr>\n",
       "    <tr>\n",
       "      <th>Residual</th>\n",
       "      <td>3917.8128</td>\n",
       "      <td>236.0</td>\n",
       "      <td>NaN</td>\n",
       "      <td>NaN</td>\n",
       "    </tr>\n",
       "  </tbody>\n",
       "</table>\n",
       "</div>"
      ],
      "text/plain": [
       "              sum_sq     df         F  PR(>F)\n",
       "Intercept  1968.3844    1.0  118.5709  0.0000\n",
       "C(skill)     22.9502    1.0    1.3825  0.2409\n",
       "C(hand)    1974.3820    2.0   59.4661  0.0000\n",
       "Residual   3917.8128  236.0       NaN     NaN"
      ]
     },
     "execution_count": 38,
     "metadata": {},
     "output_type": "execute_result"
    }
   ],
   "source": [
    "# Solution\n",
    "skill_hand_sum = ols('balance ~ C(skill,Sum) + C(hand,Sum)', data=df_inc.to_pandas()).fit()\n",
    "anova_lm(skill_hand_treatment, typ=3).round(4)"
   ]
  },
  {
   "cell_type": "markdown",
   "metadata": {},
   "source": [
    "## Additional Coding Systems for Categorical Variables\n",
    "\n",
    "We've only been focusing on the 3 most common coding schemes that you'll use in practice:\n",
    "- treatment (not valid for ANOVA)\n",
    "- deviation (valid for ANOVA)\n",
    "- polynomial (valid for ANOVA)\n",
    "\n",
    "Below we've linked to a few other resources that cover additional coding schemes that you may consider in practice. \n",
    "- [Coding Systems for Categorical Variables](https://stats.oarc.ucla.edu/spss/faq/coding-systems-for-categorical-variables-in-regression-analysis-2/#DEVIATION%20EFFECT%20CODING) *conceptual overview, but examples are in R*\n",
    "- [Contrasts in StatsModels](https://www.statsmodels.org/stable/contrasts.html) *Shorter Python version of the guide above*\n",
    "- [How to use different coding schemes in formulas](https://patsy.readthedocs.io/en/latest/API-reference.html#categorical-coding-ref)\n",
    "\n",
    "In a later notebook we'll explore how to **parameterize** our model to test specific planned comparisons and to follow up an estimate with additional **post-hoc** comparisons"
   ]
  }
 ],
 "metadata": {
  "kernelspec": {
   "display_name": "201b",
   "language": "python",
   "name": "python3"
  },
  "language_info": {
   "codemirror_mode": {
    "name": "ipython",
    "version": 3
   },
   "file_extension": ".py",
   "mimetype": "text/x-python",
   "name": "python",
   "nbconvert_exporter": "python",
   "pygments_lexer": "ipython3",
   "version": "3.11.10"
  }
 },
 "nbformat": 4,
 "nbformat_minor": 2
}
