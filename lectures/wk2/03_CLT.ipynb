{
 "cells": [
  {
   "cell_type": "markdown",
   "id": "cc19bd43",
   "metadata": {},
   "source": [
    "# 01-13: Summarization & the Central-Limit-Theorem"
   ]
  },
  {
   "cell_type": "markdown",
   "id": "992d9554",
   "metadata": {},
   "source": [
    "*Adapted from [Statisical Thinking for the 21st Century](https://statsthinking21.github.io/statsthinking21-core-site/index.html)*"
   ]
  },
  {
   "cell_type": "markdown",
   "id": "8a30e319",
   "metadata": {},
   "source": [
    "**NOTE**: *This notebook makes use of [interactive notebook widgets](https://ipywidgets.readthedocs.io/en/8.1.2/) which won't appear if you're viewing this notebook on the course website. Make sure to clone and run it locally using the Github Classroom link provided for this week!*"
   ]
  },
  {
   "cell_type": "markdown",
   "id": "d85e5621",
   "metadata": {},
   "source": [
    "## Why summarize data?\n",
    "\n",
    "One of the big discoveries of statistics is the idea that we can better understand the world by simplifying and **summarizing** information. \n",
    "\n",
    "When we summarize data, we are necessarily throwing away information, and one might plausibly object to this. One reason that we summarize data is that it provides us with a way to generalize - that is, to make general statements that extend beyond specific observations. The importance of generalization was highlighted by the writer Jorge Luis Borges in his short story “Funes the Memorious”, which describes an individual who loses the ability to forget. Borges focuses in on the relation between generalization (i.e. throwing away data) and thinking:\n",
    "\n",
    "> *“To think is to forget a difference, to generalize, to abstract. In the overly replete world of Funes, there were nothing but details.”*\n",
    "\n",
    "\n",
    "Psychologists have long studied all of the ways in which generalization is central to thinking. One example is categorization: We are able to easily recognize different examples of the category of “birds” even though the individual examples may be very different in their surface features (such as an ostrich, a robin, and a chicken). Importantly, generalization lets us make predictions about these individuals – in the case of birds, we can predict that they can fly and eat seeds, and that they probably can’t drive a car or speak English. These predictions won’t always be right, but they are often good enough to be useful in the world."
   ]
  },
  {
   "cell_type": "markdown",
   "id": "8910ec68",
   "metadata": {},
   "source": [
    "## Why summarization works: The Central Limit Theorem (CLT)\n",
    "\n",
    "The Central Limit Theorem (CLT) is one of the most profound and elegant results in statistics. Its importance cannot be overstated because it underpins almost every method of statistical inference we use today. The roots of the CLT trace back to the 18th century, when mathematicians began exploring probability distributions and their behaviors. \n",
    "\n",
    "> *The central limit theorem has an interesting history. The first version of this theorem was postulated by the French-born mathematician Abraham de Moivre who, in a remarkable article published in 1733, used the **normal distribution** to approximate the distribution of the number of heads resulting from many **tosses of a fair coin**. This finding was far ahead of its time, and was nearly forgotten until the famous French mathematician Pierre-Simon Laplace rescued it from obscurity in his monumental work Théorie analytique des probabilités, which was published in 1812. Laplace expanded De Moivre's finding by approximating the **binomial distribution** with the normal distribution. But as with De Moivre, Laplace's finding received little attention in his own time. It was not until the nineteenth century was at an end that the importance of the central limit theorem was discerned, when, in 1901, Russian mathematician Aleksandr Lyapunov defined it in general terms and proved precisely how it worked mathematically. Nowadays, the central limit theorem is considered to be the unofficial sovereign of probability theory.* ~ Henk Tijms (2004)\n"
   ]
  },
  {
   "cell_type": "markdown",
   "id": "baf14c7a",
   "metadata": {},
   "source": [
    "## What does it say? Convergence of the sample mean\n",
    " \n",
    "The CLT is the statistical premise that, given a sufficiently large sample size from a population with a finite variance, the **estimated** mean of all sampled variables from the same population will be approximately equal to the mean of the whole population. \n",
    "\n",
    "Or from a different perspective, a sufficiently large sample size can **predict** the characteristics of a population *more accurately*.\n",
    "\n",
    "This *convergence* of the sample mean to the population mean is known as the **law of large numebrs**. Let's see it in action:\n",
    "\n",
    "*NOTE: You can ignore the code below and just run the cell*"
   ]
  },
  {
   "cell_type": "code",
   "execution_count": 1,
   "id": "e8ec6018",
   "metadata": {},
   "outputs": [
    {
     "data": {
      "application/vnd.jupyter.widget-view+json": {
       "model_id": "1684091d394c48b19b450b0f03e99a69",
       "version_major": 2,
       "version_minor": 0
      },
      "text/plain": [
       "interactive(children=(FloatText(value=50.0, description='Pop Mean'), FloatText(value=5.0, description='Pop SD'…"
      ]
     },
     "metadata": {},
     "output_type": "display_data"
    },
    {
     "data": {
      "text/plain": [
       "<function __main__.lln_widget(pop_mean=50, pop_sd=10, max_sample_size=1000)>"
      ]
     },
     "execution_count": 1,
     "metadata": {},
     "output_type": "execute_result"
    }
   ],
   "source": [
    "import numpy as np\n",
    "import matplotlib.pyplot as plt\n",
    "from ipywidgets import interact, FloatText, IntSlider\n",
    "\n",
    "\n",
    "# Widget for LLN demonstration\n",
    "def lln_widget(pop_mean=50, pop_sd=10, max_sample_size=1000):\n",
    "    np.random.seed(0)\n",
    "    population = np.random.normal(loc=pop_mean, scale=pop_sd, size=100000)\n",
    "    sample_sizes = np.arange(1, max_sample_size + 1, 1)\n",
    "    sample_means = [np.mean(np.random.choice(population, size=n)) for n in sample_sizes]\n",
    "\n",
    "    # Plot convergence\n",
    "    plt.figure(figsize=(10, 5))\n",
    "    plt.plot(sample_sizes, sample_means, label=\"Sample Mean\", alpha=0.7)\n",
    "    plt.axhline(pop_mean, color=\"red\", linestyle=\"--\", label=\"True Population Mean\")\n",
    "    plt.title(f\"Law of Large Numbers: Convergence of Sample Mean\\nSample Mean = {sample_means[-1]:.3f}\")\n",
    "    plt.xlabel(\"Increasing Sample Size ->\")\n",
    "    plt.ylabel(\"Mean\")\n",
    "    plt.ylim(pop_mean - 5, pop_mean + 5)\n",
    "    plt.legend()\n",
    "    plt.show()\n",
    "\n",
    "\n",
    "interact(\n",
    "    lln_widget,\n",
    "    pop_mean=FloatText(value=50., description=\"Pop Mean\"),\n",
    "    pop_sd=FloatText(value=5., min=1, max=25, step=1, description=\"Pop SD\"),\n",
    "    max_sample_size=IntSlider(\n",
    "        value=10, min=10, max=1000, step=1, description=\"Sample Size\"\n",
    "    ),\n",
    ")"
   ]
  },
  {
   "cell_type": "markdown",
   "id": "1c3ee514",
   "metadata": {},
   "source": [
    "Here's another way of seeing it based on the shape of the sampling distribution:\n",
    "\n",
    "*NOTE: You can ignore the code below and just run the cell*"
   ]
  },
  {
   "cell_type": "code",
   "execution_count": 2,
   "id": "669db51a",
   "metadata": {},
   "outputs": [
    {
     "data": {
      "application/vnd.jupyter.widget-view+json": {
       "model_id": "8be77bc4054c4baf98c29690d3780889",
       "version_major": 2,
       "version_minor": 0
      },
      "text/plain": [
       "interactive(children=(FloatText(value=1.5, description='Pop Mean'), FloatText(value=1.0, description='Pop SD',…"
      ]
     },
     "metadata": {},
     "output_type": "display_data"
    },
    {
     "data": {
      "text/plain": [
       "<function __main__.lln_histogram_widget(pop_mean=50, pop_sd=0.5, sample_size=10)>"
      ]
     },
     "execution_count": 2,
     "metadata": {},
     "output_type": "execute_result"
    }
   ],
   "source": [
    "# Widget for LLN demonstration with histogram visualization\n",
    "def lln_histogram_widget(pop_mean=50, pop_sd=0.5, sample_size=10):\n",
    "    np.random.seed(0)\n",
    "    population = np.random.normal(loc=pop_mean, scale=pop_sd, size=100000)\n",
    "    sample = np.random.choice(population, size=sample_size)\n",
    "\n",
    "    # Calculate max height of normal distribution PDF\n",
    "    max_height = 1 / (pop_sd * np.sqrt(2 * np.pi))\n",
    "    y_max = max_height * 1.3  # Add 10% padding\n",
    "\n",
    "    # Plot histogram with fixed density\n",
    "    plt.figure(figsize=(12, 6))\n",
    "    plt.hist(\n",
    "        population,\n",
    "        bins=50,\n",
    "        alpha=0.5,\n",
    "        label=\"Population\",\n",
    "        density=True,\n",
    "        weights=np.ones_like(population) / len(population),\n",
    "    )\n",
    "    plt.hist(\n",
    "        sample,\n",
    "        bins=50,\n",
    "        alpha=0.5,\n",
    "        label=\"Sample\",\n",
    "        density=True,\n",
    "        weights=np.ones_like(sample) / len(sample),\n",
    "    )\n",
    "    plt.axvline(pop_mean, color=\"blue\", linestyle=\"--\", label=\"Population Mean\")\n",
    "    plt.axvline(sample.mean(), color=\"orange\", linestyle=\"--\", label=\"Sample Mean\")\n",
    "    plt.title(\n",
    "        f\"Convergence of Sample Mean {sample.mean():.3f} to Population Mean {pop_mean:.3f}\"\n",
    "    )\n",
    "    plt.xlabel(\"Value\")\n",
    "    plt.ylabel(\"Density\")\n",
    "    plt.ylim(0, y_max)\n",
    "    plt.xlim(-6 + pop_mean, 6 + pop_mean)\n",
    "    plt.legend()\n",
    "    plt.show()\n",
    "\n",
    "\n",
    "interact(\n",
    "    lln_histogram_widget,\n",
    "    pop_mean=FloatText(value=1.50, description=\"Pop Mean\"),\n",
    "    pop_sd=FloatText(value=1.0, min=0.001, step=.1, description=\"Pop SD\"),\n",
    "    sample_size=IntSlider(value=10, min=10, max=1000, step=1, description=\"Sample Size\"),\n",
    ")\n"
   ]
  },
  {
   "cell_type": "markdown",
   "id": "0c5852cd",
   "metadata": {},
   "source": [
    "## What does it say? Convergence of the sample mean\n",
    " \n",
    "The CLT is the statistical premise that, given a sufficiently large sample size from a population with a finite variance, the **estimated** mean of all sampled variables from the same population will be approximately equal to the mean of the whole population. \n",
    "Or from a different perspective, a sufficiently large sample size can **predict** the characteristics of a population more accurately.\n",
    "\n",
    "Let's see this *convergence* of the sample mean to the population mean in action:\n",
    "\n",
    "*NOTE: You can ignore the code below and just run the cell*"
   ]
  },
  {
   "cell_type": "markdown",
   "id": "1b642384",
   "metadata": {},
   "source": [
    "## What else does it say? Sampling distributions are \"normal\"\n",
    "\n",
    "Importantly, the CLT also states that taken together the **distribution of these samples** will approximate a normal distribution as the size of each sample increases, **regardless of the population's actual distribution shape**.\n",
    "\n",
    "In other words, if you take repeated random samples of size `n` from a population, the distribution of the sample means will tend to form a **normal distribution**, even if the original population is not normal! And the mean of this **sampling distribution** will approximate the population mean.\n",
    "\n",
    "Why do we care about this **sampling distribution**? Because its width (spread, variance) is determined by sample size! As sample size increases, the sampling distribution's width (what we call **standard error**) *decreases*, and the distribution of sample means becomes more and more similar to a normal distribution. \n",
    "\n",
    "This is **why** we say that the sampling distrubtion converges to a normal distribution as the sample size increases!"
   ]
  },
  {
   "cell_type": "code",
   "execution_count": 3,
   "id": "eb7798cd",
   "metadata": {},
   "outputs": [
    {
     "data": {
      "application/vnd.jupyter.widget-view+json": {
       "model_id": "ffd22f2065fc4f4c8a1a19b0f4e81180",
       "version_major": 2,
       "version_minor": 0
      },
      "text/plain": [
       "interactive(children=(RadioButtons(description='Population Distribution', options=('Normal', 'Exponential', 'U…"
      ]
     },
     "metadata": {},
     "output_type": "display_data"
    },
    {
     "data": {
      "text/plain": [
       "<function __main__.clt_widget(population_type='Normal', sample_size=30, n_simulations=1000)>"
      ]
     },
     "execution_count": 3,
     "metadata": {},
     "output_type": "execute_result"
    }
   ],
   "source": [
    "import numpy as np\n",
    "import matplotlib.pyplot as plt\n",
    "from ipywidgets import interact, FloatText, IntSlider, IntText, RadioButtons\n",
    "\n",
    "\n",
    "def clt_widget(population_type=\"Normal\", sample_size=30, n_simulations=1000):\n",
    "    np.random.seed(0)\n",
    "    if population_type == \"Normal\":\n",
    "        population = np.random.normal(loc=50, scale=10, size=100000)\n",
    "    elif population_type == \"Exponential\":\n",
    "        population = np.random.exponential(scale=10, size=100000)\n",
    "    elif population_type == \"Uniform\":\n",
    "        population = np.random.uniform(low=20, high=80, size=100000)\n",
    "\n",
    "    # Generate sampling distribution of the mean\n",
    "    means = [\n",
    "        np.mean(np.random.choice(population, size=sample_size))\n",
    "        for _ in range(n_simulations)\n",
    "    ]\n",
    "\n",
    "    # Plot the sampling distribution\n",
    "    plt.figure(figsize=(8, 5))\n",
    "    plt.hist(means, bins=30, edgecolor=\"k\", alpha=0.7, density=True)\n",
    "    plt.title(\n",
    "        f\"Sampling Distribution of the Mean\\nPopulation: {population_type}, Sample Size: {sample_size}\"\n",
    "    )\n",
    "    plt.xlabel(\"Mean\")\n",
    "    plt.ylabel(\"Density\")\n",
    "    plt.axvline(\n",
    "        np.mean(population), color=\"red\", linestyle=\"--\", label=\"True Population Mean\", linewidth=4\n",
    "    )\n",
    "    plt.axvline(\n",
    "        np.mean(means),\n",
    "        color=\"blue\",\n",
    "        linestyle=\"--\",\n",
    "        linewidth=2,\n",
    "        label=\"Mean of Sampling Distribution\",\n",
    "    )\n",
    "    plt.legend()\n",
    "    plt.xlim(population.mean() - 5, population.mean() + 5)\n",
    "    plt.show()\n",
    "\n",
    "\n",
    "interact(\n",
    "    clt_widget,\n",
    "    population_type=RadioButtons(\n",
    "        options=[\"Normal\", \"Exponential\", \"Uniform\"],\n",
    "        value=\"Normal\",\n",
    "        description=\"Population Distribution\",\n",
    "    ),\n",
    "    sample_size=IntSlider(value=30, min=5, max=100, step=5, description=\"Sample Size\"),\n",
    "    n_simulations=IntSlider(value=1, min=1, max=500, step=1, description=\"Simulations\"),\n",
    ")\n"
   ]
  },
  {
   "cell_type": "markdown",
   "id": "0facf199",
   "metadata": {},
   "source": [
    "## Other flavors of intuitions about the CLT"
   ]
  },
  {
   "cell_type": "markdown",
   "id": "b88f0f0a",
   "metadata": {},
   "source": [
    "### Analytic Intuition: The Math Behind the CLT\n",
    "\n",
    "Mathematically, the CLT describes how the sampling distribution of the mean approaches normality. For a population with mean $( \\mu )$ and variance $( \\sigma^2 )$, the sampling distribution of the sample mean $( \\bar{X} )$ has:\n",
    "- Mean: $( \\mu )$\n",
    "- Variance: $( \\frac{\\sigma^2}{n} )$\n",
    "\n",
    "As $( n )$ increases, $( \\frac{\\sigma^2}{n} )$ decreases, resulting in a narrower distribution centered around $( \\mu )$.\n"
   ]
  },
  {
   "cell_type": "markdown",
   "id": "2baa535a",
   "metadata": {},
   "source": [
    "### Algorithmic Intuition: Simulating the CLT in Code\n",
    "We can also think of the CLT as an \"algorithm\" or recipe. Here’s how you might manually simulate it:\n",
    "\n",
    "```python\n",
    "# 1. Draw a sample of size N from a population\n",
    "# 2. Summarize that sample using its mean (arithmetic average)\n",
    "# 3. Store it in a list\n",
    "# 4. Repeat 1-3 as many times as you want (e.g. 1000)\n",
    "\n",
    "# The resulting list of samples will be approximately normal\n",
    "# and their mean will be close to the population mean\n",
    "```"
   ]
  },
  {
   "cell_type": "markdown",
   "id": "ddeca44d",
   "metadata": {},
   "source": [
    "## Why Is the CLT the Basis of Statistics?\n",
    "The CLT provides a bridge from the chaotic, unpredictable world of raw data to the orderly realm of statistical inference. It justifies:\n",
    "- Using sample means to estimate population means.\n",
    "- Constructing confidence intervals.\n",
    "- Performing hypothesis tests.\n",
    "\n",
    "By understanding the CLT, you’re not just learning a theorem—you’re embracing the foundation of modern *computational* statistics, where we're use computers to sample and re-sample from data to build out distrubtions of quantities we estimate.\n",
    "\n",
    "In summary, the CLT and law-of-large-numbers work together to make statistics possible. They remind us that while *individual data points may be noisy*, if there is *true signal* that the data-points refelct, **aggregation** can help us reveal that signal amongst natural and random variation. "
   ]
  },
  {
   "cell_type": "markdown",
   "id": "f1f1c145",
   "metadata": {},
   "source": [
    "## Exercise: Simulate the CLT\n",
    "\n",
    "Your turn! See if you can use the pseudo-code formula above to make a plot of the sampling distribution of the mean and understand it:\n",
    "\n",
    "1. Use the cell below to simulate the CLT\n",
    "2. Does it look like a normal distribution? If not, why not?\n",
    "3. What can you adjust to make it look more normal? (hint: how big is each sample?)\n",
    "4. How does this relate to standard-error (i.e. the spread of the sampling distribution)?\n",
    "\n",
    "Tips:\n",
    "- use interactive help to get more info about the functions we're importing for you, e.. `gauss?` or `hist?`\n",
    "- you can make multiple copies of the same cell to generate additional plots - check out the copy-cell button/keyboard shortcut/command in VSCode or JupyterLab"
   ]
  },
  {
   "cell_type": "code",
   "execution_count": null,
   "id": "6a2b3f20",
   "metadata": {},
   "outputs": [],
   "source": [
    "# Her are some improts fom standard Python library\n",
    "# Later on, we'll be using scientific python libraries like numpy\n",
    "from random import gauss, sample\n",
    "from statistics import mean\n",
    "from matplotlib.pyplot import hist # for plotting a histogram\n",
    "\n",
    "population_size = 10000\n",
    "population = [gauss() for _ in range(population_size)]\n",
    "\n",
    "# SET ME\n",
    "sample_size = \n",
    "n_repitions = \n",
    "\n",
    "# To store the sample means\n",
    "sampling_distribution = []\n",
    "\n",
    "# Loop over the number of repetitions\n",
    "for _ in range(n_repitions):\n",
    "\n",
    "    # Draw a sample from the population\n",
    "    this_sample = \n",
    "\n",
    "    # Calculate the sample mean\n",
    "    sample_mean =\n",
    "\n",
    "    # Store it in a list\n",
    "    \n",
    "\n",
    "# Visualize it; customize as needed!\n",
    "hist(\n",
    "    sampling_distribution,\n",
    "    bins=30,\n",
    "    density=True,\n",
    "    alpha=0.7,\n",
    "    label=\"Sampling Distribution\",\n",
    "    color=\"skyblue\",\n",
    ");\n"
   ]
  }
 ],
 "metadata": {
  "kernelspec": {
   "display_name": "201b",
   "language": "python",
   "name": "python3"
  },
  "language_info": {
   "codemirror_mode": {
    "name": "ipython",
    "version": 3
   },
   "file_extension": ".py",
   "mimetype": "text/x-python",
   "name": "python",
   "nbconvert_exporter": "python",
   "pygments_lexer": "ipython3",
   "version": "3.11.10"
  }
 },
 "nbformat": 4,
 "nbformat_minor": 5
}
