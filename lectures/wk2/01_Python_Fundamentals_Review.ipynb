{
 "cells": [
  {
   "cell_type": "markdown",
   "id": "ddee9537",
   "metadata": {
    "slideshow": {
     "slide_type": "slide"
    }
   },
   "source": [
    "# 01-13: Python Fundamentals Review\n",
    "Let's do a quick review session of some of the Python basics we covered last week:"
   ]
  },
  {
   "cell_type": "markdown",
   "id": "cc6bd3d0",
   "metadata": {},
   "source": [
    "**IMPORTANT**: Before running code in this notebook please update the libraries in your conda environment. After activating the environment use the following command:  \n",
    "\n",
    "`pip install ipywidgets`  "
   ]
  },
  {
   "cell_type": "markdown",
   "id": "4d1ca4a5",
   "metadata": {},
   "source": [
    "## Review pt 1"
   ]
  },
  {
   "cell_type": "markdown",
   "id": "f140c13d",
   "metadata": {},
   "source": [
    "We create **variables** using the `=` operator:"
   ]
  },
  {
   "cell_type": "code",
   "execution_count": null,
   "id": "f836c20f",
   "metadata": {},
   "outputs": [],
   "source": [
    "x = 10  # integer\n",
    "x"
   ]
  },
  {
   "cell_type": "code",
   "execution_count": null,
   "id": "4e402b1d",
   "metadata": {},
   "outputs": [],
   "source": [
    "y = 3.5  # float\n",
    "y"
   ]
  },
  {
   "cell_type": "markdown",
   "id": "99bfd3ca",
   "metadata": {},
   "source": [
    "Adding **integers** and **floats** will automatically convert them to **floats**!  \n",
    "\n",
    "*This is because Python is will never throw away extra precision, but instead convert everything to extra precision needed when performing an operation. In this case, integers are less precise than floats, so they will be converted to floats.*"
   ]
  },
  {
   "cell_type": "code",
   "execution_count": null,
   "id": "5e2635dd",
   "metadata": {},
   "outputs": [],
   "source": [
    "z = x + y\n",
    "type(z)"
   ]
  },
  {
   "cell_type": "markdown",
   "id": "e17d34c7",
   "metadata": {},
   "source": [
    "But we don't need extra precision if we're adding two integers:"
   ]
  },
  {
   "cell_type": "code",
   "execution_count": null,
   "id": "f877c06c",
   "metadata": {},
   "outputs": [],
   "source": [
    "xx = x + x\n",
    "type(xx)"
   ]
  },
  {
   "cell_type": "markdown",
   "id": "448a8c1a",
   "metadata": {},
   "source": [
    "We create **strings** using single or double quotes:"
   ]
  },
  {
   "cell_type": "code",
   "execution_count": null,
   "id": "0938c53b",
   "metadata": {},
   "outputs": [],
   "source": [
    "course_name = 'PSYC201B'  # string\n",
    "course_name"
   ]
  },
  {
   "cell_type": "markdown",
   "id": "98d519a0",
   "metadata": {},
   "source": [
    "You can think of strings as an **iterable** (a sequence you can manipulate by its elements) of letters, each of which is itself a string. Let's check how long the string is:"
   ]
  },
  {
   "cell_type": "code",
   "execution_count": null,
   "id": "c18cd10f",
   "metadata": {},
   "outputs": [],
   "source": [
    "len(course_name)"
   ]
  },
  {
   "cell_type": "markdown",
   "id": "19498561",
   "metadata": {},
   "source": [
    "We can access individual parts of any **iterable** by *indexing* or *slicing* to get a subset of its elements. In this case that would give us the letters of the string `'PSYC201B'`\n",
    "\n",
    "Python usese **0-based indexing**, which means the first letter is at index 0, the second letter is at index 1, and so on:"
   ]
  },
  {
   "cell_type": "code",
   "execution_count": null,
   "id": "479fc076",
   "metadata": {},
   "outputs": [],
   "source": [
    "# Get the first letter 'P'\n",
    "course_name[0]"
   ]
  },
  {
   "cell_type": "code",
   "execution_count": null,
   "id": "40536132",
   "metadata": {},
   "outputs": [],
   "source": [
    "# 'P' is also string\n",
    "type(course_name[0])"
   ]
  },
  {
   "cell_type": "markdown",
   "id": "f46e4a51",
   "metadata": {},
   "source": [
    "Using `type()` to check the type of a variable is an example of using a **function** in Python. To call a function you simple type its name following up parathesis `()`, which include any arguments the function requires.\n",
    "\n",
    "You can always find out more about how to use any **function** by typing `function_name?` in a jupyter notebook cell or using the built-in help function `help(function_name)`:"
   ]
  },
  {
   "cell_type": "code",
   "execution_count": null,
   "id": "a4e685ec",
   "metadata": {},
   "outputs": [],
   "source": [
    "type?"
   ]
  },
  {
   "cell_type": "markdown",
   "id": "61336666",
   "metadata": {},
   "source": [
    "Ok back to **iterables**. "
   ]
  },
  {
   "cell_type": "markdown",
   "id": "8aaf2237",
   "metadata": {},
   "source": [
    "To **slice** the elements of an **iterable** we use the notation: `iterable[start:stop:step]` where `start` is the index of the first element to include, `stop` is the index of the first element to exclude, and `step` is *optional* step size between elements:"
   ]
  },
  {
   "cell_type": "markdown",
   "id": "9cede7d9",
   "metadata": {},
   "source": [
    "Here we get indices 1-3 *exclusive*, meaning we include the values from position 1 *up to but not including* position 3. This should give us the 2nd and 3rd letters:"
   ]
  },
  {
   "cell_type": "code",
   "execution_count": null,
   "id": "dc7731cf",
   "metadata": {},
   "outputs": [],
   "source": [
    "course_name[1:3]"
   ]
  },
  {
   "cell_type": "markdown",
   "id": "e9b39ce6",
   "metadata": {},
   "source": [
    "To slice from the *start* you can ommit `stop` and replace it with `:`"
   ]
  },
  {
   "cell_type": "code",
   "execution_count": null,
   "id": "a8a7db58",
   "metadata": {},
   "outputs": [],
   "source": [
    "course_name[1:]"
   ]
  },
  {
   "cell_type": "markdown",
   "id": "16ee1786",
   "metadata": {},
   "source": [
    "We can still use `step` with this pattern. Here we grab every 2nd element, starting at the 1st index until the end of the iterable:"
   ]
  },
  {
   "cell_type": "code",
   "execution_count": null,
   "id": "a6e3f792",
   "metadata": {},
   "outputs": [],
   "source": [
    "course_name[1::2]"
   ]
  },
  {
   "cell_type": "markdown",
   "id": "9f13c2df",
   "metadata": {},
   "source": [
    "Python also supports **negative indexing**, which conveniently allows you to access elements from the **end** of an iterable:"
   ]
  },
  {
   "cell_type": "code",
   "execution_count": null,
   "id": "083bf2f5",
   "metadata": {},
   "outputs": [],
   "source": [
    "course_name[-1]"
   ]
  },
  {
   "cell_type": "markdown",
   "id": "e610a0f7",
   "metadata": {},
   "source": [
    "We can also slice using negative indices. You can read this as start from the 1st index and go up-to the 2nd-to-last index:"
   ]
  },
  {
   "cell_type": "code",
   "execution_count": null,
   "id": "937c8ff4",
   "metadata": {},
   "outputs": [],
   "source": [
    "course_name[1:-2]"
   ]
  },
  {
   "cell_type": "markdown",
   "id": "d5a700ce",
   "metadata": {},
   "source": [
    "You can also use **negative steps**, which is a convenient way to slice an iterable in *reverse*, starting from the end -> beginning. \n",
    "\n",
    "Here we include the beginning and step through the string use a step size of -1, which turns out to be a quick and convenient way to reverse an iterable!"
   ]
  },
  {
   "cell_type": "code",
   "execution_count": null,
   "id": "f347db75",
   "metadata": {},
   "outputs": [],
   "source": [
    "course_name[::-1]"
   ]
  },
  {
   "cell_type": "markdown",
   "id": "79a9d2ca",
   "metadata": {},
   "source": [
    "You can combine strings using the `+` operator:"
   ]
  },
  {
   "cell_type": "code",
   "execution_count": null,
   "id": "db2551bc",
   "metadata": {},
   "outputs": [],
   "source": [
    "course_name + \" is a terrible class\""
   ]
  },
  {
   "cell_type": "markdown",
   "id": "4e321901",
   "metadata": {},
   "source": [
    "### Mini-exercise \n",
    "Use slicing, string manipulation and f-strings transform the variable `course_name` to a new string that says: `\"But PSYC201A was much better\"`"
   ]
  },
  {
   "cell_type": "code",
   "execution_count": null,
   "id": "15abb951",
   "metadata": {},
   "outputs": [],
   "source": [
    "# Use slicing, string manipulation and f-strings transform the variable `course_name` to a new string that says: `\"But PSYC201A was much better\"`\n",
    "# YOUR CODE HERE\n",
    "course_name = 'PSYCH_201B'\n",
    "# Hint\n",
    "# you can use course_name[index] access specific letters\n",
    "# and course_name[start:end:step] to slice ranges of letters"
   ]
  },
  {
   "cell_type": "markdown",
   "id": "76de9bb0",
   "metadata": {
    "tags": [
     "remove-cell"
    ]
   },
   "source": [
    "### Solution"
   ]
  },
  {
   "cell_type": "code",
   "execution_count": null,
   "id": "d1d6a3c3",
   "metadata": {
    "tags": [
     "remove-cell"
    ]
   },
   "outputs": [],
   "source": [
    "# YOUR CODE HERE\n",
    "course_name = 'PSYCH_201B'\n",
    "\n",
    "# Extract relevant parts of the string using slicing\n",
    "# Get \"PSYC\" from the first 4 letters of the course_name\n",
    "course_prefix = course_name[:4]\n",
    "\n",
    "# Get \"201A\" by slicing and modifying the last character to 'A'\n",
    "course_number = course_name[5:9] + 'A'\n",
    "\n",
    "# Combine the pieces using an f-string\n",
    "result = f\"But {course_prefix}{course_number} was much better\"\n",
    "\n",
    "# Print the result\n",
    "print(result)\n"
   ]
  },
  {
   "cell_type": "markdown",
   "id": "bb517e59",
   "metadata": {},
   "source": [
    "## Review pt 2"
   ]
  },
  {
   "cell_type": "markdown",
   "id": "91916f95",
   "metadata": {},
   "source": [
    "Strings have convenient **methods** on them for manipulating text. Remember methods are **functions** that belong to some object (variable). To see what methods are available for an object we can use the `dir()` function:"
   ]
  },
  {
   "cell_type": "code",
   "execution_count": null,
   "id": "55073f53",
   "metadata": {},
   "outputs": [],
   "source": [
    "dir(course_name)"
   ]
  },
  {
   "cell_type": "markdown",
   "id": "9d097862",
   "metadata": {},
   "source": [
    "Because `course_name` is a string, would get back the same result if we asked `dir` about `str` objects:"
   ]
  },
  {
   "cell_type": "code",
   "execution_count": null,
   "id": "9889233d",
   "metadata": {},
   "outputs": [],
   "source": [
    "dir(str)"
   ]
  },
  {
   "cell_type": "markdown",
   "id": "d059585d",
   "metadata": {},
   "source": [
    "We can invoke a **method** using dot notation. For example we can lower-case a string using the `lower()` method:"
   ]
  },
  {
   "cell_type": "code",
   "execution_count": null,
   "id": "b8b3274b",
   "metadata": {},
   "outputs": [],
   "source": [
    "course_name.lower()"
   ]
  },
  {
   "cell_type": "markdown",
   "id": "3dd4b198",
   "metadata": {},
   "source": [
    "**Lists** are another type of **iterable** in Python. They can contain any type of other objects, that can all be different, including other lists:"
   ]
  },
  {
   "cell_type": "code",
   "execution_count": null,
   "id": "8c759cf5",
   "metadata": {},
   "outputs": [],
   "source": [
    "pet_names = [\"Yggy\", \"Franny\", \"Cynthia\"]\n",
    "pet_names"
   ]
  },
  {
   "cell_type": "code",
   "execution_count": null,
   "id": "60a19477",
   "metadata": {},
   "outputs": [],
   "source": [
    "pet_names[1]"
   ]
  },
  {
   "cell_type": "markdown",
   "id": "eafce96b",
   "metadata": {},
   "source": [
    "**Lists** have their own methods, but a common one you'll use often is the `append()` method. This method adds an element to the end of the list, growing the list by a single element. Unlike some other languages, Python lists are **mutable**, meaning that you can change their contents and size after they have been created without having to create a new list or pre-specifying the size of the list in advance:"
   ]
  },
  {
   "cell_type": "code",
   "execution_count": 125,
   "id": "084f0ef2",
   "metadata": {},
   "outputs": [],
   "source": [
    "pet_names.append(\"Charlie\")"
   ]
  },
  {
   "cell_type": "markdown",
   "id": "b6e2ef03",
   "metadata": {},
   "source": [
    "Wait nothing was output? Remember this **changes** the original list so we can inspect it to see what happened:"
   ]
  },
  {
   "cell_type": "code",
   "execution_count": null,
   "id": "7a937c89",
   "metadata": {},
   "outputs": [],
   "source": [
    "pet_names"
   ]
  },
  {
   "cell_type": "markdown",
   "id": "8e89ff47",
   "metadata": {},
   "source": [
    "What happens if we run the append method again?"
   ]
  },
  {
   "cell_type": "code",
   "execution_count": null,
   "id": "f36653fa",
   "metadata": {},
   "outputs": [],
   "source": [
    "# Demo"
   ]
  },
  {
   "cell_type": "markdown",
   "id": "3082b7b5",
   "metadata": {},
   "source": [
    "We can add lists together using the `+` operator just like we did with strings:"
   ]
  },
  {
   "cell_type": "code",
   "execution_count": null,
   "id": "3ec11dd8",
   "metadata": {},
   "outputs": [],
   "source": [
    "more_pets = pet_names + [\"Mufasa\", \"Airbud\", \"Goofy\"]\n",
    "more_pets"
   ]
  },
  {
   "cell_type": "markdown",
   "id": "23b51adc",
   "metadata": {},
   "source": [
    "We can loop over any iterable using a `for` statement:"
   ]
  },
  {
   "cell_type": "code",
   "execution_count": null,
   "id": "212eb6e7",
   "metadata": {},
   "outputs": [],
   "source": [
    "# Take each element of pet_names\n",
    "for pet in pet_names:\n",
    "    # Because each element is a string, we can use the lower() method\n",
    "    print(pet.lower())"
   ]
  },
  {
   "cell_type": "markdown",
   "id": "557fcd71",
   "metadata": {},
   "source": [
    "**lists** have a short-hand syntax for looping called **list-comprehensions**. These are a concise to loop over a list if you know that you want a list back, but you don't have to use this syntax if you find it confusing. "
   ]
  },
  {
   "cell_type": "code",
   "execution_count": null,
   "id": "54be946b",
   "metadata": {},
   "outputs": [],
   "source": [
    "lower_case_pet_names = [pet.lower() for pet in pet_names]\n",
    "lower_case_pet_names"
   ]
  },
  {
   "cell_type": "markdown",
   "id": "ab3dd601",
   "metadata": {},
   "source": [
    "These can also include simple conditional statements using `if` statements:"
   ]
  },
  {
   "cell_type": "code",
   "execution_count": null,
   "id": "5492d417",
   "metadata": {},
   "outputs": [],
   "source": [
    "lower_case_cats = [pet.lower() for pet in pet_names if pet != \"Franny\"]\n",
    "lower_case_cats"
   ]
  },
  {
   "cell_type": "markdown",
   "id": "656364d5",
   "metadata": {},
   "source": [
    "We can get the index of each element while looping using the `enumerate()` function:"
   ]
  },
  {
   "cell_type": "code",
   "execution_count": null,
   "id": "935cd862",
   "metadata": {},
   "outputs": [],
   "source": [
    "for idx, pet in enumerate(pet_names):\n",
    "    # Print the index, number, and name of the pet\n",
    "    to_print = f\"Index: {idx}, Number: {idx + 1}, Name: {pet}\"\n",
    "    print(to_print)"
   ]
  },
  {
   "cell_type": "markdown",
   "id": "1a449c34",
   "metadata": {},
   "source": [
    "This can be handy when you want to loop over multiple **iterables** at once:"
   ]
  },
  {
   "cell_type": "code",
   "execution_count": null,
   "id": "1a98a551",
   "metadata": {},
   "outputs": [],
   "source": [
    "pet_ages = [2.25, 1, 1.5]\n",
    "\n",
    "for idx, pet in enumerate(pet_names):\n",
    "    print(f\"{pet} is {pet_ages[idx]} years old\")"
   ]
  },
  {
   "cell_type": "markdown",
   "id": "9aa27efd",
   "metadata": {},
   "source": [
    "### Mini-exercise\n",
    "Oops something went wrong with our loop above.  \n",
    "What happened & how can we fix it?"
   ]
  },
  {
   "cell_type": "code",
   "execution_count": null,
   "id": "811ef174",
   "metadata": {},
   "outputs": [],
   "source": [
    "# WHAT SHOULD WE CHANGE?\n",
    "pet_ages = [2.25, 1, 1.5]\n",
    "\n",
    "for idx, pet in enumerate(pet_names):\n",
    "    print(f\"{pet} is {pet_ages[idx]} years old\")"
   ]
  },
  {
   "cell_type": "markdown",
   "id": "3ecd1e33",
   "metadata": {
    "tags": [
     "remove-cell"
    ]
   },
   "source": [
    "### Solution"
   ]
  },
  {
   "cell_type": "code",
   "execution_count": null,
   "id": "15d3d3b6",
   "metadata": {
    "tags": [
     "remove-cell"
    ]
   },
   "outputs": [],
   "source": [
    "# WHAT SHOULD WE CHANGE?\n",
    "pet_ages = [2.25, 1, 1.5]\n",
    "\n",
    "for idx, pet in enumerate(pet_names):\n",
    "    print(f\"{pet} is {pet_ages[idx]} years old\")"
   ]
  },
  {
   "cell_type": "markdown",
   "id": "77e076ca",
   "metadata": {},
   "source": [
    "## Review pt 3"
   ]
  },
  {
   "cell_type": "markdown",
   "id": "3ab0ac90",
   "metadata": {},
   "source": [
    "A more convient way to iterate over iterables of the same length is to use the `zip` function. This function takes two or more iterables as arguments and returns an iterator that returns a **tuple** containing the corresponding elements from each iterable:"
   ]
  },
  {
   "cell_type": "code",
   "execution_count": null,
   "id": "701ec260",
   "metadata": {},
   "outputs": [],
   "source": [
    "pet_names = [\"Yggy\", \"Franny\", \"Cynthia\"]\n",
    "pet_ages = [2.25, 1, 1.25]\n",
    "\n",
    "for name, age in zip(pet_names, pet_ages):\n",
    "    print(f\"{name} is {age} years old.\")"
   ]
  },
  {
   "cell_type": "markdown",
   "id": "9f8d36bc",
   "metadata": {},
   "source": [
    "Let's understand what's happening here. `zip` is creating a new iterable that contains a sequence of *pairs* from both lists.\n"
   ]
  },
  {
   "cell_type": "code",
   "execution_count": null,
   "id": "43f1b01c",
   "metadata": {},
   "outputs": [],
   "source": [
    "zipped = zip(pet_names, pet_ages)\n",
    "zipped"
   ]
  },
  {
   "cell_type": "code",
   "execution_count": null,
   "id": "462d774f",
   "metadata": {},
   "outputs": [],
   "source": [
    "len(zipped)"
   ]
  },
  {
   "cell_type": "code",
   "execution_count": null,
   "id": "add7a8b3",
   "metadata": {},
   "outputs": [],
   "source": [
    "zipped[0]"
   ]
  },
  {
   "cell_type": "markdown",
   "id": "3f49ef39",
   "metadata": {},
   "source": [
    "`zipped` is an example of a **generator**, a special type of **lazy** iterable that generates values on the fly. You can think of them as producing values at each position only when needed, and until they are *exhausted*. This can be handy for when you don't need/want to create another list (that can be huge and take up a lot of memory) and simply need to \"consume\" each element for some one-off operation:"
   ]
  },
  {
   "cell_type": "code",
   "execution_count": null,
   "id": "0bb45b58",
   "metadata": {},
   "outputs": [],
   "source": [
    "zip?"
   ]
  },
  {
   "cell_type": "markdown",
   "id": "dcb207da",
   "metadata": {},
   "source": [
    "Because generators are **lazy**, they don't have a length and we can't index into them or slice them! Their contents don't yet exist!  \n",
    "\n",
    "Instead we need to convert them to **lists** to force them to generate all their elements:"
   ]
  },
  {
   "cell_type": "code",
   "execution_count": null,
   "id": "7371ce5f",
   "metadata": {},
   "outputs": [],
   "source": [
    "list(zipped)"
   ]
  },
  {
   "cell_type": "markdown",
   "id": "16332ea4",
   "metadata": {},
   "source": [
    "We didn't save that list to variable last time. So let's do that now:"
   ]
  },
  {
   "cell_type": "code",
   "execution_count": null,
   "id": "8db6ac71",
   "metadata": {},
   "outputs": [],
   "source": [
    "pairs = list(zipped)\n",
    "pairs"
   ]
  },
  {
   "cell_type": "markdown",
   "id": "d03abad9",
   "metadata": {},
   "source": [
    "What why is `pairs` empty?!  **Remember** generators are *lazy* and we already consumed `zipped` when we converted to a list! We'll need to create a new generator to iterate over the zipped pairs.  \n",
    "When we use the `for` loop we're creating the **generator** of names and pairs on-the-fly, and then using their values in the `print` statement:"
   ]
  },
  {
   "cell_type": "code",
   "execution_count": null,
   "id": "a749ce77",
   "metadata": {},
   "outputs": [],
   "source": [
    "pet_names = [\"Yggy\", \"Franny\", \"Cynthia\"]\n",
    "pet_ages = [2.25, 1, 1.25]\n",
    "\n",
    "for name, age in zip(pet_names, pet_ages):\n",
    "    print(f\"{name} is {age} years old.\")"
   ]
  },
  {
   "cell_type": "markdown",
   "id": "439712bf",
   "metadata": {},
   "source": [
    "Finally we talked about **conditional** statements that allow use to use `if/elif/else` logic. We can use comparators like `==`, `>`, `<`, `>=`, `<=` to compare values. We can also use the `not` operator to negate a condition:"
   ]
  },
  {
   "cell_type": "markdown",
   "id": "c02741a6",
   "metadata": {},
   "source": [
    "Numerical comparisons:"
   ]
  },
  {
   "cell_type": "code",
   "execution_count": null,
   "id": "22f5a3d7",
   "metadata": {},
   "outputs": [],
   "source": [
    "for name, age in zip(pet_names, pet_ages):\n",
    "    if age <= 1:\n",
    "        print(f\"{name} is just a baby\")\n",
    "    elif 1 < age < 2:\n",
    "        print(f\"{name} is growing\")\n",
    "    else:\n",
    "        print(f\"{name} is an adult\")"
   ]
  },
  {
   "cell_type": "markdown",
   "id": "3c362f19",
   "metadata": {},
   "source": [
    "String comparisons:"
   ]
  },
  {
   "cell_type": "code",
   "execution_count": null,
   "id": "9a42ebb8",
   "metadata": {},
   "outputs": [],
   "source": [
    "for name, age in zip(pet_names, pet_ages):\n",
    "    if name.startswith(\"F\"):\n",
    "        print(f\"{name} is a dog\")\n",
    "    else:\n",
    "        print(f\"{name} is a cat\")"
   ]
  },
  {
   "cell_type": "markdown",
   "id": "5f9309b5",
   "metadata": {},
   "source": [
    "Inverting the logic:"
   ]
  },
  {
   "cell_type": "code",
   "execution_count": null,
   "id": "29151b54",
   "metadata": {},
   "outputs": [],
   "source": [
    "for name, age in zip(pet_names, pet_ages):\n",
    "    if name != \"Franny\":\n",
    "        print(f\"{name} is a cat\")\n",
    "    else:\n",
    "        print(f\"{name} is a dog\")\n"
   ]
  },
  {
   "cell_type": "markdown",
   "id": "cd84b75d",
   "metadata": {},
   "source": [
    "## Challenge: Putting it all together\n",
    "\n",
    "Use the following description of the [9 realms of Norse mythology](https://vikingr.org/norse-cosmology/nine-realms-of-norse-mythology) to complete the follow excercises:\n",
    "\n",
    "> *Yggdrasil, the legendary tree from Norse mythology, connects the nine realms of existence. These realms include Midgard, Asgard, Jotunheim, Niflheim, Muspelheim, Vanaheim, Nidavellir, Alfheim, and Helheim.*  \n",
    "> *Each of these nine realms is unique in its nature and inhabitants. Midgard, often referred to as the land of humans and lies at the center.  \n",
    "> Asgard is home to Odin, Thor, and the other gods who reside in great halls like Valhalla and rule over the cosmos.  \n",
    "> Jotunheim, the land of the giants, is a rugged and mountainous realm, where frost and stone giants dwell in defiance of the gods.  \n",
    "> Niflheim is a cold, dark world of ice and mist, said to be the oldest of the realms and the source of the primordial rivers that formed the world.  \n",
    "> Muspelheim, on the other hand, is a fiery and chaotic realm ruled by the fire giant Surtr, its intense heat.  \n",
    "> Vanaheim, the lush and mysterious home of the Vanir gods, is known for its fertility, magic, and wisdom.  \n",
    "> Nidavellir, sometimes called Svartalfheim, is the underground domain of the dwarves, master craftsmen who forged legendary artifacts like Thor's hammer, Mjolnir.  \n",
    "> Alfheim is a bright and ethereal realm inhabited by the light elves, beings of great beauty and grace who are considered minor deities of nature and fertility.  \n",
    "> Finally, Helheim, the realm of the dead, is ruled by Hel, the daughter of Loki, where those who die of old age, illness, or other inglorious means find their afterlife, in stark contrast to the heroic dead who are welcomed into Valhalla.* \n",
    "\n",
    "<img src=\"./realms.jpg\" width=\"500px\" alt=\"Realms of Norse Mythology\">\n"
   ]
  },
  {
   "cell_type": "markdown",
   "id": "0872dbdf",
   "metadata": {},
   "source": [
    "1. Split the passage into a list of sentences of completence sentences that include a period but no special characters e.g. `'\\n'`\n",
    "2. Count the number of sentences and check if they're equal to the number of realms (9)\n",
    "3. Process each sentence such that:\n",
    "  - if the sentence ONLY references the realm Asgard, capitalize all the words in the sentence\n",
    "  - if the sentence ONLY references the realm Jotunheim, reverse the entire sentence\n",
    "  - if the sentence ONLY references the realm Helheim, replace all the words in the sentence with the word \"dead\"\n",
    "4. Combine any unchanged sentences along with your modified sentences into a single  new paragraph such that each sentence is on a new line"
   ]
  },
  {
   "cell_type": "markdown",
   "id": "cd56cf2b",
   "metadata": {},
   "source": [
    "### 1. Split the paragraph into complete sentences"
   ]
  },
  {
   "cell_type": "code",
   "execution_count": 95,
   "id": "840ed262",
   "metadata": {},
   "outputs": [],
   "source": [
    "# 1. Split the passage into a list of sentences of completence sentences that include a period but no special characters e.g. '\\n'\n",
    "\n",
    "paragraph = \"\"\"\n",
    "Yggdrasil, the legendary tree from Norse mythology, connects the nine realms of existence. These realms include Midgard, Asgard, Jotunheim, Niflheim, Muspelheim, Vanaheim, Nidavellir, Alfheim, and Helheim.\n",
    "\n",
    "Each of these nine realms is unique in its nature and inhabitants. Midgard, often referred to as the land of humans and lies at the center. Asgard is home to Odin, Thor, and the other gods who reside in great halls like Valhalla and rule over the cosmos. Jotunheim, the land of the giants, is a rugged and mountainous realm, where frost and stone giants dwell in defiance of the gods. Niflheim is a cold, dark world of ice and mist, said to be the oldest of the realms and the source of the primordial rivers that formed the world. Muspelheim, on the other hand, is a fiery and chaotic realm ruled by the fire giant Surtr, its intense heat. Vanaheim, the lush and mysterious home of the Vanir gods, is known for its fertility, magic, and wisdom. Nidavellir, sometimes called Svartalfheim, is the underground domain of the dwarves, master craftsmen who forged legendary artifacts like Thor's hammer, Mjolnir. Alfheim is a bright and ethereal realm inhabited by the light elves, beings of great beauty and grace who are considered minor deities of nature and fertility. Finally, Helheim, the realm of the dead, is ruled by Hel, the daughter of Loki. It is a place where those who die of old age, illness, or other inglorious means find their afterlife, in stark contrast to the heroic dead who are welcomed into Valhalla.\n",
    "\"\"\"\n",
    "\n",
    "# Split the paragraph\n",
    "# Process any special characters\n",
    "# Output the sentences"
   ]
  },
  {
   "cell_type": "markdown",
   "id": "904dc44f",
   "metadata": {},
   "source": [
    "### 2. Count the number of sentences and compare to number of realms (9)"
   ]
  },
  {
   "cell_type": "markdown",
   "id": "572ff8b5",
   "metadata": {},
   "source": [
    "You can use the `assert` statement to check if a condition is true. If the condition is false, an `AssertionError` will be raised, for example:\n",
    "```python\n",
    "x = 2\n",
    "y = 3\n",
    "assert x + x == 4, f\"{x} + {x} does not equal 4\" # no output\n",
    "assert x + y == 4, f\"{x} + {y} does not equal 4\" # Will output \"AssertionError: 2 + 3 does not equal 4\"\n",
    "```"
   ]
  },
  {
   "cell_type": "code",
   "execution_count": null,
   "id": "9c78f921",
   "metadata": {},
   "outputs": [],
   "source": [
    "# Step 2: Count the number of sentences\n",
    "# Print the result"
   ]
  },
  {
   "cell_type": "code",
   "execution_count": null,
   "id": "3c276d96",
   "metadata": {},
   "outputs": [],
   "source": [
    "# Compare to the number of realms using assert"
   ]
  },
  {
   "cell_type": "markdown",
   "id": "4e58fbc2",
   "metadata": {},
   "source": [
    "### 3. Manipulate sentences based on realm\n",
    "`'Asgard'` -> capitalize each word  \n",
    "`'Jotunheim'` -> reverse entire sentence  \n",
    "`'Helheim'` -> replace each word with `'dead'`\n"
   ]
  },
  {
   "cell_type": "code",
   "execution_count": null,
   "id": "f310c889",
   "metadata": {},
   "outputs": [],
   "source": [
    "# Hint:\n",
    "# Use for-loops or list-comprehensions to iterate over sentences, words, or letters\n",
    "# Use the function scaffold below to process each sentence separately\n",
    "# Use if/elif/else statements to check for each realm individually\n",
    "\n",
    "def process_sentence(sentence):\n",
    "    # Check for each realm individually\n",
    "\n",
    "    # Capitalize for Asgard only \n",
    "    # Reverse for Jotunheim only \n",
    "    # Replace with 'dead' for Helheim only \n",
    "    # Otherwise return the sentence unchanged\n",
    "\n",
    "    return sentence\n"
   ]
  },
  {
   "cell_type": "code",
   "execution_count": null,
   "id": "398ae315",
   "metadata": {},
   "outputs": [],
   "source": [
    "# Apply the function to each sentence to generate a new list of processed_sentences\n"
   ]
  },
  {
   "cell_type": "markdown",
   "id": "2ee31045",
   "metadata": {},
   "source": [
    "### 4. Combine sentences into a new paragraph"
   ]
  },
  {
   "cell_type": "code",
   "execution_count": null,
   "id": "9e4d4419",
   "metadata": {},
   "outputs": [],
   "source": [
    "# Hint: are there string methods that can be helpful here?"
   ]
  },
  {
   "cell_type": "markdown",
   "id": "7c7d439b",
   "metadata": {
    "tags": [
     "remove-cell"
    ]
   },
   "source": [
    "## Solution"
   ]
  },
  {
   "cell_type": "markdown",
   "id": "878e1286",
   "metadata": {
    "tags": [
     "remove-cell"
    ]
   },
   "source": [
    "### 1. Split the paragraph into complete sentences"
   ]
  },
  {
   "cell_type": "code",
   "execution_count": null,
   "id": "577e84be",
   "metadata": {
    "tags": [
     "remove-cell"
    ]
   },
   "outputs": [],
   "source": [
    "# Step 1: Split the paragraph into a list of sentences\n",
    "sentences = paragraph.split('. ')\n",
    "\n",
    "# Remove newline characters from the list\n",
    "sentences = [s.replace('\\n', '') for s in sentences]\n",
    "\n",
    "# Adding back the removed period to split sentences correctly\n",
    "sentences = [s + '.' for s in sentences if s]\n",
    "\n",
    "sentences"
   ]
  },
  {
   "cell_type": "markdown",
   "id": "75bc0dce",
   "metadata": {
    "tags": [
     "remove-cell"
    ]
   },
   "source": [
    "### 2. Count the number of sentences and compare to number of realms (9)"
   ]
  },
  {
   "cell_type": "code",
   "execution_count": null,
   "id": "e3f1e151",
   "metadata": {
    "tags": [
     "remove-cell"
    ]
   },
   "outputs": [],
   "source": [
    "# Step 2: Count the number of sentences\n",
    "num_sentences = len(sentences)\n",
    "\n",
    "# Print the result\n",
    "print(f\"Number of sentences: {num_sentences}\")"
   ]
  },
  {
   "cell_type": "code",
   "execution_count": null,
   "id": "e1cbc9f7",
   "metadata": {
    "tags": [
     "remove-cell"
    ]
   },
   "outputs": [],
   "source": [
    "# Compare to the number of realms using assert\n",
    "assert num_sentences == 9, f\"The number of sentences {num_sentences} does not match the number of realms (9)\""
   ]
  },
  {
   "cell_type": "markdown",
   "id": "9ca293ea",
   "metadata": {
    "tags": [
     "remove-cell"
    ]
   },
   "source": [
    "### 3. Manipulate sentences based on realm\n",
    "`'Asgard'` -> capitalize each word  \n",
    "`'Jotunheim'` -> reverse entire sentence  \n",
    "`'Helheim'` -> replace each word with `'dead'`\n"
   ]
  },
  {
   "cell_type": "code",
   "execution_count": 99,
   "id": "9be6d22f",
   "metadata": {
    "tags": [
     "remove-cell"
    ]
   },
   "outputs": [],
   "source": [
    "def process_sentence(sentence):\n",
    "    # Check for each realm individually\n",
    "    if \"Asgard\" in sentence and \"Jotunheim\" not in sentence and \"Helheim\" not in sentence:\n",
    "        return sentence.upper()  # Capitalize all words for Asgard only\n",
    "    elif (\n",
    "        \"Jotunheim\" in sentence and \"Asgard\" not in sentence and \"Helheim\" not in sentence\n",
    "    ):\n",
    "        return sentence[::-1]  # Reverse the sentence for Jotunheim only\n",
    "    elif (\n",
    "        \"Helheim\" in sentence and \"Asgard\" not in sentence and \"Jotunheim\" not in sentence\n",
    "    ):\n",
    "        return \" \".join(\n",
    "            [\"dead\" for _ in sentence.split()]\n",
    "        )  # Replace all words with \"dead\" for Helheim only\n",
    "    else:\n",
    "        return sentence  # Return the unchanged sentence"
   ]
  },
  {
   "cell_type": "code",
   "execution_count": null,
   "id": "48e83365",
   "metadata": {
    "tags": [
     "remove-cell"
    ]
   },
   "outputs": [],
   "source": [
    "# Apply transformations\n",
    "processed_sentences = [process_sentence(sentence) for sentence in sentences]\n",
    "processed_sentences"
   ]
  },
  {
   "cell_type": "markdown",
   "id": "e5f76cb1",
   "metadata": {
    "tags": [
     "remove-cell"
    ]
   },
   "source": [
    "### 4. Combine sentences into a new paragraph"
   ]
  },
  {
   "cell_type": "code",
   "execution_count": null,
   "id": "a48a89c8",
   "metadata": {
    "tags": [
     "remove-cell"
    ]
   },
   "outputs": [],
   "source": [
    "result_paragraph = '\\n'.join(processed_sentences)\n",
    "print(result_paragraph)"
   ]
  },
  {
   "cell_type": "markdown",
   "id": "feb8f49b",
   "metadata": {},
   "source": [
    "# Submit your completed notebook!\n",
    "\n",
    "Remember to submit your completed notebook to make sure you can work with Github Classroom! Run the following commands in your terminal from the same directory that you cloned the assignment:"
   ]
  },
  {
   "cell_type": "markdown",
   "id": "c432092d",
   "metadata": {},
   "source": [
    "1. Take a peek at what `git` thinks has changed in your current repository:  \n",
    "`git status`\n",
    "\n",
    "2. Add this notebook file you modified to stage it for a commit (prepare for a snapshot):  \n",
    "`git add 01_Python_Fundamentals_Review.ipynb`\n",
    "\n",
    "3. Commit your changes to your local repository (take a local snapshot):  \n",
    "`git commit -m \"completed review of python fundamentals\"`\n",
    "\n",
    "4. Push to github to update your assignment:  \n",
    "`git push`"
   ]
  }
 ],
 "metadata": {
  "kernelspec": {
   "display_name": "201b",
   "language": "python",
   "name": "python3"
  },
  "language_info": {
   "codemirror_mode": {
    "name": "ipython",
    "version": 3
   },
   "file_extension": ".py",
   "mimetype": "text/x-python",
   "name": "python",
   "nbconvert_exporter": "python",
   "pygments_lexer": "ipython3",
   "version": "3.11.10"
  }
 },
 "nbformat": 4,
 "nbformat_minor": 5
}
