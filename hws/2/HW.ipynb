{
 "cells": [
  {
   "cell_type": "markdown",
   "metadata": {},
   "source": [
    "# HW 2: Due Monday, Feb 10th by Midnight\n",
    "\n",
    "**Instructions:**  \n",
    "\n",
    "This assignment is based on [Takagi et al.'s (2022)](https://www.nature.com/articles/s41598-022-10261-5) study investigating whether cats learn to associate names with faces.  \n",
    "We've included the PDF in this repository for your reference - please skim it before starting the assignment - we're only focusing on **Experiment 1**\n",
    "\n",
    "You're allowed to work on this HW by yourself OR with other students.  \n",
    "If you do work together, please list the names of your partner(s) in the next notebook cell.  \n",
    "You can also nominate yourself or others for cooperative extra-credit. [See the course-website for details](https://stat-intuitions.com/pages/syllabus.html#grading)\n",
    "\n",
    "**Grading:**  \n",
    "\n",
    "Your Instructors will grade the **last `git push`** you did by the deadline.  \n",
    "However, you'll have an opportunity to push additional changes to improve your grade after we provide feedback.  \n",
    "\n",
    "To receive **full** credit you must be both **accurate** and **explain** your process.  \n",
    "\n",
    "What's most important to us is your ability to demonstrate:  \n",
    "\n",
    "- You attempted the assignment in good-faith\n",
    "- You made effort to clearly document and explain your thought process, reasoning, code, and where/why you got stuck if you did\n",
    "- What attempts you made to fix issues you ran into, how you approached debugging, and what you learned from the process\n",
    "- Why you made a particular choice in your code/analysis, and/or what assumptions you made for a particular statistical inference\n"
   ]
  },
  {
   "cell_type": "markdown",
   "metadata": {},
   "source": [
    "**HW Partner(s) (optional):**  \n",
    "\n",
    "Please list the names of your HW partners in this cell:\n",
    "\n",
    "1. ...\n",
    "2. ...\n",
    "etc"
   ]
  },
  {
   "cell_type": "markdown",
   "metadata": {},
   "source": [
    "## Resources\n",
    "\n",
    "You might find it helpful to refer to the [coding cheatsheets](https://stat-intuitions.com/pages/cheatsheets.html) for the various Python libraries we've learned about so far.\n",
    "\n",
    "As well as the following recent labs/lectures we covered:\n",
    "- [tidy-data analysis with polars](https://stat-intuitions.com/labs/3/01_polars.html)\n",
    "- [statistical visualizations with seaborn](https://stat-intuitions.com/labs/3/02_new_eda_seaborn.html)\n",
    "- [introduction to resampling (permutation)](https://stat-intuitions.com/lectures/wk2/05_simulation.html#permutation-re-sampling-without-replacement)\n",
    "- [EDA resampling for basic comparisons](https://stat-intuitions.com/labs/3/04_permutation_comparison.html)\n",
    "\n",
    "Remember to ping your instructors on Github/Slack if you get stuck!\n",
    "\n",
    "---"
   ]
  },
  {
   "cell_type": "markdown",
   "metadata": {},
   "source": [
    "\n",
    "## Background\n",
    "\n",
    "You'll working with simulated data inspired by Experiment 1 from the paper. You should refer to the paper for additional information and context, but here are key details of the design and analysis:\n",
    "\n",
    "Cats were show pictures of *other* cats' faces paired with an audio recording of *other* cats' names.  \n",
    "On some trials, the names and faces and audio were *congruent* - the identity of the picture *matched* the name being played.  \n",
    "On other trials faces and audio were *incongruent* - the identity of the picture displayed a *different* cat than the name being played.\n",
    "\n",
    "There were 2 independent variables with 2 levels each:\n",
    "\n",
    "- Condition (within): Whether a trial was a **congruent** or **incongruent** name-face pairing\n",
    "- Setting (between): Whether a cat was raised in a **cafe** or a **home**\n",
    "\n",
    "And 1 dependent variable:\n",
    "\n",
    "- Looking time: How many **seconds** a cat looked at the screen on a given trial\n",
    "\n",
    "They tested 2 hypotheses:\n",
    "\n",
    "1. Incongruent trials would lead to *longer* looking times overall due to expectancy violation (mis-matched pictures and audio names)\n",
    "2. The degree of expectancy violation (difference between congruent and incongruent trials) would be *higher* for cats raised in *homes* vs *cafes* (more experience with human-socialization, i.e. name-calling)\n",
    "\n",
    "## Your Tasks\n",
    "\n",
    "We've broken up the the assignment into 6 parts that will have you perform the following tasks:\n",
    "\n",
    "- Basic data exploration and pre-processing (e.g. creating columns, filtering, etc.)\n",
    "- Reproduce Figure 2 from the paper\n",
    "  - Test for a difference between congruent vs incongruent looking times using a *permutation test*\n",
    "  - Test for difference between home vs cafe cats using a *permutation test*\n",
    "- Reproduce Figure 3 from the paper\n",
    "  - Test whether the \"violation index\" is *larger* for cats raised in homes vs cafes using a *permutation test*"
   ]
  },
  {
   "cell_type": "markdown",
   "metadata": {},
   "source": [
    "**HW Partner(s) (optional):**  \n",
    "\n",
    "Please list the names of your HW partners in this cell:\n",
    "\n",
    "1. ...\n",
    "2. ...\n",
    "etc\n",
    "\n",
    "---"
   ]
  },
  {
   "cell_type": "markdown",
   "metadata": {},
   "source": [
    "## Meet the data\n",
    "\n",
    "The file `cat_name_recognition.csv` contains *tidy-format* data with the following columns:\n",
    "\n",
    "- `cat_id`: Unique identifier for each cat\n",
    "- `trial`: Trial number (1-4)\n",
    "- `setting`: Whether the cat lives in a 'cafe' or 'house'\n",
    "- `condition`: Whether the name-face pairing was 'congruent' or 'incongruent'\n",
    "- `looking_time`: Time (in seconds) the cat spent looking at the screen\n",
    "- `n_cohabitants`: Number of other cats living with this cat\n",
    "- `age`: Age of the cat in years"
   ]
  },
  {
   "cell_type": "markdown",
   "metadata": {},
   "source": [
    "We'll import some libraries and functions to get you setup - but feel free to import any other libaries and functions you think you'll need as you work through the assignment"
   ]
  },
  {
   "cell_type": "code",
   "execution_count": 28,
   "metadata": {},
   "outputs": [],
   "source": [
    "# Numpy - arrays and basic stats\n",
    "import numpy as np\n",
    "\n",
    "# Polars - dataframes\n",
    "import polars as pl\n",
    "from polars import col\n",
    "\n",
    "# Statistical plots\n",
    "import seaborn as sns\n",
    "\n",
    "# Simple plots\n",
    "import matplotlib.pyplot as plt\n",
    "\n",
    "# Permutation test\n",
    "from scipy.stats import permutation_test\n",
    "\n",
    "# Setup some default styles so plots look more like the paper\n",
    "plt.style.use('ggplot')\n",
    "sns.set_style('white')"
   ]
  },
  {
   "cell_type": "markdown",
   "metadata": {},
   "source": [
    "## Part (1) Basic Data Exploration & Pre-processing"
   ]
  },
  {
   "cell_type": "markdown",
   "metadata": {},
   "source": [
    "### Exploration"
   ]
  },
  {
   "cell_type": "markdown",
   "metadata": {},
   "source": [
    "Load the data using Polars and show the first few rows"
   ]
  },
  {
   "cell_type": "code",
   "execution_count": null,
   "metadata": {},
   "outputs": [],
   "source": []
  },
  {
   "cell_type": "markdown",
   "metadata": {},
   "source": [
    "How many unique cats are there in the data? Does this match the paper?"
   ]
  },
  {
   "cell_type": "code",
   "execution_count": null,
   "metadata": {},
   "outputs": [],
   "source": []
  },
  {
   "cell_type": "markdown",
   "metadata": {},
   "source": [
    "How many cats are there per setting, i.e. how many *house* cats and how many *cafe* cats?"
   ]
  },
  {
   "cell_type": "code",
   "execution_count": null,
   "metadata": {},
   "outputs": [],
   "source": []
  },
  {
   "cell_type": "markdown",
   "metadata": {},
   "source": [
    "Are there any rows of with missing data? If so how many?"
   ]
  },
  {
   "cell_type": "code",
   "execution_count": null,
   "metadata": {},
   "outputs": [],
   "source": []
  },
  {
   "cell_type": "markdown",
   "metadata": {},
   "source": [
    "Create a new dataframe called `cats` that excludes any rows with missing data"
   ]
  },
  {
   "cell_type": "code",
   "execution_count": null,
   "metadata": {},
   "outputs": [],
   "source": []
  },
  {
   "cell_type": "markdown",
   "metadata": {},
   "source": [
    "Are there any cats in our new `cats` DataFrame with only 1 trial?\n",
    "\n",
    "*Hint: there are a few different ways to calculate this - check-out `.group_by().len()` in Polars for one option*"
   ]
  },
  {
   "cell_type": "code",
   "execution_count": null,
   "metadata": {},
   "outputs": [],
   "source": []
  },
  {
   "cell_type": "markdown",
   "metadata": {},
   "source": [
    "### Pre-processing measurements"
   ]
  },
  {
   "cell_type": "markdown",
   "metadata": {},
   "source": [
    "In the paper, the unit of measurement for their dependent variable **looking time** was *number of frames*. But in our data, the unit of measurement is *seconds*.\n",
    "\n",
    "Add a column called `looking_time_frames` that converts `looking_time` to frames by multiplying by 30 (*the number of frames per second*)."
   ]
  },
  {
   "cell_type": "code",
   "execution_count": null,
   "metadata": {},
   "outputs": [],
   "source": []
  },
  {
   "cell_type": "markdown",
   "metadata": {},
   "source": [
    "### Aggregating repeated measurements\n",
    "\n",
    "In these data, and the original experiment, each cat experienced 2 trials of each condition: 2 congruent and 2 incongruent trials.\n",
    "\n",
    "The authors analyzed these data using a *linear mixed model* - but we won't cover this topic for several more weeks.\n",
    "\n",
    "For now, let's *average* these repeated measurements within each condition for each cat into: 1 average congruent trial and 1 average incongruent trial.\n",
    "\n",
    "Create a new dataframe called `cats_agg` that *averages* `looking_time_frames` for each cat within condition. \n",
    "\n",
    "**This dataframe should have exactly 2 rows per cat** - 1 for congruent and 1 for incongruent.\n",
    "\n",
    "*Hint: you can group-by multiple columns at once by using a list, e.g. `.group_by(['setting, 'condition'])`*\n",
    "\n",
    "*Hint you can also pass multiple columns to `col()` when creating an expression, e.g. `col('looking_time_frames', 'age').mean()`*"
   ]
  },
  {
   "cell_type": "code",
   "execution_count": null,
   "metadata": {},
   "outputs": [],
   "source": []
  },
  {
   "cell_type": "markdown",
   "metadata": {},
   "source": [
    "### Violation Index\n",
    "\n",
    "Another measure the authors created was the \"violation index\" for each cat:\n",
    "\n",
    "$$ VI = mean(incongruent\\ looking\\ time) - mean(congruent\\ looking\\ time) $$\n",
    "\n",
    "Create a new dataframe called `cats_vi` with 3 columns:\n",
    "- `cat_id`: the cat's ID\n",
    "- `setting`: whether the cat was raised in a cafe or a house\n",
    "- `violation_index`: difference between the mean incongruent and mean congruent looking times for this cat\n",
    "\n",
    "*Hint: check out the [reshaping](https://stat-intuitions.com/labs/3/01_polars.html#reshaping-dataframes) section of the Polars class tutorial, especially `.pivot()`*"
   ]
  },
  {
   "cell_type": "code",
   "execution_count": null,
   "metadata": {},
   "outputs": [],
   "source": []
  },
  {
   "cell_type": "markdown",
   "metadata": {},
   "source": [
    "## Part (2) Recreate Figure 2 from the paper\n",
    "\n",
    "Using the `cats_agg` DataFrame you made earlier, recreate Figure 2 from the paper (reproduced here):\n",
    "\n",
    "![](figs/Fig2.png)\n",
    "\n",
    "Don't worry if the data you visualize don't match the paper - we're *not* using the study's original data\n",
    "\n",
    "Instead make sure:  \n",
    "\n",
    "- X-axis values *and* colors reflect *condition* \n",
    "\n",
    "- Y-axis values reflect *looking time in frames*\n",
    "\n",
    "- The left and right columns in the plot reflect the *setting* a cat came from\n",
    "\n",
    "- You should also overlay data from individual cats as *points* on the boxplot\n",
    "\n",
    "*Hint: Check out the [layering plots](https://stat-intuitions.com/labs/3/02_new_eda_seaborn.html#layering-plots-on-facetgrid) section of our lab tutorial for how to combine multiple plots onto a single `FacetGrid`*"
   ]
  },
  {
   "cell_type": "code",
   "execution_count": null,
   "metadata": {},
   "outputs": [],
   "source": [
    "# Your code here\n",
    "\n",
    "\n",
    "\n",
    "\n",
    "\n",
    "# Optional: you can add this line to the end of your code to convert your y-axis\n",
    "# to a log scale like the original paper\n",
    "\n",
    "# plt.yscale('log')"
   ]
  },
  {
   "cell_type": "markdown",
   "metadata": {},
   "source": [
    "## Part (3) Main effect of living environment - between cats\n",
    "\n",
    "Let's try to reproduce the main effect of *setting* - whether cats who live in a house have a *lower* average looking time than cats who live in a cafe."
   ]
  },
  {
   "cell_type": "markdown",
   "metadata": {},
   "source": [
    "First update the figure you made in (2), by simplifying it to only display a single boxplot:\n",
    "- X-axis value should reflect *setting* (cafe or house cats)\n",
    "- Y-axis values should reflect *looking time in frames*"
   ]
  },
  {
   "cell_type": "code",
   "execution_count": null,
   "metadata": {},
   "outputs": [],
   "source": []
  },
  {
   "cell_type": "markdown",
   "metadata": {},
   "source": [
    "Using the `cats_agg` DataFrame you previously created, make a *new* DataFrame called `cats_agg_setting` that contains 3 columns:\n",
    "\n",
    "- `cat_id`: the cat's ID\n",
    "- `setting`: the environment the cat was raised in (cafe or house)\n",
    "- `looking_time_frames`: the average looking time for the cat across all trials\n",
    "\n",
    "*Hint you're summarizing within cat so think about a `.group_by` expression*"
   ]
  },
  {
   "cell_type": "code",
   "execution_count": null,
   "metadata": {},
   "outputs": [],
   "source": []
  },
  {
   "cell_type": "markdown",
   "metadata": {},
   "source": [
    "Filter the dataframe to create 2 new variables that are numpy arrays of:\n",
    "\n",
    "- `house_cats`: rows of `looking_time_frames` where `setting` is 'house'\n",
    "- `cafe_cats`: rows of `looking_time_frames` where `setting` is 'cafe'\n",
    "\n",
    "*Hint you can use `.to_numpy()` to convert a polars column to a numpy array*"
   ]
  },
  {
   "cell_type": "code",
   "execution_count": null,
   "metadata": {},
   "outputs": [],
   "source": []
  },
  {
   "cell_type": "markdown",
   "metadata": {},
   "source": [
    "Using these 2 variables and the [permutation_test](https://docs.scipy.org/doc/scipy/reference/generated/scipy.stats.permutation_test.html) function from `scipy.stats` perform an **independent** permutation test to compare the **difference between the means** of each group.\n",
    "\n",
    "*Hint check out the [previous lecture tutorial illustrating how to use a permutation test](https://stat-intuitions.com/labs/3/04_permutation_comparison.html)*  \n",
    "*Hint look at the `permutation_type` argument in function help to control the type of permutation test you're doing* "
   ]
  },
  {
   "cell_type": "code",
   "execution_count": 174,
   "metadata": {},
   "outputs": [],
   "source": []
  },
  {
   "cell_type": "markdown",
   "metadata": {},
   "source": [
    "Use the output of the `permutation_test` function and `matplotlib` to create a simple histogram of the null distribution and make sure to add:\n",
    "\n",
    "- a vertical line of the observed mean difference in black\n",
    "- put the observed mean difference and p-value in the title\n",
    "\n",
    "*Hint: check out the help on the output of `permutation_test` to grab the values you need*"
   ]
  },
  {
   "cell_type": "code",
   "execution_count": null,
   "metadata": {},
   "outputs": [],
   "source": []
  },
  {
   "cell_type": "markdown",
   "metadata": {},
   "source": [
    "Using the results from the permutation test, the histogram of the null distribution, and the simplified boxplot you made - write a few sentences interpreting and explaining the results.\n",
    "\n",
    "How do they compare to the results from the paper?"
   ]
  },
  {
   "cell_type": "markdown",
   "metadata": {},
   "source": [
    "*Your response here...*"
   ]
  },
  {
   "cell_type": "markdown",
   "metadata": {},
   "source": [
    "## Part (4) Main effect of condition - *within* cat\n",
    "\n",
    "Now let's try to reproduce the main effect of *condition* - whether looking times were *higher* in incongruent trials relative to congruent trials."
   ]
  },
  {
   "cell_type": "markdown",
   "metadata": {},
   "source": [
    "First update the figure you made in (2), by simplifying it to only display a single boxplot, but **this time**:\n",
    "- X-axis value should reflect *condition* (congruent or incongruent trials)\n",
    "- Y-axis values should reflect *looking time in frames*"
   ]
  },
  {
   "cell_type": "code",
   "execution_count": null,
   "metadata": {},
   "outputs": [],
   "source": []
  },
  {
   "cell_type": "markdown",
   "metadata": {},
   "source": [
    "Using the `cats_agg` DataFrame you previously created, make a *new* DataFrame called `cats_wide_condition` that contains 3 columns:\n",
    "\n",
    "- `cat_id`: the cat's ID\n",
    "- `incongruent`: looking time for incongruent trials\n",
    "- `congruent`: looking time for congruent trials\n",
    "\n",
    "*Hint: This time we're not summarizing, but [reshaping](https://stat-intuitions.com/labs/3/01_polars.html#reshaping-dataframes) because we want to pivot our measurement of looking time from rows into 2 new columns - one for each condition.*   "
   ]
  },
  {
   "cell_type": "code",
   "execution_count": null,
   "metadata": {},
   "outputs": [],
   "source": []
  },
  {
   "cell_type": "markdown",
   "metadata": {},
   "source": [
    "Use the incongruent and congruent columns to create 2 new variables that are numpy arrays of:\n",
    "\n",
    "- `incongruent_trials`\n",
    "- `congruent_trials`\n"
   ]
  },
  {
   "cell_type": "code",
   "execution_count": null,
   "metadata": {},
   "outputs": [],
   "source": []
  },
  {
   "cell_type": "markdown",
   "metadata": {},
   "source": [
    "Using these 2 variables and the [permutation_test](https://docs.scipy.org/doc/scipy/reference/generated/scipy.stats.permutation_test.html) function from `scipy.stats` perform a **samples** permutation test to compare the **mean difference** between conditions.\n",
    "\n",
    "*Hint the function you're providing to `permutation_test` to calculate the statistic you want, needs to be slighty different than what you did before, as does the `permutation_type` argument.  \n",
    "Think about what the \"mean difference\" (this question) vs \"difference of means\" (question 3) is...*"
   ]
  },
  {
   "cell_type": "code",
   "execution_count": null,
   "metadata": {},
   "outputs": [],
   "source": []
  },
  {
   "cell_type": "markdown",
   "metadata": {},
   "source": [
    "Using the output of the `permutation_test` function and `matplotlib` to create a simple histogram of the null distribution and make sure to add:\n",
    "\n",
    "- a vertical line of the observed mean difference in black\n",
    "- put the observed mean difference and p-value in the title"
   ]
  },
  {
   "cell_type": "code",
   "execution_count": null,
   "metadata": {},
   "outputs": [],
   "source": []
  },
  {
   "cell_type": "markdown",
   "metadata": {},
   "source": [
    "Using the results from the permutation test, the histogram of the null distribution, and the simplified boxplot you made - write a few sentences interpreting and explaining the results.\n",
    "\n",
    "How do they compare to the results from the paper?"
   ]
  },
  {
   "cell_type": "markdown",
   "metadata": {},
   "source": [
    "*Your response here...*"
   ]
  },
  {
   "cell_type": "markdown",
   "metadata": {},
   "source": [
    "## Part (5) Recreate Figure 3 from the paper\n",
    "\n",
    "Using the `cats_vi` DataFrame you made earlier, recreate Figure 3 from the paper (reproduced here):\n",
    "\n",
    "![](figs/Fig3.png)\n",
    "\n",
    "Don't worry if the data you visualize don't match the paper - we're *not* using the study's original data\n",
    "\n",
    "Make sure:  \n",
    "\n",
    "- X-axis values *and* colors reflect *setting* \n",
    "\n",
    "- Y-axis values reflect *looking time in frames*\n",
    "\n",
    "- You should also overlay data from individual cats as *points* on the boxplot\n",
    "\n",
    "*Hint: Check out the [layering plots](https://stat-intuitions.com/labs/3/02_new_eda_seaborn.html#layering-plots-on-facetgrid) section of our lab tutorial for how to combine multiple plots onto a single `FacetGrid`*"
   ]
  },
  {
   "cell_type": "code",
   "execution_count": null,
   "metadata": {},
   "outputs": [],
   "source": []
  },
  {
   "cell_type": "markdown",
   "metadata": {},
   "source": [
    "## Part (6) Compare Violation Index\n",
    "\n",
    "Using the `cats_vi` DataFrame (that you just plotted) - use a similar approach to the steps you performed in Part (3) to perform an **independent** permutation test comparing the **difference between the means** of violation index between cafe vs house cats."
   ]
  },
  {
   "cell_type": "code",
   "execution_count": null,
   "metadata": {},
   "outputs": [],
   "source": []
  },
  {
   "cell_type": "markdown",
   "metadata": {},
   "source": [
    "Use the output of the `permutation_test` function and `matplotlib` to create a simple histogram of the null distribution and make sure to add:\n",
    "\n",
    "- a vertical line of the observed mean difference in black\n",
    "- put the observed mean difference and p-value in the title"
   ]
  },
  {
   "cell_type": "code",
   "execution_count": null,
   "metadata": {},
   "outputs": [],
   "source": []
  },
  {
   "cell_type": "markdown",
   "metadata": {},
   "source": [
    "Using the results from the permutation test, the histogram of the null distribution, and the figure you made in Part (5) - write a few sentences interpreting and explaining the results.\n",
    "\n",
    "How do they compare to the results from the paper?"
   ]
  },
  {
   "cell_type": "markdown",
   "metadata": {},
   "source": [
    "*Your response here...*"
   ]
  },
  {
   "cell_type": "markdown",
   "metadata": {},
   "source": [
    "How is the comparison of Violation Index the same/different from the \"interaction between condition and setting\" the authors report in first part of the results?\n"
   ]
  },
  {
   "cell_type": "markdown",
   "metadata": {},
   "source": [
    "*Your response here...*"
   ]
  },
  {
   "cell_type": "code",
   "execution_count": null,
   "metadata": {},
   "outputs": [],
   "source": []
  }
 ],
 "metadata": {
  "kernelspec": {
   "display_name": "201b",
   "language": "python",
   "name": "python3"
  },
  "language_info": {
   "codemirror_mode": {
    "name": "ipython",
    "version": 3
   },
   "file_extension": ".py",
   "mimetype": "text/x-python",
   "name": "python",
   "nbconvert_exporter": "python",
   "pygments_lexer": "ipython3",
   "version": "3.11.10"
  }
 },
 "nbformat": 4,
 "nbformat_minor": 2
}
