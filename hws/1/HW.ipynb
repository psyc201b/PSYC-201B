{
 "cells": [
  {
   "cell_type": "markdown",
   "metadata": {},
   "source": [
    "# Homework 1 - Due, Wed, Jan 22 by Midnight"
   ]
  },
  {
   "cell_type": "markdown",
   "metadata": {},
   "source": [
    "**Instructions:**  \n",
    "\n",
    "You're allowed to work on this HW by yourself OR with other students.  \n",
    "If you do work together, please list the names of your partner(s) in the next notebook cell.  \n",
    "You can also nominate yourself or others for cooperative extra-credit. [See the course-website for details](https://stat-intuitions.com/pages/syllabus.html#grading)\n",
    "\n",
    "**Grading:**  \n",
    "\n",
    "Your Instructors will grade the **last `git push`** you did by the deadline.  \n",
    "However, you'll have an opportunity to push additional changes to improve your grade after we provide feedback.  \n",
    "\n",
    "To receive **full** credit you must be both **accurate** and **explain** your process.  \n",
    "\n",
    "However, (as noted on the syllabus and especially for this first HW), being accurate will only determine a *small part* of your grade.  \n",
    "What's more important to us is your ability to demonstrate:  \n",
    "\n",
    "- You attempted the assignment in good-faith\n",
    "- You made effort to clearly document and explain your thought process, reasoning, code, and where/why you got stuck if you did\n",
    "- What attempts you made to fix issues you ran into, how you approached debugging, and what you learned from the process\n",
    "- Why you made a particular choice in your code/analysis, and/or what assumptions you made for a particular statistical inference\n",
    "\n",
    "\n",
    "**Tips:**  \n",
    "\n",
    "1. Save your notebook, `git add`, `git commit`, and `git push` **often**\n",
    "    - This will ensure that you always have your latest work in case you accidentally close VSCode or JupyterLab without saving\n",
    "\n",
    "2. Refer to previous notebooks you used in labs and lectures. Re-using code is a great way to save time, learn common patterns, and avoid minor typos\n",
    "3. Refer to the online documentation pages for various Python functions and libaries (e.g. `numpy`) **often**. Navigating documentation is a skill in and of itself, and it's a great way to learn new Python *and* statistics things quickly. Online help pages are often laid out more clearly than solely relying on the `?` operator inside of your notebook.\n",
    "4. If you find yourself repeating a laborious coding task - **there's probably an easier way**. There might be an existing function that does what you need. Or you can write you own using function using `def` to make pieces of code more re-usable\n",
    "5. If have trouble and want feedback on your code, go to the **Pull Requests** page on your HW repository (the URL you `clone`-d) and click on **Feedback**. You can `@` your instructors here and even add links to your code, screenshots, errors, etc.\n",
    "\n",
    "<img src=\"./figs/feedback.png\" width=\"600px\">\n"
   ]
  },
  {
   "cell_type": "markdown",
   "metadata": {},
   "source": [
    "**HW Partner(s) (optional):**  \n",
    "\n",
    "Please list the names of your HW partners in this cell:\n",
    "\n",
    "1. ...\n",
    "2. ...\n",
    "etc\n",
    "\n",
    "---"
   ]
  },
  {
   "cell_type": "markdown",
   "metadata": {},
   "source": [
    "# The Dating Dilemma\n",
    "\n",
    "One of the fun (and perhaps scary) parts of being an experimental psychologist/social scientist in an ever-evolving world is how *technology* can change our *social behaviors* in subtle ways.  \n",
    "In today's HW you'll be exploring on of those interactions: *the world of online dating*.\n",
    "\n",
    "Regardless of your experience with online dating, most people agree that there's something *different* about finding a partner this way, relative to how humans found partners in the past. One of the differences often brought up is the fact that you have a seemingly endless pool of potential partners to choose from right at your fingertips - technology has dramatically lowered the *effort* you need to exert to simply *search for someone new*.  \n",
    "\n",
    "While freedom of choice seems a like a good thing, it's also a double-edged sword: how do you know when to stop looking? How do you know when you've found the right person?\n",
    "\n",
    "Perhaps we've turned the age-old question of \"will I ever meet *anyone*?\" into a question of \"how can I be sure there isn't someone *better*?\"\n",
    "\n",
    "Famous blogger Jocelyn Live uses the analogy of a bakery to describe the feeling:  \n"
   ]
  },
  {
   "cell_type": "markdown",
   "metadata": {},
   "source": [
    "[*From \"The Dating Dilemma\" by Jocelyn Live*](https://www.jocelynlive.com/the-dating-dilemma/)\n",
    "\n",
    "> I can best explain the Dating Dilemma using the analogy of a bakery.  \n",
    "\n",
    "> When you’re aren’t sure about what you need in a mate, you’re out there constantly testing the field, trying them all out. It’s like going to a bakery. If you don’t know exactly what you want, you will end up buying a few different pastries and sampling them all. Only after trying them all out can you determine what you like best.\n",
    "\n",
    "> Sure, the chocolate eclairs look pretty good, and you know you really like them, but you also like cinnamon rolls and donuts. By paying attention to how something tastes and **how it makes you feel**, you make choices and decide which one you like better, or best. **Feeling is the key**.\n",
    "\n",
    "\n",
    "> Let’s say that you walk into the bakery and you have a craving for a cinnamon roll. You find that they’re out of cinnamon rolls, but you’re still craving cinnamon. Instead, you ponder going for the cinnamon twist. But a cinnamon twist is a crispy delicacy. It’s not as soft, chewy, gooey or as sweet as the cinnamon roll. You reason with yourself that you can heat the cinnamon twist and melt butter on top of it, making it more like a cinnamon roll. So you decide to buy the cinnamon twist.\n",
    "\n",
    "> You walk out of the bakery, and you take a bite into the cinnamon twist, and that first bite tastes so good. By the third bite, however, you realize that it’s nothing like a cinnamon roll, but you finish it anyway. After all, you spent money on it, so you don’t want it to go to waste. You do like it, and it satisfied your craving and your need, but it wasn’t what you truly wanted, was it?\n",
    "\n",
    "> **People typically date like this**. What’s the problem with this? Nothing! Although the cinnamon twist wasn’t exactly what you set out to get at the bakery, you find that you like this offshoot of the cinnamon roll. It works just as well–heck, maybe it works better for your growth in the long run. Maybe the twist doesn’t have as many calories as the roll, and you will lose some weight! Maybe, just maybe, you will decide that you like the crispness better than the gooeyness. It’s lighter in texture and not so heavy!\n",
    "\n",
    "> These realizations can take some time. After a date with a crispy cinnamon twist you might think, “I like them.....they are really nice and interesting. I want to get to know them better.” Sometimes the person who you think isn’t quite right for you turns out to be the right person.\n",
    "\n",
    "> The “cinnamon roll person” can be the person that you fall for way too soon that just isn’t right for you. Such a person can feel like home, though, in a convoluted, addictive way. They scratch that familiar itch. They drive us to seek and not find, triggering our hormones and making our lives spin out of control.\n",
    "\n",
    "> The danger of going on a date with your list of wants, needs, and desires is becoming attached too early to the **IDEA** of the person who fulfills those wants, needs and desires–not to the actual truth of **who** that person is.\n",
    "\n",
    "> Don’t let logic rule – check in with your gut. The brain in your head is intricately in tune with the brain in your gut. Listen to your gut. Trust your inner guidance system..\n",
    "\n",
    "> Don’t be afraid to walk away from the fabulous-looking feast in front of you for fear of missing out. You can bite into something that looks wonderful, only to find a well-presented, beautiful, yet rotten, worm-ridden fruit. Do not fear your power to walk away and say no! \n",
    "\n",
    "> As Nina Simone said, “*You’ve got to learn to leave the table when love’s no longer being served.*\""
   ]
  },
  {
   "cell_type": "markdown",
   "metadata": {},
   "source": [
    "## Your Task\n",
    "\n",
    "One of the core issues that Jocelyn identifies is when to **keep searching** for a match and when to **stop and stick with your current person**. \n",
    "\n",
    "In this HW you're going to use what you've learned so far about computational statistics approaches, Python, `numpy`, `scipy`, `matplotlib`, to **simulate** and **reason** about different strategies one could take when faced with this kind of decision-making problem.\n",
    "\n",
    "Imagine you're faced with this dilemma yourself. We've included a file called `dating_scores.npy` that contains a 1d-array of scores for an entire pool of potential matches; that is how well each individual matches with *you*. \n",
    "\n",
    "Your job is to use these data to complete the following challenges:  "
   ]
  },
  {
   "cell_type": "markdown",
   "metadata": {},
   "source": [
    "## 0. Explore the data\n",
    "\n",
    "Load the data and make a clearly labeled histogram.\n",
    "\n",
    "In a markdown cell below your plot, describe what the distribution looks like. What does that mean practically for the dating pool? "
   ]
  },
  {
   "cell_type": "code",
   "execution_count": null,
   "metadata": {},
   "outputs": [],
   "source": [
    "# Your code here"
   ]
  },
  {
   "cell_type": "markdown",
   "metadata": {},
   "source": [
    "## 1. Simulate the problem\n",
    "\n",
    "### (A) \n",
    "Write a Python function to simulate \"solving\" the Dating Dilemma using a **simple threshold strategy**:\n",
    "\n",
    "  1. Accept the first partner with a score above a chosen threshold (e.g., 0.8).\n",
    "  2. If no such partner is found by the end of the array, return the last partner.\n",
    "\n",
    "Your function should take 3 arguments:\n",
    "  - `scores`: the entire dating pool (scores we provided)\n",
    "  - `threshold`: the threshold for selecting a partner\n",
    "  - `n_sim`: the number of simulations to run\n",
    "\n",
    "And it should return 2 `np.array`s:\n",
    "  - One containing the number of dates you had to go on before, deciding on a match in each simulation\n",
    "  - Another containing the dating score of the selected parter\n",
    "\n",
    "Test out your function with `threshold = 0.5` and calculate the:\n",
    "  - Average number of dates you had to go on\n",
    "  - Average dating score of the selected partner\n",
    "\n",
    "\n",
    "*Hint: Think about how you might simulate multiple \"experiences\" through the same dating pool. For example, in one universe you might encounter potential matches in the order A, B, C, but it another you might encounter the same matches in order B, C, D...* "
   ]
  },
  {
   "cell_type": "code",
   "execution_count": null,
   "metadata": {},
   "outputs": [],
   "source": [
    "# Your code here"
   ]
  },
  {
   "cell_type": "markdown",
   "metadata": {},
   "source": [
    "### (B)\n",
    "Using the function you wrote and a resampling approach, to evaluate how \"good\" this strategy is for different thresholds from 0.1 to 0.9 in steps of 0.1. You should make a figure with **2 sub-plots**, clearly labeled, and organized *vertically*, (one above the other) displaying:\n",
    "\n",
    "  1. The relationship between threshold (x-axis) and average number of dates till a match(y-axis)\n",
    "  2. The relationship between threshold (x-axis) and average dating score of the partners you ultimately selected (y-axis)"
   ]
  },
  {
   "cell_type": "code",
   "execution_count": null,
   "metadata": {},
   "outputs": [],
   "source": [
    "# Your code here"
   ]
  },
  {
   "cell_type": "markdown",
   "metadata": {},
   "source": [
    "### (C) \n",
    "Extend the resampling approach and code you used in part (B) to add 95% boot-strapped confidence intervals to at each threshold level for both sub-plot"
   ]
  },
  {
   "cell_type": "code",
   "execution_count": null,
   "metadata": {},
   "outputs": [],
   "source": [
    "# Your code here"
   ]
  },
  {
   "cell_type": "markdown",
   "metadata": {},
   "source": [
    "### (D)\n",
    "Write a few sentences in a markdown cell interpreting your work by answering the following questions:\n",
    "\n",
    "  1. What assumptions did you make with the approach you took and why? What effect do you think those you made in your simulation?\n",
    "  2. What does the plot tell you about the relationship between threshold and average score? Threshold and number of dates till first match? Does either look perfectly linear? Non-linear? Step-like? Something else? Why?\n",
    "  3. Are you equally certain of your estimates of the average dating score at each threshold? Why or why not? \n",
    "\n",
    "*Hint: Here's a [markdown cheatsheet](https://www.markdownguide.org/cheat-sheet/) if you want to format your response (e.g. bold, italics, bullets, etc.)*"
   ]
  },
  {
   "cell_type": "markdown",
   "metadata": {},
   "source": [
    "**Your responses here**\n",
    "\n",
    "...\n"
   ]
  },
  {
   "cell_type": "markdown",
   "metadata": {},
   "source": [
    "## 2. Revisting our simulation\n",
    "\n",
    "So far, we've been focusing on *how long* it takes to find a match or the *average* quality of a match. But the real dilemma is about finding the **best** match, not improving the *average* quality of a match.  \n",
    "\n",
    "Let's revisit our simulation to explore this differently."
   ]
  },
  {
   "cell_type": "markdown",
   "metadata": {},
   "source": [
    "### (A)\n",
    "Write a new Python function that simulates probability of picking **the highest score** across the entire dating pool using a simple threshold strategy but this time:\n",
    "\n",
    "  1. Accept the first partner with a score above a chosen threshold (e.g., 0.8).\n",
    "  2. If no such partner is found by the end of the dating pool, move-on to the next simulation\n",
    "\n",
    "\n",
    "Like before your function should take 3 arguments:\n",
    "  - `scores`: the entire dating pool (scores we provided)\n",
    "  - `threshold`: the threshold for selecting a partner\n",
    "  - `n_sim`: the number of simulations to run\n",
    "\n",
    "And it should return **1 scalar** value (i.e. a single number *not* an array):\n",
    "  - proportion of simulations where the highest score (across the entire dating pool) was selected\n",
    "\n",
    "You should test out your function with a threshold of `0.5`  "
   ]
  },
  {
   "cell_type": "code",
   "execution_count": null,
   "metadata": {},
   "outputs": [],
   "source": [
    "# Your code here"
   ]
  },
  {
   "cell_type": "markdown",
   "metadata": {},
   "source": [
    "### (B)\n",
    "1. Use your **new** function to calculate probabilities for a range of **100 threshold values evenly spaced between 0.1 and 0.9**.\n",
    "\n",
    "    *Hint: check out `np.linspace`*\n",
    "\n",
    "2. Use these values make a **single figure** that plots how the probability of selecting the best match (y-axis) changes as the threshold is increased (x-axis)\n",
    "\n",
    "\n",
    "    You should label your plot:\n",
    "      - x-axis: \"Threshold\"\n",
    "      - y-axis: \"Probability\"\n",
    "      - title: \"Probability of Finding Best Match\"\n",
    "\n",
    "      *You *don't* need to calculate confidence intervals for this simple plot.*\n",
    "\n",
    "2. Create a markdown cell below the figure that discusses how the shape of this relationship compares to the relationships you plotted in the previous question. Why are they similar or different? "
   ]
  },
  {
   "cell_type": "code",
   "execution_count": null,
   "metadata": {},
   "outputs": [],
   "source": [
    "# Your code here"
   ]
  },
  {
   "cell_type": "markdown",
   "metadata": {},
   "source": [
    "**Your responses here**\n",
    "\n",
    "...\n"
   ]
  },
  {
   "cell_type": "markdown",
   "metadata": {},
   "source": [
    "### (C)\n",
    "\n",
    "1. At what dating threshold would you have at least a 50% chance of finding the best match?\n",
    "2. At least a 20% chance?\n",
    "3. Updated your previous plot to add a black dashed line showing the 50% threshold, and a gray dashed line showing the 20% threshold.\n",
    "4. Add in the corresponding threshold values to the plot title \n",
    "\n",
    "*Hint: You can use the `\\n` new-line character inside an f-string to force text onto a new line*"
   ]
  },
  {
   "cell_type": "code",
   "execution_count": null,
   "metadata": {},
   "outputs": [],
   "source": []
  },
  {
   "cell_type": "markdown",
   "metadata": {},
   "source": [
    "## 3. An \"Optimal\" strategy?\n",
    "\n",
    "As it turns out this flavor of *sequential* decision-making problem is particularly well studied across multiple domains of Psychology, CogSci, Finance, Economics, and Computer Science and goes by many names, e.g. \"the secretary problem\", \"the marriage problem\", \"the best-choice problem\". \n",
    "\n",
    "All these variants converge on a branch of mathematics that tries to determine rules for **optimal stopping**. \n"
   ]
  },
  {
   "cell_type": "markdown",
   "metadata": {},
   "source": [
    "<img src=\"./figs/algos_to_live_by.png\" width=\"200px\" alt=\"Dating Dilemma\">\n",
    "\n",
    "> *In any optimal stopping problem, the crucial dilemma is not which option to pick, but how many options to even consider. These problems turn out to have implications not only for lovers and renters, but also for drivers, homeowners, burglars, and beyond.*\n",
    "\n",
    "~ Christian, B, Griffiths, T. Algorithms to Live By: The Computer Science of Human Decisions (p. 10). Henry Holt and Co. \n"
   ]
  },
  {
   "cell_type": "markdown",
   "metadata": {},
   "source": [
    "Colloquially known as the \"37% rule\", a classic form of the formula given $n$ candidates is:\n",
    "\n",
    "$k = [n \\cdot e^{-1}]$\n",
    "\n",
    "Where:  \n",
    "- $n$ is the total number of candidates  \n",
    "- $k$ is the number of candidates observe before making a decision\n",
    "- $e$ is the *exponential constant* $\\approx 0.37$\n",
    "\n",
    "\n",
    "Algorithmically we:\n",
    "1. Observe, without choosing, the first ~37% of possible matches and keep track of our best match\n",
    "2. Select the next candidate who is *better* than our current best match"
   ]
  },
  {
   "cell_type": "markdown",
   "metadata": {},
   "source": [
    "\n",
    "*You can click on the image below to read the full Scientific American article*  \n",
    "\n",
    "[![](./figs/sciam_secretary_problem.png)](https://www.scientificamerican.com/article/this-elegant-math-problem-could-help-you-make-the-best-choice-in-house/)\n"
   ]
  },
  {
   "cell_type": "markdown",
   "metadata": {},
   "source": [
    "### (A)\n",
    "Write a **new** Python function that simulates probability of picking **the highest score** across the entire dating pool using **optimal stopping**. Specifically your function should\n",
    "\n",
    "  1. Observe the first 37% of the dating pool\n",
    "  2. Choose the next match that's higher than the highest match within the first 37% you observed\n",
    "\n",
    "Your function should take 2 arguments:\n",
    "  - `scores`: the entire dating pool (scores we provided)\n",
    "  - `n_sim`: the number of simulations to run\n",
    "\n",
    "And it should return **1 scalar** value (i.e. a single number *not* an array):\n",
    "  - proportion of simulations where the highest score (across the entire dating pool) was selected\n",
    "\n",
    "Verify your function works by running it on the entire dating pool."
   ]
  },
  {
   "cell_type": "code",
   "execution_count": null,
   "metadata": {},
   "outputs": [],
   "source": [
    "# Your code here"
   ]
  },
  {
   "cell_type": "markdown",
   "metadata": {},
   "source": [
    "### (B)\n",
    "Write **another** Python function that simulates the probability of picking **the highest score** across the dating pool using **random selection**. Specifically your function should\n",
    "\n",
    "  1. Randomly choose a match from the dating pool\n",
    "  2. Check to see if it's the highest score across the entire dating pool\n",
    "\n",
    "Your function should take 2 arguments:\n",
    "  - `scores`: the entire dating pool (scores we provided)\n",
    "  - `n_sim`: the number of simulations to run\n",
    "\n",
    "And it should return **1 scalar** value (i.e. a single number *not* an array):\n",
    "  - proportion of simulations where the highest score (across the entire dating pool) was selected\n",
    "\n",
    "Verify your function works by running it on the entire dating pool."
   ]
  },
  {
   "cell_type": "code",
   "execution_count": null,
   "metadata": {},
   "outputs": [],
   "source": [
    "# Your code here"
   ]
  },
  {
   "cell_type": "markdown",
   "metadata": {},
   "source": [
    "### (C)\n",
    "Update your figure from 1 (C) to:\n",
    "\n",
    "- Remove the probability estimates from the plot title\n",
    "- Add in a **red** dashed line that represents the probability of finding the best match via **optimal stopping**\n",
    "- Add in a **blue** dashed line that represents the probability of finding the best match via **random selection**\n",
    "- Add a figure legend that includes informative labels for all lines on the figure"
   ]
  },
  {
   "cell_type": "code",
   "execution_count": null,
   "metadata": {},
   "outputs": [],
   "source": [
    "# Your code here"
   ]
  },
  {
   "cell_type": "markdown",
   "metadata": {},
   "source": [
    "### (D)\n",
    "Write a few sentences in a markdown cell interpreting your work by answering the following questions:\n",
    "\n",
    "  1. How does optimal stopping compare to random selection?\n",
    "  2. Why does the success rate of optimal stopping remain constant? How is this related to the rule's design?\n",
    "  3. Compare the success rates of optimal stopping and the threshold-strategy. What are the pros and cons of both? Under what conditions might one strategy outperform the other?\n",
    "  4. If you repeated these analyses with different datasets (e.g., a more or less skewed distribution of scores), how might the threshold probabilities or optimal stopping probability change?\n",
    "\n",
    "\n",
    "*Hint: Here's a [markdown cheatsheet](https://www.markdownguide.org/cheat-sheet/) if you want to format your response (e.g. bold, italics, bullets, etc.)*"
   ]
  },
  {
   "cell_type": "markdown",
   "metadata": {},
   "source": [
    "**Your responses here**\n",
    "\n",
    "...\n"
   ]
  },
  {
   "cell_type": "markdown",
   "metadata": {},
   "source": [
    "---"
   ]
  },
  {
   "cell_type": "markdown",
   "metadata": {},
   "source": [
    "## Optional Readings for more context\n",
    "\n",
    "In case this problem set has sparked your interest about decision-making, here are some additional articles you might enjoy!\n",
    "\n",
    "[A Primer on Foraging and the Explore/Exploit Trade-Off for Psychiatry Research - Addicott et al (2017)](https://www.nature.com/articles/npp2017108)\n",
    "\n",
    "[The Economic Theory of Utility Applied to Web-based Search for a Romantic Partner - Mantell (2017)](https://journals.scholarpublishing.org/index.php/ASSRJ/article/view/2639) \n",
    "\n",
    "[Mathematicians suggest the “37% rule” for your life’s biggest decisions](https://bigthink.com/fneuropsych/the-37-percent-rule/)\n"
   ]
  }
 ],
 "metadata": {
  "kernelspec": {
   "display_name": "201b",
   "language": "python",
   "name": "python3"
  },
  "language_info": {
   "codemirror_mode": {
    "name": "ipython",
    "version": 3
   },
   "file_extension": ".py",
   "mimetype": "text/x-python",
   "name": "python",
   "nbconvert_exporter": "python",
   "pygments_lexer": "ipython3",
   "version": "3.11.10"
  }
 },
 "nbformat": 4,
 "nbformat_minor": 2
}
